{
 "cells": [
  {
   "cell_type": "code",
   "execution_count": 6,
   "metadata": {},
   "outputs": [],
   "source": [
    "import brainlit\n",
    "from brainlit.utils.ngl_pipeline import NeuroglancerSession\n",
    "from brainlit.viz.swc import *\n",
    "from brainlit.algorithms.generate_fragments import adaptive_thresh, tube_seg"
   ]
  },
  {
   "cell_type": "code",
   "execution_count": 7,
   "metadata": {},
   "outputs": [],
   "source": [
    "data_dir = \"benchmarking_datasets/\""
   ]
  },
  {
   "cell_type": "code",
   "execution_count": 19,
   "metadata": {},
   "outputs": [],
   "source": [
    "from skimage import io"
   ]
  },
  {
   "cell_type": "code",
   "execution_count": 20,
   "metadata": {},
   "outputs": [],
   "source": [
    "im = io.imread(\"/Users/mattf/Documents/2020_Courses/NDD/benchmarking_datasets/test_1-gfp.tif\")"
   ]
  },
  {
   "cell_type": "code",
   "execution_count": 10,
   "metadata": {},
   "outputs": [
    {
     "name": "stdout",
     "output_type": "stream",
     "text": [
      "/Users/mattf/Documents/2020_Courses/NDD/mouselit/matt\n"
     ]
    }
   ],
   "source": [
    "!pwd"
   ]
  },
  {
   "cell_type": "code",
   "execution_count": 11,
   "metadata": {},
   "outputs": [],
   "source": [
    "# Reference: https://github.com/NeuroDataDesign/mouselit/blob/master/bijan/mouse_test/final%20notebook.ipynb\n",
    "\n",
    "import matplotlib.pyplot as plt\n",
    "import SimpleITK as sitk\n",
    "import numpy as np\n",
    "import napari\n",
    "\n",
    "\n",
    "def plot_2d(img, title=None, margin=0.05, dpi=80):\n",
    "    nda = sitk.GetArrayFromImage(img)\n",
    "    spacing = img.GetSpacing()\n",
    "\n",
    "    if nda.ndim == 3:\n",
    "        c = nda.shape[-1]\n",
    "\n",
    "        if c not in (3, 4):\n",
    "            nda = nda[nda.shape[0] // 2, :, :]\n",
    "\n",
    "    elif nda.ndim == 4:\n",
    "        c = nda.shape[-1]\n",
    "\n",
    "        if c not in (3, 4):\n",
    "            raise RuntimeError(\"Unable to show 3D-vector Image\")\n",
    "\n",
    "        nda = nda[nda.shape[0] // 2, :, :, :]\n",
    "\n",
    "    xsize = nda.shape[1] * 2\n",
    "    ysize = nda.shape[0] * 2\n",
    "\n",
    "    figsize = (1 + margin) * xsize / dpi, (1 + margin) * ysize / dpi\n",
    "\n",
    "    plt.figure(figsize=figsize, dpi=dpi, tight_layout=True)\n",
    "    ax = plt.gca()\n",
    "\n",
    "    extent = (0, xsize * spacing[0], ysize * spacing[1], 0)\n",
    "\n",
    "    t = ax.imshow(nda, extent=extent, interpolation=None)\n",
    "\n",
    "    if nda.ndim == 2:\n",
    "        t.set_cmap(\"gray\")\n",
    "\n",
    "    if title:\n",
    "        plt.title(title)\n",
    "\n",
    "    plt.show()\n",
    "\n",
    "\n",
    "def plot_3d(img, xslices=[], yslices=[], zslices=[], title=None, margin=0.05, dpi=80):\n",
    "    img_xslices = [img[s, :, :] for s in xslices]\n",
    "    img_yslices = [img[:, s, :] for s in yslices]\n",
    "    img_zslices = [img[:, :, s] for s in zslices]\n",
    "\n",
    "    maxlen = max(len(img_xslices), len(img_yslices), len(img_zslices))\n",
    "\n",
    "    img_null = sitk.Image([0, 0], img.GetPixelID(), img.GetNumberOfComponentsPerPixel())\n",
    "\n",
    "    img_slices = []\n",
    "    d = 0\n",
    "\n",
    "    if len(img_xslices):\n",
    "        img_slices += img_xslices + [img_null] * (maxlen - len(img_xslices))\n",
    "        d += 1\n",
    "\n",
    "    if len(img_yslices):\n",
    "        img_slices += img_yslices + [img_null] * (maxlen - len(img_yslices))\n",
    "        d += 1\n",
    "\n",
    "    if len(img_zslices):\n",
    "        img_slices += img_zslices + [img_null] * (maxlen - len(img_zslices))\n",
    "        d += 1\n",
    "\n",
    "    if maxlen != 0:\n",
    "        if img.GetNumberOfComponentsPerPixel() == 1:\n",
    "            img = sitk.Tile(img_slices, [maxlen, d])\n",
    "        else:\n",
    "            img_comps = []\n",
    "            for i in range(0, img.GetNumberOfComponentsPerPixel()):\n",
    "                img_slices_c = [sitk.VectorIndexSelectionCast(s, i) for s in img_slices]\n",
    "                img_comps.append(sitk.Tile(img_slices_c, [maxlen, d]))\n",
    "            img = sitk.Compose(img_comps)\n",
    "\n",
    "    plot_2d(img, title, margin, dpi)\n",
    "\n",
    "\n",
    "def napari_viewer(img, labels=None, shapes=None, label_name=\"Segmentation\"):\n",
    "    viewer = napari.view_image(np.squeeze(np.array(img)))\n",
    "    if labels is not None:\n",
    "        viewer.add_labels(labels, name=label_name)\n",
    "    if shapes is not None:\n",
    "        viewer.add_shapes(data=shapes, shape_type='path', edge_color='blue', name='Skeleton')\n",
    "    return viewer"
   ]
  },
  {
   "cell_type": "code",
   "execution_count": 12,
   "metadata": {},
   "outputs": [],
   "source": [
    "import numpy as np"
   ]
  },
  {
   "cell_type": "code",
   "execution_count": 23,
   "metadata": {},
   "outputs": [
    {
     "data": {
      "text/plain": [
       "<napari.viewer.Viewer at 0x1a35fa0a50>"
      ]
     },
     "execution_count": 23,
     "metadata": {},
     "output_type": "execute_result"
    }
   ],
   "source": [
    "%gui qt\n",
    "napari_viewer(im)"
   ]
  },
  {
   "cell_type": "code",
   "execution_count": 25,
   "metadata": {},
   "outputs": [
    {
     "data": {
      "text/plain": [
       "(100, 330, 330)"
      ]
     },
     "execution_count": 25,
     "metadata": {},
     "output_type": "execute_result"
    }
   ],
   "source": [
    "im.shape"
   ]
  },
  {
   "cell_type": "code",
   "execution_count": 26,
   "metadata": {},
   "outputs": [],
   "source": [
    "swc_path = \"/Users/mattf/Documents/2020_Courses/NDD/benchmarking_datasets/Manual-GT/8-01_test_1-5/8-01_test_1/tree_1.swc\""
   ]
  },
  {
   "cell_type": "code",
   "execution_count": 27,
   "metadata": {},
   "outputs": [],
   "source": [
    "import pandas as pd"
   ]
  },
  {
   "cell_type": "code",
   "execution_count": 41,
   "metadata": {},
   "outputs": [],
   "source": [
    "df = pd.read_csv(swc_path, skiprows = 3, header = None, sep = \" \")"
   ]
  },
  {
   "cell_type": "code",
   "execution_count": 49,
   "metadata": {},
   "outputs": [],
   "source": [
    "subneuron_df = df[:15]"
   ]
  },
  {
   "cell_type": "code",
   "execution_count": 50,
   "metadata": {},
   "outputs": [
    {
     "data": {
      "text/html": [
       "<div>\n",
       "<style scoped>\n",
       "    .dataframe tbody tr th:only-of-type {\n",
       "        vertical-align: middle;\n",
       "    }\n",
       "\n",
       "    .dataframe tbody tr th {\n",
       "        vertical-align: top;\n",
       "    }\n",
       "\n",
       "    .dataframe thead th {\n",
       "        text-align: right;\n",
       "    }\n",
       "</style>\n",
       "<table border=\"1\" class=\"dataframe\">\n",
       "  <thead>\n",
       "    <tr style=\"text-align: right;\">\n",
       "      <th></th>\n",
       "      <th>0</th>\n",
       "      <th>1</th>\n",
       "      <th>2</th>\n",
       "      <th>3</th>\n",
       "      <th>4</th>\n",
       "      <th>5</th>\n",
       "      <th>6</th>\n",
       "    </tr>\n",
       "  </thead>\n",
       "  <tbody>\n",
       "    <tr>\n",
       "      <th>0</th>\n",
       "      <td>1</td>\n",
       "      <td>5</td>\n",
       "      <td>-54.779639</td>\n",
       "      <td>-12.908684</td>\n",
       "      <td>14.684862</td>\n",
       "      <td>1.0</td>\n",
       "      <td>-1</td>\n",
       "    </tr>\n",
       "    <tr>\n",
       "      <th>1</th>\n",
       "      <td>2</td>\n",
       "      <td>0</td>\n",
       "      <td>-54.480880</td>\n",
       "      <td>-12.604268</td>\n",
       "      <td>14.684862</td>\n",
       "      <td>1.0</td>\n",
       "      <td>1</td>\n",
       "    </tr>\n",
       "    <tr>\n",
       "      <th>2</th>\n",
       "      <td>3</td>\n",
       "      <td>0</td>\n",
       "      <td>-54.182121</td>\n",
       "      <td>-12.604268</td>\n",
       "      <td>14.684862</td>\n",
       "      <td>1.0</td>\n",
       "      <td>2</td>\n",
       "    </tr>\n",
       "    <tr>\n",
       "      <th>3</th>\n",
       "      <td>4</td>\n",
       "      <td>0</td>\n",
       "      <td>-53.883362</td>\n",
       "      <td>-12.299852</td>\n",
       "      <td>14.684862</td>\n",
       "      <td>1.0</td>\n",
       "      <td>3</td>\n",
       "    </tr>\n",
       "    <tr>\n",
       "      <th>4</th>\n",
       "      <td>5</td>\n",
       "      <td>0</td>\n",
       "      <td>-52.090806</td>\n",
       "      <td>-12.299852</td>\n",
       "      <td>14.684862</td>\n",
       "      <td>1.0</td>\n",
       "      <td>4</td>\n",
       "    </tr>\n",
       "    <tr>\n",
       "      <th>5</th>\n",
       "      <td>6</td>\n",
       "      <td>0</td>\n",
       "      <td>-50.895769</td>\n",
       "      <td>-12.299852</td>\n",
       "      <td>14.684862</td>\n",
       "      <td>1.0</td>\n",
       "      <td>5</td>\n",
       "    </tr>\n",
       "    <tr>\n",
       "      <th>6</th>\n",
       "      <td>7</td>\n",
       "      <td>0</td>\n",
       "      <td>-50.597010</td>\n",
       "      <td>-11.995436</td>\n",
       "      <td>14.684862</td>\n",
       "      <td>1.0</td>\n",
       "      <td>6</td>\n",
       "    </tr>\n",
       "    <tr>\n",
       "      <th>7</th>\n",
       "      <td>8</td>\n",
       "      <td>0</td>\n",
       "      <td>-49.700732</td>\n",
       "      <td>-11.995436</td>\n",
       "      <td>14.684862</td>\n",
       "      <td>1.0</td>\n",
       "      <td>7</td>\n",
       "    </tr>\n",
       "    <tr>\n",
       "      <th>8</th>\n",
       "      <td>9</td>\n",
       "      <td>0</td>\n",
       "      <td>-49.401973</td>\n",
       "      <td>-11.691020</td>\n",
       "      <td>14.684862</td>\n",
       "      <td>1.0</td>\n",
       "      <td>8</td>\n",
       "    </tr>\n",
       "    <tr>\n",
       "      <th>9</th>\n",
       "      <td>10</td>\n",
       "      <td>0</td>\n",
       "      <td>-49.103214</td>\n",
       "      <td>-11.691020</td>\n",
       "      <td>14.684862</td>\n",
       "      <td>1.0</td>\n",
       "      <td>9</td>\n",
       "    </tr>\n",
       "    <tr>\n",
       "      <th>10</th>\n",
       "      <td>11</td>\n",
       "      <td>0</td>\n",
       "      <td>-48.206936</td>\n",
       "      <td>-11.691020</td>\n",
       "      <td>14.684862</td>\n",
       "      <td>1.0</td>\n",
       "      <td>10</td>\n",
       "    </tr>\n",
       "    <tr>\n",
       "      <th>11</th>\n",
       "      <td>12</td>\n",
       "      <td>0</td>\n",
       "      <td>-47.908177</td>\n",
       "      <td>-11.691020</td>\n",
       "      <td>13.696457</td>\n",
       "      <td>1.0</td>\n",
       "      <td>11</td>\n",
       "    </tr>\n",
       "    <tr>\n",
       "      <th>12</th>\n",
       "      <td>13</td>\n",
       "      <td>0</td>\n",
       "      <td>-47.310659</td>\n",
       "      <td>-11.691020</td>\n",
       "      <td>13.696457</td>\n",
       "      <td>1.0</td>\n",
       "      <td>12</td>\n",
       "    </tr>\n",
       "    <tr>\n",
       "      <th>13</th>\n",
       "      <td>14</td>\n",
       "      <td>0</td>\n",
       "      <td>-47.011899</td>\n",
       "      <td>-11.995436</td>\n",
       "      <td>12.708053</td>\n",
       "      <td>1.0</td>\n",
       "      <td>13</td>\n",
       "    </tr>\n",
       "    <tr>\n",
       "      <th>14</th>\n",
       "      <td>15</td>\n",
       "      <td>0</td>\n",
       "      <td>-46.115622</td>\n",
       "      <td>-11.995436</td>\n",
       "      <td>12.708053</td>\n",
       "      <td>1.0</td>\n",
       "      <td>14</td>\n",
       "    </tr>\n",
       "  </tbody>\n",
       "</table>\n",
       "</div>"
      ],
      "text/plain": [
       "     0  1          2          3          4    5   6\n",
       "0    1  5 -54.779639 -12.908684  14.684862  1.0  -1\n",
       "1    2  0 -54.480880 -12.604268  14.684862  1.0   1\n",
       "2    3  0 -54.182121 -12.604268  14.684862  1.0   2\n",
       "3    4  0 -53.883362 -12.299852  14.684862  1.0   3\n",
       "4    5  0 -52.090806 -12.299852  14.684862  1.0   4\n",
       "5    6  0 -50.895769 -12.299852  14.684862  1.0   5\n",
       "6    7  0 -50.597010 -11.995436  14.684862  1.0   6\n",
       "7    8  0 -49.700732 -11.995436  14.684862  1.0   7\n",
       "8    9  0 -49.401973 -11.691020  14.684862  1.0   8\n",
       "9   10  0 -49.103214 -11.691020  14.684862  1.0   9\n",
       "10  11  0 -48.206936 -11.691020  14.684862  1.0  10\n",
       "11  12  0 -47.908177 -11.691020  13.696457  1.0  11\n",
       "12  13  0 -47.310659 -11.691020  13.696457  1.0  12\n",
       "13  14  0 -47.011899 -11.995436  12.708053  1.0  13\n",
       "14  15  0 -46.115622 -11.995436  12.708053  1.0  14"
      ]
     },
     "execution_count": 50,
     "metadata": {},
     "output_type": "execute_result"
    }
   ],
   "source": [
    "subneuron_df"
   ]
  },
  {
   "cell_type": "code",
   "execution_count": 51,
   "metadata": {},
   "outputs": [],
   "source": [
    "subneuron_df.columns = [\"sample\",  \"structure\",      \"x\",      \"y\",      \"z\",\n",
    "                         \"r\",  \"parent\"]"
   ]
  },
  {
   "cell_type": "code",
   "execution_count": 52,
   "metadata": {},
   "outputs": [
    {
     "name": "stdout",
     "output_type": "stream",
     "text": [
      "Number of nodes: 15\n",
      "Number of edges: 14\n",
      "\n",
      "\n",
      "Sample 1 coordinates (x,y,z)\n"
     ]
    },
    {
     "data": {
      "text/plain": [
       "{'x': -54, 'y': -12, 'z': 14}"
      ]
     },
     "execution_count": 52,
     "metadata": {},
     "output_type": "execute_result"
    }
   ],
   "source": [
    "G = df_to_graph(subneuron_df)\n",
    "print('Number of nodes:', len(G.nodes))\n",
    "print('Number of edges:', len(G.edges))\n",
    "print('\\n')\n",
    "print('Sample 1 coordinates (x,y,z)')\n",
    "G.nodes[1]"
   ]
  },
  {
   "cell_type": "code",
   "execution_count": 53,
   "metadata": {},
   "outputs": [
    {
     "data": {
      "text/plain": [
       "1"
      ]
     },
     "execution_count": 53,
     "metadata": {},
     "output_type": "execute_result"
    }
   ],
   "source": [
    "paths = graph_to_paths(G)\n",
    "len(paths)"
   ]
  },
  {
   "cell_type": "code",
   "execution_count": 54,
   "metadata": {},
   "outputs": [
    {
     "data": {
      "text/plain": [
       "<napari.viewer.Viewer at 0x1a36088890>"
      ]
     },
     "execution_count": 54,
     "metadata": {},
     "output_type": "execute_result"
    }
   ],
   "source": [
    "%gui qt\n",
    "napari_viewer(im, shapes=paths)"
   ]
  },
  {
   "cell_type": "code",
   "execution_count": 62,
   "metadata": {},
   "outputs": [
    {
     "name": "stdout",
     "output_type": "stream",
     "text": [
      "[(14, -12, -54), (14, -12, -54), (14, -12, -54), (14, -12, -53), (14, -12, -52), (14, -12, -50), (14, -11, -50), (14, -11, -49), (14, -11, -49), (14, -11, -49), (14, -11, -48), (13, -11, -47), (13, -11, -47), (12, -11, -47), (12, -11, -46)]\n"
     ]
    }
   ],
   "source": [
    "seed = []\n",
    "for index, row in subneuron_df.iterrows():\n",
    "    sample = (row['x'], row['y'], row['z'])\n",
    "    _, s = adaptive_thresh.get_seed(sample)\n",
    "    seed.append(s)\n",
    "print(seed)"
   ]
  },
  {
   "cell_type": "code",
   "execution_count": null,
   "metadata": {},
   "outputs": [],
   "source": [
    "labels = adaptive_thresh.confidence_connected_threshold(img, seed, num_iter=1, multiplier=0.3)"
   ]
  },
  {
   "cell_type": "code",
   "execution_count": null,
   "metadata": {},
   "outputs": [],
   "source": [
    "## Most useful visualization cell - contains image, SWC, and automatic segmentation\n",
    "%gui qt\n",
    "napari_viewer(img, labels=labels, shapes=paths, label_name=\"Confidence-Connected Threshold\")"
   ]
  },
  {
   "cell_type": "code",
   "execution_count": null,
   "metadata": {},
   "outputs": [],
   "source": [
    "labels = tube_seg.tubes_seg(img, vox_in_img_list, 2)"
   ]
  },
  {
   "cell_type": "code",
   "execution_count": null,
   "metadata": {},
   "outputs": [],
   "source": [
    "## Most useful visualization cell - contains image, SWC, and automatic segmentation\n",
    "%gui qt\n",
    "napari_viewer(img, labels=labels, shapes=paths, label_name=\"Tube Segmentation\")"
   ]
  }
 ],
 "metadata": {
  "kernelspec": {
   "display_name": "Python 3",
   "language": "python",
   "name": "python3"
  },
  "language_info": {
   "codemirror_mode": {
    "name": "ipython",
    "version": 3
   },
   "file_extension": ".py",
   "mimetype": "text/x-python",
   "name": "python",
   "nbconvert_exporter": "python",
   "pygments_lexer": "ipython3",
   "version": "3.7.6"
  }
 },
 "nbformat": 4,
 "nbformat_minor": 4
}
