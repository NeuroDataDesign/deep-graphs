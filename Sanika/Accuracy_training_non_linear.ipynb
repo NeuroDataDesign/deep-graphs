{
 "cells": [
  {
   "cell_type": "code",
   "execution_count": 129,
   "metadata": {},
   "outputs": [],
   "source": [
    "import pandas as pd\n",
    "import numpy as np\n",
    "import pickle\n",
    "import time\n",
    "from tqdm import tqdm\n",
    "import matplotlib.pyplot as plt\n",
    "from sklearn.neural_network import MLPClassifier\n",
    "from sklearn.preprocessing import StandardScaler\n",
    "from sklearn.model_selection import train_test_split\n",
    "from sklearn.linear_model import LogisticRegression\n",
    "from sklearn.metrics import accuracy_score\n",
    "from statsmodels.discrete.discrete_model import Logit\n",
    "from sklearn.metrics import plot_roc_curve\n",
    "from sklearn import datasets, metrics, model_selection"
   ]
  },
  {
   "cell_type": "code",
   "execution_count": 144,
   "metadata": {},
   "outputs": [
    {
     "data": {
      "text/plain": [
       "2880"
      ]
     },
     "execution_count": 144,
     "metadata": {},
     "output_type": "execute_result"
    }
   ],
   "source": [
    "output_feats = 'flat_neighbourhoods_1.csv'\n",
    "df_iter = pd.read_csv(output_feats,header=None,index_col=0)\n",
    "output_feats2 = 'flat_neighbourhoods_3.csv'\n",
    "df_iter1 = pd.read_csv(output_feats,header=None,index_col=0)\n",
    "df_iter = df_iter.append(df_iter1)\n",
    "len(df_iter)"
   ]
  },
  {
   "cell_type": "code",
   "execution_count": 145,
   "metadata": {},
   "outputs": [
    {
     "name": "stdout",
     "output_type": "stream",
     "text": [
      "2880\n",
      "2880\n"
     ]
    }
   ],
   "source": [
    "#print(df_iter)\n",
    "X_all = df_iter.iloc[:, :63]\n",
    "y_all = df_iter.iloc[:, 63:]\n",
    "print(len(X_all))\n",
    "print(len(y_all))"
   ]
  },
  {
   "cell_type": "code",
   "execution_count": 146,
   "metadata": {},
   "outputs": [
    {
     "name": "stdout",
     "output_type": "stream",
     "text": [
      "2840 40\n"
     ]
    }
   ],
   "source": [
    "X_all = StandardScaler().fit_transform(X_all)\n",
    "X_sel,X_test, y_sel, y_test = \\\n",
    "        train_test_split(X_all, y_all, test_size=40,random_state=42)\n",
    "\n",
    "print(len(X_sel),len(X_test))"
   ]
  },
  {
   "cell_type": "code",
   "execution_count": 147,
   "metadata": {},
   "outputs": [
    {
     "name": "stderr",
     "output_type": "stream",
     "text": [
      " 12%|██████████▏                                                                      | 1/8 [00:00<00:00,  8.87it/s]"
     ]
    },
    {
     "name": "stdout",
     "output_type": "stream",
     "text": [
      "Optimization terminated successfully.    (Exit mode 0)\n",
      "            Current function value: 0.6931471805599453\n",
      "            Iterations: 1\n",
      "            Function evaluations: 1\n",
      "            Gradient evaluations: 1\n"
     ]
    },
    {
     "name": "stderr",
     "output_type": "stream",
     "text": [
      "\r",
      " 25%|████████████████████▎                                                            | 2/8 [00:00<00:01,  4.29it/s]"
     ]
    },
    {
     "name": "stdout",
     "output_type": "stream",
     "text": [
      "Optimization terminated successfully.    (Exit mode 0)\n",
      "            Current function value: 0.6846129489274556\n",
      "            Iterations: 48\n",
      "            Function evaluations: 49\n",
      "            Gradient evaluations: 48\n"
     ]
    },
    {
     "name": "stderr",
     "output_type": "stream",
     "text": [
      "\r",
      " 38%|██████████████████████████████▍                                                  | 3/8 [00:01<00:02,  2.23it/s]"
     ]
    },
    {
     "name": "stdout",
     "output_type": "stream",
     "text": [
      "Optimization terminated successfully.    (Exit mode 0)\n",
      "            Current function value: 0.6719963100730131\n",
      "            Iterations: 131\n",
      "            Function evaluations: 131\n",
      "            Gradient evaluations: 131\n"
     ]
    },
    {
     "name": "stderr",
     "output_type": "stream",
     "text": [
      "\r",
      " 50%|████████████████████████████████████████▌                                        | 4/8 [00:03<00:03,  1.22it/s]"
     ]
    },
    {
     "name": "stdout",
     "output_type": "stream",
     "text": [
      "Optimization terminated successfully.    (Exit mode 0)\n",
      "            Current function value: 0.6621310157763829\n",
      "            Iterations: 225\n",
      "            Function evaluations: 225\n",
      "            Gradient evaluations: 225\n"
     ]
    },
    {
     "name": "stderr",
     "output_type": "stream",
     "text": [
      "\r",
      " 62%|██████████████████████████████████████████████████▋                              | 5/8 [00:05<00:03,  1.21s/it]"
     ]
    },
    {
     "name": "stdout",
     "output_type": "stream",
     "text": [
      "Optimization terminated successfully.    (Exit mode 0)\n",
      "            Current function value: 0.658831031440079\n",
      "            Iterations: 274\n",
      "            Function evaluations: 274\n",
      "            Gradient evaluations: 274\n"
     ]
    },
    {
     "name": "stderr",
     "output_type": "stream",
     "text": [
      "\r",
      " 75%|████████████████████████████████████████████████████████████▊                    | 6/8 [00:07<00:03,  1.54s/it]"
     ]
    },
    {
     "name": "stdout",
     "output_type": "stream",
     "text": [
      "Optimization terminated successfully.    (Exit mode 0)\n",
      "            Current function value: 0.6604982273620206\n",
      "            Iterations: 255\n",
      "            Function evaluations: 256\n",
      "            Gradient evaluations: 255\n"
     ]
    },
    {
     "name": "stderr",
     "output_type": "stream",
     "text": [
      "\r",
      " 88%|██████████████████████████████████████████████████████████████████████▉          | 7/8 [00:10<00:01,  1.99s/it]"
     ]
    },
    {
     "name": "stdout",
     "output_type": "stream",
     "text": [
      "Optimization terminated successfully.    (Exit mode 0)\n",
      "            Current function value: 0.6627978461291635\n",
      "            Iterations: 300\n",
      "            Function evaluations: 300\n",
      "            Gradient evaluations: 300\n"
     ]
    },
    {
     "name": "stderr",
     "output_type": "stream",
     "text": [
      "100%|█████████████████████████████████████████████████████████████████████████████████| 8/8 [00:12<00:00,  1.62s/it]"
     ]
    },
    {
     "name": "stdout",
     "output_type": "stream",
     "text": [
      "Optimization terminated successfully.    (Exit mode 0)\n",
      "            Current function value: 0.6605595733339878\n",
      "            Iterations: 316\n",
      "            Function evaluations: 317\n",
      "            Gradient evaluations: 316\n",
      "[0.525, 0.525, 0.55, 0.525, 0.475, 0.475, 0.525, 0.525]\n",
      "[0.525, 0.575, 0.575, 0.6, 0.525, 0.625, 0.55, 0.525]\n"
     ]
    },
    {
     "name": "stderr",
     "output_type": "stream",
     "text": [
      "\n"
     ]
    }
   ],
   "source": [
    "acc=[]\n",
    "acc_it = []\n",
    "ns = np.array([10,100,500,1000,1500,2000,2500,2800])\n",
    "#ns = np.array([10,100,200])\n",
    "for n in tqdm(ns):\n",
    "    X_train = X_sel[:n]\n",
    "    y_train = np.array(y_sel[:n]).ravel()\n",
    "    #print(y_train)\n",
    "    clf = MLPClassifier(hidden_layer_sizes = 1,alpha=1, max_iter=1000);\n",
    "    clf.fit(X_train,y_train)\n",
    "    wts = clf.coefs_\n",
    "    #print(len(wts))\n",
    "    WX = wts[0].transpose()*X_train\n",
    "    #t.shape\n",
    "    sig_X = 1/(1 + np.exp(-WX)) \n",
    "    #z.shape\n",
    "    \n",
    "    X_train_new = sig_X\n",
    "    \n",
    "    logr = LogisticRegression(max_iter=2000).fit(X_train_new,y_train)\n",
    "    y_score = LogisticRegression(max_iter=2000).fit(X_train_new,y_train).decision_function(X_test)\n",
    "    y_test_predict = logr.predict(X_test)\n",
    "    acc.append(accuracy_score(y_test,y_test_predict))\n",
    "    \n",
    "    logr_model = Logit(y_train, X_train)\n",
    "    logr1 = logr_model.fit_regularized(method='l1',max_iter=500,alpha=1.0)\n",
    "    y_test_predict = logr1.predict(X_test)\n",
    "    y_test_predict = np.rint(y_test_predict).astype(int)\n",
    "    acc_it.append(accuracy_score(y_test,y_test_predict))\n",
    "print(acc)\n",
    "print(acc_it)"
   ]
  },
  {
   "cell_type": "code",
   "execution_count": 148,
   "metadata": {},
   "outputs": [
    {
     "data": {
      "text/plain": [
       "[<matplotlib.lines.Line2D at 0x1b084d3e6c8>]"
      ]
     },
     "execution_count": 148,
     "metadata": {},
     "output_type": "execute_result"
    },
    {
     "data": {
      "image/png": "[encoded data removed]",
      "text/plain": [
       "<Figure size 432x288 with 1 Axes>"
      ]
     },
     "metadata": {
      "needs_background": "light"
     },
     "output_type": "display_data"
    }
   ],
   "source": [
    "plt.plot(ns,acc)"
   ]
  },
  {
   "cell_type": "code",
   "execution_count": 149,
   "metadata": {},
   "outputs": [
    {
     "data": {
      "text/plain": [
       "[<matplotlib.lines.Line2D at 0x1b084da1f08>]"
      ]
     },
     "execution_count": 149,
     "metadata": {},
     "output_type": "execute_result"
    },
    {
     "data": {
      "image/png": "[encoded data removed]",
      "text/plain": [
       "<Figure size 432x288 with 1 Axes>"
      ]
     },
     "metadata": {
      "needs_background": "light"
     },
     "output_type": "display_data"
    }
   ],
   "source": [
    "plt.plot(ns,acc_it)"
   ]
  },
  {
   "cell_type": "code",
   "execution_count": 150,
   "metadata": {},
   "outputs": [
    {
     "data": {
      "image/png": "[encoded data removed]",
      "text/plain": [
       "<Figure size 432x288 with 1 Axes>"
      ]
     },
     "metadata": {
      "needs_background": "light"
     },
     "output_type": "display_data"
    }
   ],
   "source": [
    "metrics.plot_roc_curve(logr, X_test, y_test)\n",
    "plt.show() "
   ]
  }
 ],
 "metadata": {
  "kernelspec": {
   "display_name": "Python 3",
   "language": "python",
   "name": "python3"
  },
  "language_info": {
   "codemirror_mode": {
    "name": "ipython",
    "version": 3
   },
   "file_extension": ".py",
   "mimetype": "text/x-python",
   "name": "python",
   "nbconvert_exporter": "python",
   "pygments_lexer": "ipython3",
   "version": "3.7.6"
  }
 },
 "nbformat": 4,
 "nbformat_minor": 4
}
