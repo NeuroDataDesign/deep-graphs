{
 "cells": [
  {
   "cell_type": "markdown",
   "metadata": {},
   "source": [
    "This notebook contains the results of several experiments I've run using the Brainlit package."
   ]
  },
  {
   "cell_type": "code",
   "execution_count": 2,
   "metadata": {},
   "outputs": [],
   "source": [
    "from brainlit.utils.ngl_pipeline import NeuroglancerSession\n",
    "from brainlit.preprocessing.features import *\n",
    "import pandas as pd\n",
    "import numpy as np\n",
    "import glob\n",
    "import time"
   ]
  },
  {
   "cell_type": "markdown",
   "metadata": {},
   "source": [
    "# Parallel vs. Serial Extraction"
   ]
  },
  {
   "cell_type": "markdown",
   "metadata": {},
   "source": [
    "## Neighborhood features"
   ]
  },
  {
   "cell_type": "code",
   "execution_count": 6,
   "metadata": {},
   "outputs": [
    {
     "output_type": "stream",
     "name": "stderr",
     "text": "Downloading: 100%|██████████| 1/1 [00:00<00:00,  5.37it/s]\nDownloading: 100%|██████████| 1/1 [00:00<00:00,  9.40it/s]\nDownloading:   0%|          | 0/1 [00:00<?, ?it/s]\nDownloading:   0%|          | 0/1 [00:00<?, ?it/s]\nDownloading:   0%|          | 0/1 [00:00<?, ?it/s]\nDownloading:   0%|          | 0/1 [00:00<?, ?it/s]\nDownloading: 100%|██████████| 1/1 [00:00<00:00, 10.21it/s]\nDownloading:   0%|          | 0/1 [00:00<?, ?it/s]\nDownloading:   0%|          | 0/1 [00:00<?, ?it/s]\nDownloading: 100%|██████████| 1/1 [00:00<00:00, 10.37it/s]\nDownloading:   0%|          | 0/1 [00:00<?, ?it/s]\nDownloading:   0%|          | 0/1 [00:00<?, ?it/s]\nDownloading:   0%|          | 0/1 [00:00<?, ?it/s]\nDownloading:   0%|          | 0/1 [00:00<?, ?it/s]\nDownloading: 100%|██████████| 1/1 [00:00<00:00,  8.81it/s]\nDownloading:   0%|          | 0/1 [00:01<?, ?it/s]\nDownloading:   0%|          | 0/1 [00:01<?, ?it/s]\nDownloading:   0%|          | 0/1 [00:00<?, ?it/s]\nDownloading:   0%|          | 0/1 [00:00<?, ?it/s]\nDownloading: 100%|██████████| 1/1 [00:00<00:00,  8.89it/s]\nDownloading:   0%|          | 0/1 [00:00<?, ?it/s]\nDownloading:   0%|          | 0/1 [00:00<?, ?it/s]\nDownloading:   0%|          | 0/1 [00:00<?, ?it/s]\nDownloading: 100%|██████████| 1/1 [00:00<00:00,  9.65it/s]\nDownloading:   0%|          | 0/1 [00:00<?, ?it/s]\nDownloading:   0%|          | 0/1 [00:00<?, ?it/s]\nDownloading:   0%|          | 0/1 [00:00<?, ?it/s]\nDownloading: 100%|██████████| 1/1 [00:00<00:00,  9.44it/s]\nDownloading:   0%|          | 0/1 [00:00<?, ?it/s]\nDownloading:   0%|          | 0/1 [00:00<?, ?it/s]\nDownloading:   0%|          | 0/1 [00:00<?, ?it/s]\nDownloading: 100%|██████████| 1/1 [00:00<00:00, 10.41it/s]\nDownloading:   0%|          | 0/1 [00:00<?, ?it/s]\nDownloading:   0%|          | 0/1 [00:00<?, ?it/s]\nDownloading:   0%|          | 0/1 [00:00<?, ?it/s]\nDownloading: 100%|██████████| 1/1 [00:00<00:00, 10.15it/s]\nDownloading:   0%|          | 0/1 [00:00<?, ?it/s]\nDownloading:   0%|          | 0/1 [00:00<?, ?it/s]\nDownloading:   0%|          | 0/1 [00:00<?, ?it/s]\nDownloading: 100%|██████████| 1/1 [00:00<00:00,  9.99it/s]\nDownloading:   0%|          | 0/1 [00:00<?, ?it/s]\nDownloading:   0%|          | 0/1 [00:00<?, ?it/s]\nDownloading:   0%|          | 0/1 [00:00<?, ?it/s]\nDownloading: 100%|██████████| 1/1 [00:00<00:00,  9.57it/s]\nDownloading:   0%|          | 0/1 [00:00<?, ?it/s]\nDownloading:   0%|          | 0/1 [00:00<?, ?it/s]\nDownloading: 100%|██████████| 1/1 [00:00<00:00,  9.76it/s]\nDownloading:   0%|          | 0/1 [00:00<?, ?it/s]\nDownloading:   0%|          | 0/1 [00:00<?, ?it/s]\nDownloading:   0%|          | 0/1 [00:00<?, ?it/s]\nDownloading:   0%|          | 0/1 [00:00<?, ?it/s]\nDownloading:   0%|          | 0/1 [00:00<?, ?it/s]\nDownloading: 100%|██████████| 1/1 [00:00<00:00, 10.05it/s]\nDownloading:   0%|          | 0/1 [00:00<?, ?it/s]\nDownloading:   0%|          | 0/1 [00:00<?, ?it/s]\nDownloading:   0%|          | 0/1 [00:00<?, ?it/s]\nDownloading: 100%|██████████| 1/1 [00:00<00:00,  9.76it/s]\nDownloading:   0%|          | 0/1 [00:00<?, ?it/s]\nDownloading:   0%|          | 0/1 [00:00<?, ?it/s]\nDownloading:   0%|          | 0/1 [00:00<?, ?it/s]\nDownloading: 100%|██████████| 1/1 [00:00<00:00,  9.33it/s]\nDownloading:   0%|          | 0/1 [00:01<?, ?it/s]\nDownloading:   0%|          | 0/1 [00:01<?, ?it/s]\nDownloading:   0%|          | 0/1 [00:01<?, ?it/s]\nDownloading:   0%|          | 0/1 [00:01<?, ?it/s]\nDownloading:   0%|          | 0/1 [00:00<?, ?it/s]\nDownloading:   0%|          | 0/1 [00:00<?, ?it/s]\nDownloading: 100%|██████████| 1/1 [00:00<00:00,  9.67it/s]\nDownloading:   0%|          | 0/1 [00:00<?, ?it/s]\nDownloading:   0%|          | 0/1 [00:00<?, ?it/s]\nDownloading: 100%|██████████| 1/1 [00:00<00:00,  9.82it/s]\nDownloading:   0%|          | 0/1 [00:00<?, ?it/s]\nDownloading:   0%|          | 0/1 [00:00<?, ?it/s]\nDownloading:   0%|          | 0/1 [00:00<?, ?it/s]\nDownloading: 100%|██████████| 1/1 [00:00<00:00, 10.04it/s]\nDownloading:   0%|          | 0/1 [00:00<?, ?it/s]\nDownloading:   0%|          | 0/1 [00:00<?, ?it/s]\nDownloading: 100%|██████████| 1/1 [00:00<00:00,  9.46it/s]\nDownloading:   0%|          | 0/1 [00:00<?, ?it/s]\nDownloading:   0%|          | 0/1 [00:00<?, ?it/s]\nDownloading: 100%|██████████| 1/1 [00:00<00:00,  9.56it/s]\nDownloading:   0%|          | 0/1 [00:00<?, ?it/s]\nDownloading:   0%|          | 0/1 [00:00<?, ?it/s]\nDownloading:   0%|          | 0/1 [00:00<?, ?it/s]\nDownloading: 100%|██████████| 1/1 [00:00<00:00,  5.04it/s]\nDownloading: 100%|██████████| 1/1 [00:00<00:00,  9.46it/s]\nDownloading:   0%|          | 0/1 [00:00<?, ?it/s]\nDownloading:   0%|          | 0/1 [00:00<?, ?it/s]\nDownloading:   0%|          | 0/1 [00:00<?, ?it/s]\nDownloading: 100%|██████████| 1/1 [00:00<00:00,  9.73it/s]\nDownloading:   0%|          | 0/1 [00:00<?, ?it/s]\nDownloading:   0%|          | 0/1 [00:00<?, ?it/s]\nDownloading:   0%|          | 0/1 [00:00<?, ?it/s]\nDownloading:   0%|          | 0/1 [00:00<?, ?it/s]\nDownloading:   0%|          | 0/1 [00:00<?, ?it/s]\nDownloading: 100%|██████████| 1/1 [00:00<00:00, 10.02it/s]\nDownloading:   0%|          | 0/1 [00:00<?, ?it/s]\nDownloading:   0%|          | 0/1 [00:00<?, ?it/s]\nDownloading:   0%|          | 0/1 [00:00<?, ?it/s]\nDownloading:   0%|          | 0/1 [00:02<?, ?it/s]\nDownloading:   0%|          | 0/1 [00:00<?, ?it/s]\nDownloading:   0%|          | 0/1 [00:00<?, ?it/s]\nDownloading: 100%|██████████| 1/1 [00:00<00:00,  5.35it/s]\nDownloading:   0%|          | 0/1 [00:00<?, ?it/s]\nDownloading:   0%|          | 0/1 [00:00<?, ?it/s]\nDownloading:   0%|          | 0/1 [00:00<?, ?it/s]\nDownloading: 100%|██████████| 1/1 [00:00<00:00,  9.75it/s]\nDownloading:   0%|          | 0/1 [00:00<?, ?it/s]\nDownloading:   0%|          | 0/1 [00:00<?, ?it/s]\nDownloading:   0%|          | 0/1 [00:00<?, ?it/s]\nDownloading: 100%|██████████| 1/1 [00:00<00:00,  9.83it/s]\nDownloading:   0%|          | 0/1 [00:00<?, ?it/s]\nDownloading:   0%|          | 0/1 [00:00<?, ?it/s]\nDownloading:   0%|          | 0/1 [00:00<?, ?it/s]\nDownloading:   0%|          | 0/1 [00:00<?, ?it/s]\nDownloading: 100%|██████████| 1/1 [00:00<00:00, 10.12it/s]\nDownloading:   0%|          | 0/1 [00:00<?, ?it/s]\nDownloading:   0%|          | 0/1 [00:00<?, ?it/s]\nDownloading:   0%|          | 0/1 [00:00<?, ?it/s]\nDownloading: 100%|██████████| 1/1 [00:00<00:00,  9.42it/s]\nDownloading:   0%|          | 0/1 [00:00<?, ?it/s]\nDownloading:   0%|          | 0/1 [00:00<?, ?it/s]\nDownloading:   0%|          | 0/1 [00:00<?, ?it/s]\nDownloading: 100%|██████████| 1/1 [00:00<00:00, 10.07it/s]\nDownloading:   0%|          | 0/1 [00:00<?, ?it/s]\nDownloading:   0%|          | 0/1 [00:00<?, ?it/s]\nDownloading:   0%|          | 0/1 [00:00<?, ?it/s]\nDownloading: 100%|██████████| 1/1 [00:00<00:00, 10.07it/s]\nDownloading:   0%|          | 0/1 [00:00<?, ?it/s]\nDownloading:   0%|          | 0/1 [00:00<?, ?it/s]\nDownloading:   0%|          | 0/1 [00:00<?, ?it/s]\nDownloading:   0%|          | 0/1 [00:00<?, ?it/s]\nDownloading:   0%|          | 0/1 [00:01<?, ?it/s]\nDownloading: 100%|██████████| 1/1 [00:00<00:00,  9.83it/s]\nDownloading:   0%|          | 0/1 [00:00<?, ?it/s]\nDownloading:   0%|          | 0/1 [00:00<?, ?it/s]\nDownloading: 100%|██████████| 1/1 [00:00<00:00,  9.78it/s]\nDownloading:   0%|          | 0/1 [00:00<?, ?it/s]\nDownloading:   0%|          | 0/1 [00:00<?, ?it/s]\nDownloading:   0%|          | 0/1 [00:00<?, ?it/s]\nDownloading: 100%|██████████| 1/1 [00:00<00:00,  9.54it/s]\nDownloading:   0%|          | 0/1 [00:00<?, ?it/s]\nDownloading:   0%|          | 0/1 [00:00<?, ?it/s]\nDownloading: 100%|██████████| 1/1 [00:00<00:00,  9.46it/s]\nDownloading:   0%|          | 0/1 [00:00<?, ?it/s]\nDownloading:   0%|          | 0/1 [00:00<?, ?it/s]\nDownloading:   0%|          | 0/1 [00:00<?, ?it/s]\nDownloading: 100%|██████████| 1/1 [00:00<00:00, 10.00it/s]\nDownloading:   0%|          | 0/1 [00:00<?, ?it/s]\nDownloading:   0%|          | 0/1 [00:00<?, ?it/s]\nDownloading: 100%|██████████| 1/1 [00:00<00:00,  9.28it/s]\nDownloading:   0%|          | 0/1 [00:00<?, ?it/s]\nDownloading:   0%|          | 0/1 [00:00<?, ?it/s]\nDownloading:   0%|          | 0/1 [00:00<?, ?it/s]\nDownloading: 100%|██████████| 1/1 [00:00<00:00,  9.83it/s]\nDownloading:   0%|          | 0/1 [00:00<?, ?it/s]\nDownloading:   0%|          | 0/1 [00:00<?, ?it/s]\nDownloading:   0%|          | 0/1 [00:00<?, ?it/s]\nDownloading: 100%|██████████| 1/1 [00:00<00:00,  9.05it/s]\nDownloading:   0%|          | 0/1 [00:00<?, ?it/s]\nDownloading:   0%|          | 0/1 [00:00<?, ?it/s]\nDownloading:   0%|          | 0/1 [00:00<?, ?it/s]\nDownloading: 100%|██████████| 1/1 [00:00<00:00,  9.70it/s]\nDownloading:   0%|          | 0/1 [00:00<?, ?it/s]\nDownloading:   0%|          | 0/1 [00:00<?, ?it/s]\nDownloading:   0%|          | 0/1 [00:00<?, ?it/s]\nDownloading: 100%|██████████| 1/1 [00:00<00:00,  9.75it/s]\nDownloading:   0%|          | 0/1 [00:00<?, ?it/s]\nDownloading:   0%|          | 0/1 [00:00<?, ?it/s]\nDownloading:   0%|          | 0/1 [00:00<?, ?it/s]\nDownloading: 100%|██████████| 1/1 [00:00<00:00,  4.12it/s]\nDownloading: 100%|██████████| 1/1 [00:00<00:00,  9.29it/s]\nDownloading:   0%|          | 0/1 [00:00<?, ?it/s]\nDownloading:   0%|          | 0/1 [00:00<?, ?it/s]\nDownloading:   0%|          | 0/1 [00:00<?, ?it/s]\nDownloading: 100%|██████████| 1/1 [00:00<00:00,  9.99it/s]\nDownloading:   0%|          | 0/1 [00:00<?, ?it/s]\nDownloading:   0%|          | 0/1 [00:01<?, ?it/s]\nDownloading:   0%|          | 0/1 [00:00<?, ?it/s]\nDownloading: 100%|██████████| 1/1 [00:00<00:00,  9.00it/s]\nDownloading:   0%|          | 0/1 [00:00<?, ?it/s]\nDownloading:   0%|          | 0/1 [00:00<?, ?it/s]\nDownloading:   0%|          | 0/1 [00:00<?, ?it/s]\nDownloading: 100%|██████████| 1/1 [00:00<00:00,  9.49it/s]\nDownloading:   0%|          | 0/1 [00:00<?, ?it/s]\nDownloading:   0%|          | 0/1 [00:00<?, ?it/s]\nDownloading: 100%|██████████| 1/1 [00:00<00:00, 10.05it/s]\nDownloading:   0%|          | 0/1 [00:00<?, ?it/s]\nDownloading:   0%|          | 0/1 [00:00<?, ?it/s]\nDownloading: 100%|██████████| 1/1 [00:00<00:00, 10.20it/s]\nDownloading:   0%|          | 0/1 [00:00<?, ?it/s]\nDownloading:   0%|          | 0/1 [00:00<?, ?it/s]\nDownloading:   0%|          | 0/1 [00:00<?, ?it/s]\nDownloading: 100%|██████████| 1/1 [00:00<00:00,  9.44it/s]\nDownloading:   0%|          | 0/1 [00:00<?, ?it/s]\nDownloading:   0%|          | 0/1 [00:00<?, ?it/s]\nDownloading:   0%|          | 0/1 [00:00<?, ?it/s]\nDownloading:   0%|          | 0/1 [00:00<?, ?it/s]\nDownloading:   0%|          | 0/1 [00:00<?, ?it/s]\nDownloading:   0%|          | 0/1 [00:00<?, ?it/s]\nDownloading: 100%|██████████| 1/1 [00:00<00:00,  1.79it/s]\nDownloading:   0%|          | 0/1 [00:00<?, ?it/s]\nDownloading:   0%|          | 0/1 [00:00<?, ?it/s]\nDownloading: 100%|██████████| 1/1 [00:00<00:00,  9.53it/s]\nDownloading:   0%|          | 0/1 [00:00<?, ?it/s]\nDownloading:   0%|          | 0/1 [00:00<?, ?it/s]\nDownloading: 100%|██████████| 1/1 [00:00<00:00,  6.21it/s]\nDownloading:   0%|          | 0/1 [00:00<?, ?it/s]\nDownloading:   0%|          | 0/1 [00:00<?, ?it/s]\nDownloading:   0%|          | 0/1 [00:00<?, ?it/s]\nDownloading:   0%|          | 0/1 [00:00<?, ?it/s]\nDownloading: 100%|██████████| 1/1 [00:00<00:00,  9.77it/s]\nDownloading:   0%|          | 0/1 [00:00<?, ?it/s]\nDownloading:   0%|          | 0/1 [00:00<?, ?it/s]\nDownloading:   0%|          | 0/1 [00:00<?, ?it/s]\nDownloading:   0%|          | 0/1 [00:00<?, ?it/s]\nDownloading: 100%|██████████| 1/1 [00:00<00:00,  9.76it/s]\nDownloading:   0%|          | 0/1 [00:00<?, ?it/s]\nDownloading:   0%|          | 0/1 [00:01<?, ?it/s]\nDownloading:   0%|          | 0/1 [00:01<?, ?it/s]\nDownloading:   0%|          | 0/1 [00:01<?, ?it/s]\nDownloading:   0%|          | 0/1 [00:01<?, ?it/s]\nDownloading: 100%|██████████| 1/1 [00:00<00:00,  8.50it/s]\nDownloading:   0%|          | 0/1 [00:00<?, ?it/s]\nDownloading:   0%|          | 0/1 [00:00<?, ?it/s]\nDownloading:   0%|          | 0/1 [00:00<?, ?it/s]\nDownloading: 100%|██████████| 1/1 [00:00<00:00, 10.01it/s]\nDownloading:   0%|          | 0/1 [00:00<?, ?it/s]\nDownloading:   0%|          | 0/1 [00:00<?, ?it/s]\nDownloading:   0%|          | 0/1 [00:00<?, ?it/s]\nDownloading:   0%|          | 0/1 [00:00<?, ?it/s]\nDownloading:   0%|          | 0/1 [00:00<?, ?it/s]\nDownloading: 100%|██████████| 1/1 [00:00<00:00,  9.47it/s]\nDownloading:   0%|          | 0/1 [00:00<?, ?it/s]\nDownloading:   0%|          | 0/1 [00:00<?, ?it/s]\nDownloading:   0%|          | 0/1 [00:00<?, ?it/s]\nDownloading: 100%|██████████| 1/1 [00:00<00:00, 10.34it/s]\nDownloading:   0%|          | 0/1 [00:00<?, ?it/s]\nDownloading:   0%|          | 0/1 [00:00<?, ?it/s]\nDownloading:   0%|          | 0/1 [00:00<?, ?it/s]\nDownloading: 100%|██████████| 1/1 [00:00<00:00, 10.32it/s]\nDownloading:   0%|          | 0/1 [00:00<?, ?it/s]\nDownloading:   0%|          | 0/1 [00:00<?, ?it/s]\nDownloading:   0%|          | 0/1 [00:00<?, ?it/s]\nDownloading:   0%|          | 0/1 [00:00<?, ?it/s]\nDownloading:   0%|          | 0/1 [00:00<?, ?it/s]\nDownloading: 100%|██████████| 1/1 [00:00<00:00, 10.31it/s]\nDownloading:   0%|          | 0/1 [00:00<?, ?it/s]\nDownloading:   0%|          | 0/1 [00:00<?, ?it/s]\nDownloading:   0%|          | 0/1 [00:00<?, ?it/s]\nDownloading:   0%|          | 0/1 [00:00<?, ?it/s]\nDownloading:   0%|          | 0/1 [00:00<?, ?it/s]\nDownloading:   0%|          | 0/1 [00:00<?, ?it/s]\nDownloading: 100%|██████████| 1/1 [00:00<00:00, 10.46it/s]\nDownloading:   0%|          | 0/1 [00:00<?, ?it/s]\nDownloading:   0%|          | 0/1 [00:00<?, ?it/s]\nDownloading:   0%|          | 0/1 [00:00<?, ?it/s]\nDownloading: 100%|██████████| 1/1 [00:00<00:00, 10.20it/s]\nDownloading:   0%|          | 0/1 [00:00<?, ?it/s]\nDownloading:   0%|          | 0/1 [00:00<?, ?it/s]\n"
    }
   ],
   "source": [
    "nbr = NeighborhoodFeatures(url=\"s3://mouse-light-viz/precomputed_volumes/brain1\", size=[5,5,5], offset=[15,15,15])\n",
    "\n",
    "serial_start = time.time()\n",
    "nbr.fit(seg_ids=[2,7,11], file_path=\"./test_data/neighborhood_\", batch_size=20, num_verts=20, n_jobs=1)\n",
    "serial_end = time.time()"
   ]
  },
  {
   "cell_type": "code",
   "execution_count": 7,
   "metadata": {},
   "outputs": [],
   "source": [
    "parallel_start = time.time()\n",
    "nbr.fit(seg_ids=[2,7,11], file_path=\"./test_data/neighborhood_\", batch_size=20, num_verts=20, n_jobs=3)\n",
    "parallel_end = time.time()"
   ]
  },
  {
   "cell_type": "code",
   "execution_count": 8,
   "metadata": {},
   "outputs": [
    {
     "output_type": "stream",
     "name": "stdout",
     "text": "Serial Extraction Time: 145.1115436553955\nParallel Extraction Time: 172.622878074646\n"
    }
   ],
   "source": [
    "print(\"Serial Extraction Time: {}\".format(serial_end-serial_start))\n",
    "print(\"Parallel Extraction Time: {}\".format(parallel_end-parallel_start))"
   ]
  },
  {
   "cell_type": "markdown",
   "metadata": {},
   "source": [
    "## Linear Features"
   ]
  },
  {
   "cell_type": "code",
   "execution_count": 10,
   "metadata": {},
   "outputs": [],
   "source": [
    "lin = LinearFeatures(url=\"s3://mouse-light-viz/precomputed_volumes/brain1\", size=[5,5,5], offset=[15,15,15])\n",
    "lin.add_filter(\"gaussian gradient\", sigma=[1, 1, 0.3])\n",
    "lin.add_filter(\"gaussian laplace\", sigma=[1, 1, 0.3])\n",
    "lin.add_filter(\"gabor\", sigma=[1, 1, 0.3], phi=[0, 0], frequency=2)\n",
    "lin.add_filter(\"gabor\", sigma=[1, 1, 0.3], phi=[0, np.pi / 2], frequency=2)"
   ]
  },
  {
   "cell_type": "code",
   "execution_count": 11,
   "metadata": {},
   "outputs": [
    {
     "output_type": "stream",
     "name": "stderr",
     "text": "Downloading: 100%|██████████| 1/1 [00:00<00:00,  7.98it/s]\nDownloading: 100%|██████████| 1/1 [00:00<00:00, 10.31it/s]\nDownloading:   0%|          | 0/1 [00:00<?, ?it/s]\nDownloading:   0%|          | 0/1 [00:00<?, ?it/s]\nDownloading:   0%|          | 0/1 [00:00<?, ?it/s]\nDownloading:   0%|          | 0/1 [00:00<?, ?it/s]\nDownloading: 100%|██████████| 1/1 [00:00<00:00,  9.44it/s]\nDownloading:   0%|          | 0/1 [00:00<?, ?it/s]\nDownloading:   0%|          | 0/1 [00:00<?, ?it/s]\nDownloading: 100%|██████████| 1/1 [00:00<00:00, 10.05it/s]\nDownloading:   0%|          | 0/1 [00:00<?, ?it/s]\nDownloading:   0%|          | 0/1 [00:00<?, ?it/s]\nDownloading:   0%|          | 0/1 [00:00<?, ?it/s]\nDownloading:   0%|          | 0/1 [00:00<?, ?it/s]\nDownloading: 100%|██████████| 1/1 [00:00<00:00,  9.73it/s]\nDownloading:   0%|          | 0/1 [00:00<?, ?it/s]\nDownloading:   0%|          | 0/1 [00:00<?, ?it/s]\nDownloading:   0%|          | 0/1 [00:00<?, ?it/s]\nDownloading:   0%|          | 0/1 [00:00<?, ?it/s]\nDownloading: 100%|██████████| 1/1 [00:00<00:00,  9.62it/s]\nDownloading:   0%|          | 0/1 [00:01<?, ?it/s]\nDownloading:   0%|          | 0/1 [00:00<?, ?it/s]\nDownloading:   0%|          | 0/1 [00:00<?, ?it/s]\nDownloading: 100%|██████████| 1/1 [00:00<00:00,  9.97it/s]\nDownloading:   0%|          | 0/1 [00:00<?, ?it/s]\nDownloading:   0%|          | 0/1 [00:00<?, ?it/s]\nDownloading:   0%|          | 0/1 [00:00<?, ?it/s]\nDownloading: 100%|██████████| 1/1 [00:00<00:00, 10.06it/s]\nDownloading:   0%|          | 0/1 [00:00<?, ?it/s]\nDownloading:   0%|          | 0/1 [00:00<?, ?it/s]\nDownloading:   0%|          | 0/1 [00:00<?, ?it/s]\nDownloading: 100%|██████████| 1/1 [00:00<00:00,  8.56it/s]\nDownloading:   0%|          | 0/1 [00:00<?, ?it/s]\nDownloading:   0%|          | 0/1 [00:00<?, ?it/s]\nDownloading:   0%|          | 0/1 [00:00<?, ?it/s]\nDownloading: 100%|██████████| 1/1 [00:00<00:00,  9.38it/s]\nDownloading:   0%|          | 0/1 [00:00<?, ?it/s]\nDownloading:   0%|          | 0/1 [00:00<?, ?it/s]\nDownloading:   0%|          | 0/1 [00:00<?, ?it/s]\nDownloading: 100%|██████████| 1/1 [00:00<00:00, 10.21it/s]\nDownloading:   0%|          | 0/1 [00:00<?, ?it/s]\nDownloading:   0%|          | 0/1 [00:00<?, ?it/s]\nDownloading:   0%|          | 0/1 [00:00<?, ?it/s]\nDownloading: 100%|██████████| 1/1 [00:00<00:00,  8.96it/s]\nDownloading:   0%|          | 0/1 [00:00<?, ?it/s]\nDownloading:   0%|          | 0/1 [00:00<?, ?it/s]\nDownloading: 100%|██████████| 1/1 [00:00<00:00,  9.65it/s]\nDownloading:   0%|          | 0/1 [00:00<?, ?it/s]\nDownloading:   0%|          | 0/1 [00:00<?, ?it/s]\nDownloading:   0%|          | 0/1 [00:00<?, ?it/s]\nDownloading:   0%|          | 0/1 [00:00<?, ?it/s]\nDownloading:   0%|          | 0/1 [00:00<?, ?it/s]\nDownloading: 100%|██████████| 1/1 [00:00<00:00,  9.18it/s]\nDownloading:   0%|          | 0/1 [00:00<?, ?it/s]\nDownloading:   0%|          | 0/1 [00:00<?, ?it/s]\nDownloading:   0%|          | 0/1 [00:00<?, ?it/s]\nDownloading: 100%|██████████| 1/1 [00:00<00:00,  9.97it/s]\nDownloading:   0%|          | 0/1 [00:00<?, ?it/s]\nDownloading:   0%|          | 0/1 [00:00<?, ?it/s]\nDownloading:   0%|          | 0/1 [00:00<?, ?it/s]\nDownloading: 100%|██████████| 1/1 [00:00<00:00,  9.99it/s]\nDownloading:   0%|          | 0/1 [00:00<?, ?it/s]\nDownloading:   0%|          | 0/1 [00:00<?, ?it/s]\nDownloading:   0%|          | 0/1 [00:00<?, ?it/s]\nDownloading:   0%|          | 0/1 [00:01<?, ?it/s]\nDownloading:   0%|          | 0/1 [00:00<?, ?it/s]\nDownloading:   0%|          | 0/1 [00:00<?, ?it/s]\nDownloading: 100%|██████████| 1/1 [00:00<00:00, 10.03it/s]\nDownloading:   0%|          | 0/1 [00:00<?, ?it/s]\nDownloading:   0%|          | 0/1 [00:00<?, ?it/s]\nDownloading: 100%|██████████| 1/1 [00:00<00:00,  9.83it/s]\nDownloading:   0%|          | 0/1 [00:00<?, ?it/s]\nDownloading:   0%|          | 0/1 [00:00<?, ?it/s]\nDownloading:   0%|          | 0/1 [00:00<?, ?it/s]\nDownloading: 100%|██████████| 1/1 [00:00<00:00,  9.43it/s]\nDownloading:   0%|          | 0/1 [00:00<?, ?it/s]\nDownloading:   0%|          | 0/1 [00:00<?, ?it/s]\nDownloading: 100%|██████████| 1/1 [00:00<00:00,  6.33it/s]\nDownloading:   0%|          | 0/1 [00:00<?, ?it/s]\nDownloading:   0%|          | 0/1 [00:00<?, ?it/s]\nDownloading: 100%|██████████| 1/1 [00:00<00:00, 10.34it/s]\nDownloading:   0%|          | 0/1 [00:00<?, ?it/s]\nDownloading:   0%|          | 0/1 [00:00<?, ?it/s]\nDownloading:   0%|          | 0/1 [00:00<?, ?it/s]\nDownloading: 100%|██████████| 1/1 [00:00<00:00,  4.92it/s]\nDownloading: 100%|██████████| 1/1 [00:00<00:00, 10.28it/s]\nDownloading:   0%|          | 0/1 [00:00<?, ?it/s]\nDownloading:   0%|          | 0/1 [00:00<?, ?it/s]\nDownloading:   0%|          | 0/1 [00:00<?, ?it/s]\nDownloading: 100%|██████████| 1/1 [00:00<00:00,  9.47it/s]\nDownloading:   0%|          | 0/1 [00:00<?, ?it/s]\nDownloading:   0%|          | 0/1 [00:00<?, ?it/s]\nDownloading:   0%|          | 0/1 [00:00<?, ?it/s]\nDownloading:   0%|          | 0/1 [00:00<?, ?it/s]\nDownloading:   0%|          | 0/1 [00:00<?, ?it/s]\nDownloading: 100%|██████████| 1/1 [00:00<00:00, 10.01it/s]\nDownloading:   0%|          | 0/1 [00:00<?, ?it/s]\nDownloading:   0%|          | 0/1 [00:00<?, ?it/s]\nDownloading:   0%|          | 0/1 [00:00<?, ?it/s]\nDownloading:   0%|          | 0/1 [00:01<?, ?it/s]\nDownloading:   0%|          | 0/1 [00:00<?, ?it/s]\nDownloading:   0%|          | 0/1 [00:00<?, ?it/s]\nDownloading: 100%|██████████| 1/1 [00:00<00:00,  5.10it/s]\nDownloading:   0%|          | 0/1 [00:00<?, ?it/s]\nDownloading:   0%|          | 0/1 [00:00<?, ?it/s]\nDownloading:   0%|          | 0/1 [00:00<?, ?it/s]\nDownloading: 100%|██████████| 1/1 [00:00<00:00,  9.97it/s]\nDownloading:   0%|          | 0/1 [00:00<?, ?it/s]\nDownloading:   0%|          | 0/1 [00:00<?, ?it/s]\nDownloading:   0%|          | 0/1 [00:00<?, ?it/s]\nDownloading: 100%|██████████| 1/1 [00:00<00:00, 10.05it/s]\nDownloading:   0%|          | 0/1 [00:00<?, ?it/s]\nDownloading:   0%|          | 0/1 [00:00<?, ?it/s]\nDownloading:   0%|          | 0/1 [00:00<?, ?it/s]\nDownloading:   0%|          | 0/1 [00:00<?, ?it/s]\nDownloading: 100%|██████████| 1/1 [00:00<00:00,  9.25it/s]\nDownloading:   0%|          | 0/1 [00:00<?, ?it/s]\nDownloading:   0%|          | 0/1 [00:00<?, ?it/s]\nDownloading:   0%|          | 0/1 [00:00<?, ?it/s]\nDownloading: 100%|██████████| 1/1 [00:00<00:00,  9.72it/s]\nDownloading:   0%|          | 0/1 [00:00<?, ?it/s]\nDownloading:   0%|          | 0/1 [00:00<?, ?it/s]\nDownloading:   0%|          | 0/1 [00:00<?, ?it/s]\nDownloading: 100%|██████████| 1/1 [00:00<00:00,  9.79it/s]\nDownloading:   0%|          | 0/1 [00:00<?, ?it/s]\nDownloading:   0%|          | 0/1 [00:00<?, ?it/s]\nDownloading:   0%|          | 0/1 [00:00<?, ?it/s]\nDownloading: 100%|██████████| 1/1 [00:00<00:00,  9.70it/s]\nDownloading:   0%|          | 0/1 [00:00<?, ?it/s]\nDownloading:   0%|          | 0/1 [00:00<?, ?it/s]\nDownloading:   0%|          | 0/1 [00:00<?, ?it/s]\nDownloading:   0%|          | 0/1 [00:01<?, ?it/s]\nDownloading:   0%|          | 0/1 [00:00<?, ?it/s]\nDownloading: 100%|██████████| 1/1 [00:00<00:00,  9.44it/s]\nDownloading:   0%|          | 0/1 [00:00<?, ?it/s]\nDownloading:   0%|          | 0/1 [00:00<?, ?it/s]\nDownloading: 100%|██████████| 1/1 [00:00<00:00,  8.83it/s]\nDownloading:   0%|          | 0/1 [00:00<?, ?it/s]\nDownloading:   0%|          | 0/1 [00:00<?, ?it/s]\nDownloading:   0%|          | 0/1 [00:00<?, ?it/s]\nDownloading: 100%|██████████| 1/1 [00:00<00:00,  9.67it/s]\nDownloading:   0%|          | 0/1 [00:00<?, ?it/s]\nDownloading:   0%|          | 0/1 [00:00<?, ?it/s]\nDownloading: 100%|██████████| 1/1 [00:00<00:00,  9.65it/s]\nDownloading:   0%|          | 0/1 [00:00<?, ?it/s]\nDownloading:   0%|          | 0/1 [00:00<?, ?it/s]\nDownloading:   0%|          | 0/1 [00:00<?, ?it/s]\nDownloading: 100%|██████████| 1/1 [00:00<00:00,  9.62it/s]\nDownloading:   0%|          | 0/1 [00:00<?, ?it/s]\nDownloading:   0%|          | 0/1 [00:00<?, ?it/s]\nDownloading: 100%|██████████| 1/1 [00:00<00:00,  9.72it/s]\nDownloading:   0%|          | 0/1 [00:00<?, ?it/s]\nDownloading:   0%|          | 0/1 [00:00<?, ?it/s]\nDownloading:   0%|          | 0/1 [00:00<?, ?it/s]\nDownloading: 100%|██████████| 1/1 [00:00<00:00,  8.80it/s]\nDownloading:   0%|          | 0/1 [00:00<?, ?it/s]\nDownloading:   0%|          | 0/1 [00:00<?, ?it/s]\nDownloading:   0%|          | 0/1 [00:00<?, ?it/s]\nDownloading: 100%|██████████| 1/1 [00:00<00:00,  8.23it/s]\nDownloading:   0%|          | 0/1 [00:01<?, ?it/s]\nDownloading:   0%|          | 0/1 [00:01<?, ?it/s]\nDownloading:   0%|          | 0/1 [00:02<?, ?it/s]\nDownloading: 100%|██████████| 1/1 [00:00<00:00,  3.84it/s]\nDownloading:   0%|          | 0/1 [00:00<?, ?it/s]\nDownloading:   0%|          | 0/1 [00:00<?, ?it/s]\nDownloading:   0%|          | 0/1 [00:00<?, ?it/s]\nDownloading: 100%|██████████| 1/1 [00:00<00:00,  9.41it/s]\nDownloading:   0%|          | 0/1 [00:00<?, ?it/s]\nDownloading:   0%|          | 0/1 [00:00<?, ?it/s]\nDownloading:   0%|          | 0/1 [00:00<?, ?it/s]\nDownloading: 100%|██████████| 1/1 [00:00<00:00,  3.59it/s]\nDownloading: 100%|██████████| 1/1 [00:00<00:00,  8.07it/s]\nDownloading:   0%|          | 0/1 [00:00<?, ?it/s]\nDownloading:   0%|          | 0/1 [00:00<?, ?it/s]\nDownloading:   0%|          | 0/1 [00:00<?, ?it/s]\nDownloading: 100%|██████████| 1/1 [00:00<00:00,  9.48it/s]\nDownloading:   0%|          | 0/1 [00:00<?, ?it/s]\nDownloading:   0%|          | 0/1 [00:00<?, ?it/s]\nDownloading:   0%|          | 0/1 [00:00<?, ?it/s]\nDownloading: 100%|██████████| 1/1 [00:00<00:00, 10.31it/s]\nDownloading:   0%|          | 0/1 [00:00<?, ?it/s]\nDownloading:   0%|          | 0/1 [00:00<?, ?it/s]\nDownloading:   0%|          | 0/1 [00:00<?, ?it/s]\nDownloading: 100%|██████████| 1/1 [00:00<00:00,  9.43it/s]\nDownloading:   0%|          | 0/1 [00:00<?, ?it/s]\nDownloading:   0%|          | 0/1 [00:00<?, ?it/s]\nDownloading: 100%|██████████| 1/1 [00:00<00:00, 10.10it/s]\nDownloading:   0%|          | 0/1 [00:00<?, ?it/s]\nDownloading:   0%|          | 0/1 [00:00<?, ?it/s]\nDownloading: 100%|██████████| 1/1 [00:00<00:00,  9.52it/s]\nDownloading:   0%|          | 0/1 [00:00<?, ?it/s]\nDownloading:   0%|          | 0/1 [00:00<?, ?it/s]\nDownloading:   0%|          | 0/1 [00:00<?, ?it/s]\nDownloading: 100%|██████████| 1/1 [00:00<00:00,  9.66it/s]\nDownloading:   0%|          | 0/1 [00:00<?, ?it/s]\nDownloading:   0%|          | 0/1 [00:00<?, ?it/s]\nDownloading:   0%|          | 0/1 [00:00<?, ?it/s]\nDownloading:   0%|          | 0/1 [00:00<?, ?it/s]\nDownloading:   0%|          | 0/1 [00:00<?, ?it/s]\nDownloading:   0%|          | 0/1 [00:00<?, ?it/s]\nDownloading: 100%|██████████| 1/1 [00:00<00:00,  1.99it/s]\nDownloading:   0%|          | 0/1 [00:00<?, ?it/s]\nDownloading:   0%|          | 0/1 [00:00<?, ?it/s]\nDownloading: 100%|██████████| 1/1 [00:00<00:00,  9.13it/s]\nDownloading:   0%|          | 0/1 [00:00<?, ?it/s]\nDownloading:   0%|          | 0/1 [00:00<?, ?it/s]\nDownloading: 100%|██████████| 1/1 [00:00<00:00,  9.73it/s]\nDownloading:   0%|          | 0/1 [00:00<?, ?it/s]\nDownloading:   0%|          | 0/1 [00:00<?, ?it/s]\nDownloading:   0%|          | 0/1 [00:00<?, ?it/s]\nDownloading:   0%|          | 0/1 [00:00<?, ?it/s]\nDownloading: 100%|██████████| 1/1 [00:00<00:00,  8.14it/s]\nDownloading:   0%|          | 0/1 [00:00<?, ?it/s]\nDownloading:   0%|          | 0/1 [00:00<?, ?it/s]\nDownloading:   0%|          | 0/1 [00:00<?, ?it/s]\nDownloading:   0%|          | 0/1 [00:00<?, ?it/s]\nDownloading: 100%|██████████| 1/1 [00:00<00:00,  7.60it/s]\nDownloading:   0%|          | 0/1 [00:00<?, ?it/s]\nDownloading:   0%|          | 0/1 [00:00<?, ?it/s]\nDownloading:   0%|          | 0/1 [00:00<?, ?it/s]\nDownloading:   0%|          | 0/1 [00:00<?, ?it/s]\nDownloading:   0%|          | 0/1 [00:00<?, ?it/s]\nDownloading: 100%|██████████| 1/1 [00:00<00:00,  9.10it/s]\nDownloading:   0%|          | 0/1 [00:00<?, ?it/s]\nDownloading:   0%|          | 0/1 [00:00<?, ?it/s]\nDownloading:   0%|          | 0/1 [00:00<?, ?it/s]\nDownloading: 100%|██████████| 1/1 [00:00<00:00,  9.24it/s]\nDownloading:   0%|          | 0/1 [00:00<?, ?it/s]\nDownloading:   0%|          | 0/1 [00:00<?, ?it/s]\nDownloading:   0%|          | 0/1 [00:00<?, ?it/s]\nDownloading:   0%|          | 0/1 [00:00<?, ?it/s]\nDownloading:   0%|          | 0/1 [00:00<?, ?it/s]\nDownloading: 100%|██████████| 1/1 [00:00<00:00, 10.04it/s]\nDownloading:   0%|          | 0/1 [00:00<?, ?it/s]\nDownloading:   0%|          | 0/1 [00:00<?, ?it/s]\nDownloading:   0%|          | 0/1 [00:00<?, ?it/s]\nDownloading: 100%|██████████| 1/1 [00:00<00:00,  9.49it/s]\nDownloading:   0%|          | 0/1 [00:00<?, ?it/s]\nDownloading:   0%|          | 0/1 [00:00<?, ?it/s]\nDownloading:   0%|          | 0/1 [00:00<?, ?it/s]\nDownloading: 100%|██████████| 1/1 [00:00<00:00,  9.50it/s]\nDownloading:   0%|          | 0/1 [00:00<?, ?it/s]\nDownloading:   0%|          | 0/1 [00:00<?, ?it/s]\nDownloading:   0%|          | 0/1 [00:00<?, ?it/s]\nDownloading:   0%|          | 0/1 [00:00<?, ?it/s]\nDownloading:   0%|          | 0/1 [00:00<?, ?it/s]\nDownloading: 100%|██████████| 1/1 [00:00<00:00,  9.34it/s]\nDownloading:   0%|          | 0/1 [00:00<?, ?it/s]\nDownloading:   0%|          | 0/1 [00:00<?, ?it/s]\nDownloading:   0%|          | 0/1 [00:00<?, ?it/s]\nDownloading:   0%|          | 0/1 [00:00<?, ?it/s]\nDownloading:   0%|          | 0/1 [00:00<?, ?it/s]\nDownloading:   0%|          | 0/1 [00:00<?, ?it/s]\nDownloading: 100%|██████████| 1/1 [00:00<00:00,  9.12it/s]\nDownloading:   0%|          | 0/1 [00:00<?, ?it/s]\nDownloading:   0%|          | 0/1 [00:00<?, ?it/s]\nDownloading:   0%|          | 0/1 [00:00<?, ?it/s]\nDownloading: 100%|██████████| 1/1 [00:00<00:00,  8.67it/s]\nDownloading:   0%|          | 0/1 [00:00<?, ?it/s]\nDownloading:   0%|          | 0/1 [00:00<?, ?it/s]\n"
    }
   ],
   "source": [
    "serial_start = time.time()\n",
    "nbr.fit(seg_ids=[2,7,11], file_path=\"./test_data/neighborhood_\", batch_size=20, num_verts=20, n_jobs=1)\n",
    "serial_end = time.time()"
   ]
  },
  {
   "cell_type": "code",
   "execution_count": 12,
   "metadata": {},
   "outputs": [],
   "source": [
    "parallel_start = time.time()\n",
    "nbr.fit(seg_ids=[2,7,11], file_path=\"./test_data/neighborhood_\", batch_size=20, num_verts=20, n_jobs=3)\n",
    "parallel_end = time.time()"
   ]
  },
  {
   "cell_type": "code",
   "execution_count": 13,
   "metadata": {},
   "outputs": [
    {
     "output_type": "stream",
     "name": "stdout",
     "text": "Serial Extraction Time: 152.9577968120575\nParallel Extraction Time: 177.39951014518738\n"
    }
   ],
   "source": [
    "print(\"Serial Extraction Time: {}\".format(serial_end-serial_start))\n",
    "print(\"Parallel Extraction Time: {}\".format(parallel_end-parallel_start))"
   ]
  },
  {
   "cell_type": "markdown",
   "metadata": {},
   "source": [
    "Conclusions: Parallelization does not seem to help, probably because the download speed/bandwidth is the limiting factor. Its that using multiple cores would be faster still if the download speed does not decrease per core."
   ]
  },
  {
   "cell_type": "code",
   "execution_count": null,
   "metadata": {},
   "outputs": [],
   "source": []
  }
 ],
 "metadata": {
  "language_info": {
   "codemirror_mode": {
    "name": "ipython",
    "version": 3
   },
   "file_extension": ".py",
   "mimetype": "text/x-python",
   "name": "python",
   "nbconvert_exporter": "python",
   "pygments_lexer": "ipython3",
   "version": "3.7.6-final"
  },
  "orig_nbformat": 2,
  "kernelspec": {
   "name": "python37664bitscipydevcondaa561a5f26f384a3d8eec296dbbf704a7",
   "display_name": "Python 3.7.6 64-bit ('scipydev': conda)"
  }
 },
 "nbformat": 4,
 "nbformat_minor": 2
}