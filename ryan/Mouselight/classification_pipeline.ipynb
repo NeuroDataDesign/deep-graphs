{
 "cells": [
  {
   "cell_type": "code",
   "execution_count": 34,
   "metadata": {},
   "outputs": [],
   "source": [
    "import glob\n",
    "import feather\n",
    "import random\n",
    "import copy\n",
    "from sklearn.linear_model import SGDClassifier\n",
    "from sklearn import metrics"
   ]
  },
  {
   "cell_type": "code",
   "execution_count": 26,
   "metadata": {},
   "outputs": [],
   "source": [
    "def split_data(data_path, n_folds):\n",
    "    full_names = glob.glob(data_path+\"/*.feather\")\n",
    "    random.shuffle(full_names)\n",
    "    fold_size = len(full_names) // 4\n",
    "    testing_folds = {}\n",
    "    training_folds = {}\n",
    "    for i in range(n_folds):\n",
    "        if i == n_folds:\n",
    "            testing_folds[i] = full_names[i*fold_size:]\n",
    "            training_folds[i] = copy.deepcopy(full_names)\n",
    "            del training_folds[i*fold_size:]\n",
    "        else:\n",
    "            folds[i] = full_names[i*fold_size:(i+1)*fold_size]\n",
    "            training_folds[i] = copy.deepcopy(full_names)\n",
    "            del training_folds[i*fold_size:(i+1)*fold_size]\n",
    "    return testing_folds, training_folds\n",
    "\n",
    "def compute_confidence(x):\n",
    "\tif x.ndim == 2:\n",
    "\t\tmid = []\n",
    "\t\tup = []\n",
    "\t\tlow = []\n",
    "\t\tfor i in range(len(x[0])):\n",
    "\t\t\tdata = x[:,i].flatten()\n",
    "\t\t\tn = len(data)\n",
    "\t\t\tm = mean(data)\n",
    "\t\t\tstd_err = sem(data)\n",
    "\t\t\th = std_err * t.ppf((1 + 0.95)/2, n-1)\n",
    "\t\t\tmid.append(m)\n",
    "\t\t\tup.append(m+h)\n",
    "\t\t\tlow.append(m-h)\n",
    "\t\treturn mid, up, low\n",
    "\telse:\n",
    "\t\tn = len(x)\n",
    "\t\tm = mean(x)\n",
    "\t\tstd_err = sem(x)\n",
    "\t\th = std_err * t.ppf((1 + 0.95)/2, n-1)\n",
    "\t\tmid = m\n",
    "\t\tup = m+h\n",
    "\t\tlow = m-h\n",
    "\t\treturn mid, up, low"
   ]
  },
  {
   "cell_type": "code",
   "execution_count": 14,
   "metadata": {},
   "outputs": [
    {
     "output_type": "stream",
     "name": "stdout",
     "text": "['Data/neighborhood_650_700_2_349.feather', 'Data/neighborhood_750_800_2_399.feather', 'Data/neighborhood_300_350_2_174.feather', 'Data/neighborhood_250_300_7_149.feather', 'Data/neighborhood_800_850_2_424.feather', 'Data/neighborhood_850_900_2_449.feather', 'Data/neighborhood_400_450_2_224.feather', 'Data/neighborhood_1000_1050_2_524.feather', 'Data/neighborhood_500_550_7_274.feather', 'Data/neighborhood_900_950_7_474.feather']\n"
    }
   ],
   "source": [
    "n_folds = 4\n",
    "\n",
    "testing_folds, training_folds = split_data(\"./Data\", n_folds)\n",
    "inner_auc = []\n",
    "inner_tpr = []\n",
    "for i in range(n_folds):\n",
    "    clf = SGDClassifier(loss=\"perceptron\")\n",
    "    for training_file in training_folds[i]:\n",
    "        data = feather.read_dataframe(training_file)\n",
    "        clf.partial_fit(data.iloc[:,3:], data[\"Label\"])\n",
    "    predictions = []\n",
    "    testing_labels = []\n",
    "    for testing_file in testing_folds[i]:\n",
    "        data = feather.read_dataframe(training_file)\n",
    "        predictions.extend(clf.predict_proba(data.iloc[:,3:])[:,1]\n",
    "        testing_labels.extend(df[\"Label\"])\n",
    "    inner_auc.append(metrics.roc_auc_score(testing_labels, predictions))\n",
    "\n",
    "    temp_fpr, temp_tpr, _ = metrics.roc_curve(y_test, predictions)\n",
    "    temp_tpr = interp(base_fpr, temp_fpr, temp_tpr)\n",
    "    temp_tpr[0] = 0.0\n",
    "    inner_tprs.append(temp_tpr)\n",
    "\n",
    "mid, high, low = compute_confidence(np.asarray(inner_tprs))"
   ]
  },
  {
   "cell_type": "code",
   "execution_count": 35,
   "metadata": {},
   "outputs": [],
   "source": [
    "df = feather.read_dataframe(\"./Data/neighborhood_0_50_2_24.feather\")"
   ]
  },
  {
   "cell_type": "code",
   "execution_count": 36,
   "metadata": {},
   "outputs": [
    {
     "output_type": "execute_result",
     "data": {
      "text/plain": "    Segment  Vertex  Label      0      1      2      3      4      5      6  \\\n0         2       0      0      0      0      0      0      0      0      0   \n1         2       0      0      0      0      0      0      0      0      0   \n2         2       1      0      0      0      0      0      0      0      0   \n3         2       1      0      0      0      0      0      0      0      0   \n4         2       2      0  12318  12222  12240  12406  12656  12605  12749   \n5         2       2      0  12225  12392  12358  12250  12209  12102  12212   \n6         2       3      0  11926  12221  12054  11961  12174  12220  12050   \n7         2       3      0  12476  12527  12408  12449  12619  12310  12299   \n8         2       4      0  11919  12009  11944  12172  12035  11950  11985   \n9         2       4      0  12451  12397  12420  12389  12324  12247  12253   \n10        2       5      0  12061  12301  12263  12271  12538  12431  12379   \n11        2       5      0  12683  12554  12377  12652  12593  12354  12507   \n12        2       6      0  12257  11970  11964  11880  11958  11949  12023   \n13        2       6      0  12893  13278  13680  14592  14654  13764  13290   \n14        2       7      0  12007  12094  11950  12034  11969  11989  11996   \n15        2       7      0  12409  12229  12362  12310  12176  12142  12133   \n16        2       8      0  11890  12050  12052  12042  12049  12168  12105   \n17        2       8      0  12151  12272  12168  12290  12338  12215  12202   \n18        2       9      0  12302  12425  12113  11940  12065  12004  12131   \n19        2       9      0  12371  12347  12457  12192  12077  12093  12138   \n20        2      10      0  12183  12294  12203  12366  12316  12453  12288   \n21        2      10      0  12085  12185  12298  12283  12377  12304  12458   \n22        2      11      0  12459  12244  12193  12126  12060  12096  12068   \n23        2      11      0  12252  12137  12380  12259  12134  12100  12320   \n24        2      12      0      0      0      0      0      0      0      0   \n25        2      12      0      0      0      0      0      0      0      0   \n26        2      13      0      0      0      0      0      0      0      0   \n27        2      13      0  12054  12203  12330  12193  12220  12111  12194   \n28        2      14      0  12516  12313  12232  12331  12293  12217  12359   \n29        2      14      0  12035  11982  12005  12210  12160  12099  12230   \n30        2      15      0  11951  12001  11997  11988  12011  11967  11902   \n31        2      15      0  11808  11881  11814  11977  11861  12010  11998   \n32        2      16      0      0      0      0      0      0      0      0   \n33        2      16      0  12237  12035  12236  12052  12069  12111  12304   \n34        2      17      0  12289  12227  12392  12320  12192  12179  12120   \n35        2      17      0  12005  12122  12107  11871  11853  11917  11964   \n36        2      18      0  11909  11907  11975  11984  12075  12037  12119   \n37        2      18      0  12099  12034  12018  12316  12104  12031  12201   \n38        2      19      0  12078  12078  12042  12186  12055  12142  12071   \n39        2      19      0  12030  12080  12111  12214  12228  12199  12315   \n40        2      20      0  11976  12033  12039  12130  11996  12106  12178   \n41        2      20      0  12295  12400  12359  12402  12405  12039  12341   \n42        2      21      0  12035  12070  12096  12185  12129  12137  12100   \n43        2      21      0  12303  12153  12260  12087  11979  11951  11937   \n44        2      22      0  12145  12158  12162  12146  12044  12040  12035   \n45        2      22      0  12248  12179  12238  12059  12251  12185  12219   \n46        2      23      0  12207  12070  12262  11986  11897  12142  12111   \n47        2      23      0  11816  11937  11829  12028  12079  12120  12035   \n48        2      24      0  12317  12235  12164  12184  12295  12011  12085   \n49        2      24      0  12288  12263  12277  12186  12164  12181  12322   \n\n    ...  68911  68912  68913  68914  68915  68916  68917  68918  68919  68920  \n0   ...      0      0      0      0      0      0      0      0      0      0  \n1   ...      0      0      0      0      0      0      0      0      0      0  \n2   ...      0      0      0      0      0      0      0      0      0      0  \n3   ...      0      0      0      0      0      0      0      0      0      0  \n4   ...  12292  12422  12388  12719  12545  12267  12319  12391  12189  12225  \n5   ...  12366  12129  12319  12590  12317  12282  12337  12035  12117  11962  \n6   ...  12022  12028  12080  12018  11978  12257  12290  12122  12090  12004  \n7   ...  12141  12203  12219  12373  12407  12401  12365  12149  12293  12463  \n8   ...  12089  11977  12013  11951  11891  11885  12063  11967  12093  12031  \n9   ...  12395  12187  12228  12265  12334  12374  12405  12463  12023  12166  \n10  ...  12377  12298  12404  12291  12486  12480  12666  12525  12777  12683  \n11  ...  12453  12550  12295  12267  12251  12150  12279  12035  12163  12218  \n12  ...  12448  12478  12552  12469  12453  12448  12617  12799  12740  12893  \n13  ...  12366  12439  12366  12309  12549  12297  12325  12112  12207  12141  \n14  ...  11927  12230  11960  12032  12074  12055  11894  12008  11941  11871  \n15  ...  12175  12192  12121  12294  12335  12390  12132  12212  12204  12130  \n16  ...  12041  11919  11951  12089  11959  11952  12076  12114  12055  12106  \n17  ...  12402  13963  15661  14090  13007  12327  12224  12377  12369  12282  \n18  ...  12173  12152  12112  12162  12190  12214  12193  12215  12184  12371  \n19  ...  12132  12175  12202  12193  12235  12204  12071  12163  12162  12168  \n20  ...  12098  12222  12156  12194  12238  12316  12309  12184  11991  12085  \n21  ...  12385  12419  12628  12686  12556  12474  12369  12444  12410  13106  \n22  ...  12229  12212  12117  12092  12196  12239  12082  12157  12320  12252  \n23  ...  12337  12334  12221  12183  12167  12180  12284  12065  12177  12189  \n24  ...      0      0      0      0      0      0      0      0      0      0  \n25  ...  12278  12275  12219  12213  12233  12159  12014  11947  11927  11820  \n26  ...      0      0      0      0      0      0      0      0      0      0  \n27  ...  12177  12136  12028  12046  12048  12058  12128  12146  12232  12169  \n28  ...  12060  12316  12098  12124  12133  12078  12182  12364  12033  12035  \n29  ...  12190  12268  12089  12170  12193  12188  12206  12245  12308  12149  \n30  ...  12156  12501  12552  12119  12101  11947  11883  11871  11831  11808  \n31  ...  11985  12038  12078  12112  12014  11954  12099  12061  11986  12129  \n32  ...      0      0      0      0      0      0      0      0      0      0  \n33  ...  12018  12102  12085  12084  12206  12233  12309  12211  12202  12278  \n34  ...  12388  12513  12574  12513  12473  12610  12319  12392  12530  12242  \n35  ...  12032  12054  12045  11960  12064  12102  11871  11975  12032  11963  \n36  ...  11949  11926  12114  12039  12126  12125  12129  12096  12021  12099  \n37  ...  12111  12144  12167  12057  11952  12176  12229  12096  12007  11958  \n38  ...  12050  11927  12126  12077  12212  12122  12001  11999  12203  12030  \n39  ...  11870  11918  11989  12053  12075  12131  12174  12063  12049  12102  \n40  ...  12041  11948  12047  11952  12033  12052  12111  12040  12046  12181  \n41  ...  12156  12120  11885  12018  12074  12126  12229  12491  12287  12355  \n42  ...  12183  12120  12112  12040  12159  12118  12333  12172  12401  12303  \n43  ...  12455  12603  12573  12385  12347  12220  12333  12440  12298  12220  \n44  ...  12161  12020  12070  12086  12045  12113  12073  12156  12189  12248  \n45  ...  11922  11974  12194  12073  12101  12308  12320  12123  12158  11961  \n46  ...  12095  11990  11949  12018  12010  11886  11860  11847  11810  11816  \n47  ...  11938  12038  12009  11943  11962  12186  12044  12119  12180  12141  \n48  ...  12187  11977  12186  12075  11988  12079  11967  12112  12233  12288  \n49  ...  11981  12147  12149  12104  12039  11983  12036  12215  12170  12118  \n\n[50 rows x 68924 columns]",
      "text/html": "<div>\n<style scoped>\n    .dataframe tbody tr th:only-of-type {\n        vertical-align: middle;\n    }\n\n    .dataframe tbody tr th {\n        vertical-align: top;\n    }\n\n    .dataframe thead th {\n        text-align: right;\n    }\n</style>\n<table border=\"1\" class=\"dataframe\">\n  <thead>\n    <tr style=\"text-align: right;\">\n      <th></th>\n      <th>Segment</th>\n      <th>Vertex</th>\n      <th>Label</th>\n      <th>0</th>\n      <th>1</th>\n      <th>2</th>\n      <th>3</th>\n      <th>4</th>\n      <th>5</th>\n      <th>6</th>\n      <th>...</th>\n      <th>68911</th>\n      <th>68912</th>\n      <th>68913</th>\n      <th>68914</th>\n      <th>68915</th>\n      <th>68916</th>\n      <th>68917</th>\n      <th>68918</th>\n      <th>68919</th>\n      <th>68920</th>\n    </tr>\n  </thead>\n  <tbody>\n    <tr>\n      <th>0</th>\n      <td>2</td>\n      <td>0</td>\n      <td>0</td>\n      <td>0</td>\n      <td>0</td>\n      <td>0</td>\n      <td>0</td>\n      <td>0</td>\n      <td>0</td>\n      <td>0</td>\n      <td>...</td>\n      <td>0</td>\n      <td>0</td>\n      <td>0</td>\n      <td>0</td>\n      <td>0</td>\n      <td>0</td>\n      <td>0</td>\n      <td>0</td>\n      <td>0</td>\n      <td>0</td>\n    </tr>\n    <tr>\n      <th>1</th>\n      <td>2</td>\n      <td>0</td>\n      <td>0</td>\n      <td>0</td>\n      <td>0</td>\n      <td>0</td>\n      <td>0</td>\n      <td>0</td>\n      <td>0</td>\n      <td>0</td>\n      <td>...</td>\n      <td>0</td>\n      <td>0</td>\n      <td>0</td>\n      <td>0</td>\n      <td>0</td>\n      <td>0</td>\n      <td>0</td>\n      <td>0</td>\n      <td>0</td>\n      <td>0</td>\n    </tr>\n    <tr>\n      <th>2</th>\n      <td>2</td>\n      <td>1</td>\n      <td>0</td>\n      <td>0</td>\n      <td>0</td>\n      <td>0</td>\n      <td>0</td>\n      <td>0</td>\n      <td>0</td>\n      <td>0</td>\n      <td>...</td>\n      <td>0</td>\n      <td>0</td>\n      <td>0</td>\n      <td>0</td>\n      <td>0</td>\n      <td>0</td>\n      <td>0</td>\n      <td>0</td>\n      <td>0</td>\n      <td>0</td>\n    </tr>\n    <tr>\n      <th>3</th>\n      <td>2</td>\n      <td>1</td>\n      <td>0</td>\n      <td>0</td>\n      <td>0</td>\n      <td>0</td>\n      <td>0</td>\n      <td>0</td>\n      <td>0</td>\n      <td>0</td>\n      <td>...</td>\n      <td>0</td>\n      <td>0</td>\n      <td>0</td>\n      <td>0</td>\n      <td>0</td>\n      <td>0</td>\n      <td>0</td>\n      <td>0</td>\n      <td>0</td>\n      <td>0</td>\n    </tr>\n    <tr>\n      <th>4</th>\n      <td>2</td>\n      <td>2</td>\n      <td>0</td>\n      <td>12318</td>\n      <td>12222</td>\n      <td>12240</td>\n      <td>12406</td>\n      <td>12656</td>\n      <td>12605</td>\n      <td>12749</td>\n      <td>...</td>\n      <td>12292</td>\n      <td>12422</td>\n      <td>12388</td>\n      <td>12719</td>\n      <td>12545</td>\n      <td>12267</td>\n      <td>12319</td>\n      <td>12391</td>\n      <td>12189</td>\n      <td>12225</td>\n    </tr>\n    <tr>\n      <th>5</th>\n      <td>2</td>\n      <td>2</td>\n      <td>0</td>\n      <td>12225</td>\n      <td>12392</td>\n      <td>12358</td>\n      <td>12250</td>\n      <td>12209</td>\n      <td>12102</td>\n      <td>12212</td>\n      <td>...</td>\n      <td>12366</td>\n      <td>12129</td>\n      <td>12319</td>\n      <td>12590</td>\n      <td>12317</td>\n      <td>12282</td>\n      <td>12337</td>\n      <td>12035</td>\n      <td>12117</td>\n      <td>11962</td>\n    </tr>\n    <tr>\n      <th>6</th>\n      <td>2</td>\n      <td>3</td>\n      <td>0</td>\n      <td>11926</td>\n      <td>12221</td>\n      <td>12054</td>\n      <td>11961</td>\n      <td>12174</td>\n      <td>12220</td>\n      <td>12050</td>\n      <td>...</td>\n      <td>12022</td>\n      <td>12028</td>\n      <td>12080</td>\n      <td>12018</td>\n      <td>11978</td>\n      <td>12257</td>\n      <td>12290</td>\n      <td>12122</td>\n      <td>12090</td>\n      <td>12004</td>\n    </tr>\n    <tr>\n      <th>7</th>\n      <td>2</td>\n      <td>3</td>\n      <td>0</td>\n      <td>12476</td>\n      <td>12527</td>\n      <td>12408</td>\n      <td>12449</td>\n      <td>12619</td>\n      <td>12310</td>\n      <td>12299</td>\n      <td>...</td>\n      <td>12141</td>\n      <td>12203</td>\n      <td>12219</td>\n      <td>12373</td>\n      <td>12407</td>\n      <td>12401</td>\n      <td>12365</td>\n      <td>12149</td>\n      <td>12293</td>\n      <td>12463</td>\n    </tr>\n    <tr>\n      <th>8</th>\n      <td>2</td>\n      <td>4</td>\n      <td>0</td>\n      <td>11919</td>\n      <td>12009</td>\n      <td>11944</td>\n      <td>12172</td>\n      <td>12035</td>\n      <td>11950</td>\n      <td>11985</td>\n      <td>...</td>\n      <td>12089</td>\n      <td>11977</td>\n      <td>12013</td>\n      <td>11951</td>\n      <td>11891</td>\n      <td>11885</td>\n      <td>12063</td>\n      <td>11967</td>\n      <td>12093</td>\n      <td>12031</td>\n    </tr>\n    <tr>\n      <th>9</th>\n      <td>2</td>\n      <td>4</td>\n      <td>0</td>\n      <td>12451</td>\n      <td>12397</td>\n      <td>12420</td>\n      <td>12389</td>\n      <td>12324</td>\n      <td>12247</td>\n      <td>12253</td>\n      <td>...</td>\n      <td>12395</td>\n      <td>12187</td>\n      <td>12228</td>\n      <td>12265</td>\n      <td>12334</td>\n      <td>12374</td>\n      <td>12405</td>\n      <td>12463</td>\n      <td>12023</td>\n      <td>12166</td>\n    </tr>\n    <tr>\n      <th>10</th>\n      <td>2</td>\n      <td>5</td>\n      <td>0</td>\n      <td>12061</td>\n      <td>12301</td>\n      <td>12263</td>\n      <td>12271</td>\n      <td>12538</td>\n      <td>12431</td>\n      <td>12379</td>\n      <td>...</td>\n      <td>12377</td>\n      <td>12298</td>\n      <td>12404</td>\n      <td>12291</td>\n      <td>12486</td>\n      <td>12480</td>\n      <td>12666</td>\n      <td>12525</td>\n      <td>12777</td>\n      <td>12683</td>\n    </tr>\n    <tr>\n      <th>11</th>\n      <td>2</td>\n      <td>5</td>\n      <td>0</td>\n      <td>12683</td>\n      <td>12554</td>\n      <td>12377</td>\n      <td>12652</td>\n      <td>12593</td>\n      <td>12354</td>\n      <td>12507</td>\n      <td>...</td>\n      <td>12453</td>\n      <td>12550</td>\n      <td>12295</td>\n      <td>12267</td>\n      <td>12251</td>\n      <td>12150</td>\n      <td>12279</td>\n      <td>12035</td>\n      <td>12163</td>\n      <td>12218</td>\n    </tr>\n    <tr>\n      <th>12</th>\n      <td>2</td>\n      <td>6</td>\n      <td>0</td>\n      <td>12257</td>\n      <td>11970</td>\n      <td>11964</td>\n      <td>11880</td>\n      <td>11958</td>\n      <td>11949</td>\n      <td>12023</td>\n      <td>...</td>\n      <td>12448</td>\n      <td>12478</td>\n      <td>12552</td>\n      <td>12469</td>\n      <td>12453</td>\n      <td>12448</td>\n      <td>12617</td>\n      <td>12799</td>\n      <td>12740</td>\n      <td>12893</td>\n    </tr>\n    <tr>\n      <th>13</th>\n      <td>2</td>\n      <td>6</td>\n      <td>0</td>\n      <td>12893</td>\n      <td>13278</td>\n      <td>13680</td>\n      <td>14592</td>\n      <td>14654</td>\n      <td>13764</td>\n      <td>13290</td>\n      <td>...</td>\n      <td>12366</td>\n      <td>12439</td>\n      <td>12366</td>\n      <td>12309</td>\n      <td>12549</td>\n      <td>12297</td>\n      <td>12325</td>\n      <td>12112</td>\n      <td>12207</td>\n      <td>12141</td>\n    </tr>\n    <tr>\n      <th>14</th>\n      <td>2</td>\n      <td>7</td>\n      <td>0</td>\n      <td>12007</td>\n      <td>12094</td>\n      <td>11950</td>\n      <td>12034</td>\n      <td>11969</td>\n      <td>11989</td>\n      <td>11996</td>\n      <td>...</td>\n      <td>11927</td>\n      <td>12230</td>\n      <td>11960</td>\n      <td>12032</td>\n      <td>12074</td>\n      <td>12055</td>\n      <td>11894</td>\n      <td>12008</td>\n      <td>11941</td>\n      <td>11871</td>\n    </tr>\n    <tr>\n      <th>15</th>\n      <td>2</td>\n      <td>7</td>\n      <td>0</td>\n      <td>12409</td>\n      <td>12229</td>\n      <td>12362</td>\n      <td>12310</td>\n      <td>12176</td>\n      <td>12142</td>\n      <td>12133</td>\n      <td>...</td>\n      <td>12175</td>\n      <td>12192</td>\n      <td>12121</td>\n      <td>12294</td>\n      <td>12335</td>\n      <td>12390</td>\n      <td>12132</td>\n      <td>12212</td>\n      <td>12204</td>\n      <td>12130</td>\n    </tr>\n    <tr>\n      <th>16</th>\n      <td>2</td>\n      <td>8</td>\n      <td>0</td>\n      <td>11890</td>\n      <td>12050</td>\n      <td>12052</td>\n      <td>12042</td>\n      <td>12049</td>\n      <td>12168</td>\n      <td>12105</td>\n      <td>...</td>\n      <td>12041</td>\n      <td>11919</td>\n      <td>11951</td>\n      <td>12089</td>\n      <td>11959</td>\n      <td>11952</td>\n      <td>12076</td>\n      <td>12114</td>\n      <td>12055</td>\n      <td>12106</td>\n    </tr>\n    <tr>\n      <th>17</th>\n      <td>2</td>\n      <td>8</td>\n      <td>0</td>\n      <td>12151</td>\n      <td>12272</td>\n      <td>12168</td>\n      <td>12290</td>\n      <td>12338</td>\n      <td>12215</td>\n      <td>12202</td>\n      <td>...</td>\n      <td>12402</td>\n      <td>13963</td>\n      <td>15661</td>\n      <td>14090</td>\n      <td>13007</td>\n      <td>12327</td>\n      <td>12224</td>\n      <td>12377</td>\n      <td>12369</td>\n      <td>12282</td>\n    </tr>\n    <tr>\n      <th>18</th>\n      <td>2</td>\n      <td>9</td>\n      <td>0</td>\n      <td>12302</td>\n      <td>12425</td>\n      <td>12113</td>\n      <td>11940</td>\n      <td>12065</td>\n      <td>12004</td>\n      <td>12131</td>\n      <td>...</td>\n      <td>12173</td>\n      <td>12152</td>\n      <td>12112</td>\n      <td>12162</td>\n      <td>12190</td>\n      <td>12214</td>\n      <td>12193</td>\n      <td>12215</td>\n      <td>12184</td>\n      <td>12371</td>\n    </tr>\n    <tr>\n      <th>19</th>\n      <td>2</td>\n      <td>9</td>\n      <td>0</td>\n      <td>12371</td>\n      <td>12347</td>\n      <td>12457</td>\n      <td>12192</td>\n      <td>12077</td>\n      <td>12093</td>\n      <td>12138</td>\n      <td>...</td>\n      <td>12132</td>\n      <td>12175</td>\n      <td>12202</td>\n      <td>12193</td>\n      <td>12235</td>\n      <td>12204</td>\n      <td>12071</td>\n      <td>12163</td>\n      <td>12162</td>\n      <td>12168</td>\n    </tr>\n    <tr>\n      <th>20</th>\n      <td>2</td>\n      <td>10</td>\n      <td>0</td>\n      <td>12183</td>\n      <td>12294</td>\n      <td>12203</td>\n      <td>12366</td>\n      <td>12316</td>\n      <td>12453</td>\n      <td>12288</td>\n      <td>...</td>\n      <td>12098</td>\n      <td>12222</td>\n      <td>12156</td>\n      <td>12194</td>\n      <td>12238</td>\n      <td>12316</td>\n      <td>12309</td>\n      <td>12184</td>\n      <td>11991</td>\n      <td>12085</td>\n    </tr>\n    <tr>\n      <th>21</th>\n      <td>2</td>\n      <td>10</td>\n      <td>0</td>\n      <td>12085</td>\n      <td>12185</td>\n      <td>12298</td>\n      <td>12283</td>\n      <td>12377</td>\n      <td>12304</td>\n      <td>12458</td>\n      <td>...</td>\n      <td>12385</td>\n      <td>12419</td>\n      <td>12628</td>\n      <td>12686</td>\n      <td>12556</td>\n      <td>12474</td>\n      <td>12369</td>\n      <td>12444</td>\n      <td>12410</td>\n      <td>13106</td>\n    </tr>\n    <tr>\n      <th>22</th>\n      <td>2</td>\n      <td>11</td>\n      <td>0</td>\n      <td>12459</td>\n      <td>12244</td>\n      <td>12193</td>\n      <td>12126</td>\n      <td>12060</td>\n      <td>12096</td>\n      <td>12068</td>\n      <td>...</td>\n      <td>12229</td>\n      <td>12212</td>\n      <td>12117</td>\n      <td>12092</td>\n      <td>12196</td>\n      <td>12239</td>\n      <td>12082</td>\n      <td>12157</td>\n      <td>12320</td>\n      <td>12252</td>\n    </tr>\n    <tr>\n      <th>23</th>\n      <td>2</td>\n      <td>11</td>\n      <td>0</td>\n      <td>12252</td>\n      <td>12137</td>\n      <td>12380</td>\n      <td>12259</td>\n      <td>12134</td>\n      <td>12100</td>\n      <td>12320</td>\n      <td>...</td>\n      <td>12337</td>\n      <td>12334</td>\n      <td>12221</td>\n      <td>12183</td>\n      <td>12167</td>\n      <td>12180</td>\n      <td>12284</td>\n      <td>12065</td>\n      <td>12177</td>\n      <td>12189</td>\n    </tr>\n    <tr>\n      <th>24</th>\n      <td>2</td>\n      <td>12</td>\n      <td>0</td>\n      <td>0</td>\n      <td>0</td>\n      <td>0</td>\n      <td>0</td>\n      <td>0</td>\n      <td>0</td>\n      <td>0</td>\n      <td>...</td>\n      <td>0</td>\n      <td>0</td>\n      <td>0</td>\n      <td>0</td>\n      <td>0</td>\n      <td>0</td>\n      <td>0</td>\n      <td>0</td>\n      <td>0</td>\n      <td>0</td>\n    </tr>\n    <tr>\n      <th>25</th>\n      <td>2</td>\n      <td>12</td>\n      <td>0</td>\n      <td>0</td>\n      <td>0</td>\n      <td>0</td>\n      <td>0</td>\n      <td>0</td>\n      <td>0</td>\n      <td>0</td>\n      <td>...</td>\n      <td>12278</td>\n      <td>12275</td>\n      <td>12219</td>\n      <td>12213</td>\n      <td>12233</td>\n      <td>12159</td>\n      <td>12014</td>\n      <td>11947</td>\n      <td>11927</td>\n      <td>11820</td>\n    </tr>\n    <tr>\n      <th>26</th>\n      <td>2</td>\n      <td>13</td>\n      <td>0</td>\n      <td>0</td>\n      <td>0</td>\n      <td>0</td>\n      <td>0</td>\n      <td>0</td>\n      <td>0</td>\n      <td>0</td>\n      <td>...</td>\n      <td>0</td>\n      <td>0</td>\n      <td>0</td>\n      <td>0</td>\n      <td>0</td>\n      <td>0</td>\n      <td>0</td>\n      <td>0</td>\n      <td>0</td>\n      <td>0</td>\n    </tr>\n    <tr>\n      <th>27</th>\n      <td>2</td>\n      <td>13</td>\n      <td>0</td>\n      <td>12054</td>\n      <td>12203</td>\n      <td>12330</td>\n      <td>12193</td>\n      <td>12220</td>\n      <td>12111</td>\n      <td>12194</td>\n      <td>...</td>\n      <td>12177</td>\n      <td>12136</td>\n      <td>12028</td>\n      <td>12046</td>\n      <td>12048</td>\n      <td>12058</td>\n      <td>12128</td>\n      <td>12146</td>\n      <td>12232</td>\n      <td>12169</td>\n    </tr>\n    <tr>\n      <th>28</th>\n      <td>2</td>\n      <td>14</td>\n      <td>0</td>\n      <td>12516</td>\n      <td>12313</td>\n      <td>12232</td>\n      <td>12331</td>\n      <td>12293</td>\n      <td>12217</td>\n      <td>12359</td>\n      <td>...</td>\n      <td>12060</td>\n      <td>12316</td>\n      <td>12098</td>\n      <td>12124</td>\n      <td>12133</td>\n      <td>12078</td>\n      <td>12182</td>\n      <td>12364</td>\n      <td>12033</td>\n      <td>12035</td>\n    </tr>\n    <tr>\n      <th>29</th>\n      <td>2</td>\n      <td>14</td>\n      <td>0</td>\n      <td>12035</td>\n      <td>11982</td>\n      <td>12005</td>\n      <td>12210</td>\n      <td>12160</td>\n      <td>12099</td>\n      <td>12230</td>\n      <td>...</td>\n      <td>12190</td>\n      <td>12268</td>\n      <td>12089</td>\n      <td>12170</td>\n      <td>12193</td>\n      <td>12188</td>\n      <td>12206</td>\n      <td>12245</td>\n      <td>12308</td>\n      <td>12149</td>\n    </tr>\n    <tr>\n      <th>30</th>\n      <td>2</td>\n      <td>15</td>\n      <td>0</td>\n      <td>11951</td>\n      <td>12001</td>\n      <td>11997</td>\n      <td>11988</td>\n      <td>12011</td>\n      <td>11967</td>\n      <td>11902</td>\n      <td>...</td>\n      <td>12156</td>\n      <td>12501</td>\n      <td>12552</td>\n      <td>12119</td>\n      <td>12101</td>\n      <td>11947</td>\n      <td>11883</td>\n      <td>11871</td>\n      <td>11831</td>\n      <td>11808</td>\n    </tr>\n    <tr>\n      <th>31</th>\n      <td>2</td>\n      <td>15</td>\n      <td>0</td>\n      <td>11808</td>\n      <td>11881</td>\n      <td>11814</td>\n      <td>11977</td>\n      <td>11861</td>\n      <td>12010</td>\n      <td>11998</td>\n      <td>...</td>\n      <td>11985</td>\n      <td>12038</td>\n      <td>12078</td>\n      <td>12112</td>\n      <td>12014</td>\n      <td>11954</td>\n      <td>12099</td>\n      <td>12061</td>\n      <td>11986</td>\n      <td>12129</td>\n    </tr>\n    <tr>\n      <th>32</th>\n      <td>2</td>\n      <td>16</td>\n      <td>0</td>\n      <td>0</td>\n      <td>0</td>\n      <td>0</td>\n      <td>0</td>\n      <td>0</td>\n      <td>0</td>\n      <td>0</td>\n      <td>...</td>\n      <td>0</td>\n      <td>0</td>\n      <td>0</td>\n      <td>0</td>\n      <td>0</td>\n      <td>0</td>\n      <td>0</td>\n      <td>0</td>\n      <td>0</td>\n      <td>0</td>\n    </tr>\n    <tr>\n      <th>33</th>\n      <td>2</td>\n      <td>16</td>\n      <td>0</td>\n      <td>12237</td>\n      <td>12035</td>\n      <td>12236</td>\n      <td>12052</td>\n      <td>12069</td>\n      <td>12111</td>\n      <td>12304</td>\n      <td>...</td>\n      <td>12018</td>\n      <td>12102</td>\n      <td>12085</td>\n      <td>12084</td>\n      <td>12206</td>\n      <td>12233</td>\n      <td>12309</td>\n      <td>12211</td>\n      <td>12202</td>\n      <td>12278</td>\n    </tr>\n    <tr>\n      <th>34</th>\n      <td>2</td>\n      <td>17</td>\n      <td>0</td>\n      <td>12289</td>\n      <td>12227</td>\n      <td>12392</td>\n      <td>12320</td>\n      <td>12192</td>\n      <td>12179</td>\n      <td>12120</td>\n      <td>...</td>\n      <td>12388</td>\n      <td>12513</td>\n      <td>12574</td>\n      <td>12513</td>\n      <td>12473</td>\n      <td>12610</td>\n      <td>12319</td>\n      <td>12392</td>\n      <td>12530</td>\n      <td>12242</td>\n    </tr>\n    <tr>\n      <th>35</th>\n      <td>2</td>\n      <td>17</td>\n      <td>0</td>\n      <td>12005</td>\n      <td>12122</td>\n      <td>12107</td>\n      <td>11871</td>\n      <td>11853</td>\n      <td>11917</td>\n      <td>11964</td>\n      <td>...</td>\n      <td>12032</td>\n      <td>12054</td>\n      <td>12045</td>\n      <td>11960</td>\n      <td>12064</td>\n      <td>12102</td>\n      <td>11871</td>\n      <td>11975</td>\n      <td>12032</td>\n      <td>11963</td>\n    </tr>\n    <tr>\n      <th>36</th>\n      <td>2</td>\n      <td>18</td>\n      <td>0</td>\n      <td>11909</td>\n      <td>11907</td>\n      <td>11975</td>\n      <td>11984</td>\n      <td>12075</td>\n      <td>12037</td>\n      <td>12119</td>\n      <td>...</td>\n      <td>11949</td>\n      <td>11926</td>\n      <td>12114</td>\n      <td>12039</td>\n      <td>12126</td>\n      <td>12125</td>\n      <td>12129</td>\n      <td>12096</td>\n      <td>12021</td>\n      <td>12099</td>\n    </tr>\n    <tr>\n      <th>37</th>\n      <td>2</td>\n      <td>18</td>\n      <td>0</td>\n      <td>12099</td>\n      <td>12034</td>\n      <td>12018</td>\n      <td>12316</td>\n      <td>12104</td>\n      <td>12031</td>\n      <td>12201</td>\n      <td>...</td>\n      <td>12111</td>\n      <td>12144</td>\n      <td>12167</td>\n      <td>12057</td>\n      <td>11952</td>\n      <td>12176</td>\n      <td>12229</td>\n      <td>12096</td>\n      <td>12007</td>\n      <td>11958</td>\n    </tr>\n    <tr>\n      <th>38</th>\n      <td>2</td>\n      <td>19</td>\n      <td>0</td>\n      <td>12078</td>\n      <td>12078</td>\n      <td>12042</td>\n      <td>12186</td>\n      <td>12055</td>\n      <td>12142</td>\n      <td>12071</td>\n      <td>...</td>\n      <td>12050</td>\n      <td>11927</td>\n      <td>12126</td>\n      <td>12077</td>\n      <td>12212</td>\n      <td>12122</td>\n      <td>12001</td>\n      <td>11999</td>\n      <td>12203</td>\n      <td>12030</td>\n    </tr>\n    <tr>\n      <th>39</th>\n      <td>2</td>\n      <td>19</td>\n      <td>0</td>\n      <td>12030</td>\n      <td>12080</td>\n      <td>12111</td>\n      <td>12214</td>\n      <td>12228</td>\n      <td>12199</td>\n      <td>12315</td>\n      <td>...</td>\n      <td>11870</td>\n      <td>11918</td>\n      <td>11989</td>\n      <td>12053</td>\n      <td>12075</td>\n      <td>12131</td>\n      <td>12174</td>\n      <td>12063</td>\n      <td>12049</td>\n      <td>12102</td>\n    </tr>\n    <tr>\n      <th>40</th>\n      <td>2</td>\n      <td>20</td>\n      <td>0</td>\n      <td>11976</td>\n      <td>12033</td>\n      <td>12039</td>\n      <td>12130</td>\n      <td>11996</td>\n      <td>12106</td>\n      <td>12178</td>\n      <td>...</td>\n      <td>12041</td>\n      <td>11948</td>\n      <td>12047</td>\n      <td>11952</td>\n      <td>12033</td>\n      <td>12052</td>\n      <td>12111</td>\n      <td>12040</td>\n      <td>12046</td>\n      <td>12181</td>\n    </tr>\n    <tr>\n      <th>41</th>\n      <td>2</td>\n      <td>20</td>\n      <td>0</td>\n      <td>12295</td>\n      <td>12400</td>\n      <td>12359</td>\n      <td>12402</td>\n      <td>12405</td>\n      <td>12039</td>\n      <td>12341</td>\n      <td>...</td>\n      <td>12156</td>\n      <td>12120</td>\n      <td>11885</td>\n      <td>12018</td>\n      <td>12074</td>\n      <td>12126</td>\n      <td>12229</td>\n      <td>12491</td>\n      <td>12287</td>\n      <td>12355</td>\n    </tr>\n    <tr>\n      <th>42</th>\n      <td>2</td>\n      <td>21</td>\n      <td>0</td>\n      <td>12035</td>\n      <td>12070</td>\n      <td>12096</td>\n      <td>12185</td>\n      <td>12129</td>\n      <td>12137</td>\n      <td>12100</td>\n      <td>...</td>\n      <td>12183</td>\n      <td>12120</td>\n      <td>12112</td>\n      <td>12040</td>\n      <td>12159</td>\n      <td>12118</td>\n      <td>12333</td>\n      <td>12172</td>\n      <td>12401</td>\n      <td>12303</td>\n    </tr>\n    <tr>\n      <th>43</th>\n      <td>2</td>\n      <td>21</td>\n      <td>0</td>\n      <td>12303</td>\n      <td>12153</td>\n      <td>12260</td>\n      <td>12087</td>\n      <td>11979</td>\n      <td>11951</td>\n      <td>11937</td>\n      <td>...</td>\n      <td>12455</td>\n      <td>12603</td>\n      <td>12573</td>\n      <td>12385</td>\n      <td>12347</td>\n      <td>12220</td>\n      <td>12333</td>\n      <td>12440</td>\n      <td>12298</td>\n      <td>12220</td>\n    </tr>\n    <tr>\n      <th>44</th>\n      <td>2</td>\n      <td>22</td>\n      <td>0</td>\n      <td>12145</td>\n      <td>12158</td>\n      <td>12162</td>\n      <td>12146</td>\n      <td>12044</td>\n      <td>12040</td>\n      <td>12035</td>\n      <td>...</td>\n      <td>12161</td>\n      <td>12020</td>\n      <td>12070</td>\n      <td>12086</td>\n      <td>12045</td>\n      <td>12113</td>\n      <td>12073</td>\n      <td>12156</td>\n      <td>12189</td>\n      <td>12248</td>\n    </tr>\n    <tr>\n      <th>45</th>\n      <td>2</td>\n      <td>22</td>\n      <td>0</td>\n      <td>12248</td>\n      <td>12179</td>\n      <td>12238</td>\n      <td>12059</td>\n      <td>12251</td>\n      <td>12185</td>\n      <td>12219</td>\n      <td>...</td>\n      <td>11922</td>\n      <td>11974</td>\n      <td>12194</td>\n      <td>12073</td>\n      <td>12101</td>\n      <td>12308</td>\n      <td>12320</td>\n      <td>12123</td>\n      <td>12158</td>\n      <td>11961</td>\n    </tr>\n    <tr>\n      <th>46</th>\n      <td>2</td>\n      <td>23</td>\n      <td>0</td>\n      <td>12207</td>\n      <td>12070</td>\n      <td>12262</td>\n      <td>11986</td>\n      <td>11897</td>\n      <td>12142</td>\n      <td>12111</td>\n      <td>...</td>\n      <td>12095</td>\n      <td>11990</td>\n      <td>11949</td>\n      <td>12018</td>\n      <td>12010</td>\n      <td>11886</td>\n      <td>11860</td>\n      <td>11847</td>\n      <td>11810</td>\n      <td>11816</td>\n    </tr>\n    <tr>\n      <th>47</th>\n      <td>2</td>\n      <td>23</td>\n      <td>0</td>\n      <td>11816</td>\n      <td>11937</td>\n      <td>11829</td>\n      <td>12028</td>\n      <td>12079</td>\n      <td>12120</td>\n      <td>12035</td>\n      <td>...</td>\n      <td>11938</td>\n      <td>12038</td>\n      <td>12009</td>\n      <td>11943</td>\n      <td>11962</td>\n      <td>12186</td>\n      <td>12044</td>\n      <td>12119</td>\n      <td>12180</td>\n      <td>12141</td>\n    </tr>\n    <tr>\n      <th>48</th>\n      <td>2</td>\n      <td>24</td>\n      <td>0</td>\n      <td>12317</td>\n      <td>12235</td>\n      <td>12164</td>\n      <td>12184</td>\n      <td>12295</td>\n      <td>12011</td>\n      <td>12085</td>\n      <td>...</td>\n      <td>12187</td>\n      <td>11977</td>\n      <td>12186</td>\n      <td>12075</td>\n      <td>11988</td>\n      <td>12079</td>\n      <td>11967</td>\n      <td>12112</td>\n      <td>12233</td>\n      <td>12288</td>\n    </tr>\n    <tr>\n      <th>49</th>\n      <td>2</td>\n      <td>24</td>\n      <td>0</td>\n      <td>12288</td>\n      <td>12263</td>\n      <td>12277</td>\n      <td>12186</td>\n      <td>12164</td>\n      <td>12181</td>\n      <td>12322</td>\n      <td>...</td>\n      <td>11981</td>\n      <td>12147</td>\n      <td>12149</td>\n      <td>12104</td>\n      <td>12039</td>\n      <td>11983</td>\n      <td>12036</td>\n      <td>12215</td>\n      <td>12170</td>\n      <td>12118</td>\n    </tr>\n  </tbody>\n</table>\n<p>50 rows × 68924 columns</p>\n</div>"
     },
     "metadata": {},
     "execution_count": 36
    }
   ],
   "source": [
    "df"
   ]
  },
  {
   "cell_type": "code",
   "execution_count": 15,
   "metadata": {},
   "outputs": [],
   "source": [
    "a = [1,2,3,4,5,6]"
   ]
  },
  {
   "cell_type": "code",
   "execution_count": 17,
   "metadata": {},
   "outputs": [
    {
     "output_type": "execute_result",
     "data": {
      "text/plain": "[2, 3]"
     },
     "metadata": {},
     "execution_count": 17
    }
   ],
   "source": [
    "a[1:3]"
   ]
  },
  {
   "cell_type": "code",
   "execution_count": 18,
   "metadata": {},
   "outputs": [],
   "source": [
    "a[1:3] = []"
   ]
  },
  {
   "cell_type": "code",
   "execution_count": 19,
   "metadata": {},
   "outputs": [
    {
     "output_type": "execute_result",
     "data": {
      "text/plain": "[1, 4, 5, 6]"
     },
     "metadata": {},
     "execution_count": 19
    }
   ],
   "source": [
    "a"
   ]
  },
  {
   "cell_type": "code",
   "execution_count": 20,
   "metadata": {},
   "outputs": [],
   "source": [
    "b=a"
   ]
  },
  {
   "cell_type": "code",
   "execution_count": 21,
   "metadata": {},
   "outputs": [],
   "source": [
    "b[1]=[]"
   ]
  },
  {
   "cell_type": "code",
   "execution_count": 24,
   "metadata": {},
   "outputs": [],
   "source": [
    "del b[1]"
   ]
  },
  {
   "cell_type": "code",
   "execution_count": 25,
   "metadata": {},
   "outputs": [
    {
     "output_type": "execute_result",
     "data": {
      "text/plain": "[1, 5, 6]"
     },
     "metadata": {},
     "execution_count": 25
    }
   ],
   "source": [
    "b"
   ]
  },
  {
   "cell_type": "code",
   "execution_count": null,
   "metadata": {},
   "outputs": [],
   "source": []
  }
 ],
 "metadata": {
  "language_info": {
   "codemirror_mode": {
    "name": "ipython",
    "version": 3
   },
   "file_extension": ".py",
   "mimetype": "text/x-python",
   "name": "python",
   "nbconvert_exporter": "python",
   "pygments_lexer": "ipython3",
   "version": "3.7.6-final"
  },
  "orig_nbformat": 2,
  "kernelspec": {
   "name": "python37664bitscipydevcondaa561a5f26f384a3d8eec296dbbf704a7",
   "display_name": "Python 3.7.6 64-bit ('scipydev': conda)"
  }
 },
 "nbformat": 4,
 "nbformat_minor": 2
}