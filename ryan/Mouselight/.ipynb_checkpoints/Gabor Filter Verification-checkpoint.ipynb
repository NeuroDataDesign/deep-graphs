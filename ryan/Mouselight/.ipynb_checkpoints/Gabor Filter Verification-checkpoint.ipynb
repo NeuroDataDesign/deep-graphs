{
 "cells": [
  {
   "cell_type": "markdown",
   "metadata": {},
   "source": [
    "# Gabor Filter\n",
    "\n",
    "This notebook is used as verification that the Gabor filter generated is correct by examining several 2D and 3D cases. "
   ]
  },
  {
   "cell_type": "code",
   "execution_count": 5,
   "metadata": {},
   "outputs": [],
   "source": [
    "from brainlit.preprocessing import gabor_filter\n",
    "from skimage.filters import gabor\n",
    "import numpy as np\n",
    "import matplotlib.pyplot as plt\n",
    "from skimage import data\n",
    "import scipy.ndimage as ndi"
   ]
  },
  {
   "cell_type": "markdown",
   "metadata": {},
   "source": [
    "## 2D Case\n",
    "\n",
    "Skimage has a 2D implementation of Gabor. Some arguments are in slightly different units and must be converted."
   ]
  },
  {
   "cell_type": "code",
   "execution_count": 2,
   "metadata": {},
   "outputs": [
    {
     "data": {
      "image/png": "[encoded data removed]",
      "text/plain": [
       "<Figure size 432x288 with 2 Axes>"
      ]
     },
     "metadata": {
      "needs_background": "light"
     },
     "output_type": "display_data"
    }
   ],
   "source": [
    "img = data.brick()\n",
    "frequency = 0.1\n",
    "std_x = 5\n",
    "std_y = 5\n",
    "offset = 2\n",
    "\n",
    "skimage = gabor(img, frequency, theta=0, sigma_x=std_x, sigma_y=std_y, n_stds=3, offset=offset, mode='reflect', cval=0)\n",
    "nd = gabor_filter(img, [std_x, std_y], 0, frequency, truncate=3, offset=offset)\n",
    "\n",
    "plt.subplot(1,2,1)\n",
    "plt.imshow(skimage[0])\n",
    "plt.title(\"Sk-Image\")\n",
    "plt.axis('off')\n",
    "plt.subplot(1,2,2)\n",
    "plt.imshow(nd)\n",
    "plt.title(\"ND Gabor\")\n",
    "plt.axis('off')\n",
    "plt.show()\n",
    "\n",
    "np.testing.assert_allclose(skimage[0], nd)"
   ]
  },
  {
   "cell_type": "markdown",
   "metadata": {},
   "source": [
    "The only parameter that is different is the orientation. This is because scikit-image rotates the Gaussian kernel, but our implementation does not. Below is the scikit-image implementation, without the Gaussian rotation."
   ]
  },
  {
   "cell_type": "code",
   "execution_count": 6,
   "metadata": {},
   "outputs": [],
   "source": [
    "def gabor_kernel_edit(frequency, theta=0, bandwidth=1, sigma_x=None, sigma_y=None,\n",
    "                 n_stds=3, offset=0):\n",
    "    \"\"\"Return complex 2D Gabor filter kernel.\n",
    "    Gabor kernel is a Gaussian kernel modulated by a complex harmonic function.\n",
    "    Harmonic function consists of an imaginary sine function and a real\n",
    "    cosine function. Spatial frequency is inversely proportional to the\n",
    "    wavelength of the harmonic and to the standard deviation of a Gaussian\n",
    "    kernel. The bandwidth is also inversely proportional to the standard\n",
    "    deviation.\n",
    "    Parameters\n",
    "    ----------\n",
    "    frequency : float\n",
    "        Spatial frequency of the harmonic function. Specified in pixels.\n",
    "    theta : float, optional\n",
    "        Orientation in radians. If 0, the harmonic is in the x-direction.\n",
    "    bandwidth : float, optional\n",
    "        The bandwidth captured by the filter. For fixed bandwidth, ``sigma_x``\n",
    "        and ``sigma_y`` will decrease with increasing frequency. This value is\n",
    "        ignored if ``sigma_x`` and ``sigma_y`` are set by the user.\n",
    "    sigma_x, sigma_y : float, optional\n",
    "        Standard deviation in x- and y-directions. These directions apply to\n",
    "        the kernel *before* rotation. If `theta = pi/2`, then the kernel is\n",
    "        rotated 90 degrees so that ``sigma_x`` controls the *vertical*\n",
    "        direction.\n",
    "    n_stds : scalar, optional\n",
    "        The linear size of the kernel is n_stds (3 by default) standard\n",
    "        deviations\n",
    "    offset : float, optional\n",
    "        Phase offset of harmonic function in radians.\n",
    "    Returns\n",
    "    -------\n",
    "    g : complex array\n",
    "        Complex filter kernel.\n",
    "    References\n",
    "    ----------\n",
    "    .. [1] https://en.wikipedia.org/wiki/Gabor_filter\n",
    "    .. [2] https://web.archive.org/web/20180127125930/http://mplab.ucsd.edu/tutorials/gabor.pdf\n",
    "    Examples\n",
    "    --------\n",
    "    >>> from skimage.filters import gabor_kernel\n",
    "    >>> from skimage import io\n",
    "    >>> from matplotlib import pyplot as plt  # doctest: +SKIP\n",
    "    >>> gk = gabor_kernel(frequency=0.2)\n",
    "    >>> plt.figure()        # doctest: +SKIP\n",
    "    >>> io.imshow(gk.real)  # doctest: +SKIP\n",
    "    >>> io.show()           # doctest: +SKIP\n",
    "    >>> # more ripples (equivalent to increasing the size of the\n",
    "    >>> # Gaussian spread)\n",
    "    >>> gk = gabor_kernel(frequency=0.2, bandwidth=0.1)\n",
    "    >>> plt.figure()        # doctest: +SKIP\n",
    "    >>> io.imshow(gk.real)  # doctest: +SKIP\n",
    "    >>> io.show()           # doctest: +SKIP\n",
    "    \"\"\"\n",
    "\n",
    "    x0 = np.ceil(np.abs(n_stds * sigma_x)) # Changed this line\n",
    "    y0 = np.ceil(np.abs(n_stds * sigma_y)) # Changed this line\n",
    "    y, x = np.mgrid[-y0:y0 + 1, -x0:x0 + 1]\n",
    "\n",
    "    rotx = x * np.cos(theta) + y * np.sin(theta)\n",
    "    roty = -x * np.sin(theta) + y * np.cos(theta)\n",
    "\n",
    "    g = np.zeros(y.shape, dtype=np.complex)\n",
    "    g[:] = np.exp(-0.5 * ((x/ sigma_x) ** 2 + (y/ sigma_y) ** 2)) # Changed this line\n",
    "    g /= 2 * np.pi * sigma_x * sigma_y\n",
    "    g *= np.exp(1j * (2 * np.pi * frequency * rotx + offset))\n",
    "\n",
    "    return g\n",
    "\n",
    "\n",
    "def gabor_edit(image, frequency, theta=0, bandwidth=1, sigma_x=None,\n",
    "          sigma_y=None, n_stds=3, offset=0, mode='reflect', cval=0):\n",
    "    \"\"\"Return real and imaginary responses to Gabor filter.\n",
    "    The real and imaginary parts of the Gabor filter kernel are applied to the\n",
    "    image and the response is returned as a pair of arrays.\n",
    "    Gabor filter is a linear filter with a Gaussian kernel which is modulated\n",
    "    by a sinusoidal plane wave. Frequency and orientation representations of\n",
    "    the Gabor filter are similar to those of the human visual system.\n",
    "    Gabor filter banks are commonly used in computer vision and image\n",
    "    processing. They are especially suitable for edge detection and texture\n",
    "    classification.\n",
    "    Parameters\n",
    "    ----------\n",
    "    image : 2-D array\n",
    "        Input image.\n",
    "    frequency : float\n",
    "        Spatial frequency of the harmonic function. Specified in pixels.\n",
    "    theta : float, optional\n",
    "        Orientation in radians. If 0, the harmonic is in the x-direction.\n",
    "    bandwidth : float, optional\n",
    "        The bandwidth captured by the filter. For fixed bandwidth, ``sigma_x``\n",
    "        and ``sigma_y`` will decrease with increasing frequency. This value is\n",
    "        ignored if ``sigma_x`` and ``sigma_y`` are set by the user.\n",
    "    sigma_x, sigma_y : float, optional\n",
    "        Standard deviation in x- and y-directions. These directions apply to\n",
    "        the kernel *before* rotation. If `theta = pi/2`, then the kernel is\n",
    "        rotated 90 degrees so that ``sigma_x`` controls the *vertical*\n",
    "        direction.\n",
    "    n_stds : scalar, optional\n",
    "        The linear size of the kernel is n_stds (3 by default) standard\n",
    "        deviations.\n",
    "    offset : float, optional\n",
    "        Phase offset of harmonic function in radians.\n",
    "    mode : {'constant', 'nearest', 'reflect', 'mirror', 'wrap'}, optional\n",
    "        Mode used to convolve image with a kernel, passed to `ndi.convolve`\n",
    "    cval : scalar, optional\n",
    "        Value to fill past edges of input if ``mode`` of convolution is\n",
    "        'constant'. The parameter is passed to `ndi.convolve`.\n",
    "    Returns\n",
    "    -------\n",
    "    real, imag : arrays\n",
    "        Filtered images using the real and imaginary parts of the Gabor filter\n",
    "        kernel. Images are of the same dimensions as the input one.\n",
    "    References\n",
    "    ----------\n",
    "    .. [1] https://en.wikipedia.org/wiki/Gabor_filter\n",
    "    .. [2] https://web.archive.org/web/20180127125930/http://mplab.ucsd.edu/tutorials/gabor.pdf\n",
    "    Examples\n",
    "    --------\n",
    "    >>> from skimage.filters import gabor\n",
    "    >>> from skimage import data, io\n",
    "    >>> from matplotlib import pyplot as plt  # doctest: +SKIP\n",
    "    >>> image = data.coins()\n",
    "    >>> # detecting edges in a coin image\n",
    "    >>> filt_real, filt_imag = gabor(image, frequency=0.6)\n",
    "    >>> plt.figure()            # doctest: +SKIP\n",
    "    >>> io.imshow(filt_real)    # doctest: +SKIP\n",
    "    >>> io.show()               # doctest: +SKIP\n",
    "    >>> # less sensitivity to finer details with the lower frequency kernel\n",
    "    >>> filt_real, filt_imag = gabor(image, frequency=0.1)\n",
    "    >>> plt.figure()            # doctest: +SKIP\n",
    "    >>> io.imshow(filt_real)    # doctest: +SKIP\n",
    "    >>> io.show()               # doctest: +SKIP\n",
    "    \"\"\"\n",
    "    g = gabor_kernel_edit(frequency, theta, bandwidth, sigma_x, sigma_y, n_stds,\n",
    "                     offset)\n",
    "\n",
    "    filtered_real = ndi.convolve(image, np.real(g), mode=mode, cval=cval)\n",
    "    filtered_imag = ndi.convolve(image, np.imag(g), mode=mode, cval=cval)\n",
    "\n",
    "    return filtered_real, filtered_imag"
   ]
  },
  {
   "cell_type": "code",
   "execution_count": 7,
   "metadata": {},
   "outputs": [
    {
     "data": {
      "image/png": "[encoded data removed]",
      "text/plain": [
       "<Figure size 432x288 with 2 Axes>"
      ]
     },
     "metadata": {
      "needs_background": "light"
     },
     "output_type": "display_data"
    }
   ],
   "source": [
    "img = data.brick()\n",
    "frequency = 0.1\n",
    "std_x = 5\n",
    "std_y = 5\n",
    "offset = 2\n",
    "orientation = 2\n",
    "\n",
    "skimage = gabor_edit(img, frequency, theta=orientation, sigma_x=std_x, sigma_y=std_y, n_stds=3, offset=offset, mode='reflect', cval=0)\n",
    "nd = gabor_filter(img, [std_x, std_y], orientation, frequency, truncate=3, offset=offset)\n",
    "\n",
    "plt.subplot(1,2,1)\n",
    "plt.imshow(skimage[0])\n",
    "plt.title(\"Sk-Image\")\n",
    "plt.axis('off')\n",
    "plt.subplot(1,2,2)\n",
    "plt.imshow(nd)\n",
    "plt.title(\"ND Gabor\")\n",
    "plt.axis('off')\n",
    "plt.show()\n",
    "\n",
    "np.testing.assert_allclose(skimage[0], nd)"
   ]
  },
  {
   "cell_type": "markdown",
   "metadata": {},
   "source": [
    "# 3D Images\n",
    "\n",
    "Currently, there is no package that offers a 3D implementation. Below is a hard-coded 3D Gabor filter based off of skimage PR: https://github.com/scikit-image/scikit-image/blob/ccb58ab938951fa43474413dfe96615b594bcbcc/skimage/filters/_gabor.py#L19"
   ]
  },
  {
   "cell_type": "code",
   "execution_count": 9,
   "metadata": {},
   "outputs": [],
   "source": [
    "def gabor_kernel_3D(frequency, alpha=0, beta=0, bandwidth=1, sigma_x=None, sigma_y=None, sigma_z=None, n_stds=3, offset=0):\n",
    "\n",
    "    \"\"\"\n",
    "    R = [[ cos(alpha) * sin(beta), -sin(alpha), -cos(alpha) * cos(beta) ],\n",
    "         [ sin(alpha) * sin(beta),  cos(alpha), -sin(alpha) * cos(beta) ],\n",
    "         [              cos(beta),           0,               sin(beta) ]]\n",
    "    \"\"\"\n",
    "    x0 = np.ceil(np.abs(n_stds * sigma_x))\n",
    "    y0 = np.ceil(np.abs(n_stds * sigma_y))\n",
    "    z0 = np.ceil(np.abs(n_stds * sigma_z))\n",
    "    \n",
    "    y, x, z = np.mgrid[-y0:y0 + 1, -x0:x0 + 1, -z0:z0 + 1]\n",
    "\n",
    "    rotx = (x * np.cos(alpha) * np.sin(beta)\n",
    "            + y * np.sin(alpha) * np.sin(beta)\n",
    "            + z * np.cos(beta))\n",
    "\n",
    "    g = np.zeros(y.shape, dtype=np.complex)\n",
    "    g[:] = np.exp(-0.5 * (x ** 2 / sigma_x ** 2\n",
    "                          + y ** 2 / sigma_y ** 2\n",
    "                          + z ** 2 / sigma_z ** 2))\n",
    "    g /= (2 * np.pi) ** (3 / 2) * sigma_x * sigma_y * sigma_z\n",
    "    g *= np.exp(1j * (2 * np.pi * frequency\n",
    "                      * (x * np.sin(beta) * np.cos(alpha)\n",
    "                         + y * np.sin(beta) * np.sin(alpha)\n",
    "                         + z * np.cos(beta))\n",
    "                      + offset))\n",
    "\n",
    "    return g\n",
    "\n",
    "\n",
    "def gabor_3D(image, frequency, alpha=0, beta=0, bandwidth=1, sigma_x=None,\n",
    "              sigma_y=None, sigma_z=None, n_stds=3, offset=0, mode='reflect', cval=0):\n",
    "    g = gabor_kernel_3D(frequency, alpha, beta, bandwidth, sigma_x, sigma_y, sigma_z, n_stds, offset)\n",
    "\n",
    "    filtered_real = ndi.convolve(image, np.real(g), mode=mode, cval=cval)\n",
    "    filtered_imag = ndi.convolve(image, np.imag(g), mode=mode, cval=cval)\n",
    "\n",
    "    return filtered_real, filtered_imag"
   ]
  },
  {
   "cell_type": "code",
   "execution_count": 12,
   "metadata": {},
   "outputs": [
    {
     "data": {
      "image/png": "[encoded data removed]",
      "text/plain": [
       "<Figure size 432x288 with 2 Axes>"
      ]
     },
     "metadata": {
      "needs_background": "light"
     },
     "output_type": "display_data"
    }
   ],
   "source": [
    "img = data.brain() # Need NDD development version of scikit image installed to use this\n",
    "frequency = 0.1\n",
    "std_x = 5\n",
    "std_y = 5\n",
    "std_z = 5\n",
    "offset = 0\n",
    "alpha = 1\n",
    "beta = 1\n",
    "\n",
    "skimage = gabor_3D(img, frequency, alpha = alpha, beta = beta, sigma_x=std_x, sigma_y=std_y, sigma_z = std_z, n_stds=3, offset=offset, mode='reflect', cval=0)\n",
    "nd = gabor_filter(img, [std_x, std_y, std_z], [alpha, beta], frequency, truncate=3, offset=offset)\n",
    "\n",
    "plt.subplot(1,2,1)\n",
    "plt.imshow(skimage[0][0])\n",
    "plt.title(\"Sk-Image\")\n",
    "plt.axis('off')\n",
    "plt.subplot(1,2,2)\n",
    "plt.imshow(nd[0])\n",
    "plt.title(\"ND Gabor\")\n",
    "plt.axis('off')\n",
    "plt.show()\n",
    "np.testing.assert_allclose(skimage[0], nd)"
   ]
  },
  {
   "cell_type": "code",
   "execution_count": null,
   "metadata": {},
   "outputs": [],
   "source": []
  },
  {
   "cell_type": "code",
   "execution_count": null,
   "metadata": {},
   "outputs": [],
   "source": []
  },
  {
   "cell_type": "code",
   "execution_count": null,
   "metadata": {},
   "outputs": [],
   "source": []
  },
  {
   "cell_type": "code",
   "execution_count": null,
   "metadata": {},
   "outputs": [],
   "source": []
  }
 ],
 "metadata": {
  "kernelspec": {
   "display_name": "Python 3.7.3 64-bit ('base': conda)",
   "language": "python",
   "name": "python37364bitbaseconda733883fb366f40a1907868a8a72b87a8"
  },
  "language_info": {
   "codemirror_mode": {
    "name": "ipython",
    "version": 3
   },
   "file_extension": ".py",
   "mimetype": "text/x-python",
   "name": "python",
   "nbconvert_exporter": "python",
   "pygments_lexer": "ipython3",
   "version": "3.7.3"
  }
 },
 "nbformat": 4,
 "nbformat_minor": 2
}
