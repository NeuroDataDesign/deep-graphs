{
 "nbformat": 4,
 "nbformat_minor": 2,
 "metadata": {
  "language_info": {
   "name": "python",
   "codemirror_mode": {
    "name": "ipython",
    "version": 3
   },
   "version": "3.7.6-final"
  },
  "orig_nbformat": 2,
  "file_extension": ".py",
  "mimetype": "text/x-python",
  "name": "python",
  "npconvert_exporter": "python",
  "pygments_lexer": "ipython3",
  "version": 3,
  "kernelspec": {
   "name": "python37664bitscipydevcondaa561a5f26f384a3d8eec296dbbf704a7",
   "display_name": "Python 3.7.6 64-bit ('scipydev': conda)"
  }
 },
 "cells": [
  {
   "cell_type": "code",
   "execution_count": 1,
   "metadata": {},
   "outputs": [],
   "source": []
  },
  {
   "cell_type": "code",
   "execution_count": null,
   "metadata": {},
   "outputs": [],
   "source": [
    "df = pd.DataFrame()\n",
    "ngl = NeuroglancerSession(\"s3://mouse-light-viz/precomputed_volumes/brain1\")\n",
    "ngl_skel = NeuroglancerSession(\"s3://mouse-light-viz/precomputed_volumes/brain1\" + \"_segments\")\n",
    "\n",
    "seg_ids = [2, 7]\n",
    "num_verts = \n",
    "size = [5,5,5]\n",
    "\n",
    "for seg_id in seg_ids:\n",
    "    segment = ngl_skel.cv.skeleton.get(seg_id)\n",
    "    if num_verts is not None:\n",
    "        verts = segment.vertices[:num_verts]\n",
    "    else:\n",
    "        verts = segment.vertices\n",
    "    for v_id, vertex in enumerate(verts):\n",
    "        img, bounds, voxel = ngl.pull_voxel(\n",
    "            seg_id, v_id, self.size[0], self.size[1], self.size[2]\n",
    "        )\n",
    "        img_off = ngl.pull_bounds_img(bounds + self.offset)\n",
    "        features = self._convert_to_features(img)\n",
    "        features_off = self._convert_to_features(img_off)\n",
    "        df = df.append(\n",
    "            {\n",
    "                \"Segment\": int(seg_id),\n",
    "                \"Vertex\": int(v_id),\n",
    "                \"Label\": 1,\n",
    "                \"Features\": features,\n",
    "            },\n",
    "            ignore_index=True,\n",
    "        )\n",
    "        df = df.append(\n",
    "            {\n",
    "                \"Segment\": int(seg_id),\n",
    "                \"Vertex\": int(v_id),\n",
    "                \"Label\": 0,\n",
    "                \"Features\": features_off,\n",
    "            },\n",
    "            ignore_index=True,\n",
    "        )"
   ]
  }
 ]
}