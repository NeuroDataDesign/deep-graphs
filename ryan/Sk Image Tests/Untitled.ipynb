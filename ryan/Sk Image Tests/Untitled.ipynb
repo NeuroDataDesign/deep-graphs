{
 "cells": [
  {
   "cell_type": "code",
   "execution_count": 2,
   "metadata": {},
   "outputs": [],
   "source": [
    "import warnings\n",
    "import functools\n",
    "import sys\n",
    "import numpy as np\n",
    "import types\n",
    "import numbers\n",
    "\n",
    "def check_nD(array, ndim, arg_name='image'):\n",
    "    \"\"\"\n",
    "    Verify an array meets the desired ndims and array isn't empty.\n",
    "\n",
    "    Parameters\n",
    "    ----------\n",
    "    array : array-like\n",
    "        Input array to be validated\n",
    "    ndim : int or iterable of ints\n",
    "        Allowable ndim or ndims for the array.\n",
    "    arg_name : str, optional\n",
    "        The name of the array in the original function.\n",
    "\n",
    "    \"\"\"\n",
    "    array = np.asanyarray(array)\n",
    "    msg_incorrect_dim = \"The parameter `%s` must be a %s-dimensional array\"\n",
    "    msg_empty_array = \"The parameter `%s` cannot be an empty array\"\n",
    "    if isinstance(ndim, int):\n",
    "        ndim = [ndim]\n",
    "    if array.size == 0:\n",
    "        raise ValueError(msg_empty_array % (arg_name))\n",
    "    if not array.ndim in ndim:\n",
    "        raise ValueError(msg_incorrect_dim % (arg_name, '-or-'.join([str(n) for n in ndim])))\n"
   ]
  },
  {
   "cell_type": "code",
   "execution_count": 4,
   "metadata": {},
   "outputs": [
    {
     "name": "stdout",
     "output_type": "stream",
     "text": [
      "[[0. 0.]\n",
      " [0. 0.]]\n"
     ]
    }
   ],
   "source": [
    "two = np.zeros([2,2])\n",
    "print(two)"
   ]
  },
  {
   "cell_type": "code",
   "execution_count": 9,
   "metadata": {},
   "outputs": [
    {
     "ename": "ValueError",
     "evalue": "The parameter `image` must be a 1-or-4-dimensional array",
     "output_type": "error",
     "traceback": [
      "\u001b[0;31m---------------------------------------------------------------------------\u001b[0m",
      "\u001b[0;31mValueError\u001b[0m                                Traceback (most recent call last)",
      "\u001b[0;32m<ipython-input-9-f2c63aa888b4>\u001b[0m in \u001b[0;36m<module>\u001b[0;34m\u001b[0m\n\u001b[0;32m----> 1\u001b[0;31m \u001b[0mcheck_nD\u001b[0m\u001b[0;34m(\u001b[0m\u001b[0mtwo\u001b[0m\u001b[0;34m,\u001b[0m \u001b[0;34m[\u001b[0m\u001b[0;36m1\u001b[0m\u001b[0;34m,\u001b[0m\u001b[0;36m4\u001b[0m\u001b[0;34m]\u001b[0m\u001b[0;34m)\u001b[0m\u001b[0;34m\u001b[0m\u001b[0;34m\u001b[0m\u001b[0m\n\u001b[0m",
      "\u001b[0;32m<ipython-input-2-6e72274cea43>\u001b[0m in \u001b[0;36mcheck_nD\u001b[0;34m(array, ndim, arg_name)\u001b[0m\n\u001b[1;32m     28\u001b[0m         \u001b[0;32mraise\u001b[0m \u001b[0mValueError\u001b[0m\u001b[0;34m(\u001b[0m\u001b[0mmsg_empty_array\u001b[0m \u001b[0;34m%\u001b[0m \u001b[0;34m(\u001b[0m\u001b[0marg_name\u001b[0m\u001b[0;34m)\u001b[0m\u001b[0;34m)\u001b[0m\u001b[0;34m\u001b[0m\u001b[0;34m\u001b[0m\u001b[0m\n\u001b[1;32m     29\u001b[0m     \u001b[0;32mif\u001b[0m \u001b[0;32mnot\u001b[0m \u001b[0marray\u001b[0m\u001b[0;34m.\u001b[0m\u001b[0mndim\u001b[0m \u001b[0;32min\u001b[0m \u001b[0mndim\u001b[0m\u001b[0;34m:\u001b[0m\u001b[0;34m\u001b[0m\u001b[0;34m\u001b[0m\u001b[0m\n\u001b[0;32m---> 30\u001b[0;31m         \u001b[0;32mraise\u001b[0m \u001b[0mValueError\u001b[0m\u001b[0;34m(\u001b[0m\u001b[0mmsg_incorrect_dim\u001b[0m \u001b[0;34m%\u001b[0m \u001b[0;34m(\u001b[0m\u001b[0marg_name\u001b[0m\u001b[0;34m,\u001b[0m \u001b[0;34m'-or-'\u001b[0m\u001b[0;34m.\u001b[0m\u001b[0mjoin\u001b[0m\u001b[0;34m(\u001b[0m\u001b[0;34m[\u001b[0m\u001b[0mstr\u001b[0m\u001b[0;34m(\u001b[0m\u001b[0mn\u001b[0m\u001b[0;34m)\u001b[0m \u001b[0;32mfor\u001b[0m \u001b[0mn\u001b[0m \u001b[0;32min\u001b[0m \u001b[0mndim\u001b[0m\u001b[0;34m]\u001b[0m\u001b[0;34m)\u001b[0m\u001b[0;34m)\u001b[0m\u001b[0;34m)\u001b[0m\u001b[0;34m\u001b[0m\u001b[0;34m\u001b[0m\u001b[0m\n\u001b[0m",
      "\u001b[0;31mValueError\u001b[0m: The parameter `image` must be a 1-or-4-dimensional array"
     ]
    }
   ],
   "source": [
    "check_nD(two, [1,4])"
   ]
  },
  {
   "cell_type": "code",
   "execution_count": 15,
   "metadata": {},
   "outputs": [],
   "source": [
    "out = np.zeros(two.shape+(1,))"
   ]
  },
  {
   "cell_type": "code",
   "execution_count": 16,
   "metadata": {},
   "outputs": [
    {
     "data": {
      "text/plain": [
       "(2, 2, 1)"
      ]
     },
     "execution_count": 16,
     "metadata": {},
     "output_type": "execute_result"
    }
   ],
   "source": [
    "out.shape"
   ]
  },
  {
   "cell_type": "code",
   "execution_count": 17,
   "metadata": {},
   "outputs": [],
   "source": [
    "def _handle_input_3D(image, selem, out, mask, out_dtype=None, pixel_size=1):\n",
    "\n",
    "    check_nD(image, [2,3]) #Need to change this\n",
    "    if image.dtype not in (np.uint8, np.uint16):\n",
    "        message = ('Possible precision loss converting image of type {} to '\n",
    "                   'uint8 as required by rank filters. Convert manually using '\n",
    "                   'skimage.util.img_as_ubyte to silence this warning.'\n",
    "                   .format(image.dtype))\n",
    "        warn(message, stacklevel=2)\n",
    "        image = img_as_ubyte(image)\n",
    "\n",
    "    selem = np.ascontiguousarray(img_as_ubyte(selem > 0))\n",
    "    image = np.ascontiguousarray(image)\n",
    "\n",
    "    if mask is None:\n",
    "        mask = np.ones(image.shape, dtype=np.uint8)\n",
    "    else:\n",
    "        mask = img_as_ubyte(mask)\n",
    "        mask = np.ascontiguousarray(mask)\n",
    "\n",
    "    if image is out:\n",
    "        raise NotImplementedError(\"Cannot perform rank operation in place.\")\n",
    "\n",
    "    if out is None:\n",
    "        if out_dtype is None:\n",
    "            out_dtype = image.dtype\n",
    "        out = np.empty(image.shape+(pixel_size,), dtype=out_dtype)\n",
    "    else:\n",
    "        if len(out.shape) == 2:\n",
    "            out = out.reshape(out.shape+(pixel_size,))\n",
    "\n",
    "    is_8bit = image.dtype in (np.uint8, np.int8)\n",
    "\n",
    "    if is_8bit:\n",
    "        n_bins = 256\n",
    "    else:\n",
    "        # Convert to a Python int to avoid the potential overflow when we add\n",
    "        # 1 to the maximum of the image.\n",
    "        n_bins = int(max(3, image.max())) + 1\n",
    "\n",
    "    if n_bins > 2**10:\n",
    "        warn(\"Bad rank filter performance is expected due to a \"\n",
    "             \"large number of bins ({}), equivalent to an approximate \"\n",
    "             \"bitdepth of {:.1f}.\".format(n_bins, np.log2(n_bins)),\n",
    "             stacklevel=2)\n",
    "\n",
    "    return image, selem, out, mask, n_bins"
   ]
  },
  {
   "cell_type": "code",
   "execution_count": null,
   "metadata": {},
   "outputs": [],
   "source": []
  }
 ],
 "metadata": {
  "kernelspec": {
   "display_name": "Python 3",
   "language": "python",
   "name": "python3"
  },
  "language_info": {
   "codemirror_mode": {
    "name": "ipython",
    "version": 3
   },
   "file_extension": ".py",
   "mimetype": "text/x-python",
   "name": "python",
   "nbconvert_exporter": "python",
   "pygments_lexer": "ipython3",
   "version": "3.7.2"
  }
 },
 "nbformat": 4,
 "nbformat_minor": 2
}
