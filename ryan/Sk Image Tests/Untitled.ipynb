{
 "cells": [
  {
   "cell_type": "code",
   "execution_count": 13,
   "metadata": {},
   "outputs": [],
   "source": [
    "import warnings\n",
    "import functools\n",
    "import sys\n",
    "import numpy as np\n",
    "import types\n",
    "import numbers\n",
    "\n",
    "def check_nD(array, ndim, arg_name='image'):\n",
    "    \"\"\"\n",
    "    Verify an array meets the desired ndims and array isn't empty.\n",
    "\n",
    "    Parameters\n",
    "    ----------\n",
    "    array : array-like\n",
    "        Input array to be validated\n",
    "    ndim : int or iterable of ints\n",
    "        Allowable ndim or ndims for the array.\n",
    "    arg_name : str, optional\n",
    "        The name of the array in the original function.\n",
    "\n",
    "    \"\"\"\n",
    "    array = np.asanyarray(array)\n",
    "    msg_incorrect_dim = \"The parameter `%s` must be a %s-dimensional array\"\n",
    "    msg_empty_array = \"The parameter `%s` cannot be an empty array\"\n",
    "    if isinstance(ndim, int):\n",
    "        ndim = [ndim]\n",
    "    if array.size == 0:\n",
    "        raise ValueError(msg_empty_array % (arg_name))\n",
    "    if not array.ndim in ndim:\n",
    "        raise ValueError(msg_incorrect_dim % (arg_name, '-or-'.join([str(n) for n in ndim])))\n",
    "\n",
    "def _handle_input(image, selem, out, mask, out_dtype=None, pixel_size=1):\n",
    "\n",
    "    check_nD(image, [2,3])\n",
    "    if image.dtype not in (np.uint8, np.uint16):\n",
    "        #message = ('Possible precision loss converting image of type {} to '\n",
    "        #           'uint8 as required by rank filters. Convert manually using '\n",
    "        #          'skimage.util.img_as_ubyte to silence this warning.'\n",
    "        #           .format(image.dtype))\n",
    "        #warn(message, stacklevel=2)\n",
    "        #image = img_as_ubyte(image)\n",
    "        print(\"warning\")\n",
    "\n",
    "    #selem = np.ascontiguousarray(img_as_ubyte(selem > 0))\n",
    "    image = np.ascontiguousarray(image)\n",
    "\n",
    "    if mask is None:\n",
    "        #Check the its the same dimensions as the regular image\n",
    "        mask = np.ones(image.shape, dtype=np.uint8)\n",
    "    else:\n",
    "        mask = img_as_ubyte(mask)\n",
    "        mask = np.ascontiguousarray(mask)\n",
    "\n",
    "    if image is out:\n",
    "        raise NotImplementedError(\"Cannot perform rank operation in place.\")\n",
    "\n",
    "    if out is None:\n",
    "        if out_dtype is None:\n",
    "            out_dtype = image.dtype\n",
    "        out = np.empty(image.shape+(pixel_size,), dtype=out_dtype)\n",
    "\n",
    "        #Check that output dimensions match input dimensions\n",
    "    else:\n",
    "        #if len(out.shape) == 2:\n",
    "        out = out.reshape(out.shape+(pixel_size,))\n",
    "\n",
    "    is_8bit = image.dtype in (np.uint8, np.int8)\n",
    "\n",
    "    if is_8bit:\n",
    "        n_bins = 256\n",
    "    else:\n",
    "        # Convert to a Python int to avoid the potential overflow when we add\n",
    "        # 1 to the maximum of the image.\n",
    "\n",
    "        #test that .max() works for multiple\n",
    "        n_bins = int(max(3, image.max())) + 1\n",
    "\n",
    "    if n_bins > 2**10:\n",
    "        warn(\"Bad rank filter performance is expected due to a \"\n",
    "             \"large number of bins ({}), equivalent to an approximate \"\n",
    "             \"bitdepth of {:.1f}.\".format(n_bins, np.log2(n_bins)),\n",
    "             stacklevel=2)\n",
    "\n",
    "    return image, selem, out, mask, n_bins"
   ]
  },
  {
   "cell_type": "code",
   "execution_count": 14,
   "metadata": {},
   "outputs": [],
   "source": [
    "image = np.zeros([100, 100], dtype = np.uint8)"
   ]
  },
  {
   "cell_type": "code",
   "execution_count": 15,
   "metadata": {},
   "outputs": [
    {
     "data": {
      "text/plain": [
       "(array([[0, 0, 0, ..., 0, 0, 0],\n",
       "        [0, 0, 0, ..., 0, 0, 0],\n",
       "        [0, 0, 0, ..., 0, 0, 0],\n",
       "        ...,\n",
       "        [0, 0, 0, ..., 0, 0, 0],\n",
       "        [0, 0, 0, ..., 0, 0, 0],\n",
       "        [0, 0, 0, ..., 0, 0, 0]], dtype=uint8), None, array([[[ 67],\n",
       "         [  2],\n",
       "         [ 91],\n",
       "         ...,\n",
       "         [255],\n",
       "         [255],\n",
       "         [255]],\n",
       " \n",
       "        [[209],\n",
       "         [  0],\n",
       "         [127],\n",
       "         ...,\n",
       "         [  1],\n",
       "         [255],\n",
       "         [255]],\n",
       " \n",
       "        [[165],\n",
       "         [  1],\n",
       "         [170],\n",
       "         ...,\n",
       "         [  0],\n",
       "         [255],\n",
       "         [255]],\n",
       " \n",
       "        ...,\n",
       " \n",
       "        [[  1],\n",
       "         [  0],\n",
       "         [  0],\n",
       "         ...,\n",
       "         [  0],\n",
       "         [  0],\n",
       "         [  0]],\n",
       " \n",
       "        [[136],\n",
       "         [101],\n",
       "         [  6],\n",
       "         ...,\n",
       "         [167],\n",
       "         [142],\n",
       "         [  1]],\n",
       " \n",
       "        [[  1],\n",
       "         [  0],\n",
       "         [  0],\n",
       "         ...,\n",
       "         [  0],\n",
       "         [  0],\n",
       "         [  0]]], dtype=uint8), array([[1, 1, 1, ..., 1, 1, 1],\n",
       "        [1, 1, 1, ..., 1, 1, 1],\n",
       "        [1, 1, 1, ..., 1, 1, 1],\n",
       "        ...,\n",
       "        [1, 1, 1, ..., 1, 1, 1],\n",
       "        [1, 1, 1, ..., 1, 1, 1],\n",
       "        [1, 1, 1, ..., 1, 1, 1]], dtype=uint8), 256)"
      ]
     },
     "execution_count": 15,
     "metadata": {},
     "output_type": "execute_result"
    }
   ],
   "source": [
    "_handle_input(image, None, None, None)"
   ]
  },
  {
   "cell_type": "code",
   "execution_count": 16,
   "metadata": {},
   "outputs": [],
   "source": [
    "x = np.array([[1, 2, 3],[4, 5, 6], [7,8,9]])"
   ]
  },
  {
   "cell_type": "code",
   "execution_count": 17,
   "metadata": {},
   "outputs": [
    {
     "data": {
      "text/plain": [
       "9"
      ]
     },
     "execution_count": 17,
     "metadata": {},
     "output_type": "execute_result"
    }
   ],
   "source": [
    "x.max()"
   ]
  },
  {
   "cell_type": "code",
   "execution_count": 18,
   "metadata": {},
   "outputs": [],
   "source": [
    "t = np.zeros(x.shape + (1,))"
   ]
  },
  {
   "cell_type": "code",
   "execution_count": 19,
   "metadata": {},
   "outputs": [
    {
     "data": {
      "text/plain": [
       "(3, 3, 1)"
      ]
     },
     "execution_count": 19,
     "metadata": {},
     "output_type": "execute_result"
    }
   ],
   "source": [
    "t.shape"
   ]
  },
  {
   "cell_type": "code",
   "execution_count": 49,
   "metadata": {},
   "outputs": [
    {
     "name": "stdout",
     "output_type": "stream",
     "text": [
      "[[[1. 1. 1.]\n",
      "  [1. 1. 1.]\n",
      "  [1. 1. 1.]]\n",
      "\n",
      " [[1. 1. 1.]\n",
      "  [1. 1. 1.]\n",
      "  [1. 1. 1.]]\n",
      "\n",
      " [[1. 1. 1.]\n",
      "  [1. 1. 1.]\n",
      "  [1. 1. 1.]]]\n"
     ]
    }
   ],
   "source": [
    "x = np.ones([3,3,3])\n",
    "print(x)"
   ]
  },
  {
   "cell_type": "code",
   "execution_count": 66,
   "metadata": {},
   "outputs": [],
   "source": [
    "t = np.vstack((x, np.zeros((1, x.shape[1], x.shape[2]))))"
   ]
  },
  {
   "cell_type": "code",
   "execution_count": 67,
   "metadata": {},
   "outputs": [
    {
     "name": "stdout",
     "output_type": "stream",
     "text": [
      "[[[1. 1. 1.]\n",
      "  [1. 1. 1.]\n",
      "  [1. 1. 1.]]\n",
      "\n",
      " [[1. 1. 1.]\n",
      "  [1. 1. 1.]\n",
      "  [1. 1. 1.]]\n",
      "\n",
      " [[1. 1. 1.]\n",
      "  [1. 1. 1.]\n",
      "  [1. 1. 1.]]\n",
      "\n",
      " [[0. 0. 0.]\n",
      "  [0. 0. 0.]\n",
      "  [0. 0. 0.]]]\n"
     ]
    }
   ],
   "source": [
    "print(t)"
   ]
  },
  {
   "cell_type": "code",
   "execution_count": 68,
   "metadata": {},
   "outputs": [],
   "source": [
    "c = (np.diff(t, axis = 0) < 0).view(np.uint8)"
   ]
  },
  {
   "cell_type": "code",
   "execution_count": 69,
   "metadata": {},
   "outputs": [
    {
     "name": "stdout",
     "output_type": "stream",
     "text": [
      "[[[0 0 0]\n",
      "  [0 0 0]\n",
      "  [0 0 0]]\n",
      "\n",
      " [[0 0 0]\n",
      "  [0 0 0]\n",
      "  [0 0 0]]\n",
      "\n",
      " [[1 1 1]\n",
      "  [1 1 1]\n",
      "  [1 1 1]]]\n"
     ]
    }
   ],
   "source": [
    "print(c)"
   ]
  },
  {
   "cell_type": "code",
   "execution_count": 63,
   "metadata": {},
   "outputs": [],
   "source": [
    "from skimage.morphology import disk"
   ]
  },
  {
   "cell_type": "code",
   "execution_count": 64,
   "metadata": {},
   "outputs": [
    {
     "name": "stdout",
     "output_type": "stream",
     "text": [
      "[[0 0 0 0 1 0 0 0 0]\n",
      " [0 0 1 1 1 1 1 0 0]\n",
      " [0 1 1 1 1 1 1 1 0]\n",
      " [0 1 1 1 1 1 1 1 0]\n",
      " [1 1 1 1 1 1 1 1 1]\n",
      " [0 1 1 1 1 1 1 1 0]\n",
      " [0 1 1 1 1 1 1 1 0]\n",
      " [0 0 1 1 1 1 1 0 0]\n",
      " [0 0 0 0 1 0 0 0 0]]\n"
     ]
    }
   ],
   "source": [
    "print(disk(4))"
   ]
  },
  {
   "cell_type": "code",
   "execution_count": 65,
   "metadata": {},
   "outputs": [
    {
     "name": "stdout",
     "output_type": "stream",
     "text": [
      "[[[0 0 0]\n",
      "  [0 0 0]\n",
      "  [0 0 0]]\n",
      "\n",
      " [[0 0 0]\n",
      "  [0 0 0]\n",
      "  [0 0 0]]\n",
      "\n",
      " [[1 1 1]\n",
      "  [1 1 1]\n",
      "  [1 1 1]]]\n"
     ]
    }
   ],
   "source": [
    "print(np.ascontiguousarray(c))"
   ]
  },
  {
   "cell_type": "code",
   "execution_count": 1,
   "metadata": {},
   "outputs": [],
   "source": [
    "from skimage.filters.rank import equalize\n",
    "import numpy as np"
   ]
  },
  {
   "cell_type": "code",
   "execution_count": 2,
   "metadata": {},
   "outputs": [],
   "source": [
    "x = np.zeros((10,10,10))\n",
    "selem = np.ones((3,3,3))"
   ]
  },
  {
   "cell_type": "code",
   "execution_count": 3,
   "metadata": {},
   "outputs": [
    {
     "name": "stderr",
     "output_type": "stream",
     "text": [
      "/Users/RyanLu/Documents/scikit-image/skimage/filters/rank/generic.py:179: UserWarning: Possible precision loss converting image of type float64 to uint8 as required by rank filters. Convert manually using skimage.util.img_as_ubyte to silence this warning.\n",
      "  out_dtype)\n"
     ]
    }
   ],
   "source": [
    "y = equalize(x, selem)"
   ]
  },
  {
   "cell_type": "code",
   "execution_count": 4,
   "metadata": {},
   "outputs": [
    {
     "data": {
      "text/plain": [
       "(10, 10, 10)"
      ]
     },
     "execution_count": 4,
     "metadata": {},
     "output_type": "execute_result"
    }
   ],
   "source": [
    "y.shape"
   ]
  },
  {
   "cell_type": "code",
   "execution_count": null,
   "metadata": {},
   "outputs": [],
   "source": []
  }
 ],
 "metadata": {
  "kernelspec": {
   "display_name": "Python 3",
   "language": "python",
   "name": "python3"
  },
  "language_info": {
   "codemirror_mode": {
    "name": "ipython",
    "version": 3
   },
   "file_extension": ".py",
   "mimetype": "text/x-python",
   "name": "python",
   "nbconvert_exporter": "python",
   "pygments_lexer": "ipython3",
   "version": "3.7.3"
  }
 },
 "nbformat": 4,
 "nbformat_minor": 2
}
