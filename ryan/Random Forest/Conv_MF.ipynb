{
 "cells": [
  {
   "cell_type": "code",
   "execution_count": 3,
   "metadata": {},
   "outputs": [],
   "source": [
    "import time\n",
    "from multiprocessing import cpu_count\n",
    "\n",
    "import numpy as np\n",
    "from sklearn.ensemble import RandomForestClassifier\n",
    "\n",
    "from rerf.rerfClassifier import rerfClassifier\n",
    "\n",
    "class ConvMF(object):\n",
    "    def __init__(self, num_trees = 1000, tree_type = 'S-RerF'):\n",
    "        self.num_trees = num_trees;\n",
    "        self.tree_type = tree_type;\n",
    "        self.time_taken = {\"load\": 0, \"test_chop\": 0, \"train\": 0, \"fit\": 0, \"train_post\": 0, \"test\": 0, \"test_post\": 0}\n",
    "\n",
    "    def fit(self, images, labels):\n",
    "        \n",
    "        def approx_predict_proba_sample_wise(sample):\n",
    "            return np.array(self.forest.predict_proba(sample.tolist())[1] / float(self.num_trees))\n",
    "\n",
    "\n",
    "        batch_size, length, width,_ = images.shape\n",
    "        MF_image = np.zeros((images.shape[0], length, width, 1))\n",
    "\n",
    "        reshaped_images = images.reshape(batch_size, length*width)\n",
    "\n",
    "\n",
    "        self.forest = rerfClassifier(projection_matrix=\"S-RerF\",\n",
    "                                         n_estimators=self.num_trees,\n",
    "                                         n_jobs=cpu_count() - 1,\n",
    "                                         image_height=length,\n",
    "                                         image_width=width,\n",
    "                                         patch_height_min=1,\n",
    "                                         patch_width_min=1,\n",
    "                                         patch_height_max=3,\n",
    "                                         patch_width_max=3)\n",
    "        self.forest.fit(reshaped_images, labels)\n",
    "        #Is this necessary\n",
    "        for i in range(length):\n",
    "            for j in range(width):\n",
    "                MF_image[:, i, j] = np.array([approx_predict_proba_sample_wise(\n",
    "                    sample) for sample in images[:, i, j]])[..., np.newaxis]\n",
    "\n",
    "        return MF_image\n",
    "\n",
    "\n",
    "    def predict(self, images):\n",
    "        if not self.forest:\n",
    "            raise Exception(\"Should fit training data before  predicting\")\n",
    "\n",
    "        batch_size, length, width, _ = images.shape\n",
    "        kernel_predictions = np.zeros((images.shape[0], length, width, 1))\n",
    "\n",
    "        for i in range(length):\n",
    "            for j in range(width):\n",
    "                def approx_predict_proba_sample_wise(sample):\n",
    "                    return np.array(self.forest.predict_proba(sample.tolist())[1] / float(self.num_trees))\n",
    "                kernel_predictions[:, i, j] = np.array([approx_predict_proba_sample_wise(\n",
    "                    sample) for sample in images[:, i, j]])[..., np.newaxis]\n",
    "\n",
    "        return kernel_predictions\n"
   ]
  },
  {
   "cell_type": "code",
   "execution_count": 4,
   "metadata": {},
   "outputs": [],
   "source": [
    "import copy\n",
    "\n",
    "import numpy as np\n",
    "import torch.utils.data as Data\n",
    "import torchvision.datasets as datasets\n",
    "import torchvision.transforms as transforms\n",
    "\n",
    "\n",
    "def get_dataset(data_path, dataset_name=\"CIFAR10\", is_numpy=True):\n",
    "    if is_numpy:\n",
    "        transformer = None\n",
    "    else:\n",
    "        if dataset_name == \"CIFAR10\":\n",
    "            transformer = transforms.Compose([\n",
    "                transforms.ToTensor(),\n",
    "                transforms.Normalize((0.4914, 0.4822, 0.4465), (0.2023, 0.1994, 0.2010)),\n",
    "            ])\n",
    "        elif dataset_name == \"MNIST\" or dataset_name == \"FashionMNIST\":\n",
    "            transformer = transforms.Compose([\n",
    "                transforms.ToTensor(),\n",
    "                transforms.Normalize((0.1307,), (0.3081,)),\n",
    "            ])\n",
    "        else:\n",
    "            transformer = transforms.Compose([\n",
    "                transforms.ToTensor(),\n",
    "                transforms.Normalize((0.5, 0.5, 0.5), (0.5, 0.5, 0.5)),\n",
    "            ])\n",
    "\n",
    "    if dataset_name == \"MNIST\":\n",
    "        trainset = datasets.MNIST(root=data_path, train=True, download=True, transform=transformer)\n",
    "        testset = datasets.MNIST(root=data_path, train=False, download=True, transform=transformer)\n",
    "\n",
    "    elif dataset_name == \"FashionMNIST\":\n",
    "        trainset = datasets.FashionMNIST(root=data_path, train=True, download=True, transform=transformer)\n",
    "        testset = datasets.FashionMNIST(root=data_path, train=False, download=True, transform=transformer)\n",
    "\n",
    "    elif dataset_name == \"SVHN\":\n",
    "        trainset = datasets.SVHN(root=data_path, split='train', download=True, transform=transformer)\n",
    "        trainset.train_data = np.transpose(trainset.data, (0, 2, 3, 1))\n",
    "        trainset.train_labels = trainset.labels\n",
    "\n",
    "        testset = datasets.SVHN(root=data_path, split='test', download=True, transform=transformer)\n",
    "        testset.test_data = np.transpose(testset.data, (0, 2, 3, 1))\n",
    "        testset.test_labels = testset.labels\n",
    "\n",
    "    else:\n",
    "        trainset = datasets.CIFAR10(root=data_path, train=True, download=True, transform=transformer)\n",
    "        testset = datasets.CIFAR10(root=data_path, train=False, download=True, transform=transformer)\n",
    "\n",
    "    if is_numpy:\n",
    "        train_images = normalize(dataset_name, trainset.train_data)\n",
    "        test_images = normalize(dataset_name, testset.test_data)\n",
    "\n",
    "        train_labels = np.array(trainset.train_labels)\n",
    "        test_labels = np.array(testset.test_labels)\n",
    "\n",
    "        return (train_images, train_labels), (test_images, test_labels)\n",
    "\n",
    "    else:\n",
    "        return trainset, testset\n",
    "    \n",
    "def normalize(dataset_name, x):\n",
    "    if dataset_name == \"CIFAR10\":\n",
    "        mean = np.array([0.4914, 0.4822, 0.4465])\n",
    "        std = np.array([0.2023, 0.1994, 0.2010])\n",
    "    elif dataset_name == \"MNIST\" or dataset_name == \"FashionMNIST\":\n",
    "        mean = np.array([0.1307, ])\n",
    "        std = np.array([0.3081, ])\n",
    "    else:\n",
    "        mean = np.array([0.5, 0.5, 0.5])\n",
    "        std = np.array([0.5, 0.5, 0.5])\n",
    "\n",
    "    if not isinstance(x, np.ndarray):\n",
    "        x = x.numpy()\n",
    "\n",
    "    if len(x.shape) != 4:\n",
    "        x = x[..., np.newaxis]\n",
    "\n",
    "    return (x / 255.0 - mean) / std\n"
   ]
  },
  {
   "cell_type": "code",
   "execution_count": 5,
   "metadata": {},
   "outputs": [
    {
     "name": "stderr",
     "output_type": "stream",
     "text": [
      "//anaconda3/lib/python3.7/site-packages/torchvision/datasets/mnist.py:53: UserWarning: train_data has been renamed data\n",
      "  warnings.warn(\"train_data has been renamed data\")\n",
      "//anaconda3/lib/python3.7/site-packages/torchvision/datasets/mnist.py:58: UserWarning: test_data has been renamed data\n",
      "  warnings.warn(\"test_data has been renamed data\")\n",
      "//anaconda3/lib/python3.7/site-packages/torchvision/datasets/mnist.py:43: UserWarning: train_labels has been renamed targets\n",
      "  warnings.warn(\"train_labels has been renamed targets\")\n",
      "//anaconda3/lib/python3.7/site-packages/torchvision/datasets/mnist.py:48: UserWarning: test_labels has been renamed targets\n",
      "  warnings.warn(\"test_labels has been renamed targets\")\n"
     ]
    }
   ],
   "source": [
    "trainset, testset = get_dataset(\"./data\", \"FashionMNIST\", is_numpy=True)"
   ]
  },
  {
   "cell_type": "code",
   "execution_count": 7,
   "metadata": {},
   "outputs": [
    {
     "data": {
      "text/plain": [
       "(10000, 28, 28, 1)"
      ]
     },
     "execution_count": 7,
     "metadata": {},
     "output_type": "execute_result"
    }
   ],
   "source": [
    "testset[0].shape"
   ]
  },
  {
   "cell_type": "code",
   "execution_count": 8,
   "metadata": {},
   "outputs": [
    {
     "ename": "ValueError",
     "evalue": "Expected 2D array, got 1D array instead:\narray=[-0.42421292].\nReshape your data either using array.reshape(-1, 1) if your data has a single feature or array.reshape(1, -1) if it contains a single sample.",
     "output_type": "error",
     "traceback": [
      "\u001b[0;31m---------------------------------------------------------------------------\u001b[0m",
      "\u001b[0;31mValueError\u001b[0m                                Traceback (most recent call last)",
      "\u001b[0;32m<ipython-input-8-8c4d0503a702>\u001b[0m in \u001b[0;36m<module>\u001b[0;34m\u001b[0m\n\u001b[1;32m      1\u001b[0m \u001b[0mtest\u001b[0m \u001b[0;34m=\u001b[0m \u001b[0mConvMF\u001b[0m\u001b[0;34m(\u001b[0m\u001b[0;34m)\u001b[0m\u001b[0;34m\u001b[0m\u001b[0;34m\u001b[0m\u001b[0m\n\u001b[0;32m----> 2\u001b[0;31m \u001b[0mtest\u001b[0m\u001b[0;34m.\u001b[0m\u001b[0mfit\u001b[0m\u001b[0;34m(\u001b[0m\u001b[0mtrainset\u001b[0m\u001b[0;34m[\u001b[0m\u001b[0;36m0\u001b[0m\u001b[0;34m]\u001b[0m\u001b[0;34m,\u001b[0m \u001b[0mtrainset\u001b[0m\u001b[0;34m[\u001b[0m\u001b[0;36m1\u001b[0m\u001b[0;34m]\u001b[0m\u001b[0;34m)\u001b[0m\u001b[0;34m\u001b[0m\u001b[0;34m\u001b[0m\u001b[0m\n\u001b[0m",
      "\u001b[0;32m<ipython-input-1-b35f8ebbeaca>\u001b[0m in \u001b[0;36mfit\u001b[0;34m(self, images, labels)\u001b[0m\n\u001b[1;32m     39\u001b[0m             \u001b[0;32mfor\u001b[0m \u001b[0mj\u001b[0m \u001b[0;32min\u001b[0m \u001b[0mrange\u001b[0m\u001b[0;34m(\u001b[0m\u001b[0mwidth\u001b[0m\u001b[0;34m)\u001b[0m\u001b[0;34m:\u001b[0m\u001b[0;34m\u001b[0m\u001b[0;34m\u001b[0m\u001b[0m\n\u001b[1;32m     40\u001b[0m                 MF_image[:, i, j] = np.array([approx_predict_proba_sample_wise(\n\u001b[0;32m---> 41\u001b[0;31m                     sample) for sample in images[:, i, j]])[..., np.newaxis]\n\u001b[0m\u001b[1;32m     42\u001b[0m \u001b[0;34m\u001b[0m\u001b[0m\n\u001b[1;32m     43\u001b[0m         \u001b[0;32mreturn\u001b[0m \u001b[0mMF_image\u001b[0m\u001b[0;34m\u001b[0m\u001b[0;34m\u001b[0m\u001b[0m\n",
      "\u001b[0;32m<ipython-input-1-b35f8ebbeaca>\u001b[0m in \u001b[0;36m<listcomp>\u001b[0;34m(.0)\u001b[0m\n\u001b[1;32m     39\u001b[0m             \u001b[0;32mfor\u001b[0m \u001b[0mj\u001b[0m \u001b[0;32min\u001b[0m \u001b[0mrange\u001b[0m\u001b[0;34m(\u001b[0m\u001b[0mwidth\u001b[0m\u001b[0;34m)\u001b[0m\u001b[0;34m:\u001b[0m\u001b[0;34m\u001b[0m\u001b[0;34m\u001b[0m\u001b[0m\n\u001b[1;32m     40\u001b[0m                 MF_image[:, i, j] = np.array([approx_predict_proba_sample_wise(\n\u001b[0;32m---> 41\u001b[0;31m                     sample) for sample in images[:, i, j]])[..., np.newaxis]\n\u001b[0m\u001b[1;32m     42\u001b[0m \u001b[0;34m\u001b[0m\u001b[0m\n\u001b[1;32m     43\u001b[0m         \u001b[0;32mreturn\u001b[0m \u001b[0mMF_image\u001b[0m\u001b[0;34m\u001b[0m\u001b[0;34m\u001b[0m\u001b[0m\n",
      "\u001b[0;32m<ipython-input-1-b35f8ebbeaca>\u001b[0m in \u001b[0;36mapprox_predict_proba_sample_wise\u001b[0;34m(sample)\u001b[0m\n\u001b[1;32m     16\u001b[0m \u001b[0;34m\u001b[0m\u001b[0m\n\u001b[1;32m     17\u001b[0m         \u001b[0;32mdef\u001b[0m \u001b[0mapprox_predict_proba_sample_wise\u001b[0m\u001b[0;34m(\u001b[0m\u001b[0msample\u001b[0m\u001b[0;34m)\u001b[0m\u001b[0;34m:\u001b[0m\u001b[0;34m\u001b[0m\u001b[0;34m\u001b[0m\u001b[0m\n\u001b[0;32m---> 18\u001b[0;31m             \u001b[0;32mreturn\u001b[0m \u001b[0mnp\u001b[0m\u001b[0;34m.\u001b[0m\u001b[0marray\u001b[0m\u001b[0;34m(\u001b[0m\u001b[0mself\u001b[0m\u001b[0;34m.\u001b[0m\u001b[0mforest\u001b[0m\u001b[0;34m.\u001b[0m\u001b[0mpredict_proba\u001b[0m\u001b[0;34m(\u001b[0m\u001b[0msample\u001b[0m\u001b[0;34m.\u001b[0m\u001b[0mtolist\u001b[0m\u001b[0;34m(\u001b[0m\u001b[0;34m)\u001b[0m\u001b[0;34m)\u001b[0m\u001b[0;34m[\u001b[0m\u001b[0;36m1\u001b[0m\u001b[0;34m]\u001b[0m \u001b[0;34m/\u001b[0m \u001b[0mfloat\u001b[0m\u001b[0;34m(\u001b[0m\u001b[0mself\u001b[0m\u001b[0;34m.\u001b[0m\u001b[0mnum_trees\u001b[0m\u001b[0;34m)\u001b[0m\u001b[0;34m)\u001b[0m\u001b[0;34m\u001b[0m\u001b[0;34m\u001b[0m\u001b[0m\n\u001b[0m\u001b[1;32m     19\u001b[0m \u001b[0;34m\u001b[0m\u001b[0m\n\u001b[1;32m     20\u001b[0m \u001b[0;34m\u001b[0m\u001b[0m\n",
      "\u001b[0;32m//anaconda3/lib/python3.7/site-packages/rerf/rerfClassifier.py\u001b[0m in \u001b[0;36mpredict_proba\u001b[0;34m(self, X)\u001b[0m\n\u001b[1;32m    375\u001b[0m \u001b[0;34m\u001b[0m\u001b[0m\n\u001b[1;32m    376\u001b[0m         \u001b[0;31m# Input validation\u001b[0m\u001b[0;34m\u001b[0m\u001b[0;34m\u001b[0m\u001b[0;34m\u001b[0m\u001b[0m\n\u001b[0;32m--> 377\u001b[0;31m         \u001b[0mX\u001b[0m \u001b[0;34m=\u001b[0m \u001b[0mcheck_array\u001b[0m\u001b[0;34m(\u001b[0m\u001b[0mX\u001b[0m\u001b[0;34m)\u001b[0m\u001b[0;34m\u001b[0m\u001b[0;34m\u001b[0m\u001b[0m\n\u001b[0m\u001b[1;32m    378\u001b[0m \u001b[0;34m\u001b[0m\u001b[0m\n\u001b[1;32m    379\u001b[0m         \u001b[0;32mif\u001b[0m \u001b[0mX\u001b[0m\u001b[0;34m.\u001b[0m\u001b[0mndim\u001b[0m \u001b[0;34m==\u001b[0m \u001b[0;36m1\u001b[0m\u001b[0;34m:\u001b[0m\u001b[0;34m\u001b[0m\u001b[0;34m\u001b[0m\u001b[0m\n",
      "\u001b[0;32m//anaconda3/lib/python3.7/site-packages/sklearn/utils/validation.py\u001b[0m in \u001b[0;36mcheck_array\u001b[0;34m(array, accept_sparse, accept_large_sparse, dtype, order, copy, force_all_finite, ensure_2d, allow_nd, ensure_min_samples, ensure_min_features, warn_on_dtype, estimator)\u001b[0m\n\u001b[1;32m    519\u001b[0m                     \u001b[0;34m\"Reshape your data either using array.reshape(-1, 1) if \"\u001b[0m\u001b[0;34m\u001b[0m\u001b[0;34m\u001b[0m\u001b[0m\n\u001b[1;32m    520\u001b[0m                     \u001b[0;34m\"your data has a single feature or array.reshape(1, -1) \"\u001b[0m\u001b[0;34m\u001b[0m\u001b[0;34m\u001b[0m\u001b[0m\n\u001b[0;32m--> 521\u001b[0;31m                     \"if it contains a single sample.\".format(array))\n\u001b[0m\u001b[1;32m    522\u001b[0m \u001b[0;34m\u001b[0m\u001b[0m\n\u001b[1;32m    523\u001b[0m         \u001b[0;31m# in the future np.flexible dtypes will be handled like object dtypes\u001b[0m\u001b[0;34m\u001b[0m\u001b[0;34m\u001b[0m\u001b[0;34m\u001b[0m\u001b[0m\n",
      "\u001b[0;31mValueError\u001b[0m: Expected 2D array, got 1D array instead:\narray=[-0.42421292].\nReshape your data either using array.reshape(-1, 1) if your data has a single feature or array.reshape(1, -1) if it contains a single sample."
     ]
    }
   ],
   "source": [
    "test = ConvMF()\n",
    "test.fit(trainset[0], trainset[1])"
   ]
  },
  {
   "cell_type": "code",
   "execution_count": 35,
   "metadata": {},
   "outputs": [],
   "source": [
    "import time\n",
    "from multiprocessing import cpu_count\n",
    "\n",
    "import numpy as np\n",
    "from sklearn.ensemble import RandomForestClassifier\n",
    "\n",
    "from rerf.rerfClassifier import rerfClassifier\n",
    "\n",
    "class ConvMF(object):\n",
    "    def __init__(self, type = 'native', kernel_size = 5, stride = 2, num_trees = 1000, tree_type = 'S-RerF', patch_height_min = 1, patch_width_min = 1, patch_height_max = 5, patch_width_max = 5):\n",
    "        self.kernel_size = kernel_size\n",
    "        self.stride = stride\n",
    "        self.num_trees = num_trees;\n",
    "        self.tree_type = tree_type;\n",
    "        self.type = type;\n",
    "        self.patch_height_min = patch_height_min\n",
    "        self.patch_height_max = patch_height_max\n",
    "        self.patch_width_max = patch_width_max\n",
    "        self.patch_width_min = patch_width_min\n",
    "        self.time_taken = {\"load\": 0, \"test_chop\": 0, \"train\": 0, \"fit\": 0, \"train_post\": 0, \"test\": 0, \"test_post\": 0}\n",
    "\n",
    "    def _convolve_chop(self, images, labels=None, flatten=False):\n",
    "\n",
    "        batch_size, in_dim, _, num_channels = images.shape\n",
    "\n",
    "        #20 x 20\n",
    "\n",
    "\n",
    "        out_dim = int((in_dim - self.kernel_size) / self.stride) + 1  # calculate output dimensions\n",
    "\n",
    "        # create matrix to hold the chopped images\n",
    "        out_images = np.zeros((batch_size, out_dim, out_dim,\n",
    "                               self.kernel_size, self.kernel_size, num_channels))\n",
    "        out_labels = None\n",
    "\n",
    "        curr_y = out_y = 0\n",
    "        # move kernel vertically across the image\n",
    "        while curr_y + self.kernel_size <= in_dim:\n",
    "            curr_x = out_x = 0\n",
    "            # move kernel horizontally across the image\n",
    "            while curr_x + self.kernel_size <= in_dim:\n",
    "                # chop images\n",
    "                out_images[:, out_x, out_y] = images[:, curr_x:curr_x +\n",
    "                                                     self.kernel_size, curr_y:curr_y+self.kernel_size, :]\n",
    "                curr_x += self.stride\n",
    "                out_x += 1\n",
    "            curr_y += self.stride\n",
    "            out_y += 1\n",
    "\n",
    "        if flatten:\n",
    "            out_images = out_images.reshape(batch_size, out_dim, out_dim, -1)\n",
    "\n",
    "        if labels is not None:\n",
    "            out_labels = np.zeros((batch_size, out_dim, out_dim))\n",
    "            out_labels[:, ] = labels.reshape(-1, 1, 1)\n",
    "\n",
    "        return out_images, out_labels\n",
    "\n",
    "\n",
    "\n",
    "    def fit(self, images, labels):\n",
    "        MF_image = np.zeros(5)\n",
    "        self.num_classes = len(np.unique(labels))\n",
    "        if self.type == 'native':\n",
    "            batch_size, length, width,_ = images.shape\n",
    "\n",
    "\n",
    "            reshaped_images = images.reshape(batch_size, length*width)\n",
    "\n",
    "\n",
    "            self.forest = rerfClassifier(projection_matrix=\"S-RerF\",\n",
    "                                             n_estimators=self.num_trees,\n",
    "                                             n_jobs=cpu_count() - 1,\n",
    "                                             image_height=length,\n",
    "                                             image_width=width,\n",
    "                                             patch_height_min=self.patch_height_min,\n",
    "                                             patch_width_min=self.patch_width_min,\n",
    "                                             patch_height_max=self.patch_height_max,\n",
    "                                             patch_width_max=self.patch_height_min)\n",
    "            self.forest.fit(reshaped_images, labels)\n",
    "            #Is this necessary\n",
    "            #for i in range(length):\n",
    "            #    for j in range(width):\n",
    "            #        x = 1\n",
    "            #        MF_image[:, i, j] = np.array([approx_predict_proba_sample_wise(\n",
    "            #            sample) for sample in images[:, i, j]])[..., np.newaxis]\n",
    "\n",
    "            MF_image = self.forest.predict_proba(reshaped_images)\n",
    "\n",
    "        elif self.type == 'kernel_patches':\n",
    "            sub_images, sub_labels = self._convolve_chop(images, labels=labels, flatten=True)\n",
    "            batch_size, out_dim, _, _ = sub_images.shape\n",
    "            MF_image = np.zeros((images.shape[0], out_dim, out_dim, 1))\n",
    "            self.forest = np.zeros((out_dim, out_dim), dtype=np.int).tolist()\n",
    "\n",
    "            for i in range(out_dim):\n",
    "                for j in range(out_dim):\n",
    "                    self.forest[i][j] = rerfClassifier(projection_matrix=\"S-RerF\",\n",
    "                                                     n_estimators=self.num_trees,\n",
    "                                                     n_jobs=cpu_count() - 1,\n",
    "                                                     image_height=self.kernel_size,\n",
    "                                                     image_width=self.kernel_size,\n",
    "                                                     patch_height_min=self.patch_height_min,\n",
    "                                                     patch_width_min=self.patch_width_min,\n",
    "                                                     patch_height_max=self.patch_height_max,\n",
    "                                                     patch_width_max=self.patch_height_min)\n",
    "\n",
    "                    self.forest[i][j].fit(sub_images[:, i, j], sub_labels[:, i, j])\n",
    "                    MF_image[:, i, j] = self.forest[i][j].predict_proba(\n",
    "                        sub_images[:, i, j])[..., 1][..., np.newaxis]\n",
    "\n",
    "        return MF_image\n",
    "\n",
    "\n",
    "    def predict(self, images):\n",
    "        kernel_predictions = []\n",
    "        if not self.forest:\n",
    "            raise Exception(\"Should fit training data before  predicting\")\n",
    "\n",
    "        if self.type == 'native':\n",
    "            batch_size, length, width, _ = images.shape\n",
    "            reshaped_images = images.reshape(batch_size, length*width)\n",
    "            kernel_predictions = np.zeros((images.shape[0], length, width, 1))\n",
    "            kernel_predictions = self.forest.predict_proba(reshaped_images)\n",
    "\n",
    "        elif self.type == 'kernel_patches':\n",
    "            sub_images, _ = self._convolve_chop(images, flatten = True)\n",
    "            batch_size, out_dim, _, _ = sub_images.reshape\n",
    "            kernel_predictions = np.zeros((images.shape[0], out_dim, out_dim, self.num_classes))\n",
    "            for i in range(out_dim):\n",
    "                for j in range(out_dim):\n",
    "                    kernel_predictions[:, i, j] = self.forest[i][j].predict_proba(\n",
    "                            sub_images[:, i, j])\n",
    "        return kernel_predictions\n",
    "\n",
    "\n",
    "    def final_predict(self, images):\n",
    "        if not self.forest:\n",
    "            raise Exception(\"Should fit training data before  predicting\")\n",
    "\n",
    "        kernel_predictions = []\n",
    "\n",
    "        if self.type == 'native':\n",
    "            batch_size, length, width, _ = images.shape\n",
    "            reshaped_images = images.reshape(batch_size, length*width)\n",
    "            kernel_predictions = np.zeros((images.shape[0], length, width, 1))\n",
    "            kernel_predictions = self.forest.predict(reshaped_images)\n",
    "\n",
    "        if self.type == 'kernel_patches':\n",
    "            sub_images, _ = self._convolve_chop(images, flatten = True)\n",
    "            batch_size, out_dim, _, _ = sub_images.reshape\n",
    "            predictions = np.zeros((images.shape[0], self.num_classes))\n",
    "            for i in range(out_dim):\n",
    "                for j in range(out_dim):\n",
    "                        predictions[:,] = predictions[:,] + self.forest[i][j].predict_proba(\n",
    "                            sub_images[:, i, j])\n",
    "            kernel_predictions = np.argmax(predictions, axis = 1)\n",
    "\n",
    "\n",
    "        return kernel_predictions\n"
   ]
  },
  {
   "cell_type": "code",
   "execution_count": 27,
   "metadata": {},
   "outputs": [],
   "source": [
    "test= ConvMF(type = 'kernel_patches')"
   ]
  },
  {
   "cell_type": "code",
   "execution_count": 28,
   "metadata": {},
   "outputs": [
    {
     "ename": "KeyboardInterrupt",
     "evalue": "",
     "output_type": "error",
     "traceback": [
      "\u001b[0;31m---------------------------------------------------------------------------\u001b[0m",
      "\u001b[0;31mKeyboardInterrupt\u001b[0m                         Traceback (most recent call last)",
      "\u001b[0;32m<ipython-input-28-9d7462f3239e>\u001b[0m in \u001b[0;36m<module>\u001b[0;34m\u001b[0m\n\u001b[0;32m----> 1\u001b[0;31m \u001b[0mtest\u001b[0m\u001b[0;34m.\u001b[0m\u001b[0mfit\u001b[0m\u001b[0;34m(\u001b[0m\u001b[0mtrainset\u001b[0m\u001b[0;34m[\u001b[0m\u001b[0;36m0\u001b[0m\u001b[0;34m]\u001b[0m\u001b[0;34m,\u001b[0m \u001b[0mtrainset\u001b[0m\u001b[0;34m[\u001b[0m\u001b[0;36m1\u001b[0m\u001b[0;34m]\u001b[0m\u001b[0;34m)\u001b[0m\u001b[0;34m\u001b[0m\u001b[0;34m\u001b[0m\u001b[0m\n\u001b[0m",
      "\u001b[0;32m<ipython-input-26-3a5b55082485>\u001b[0m in \u001b[0;36mfit\u001b[0;34m(self, images, labels)\u001b[0m\n\u001b[1;32m    105\u001b[0m                                                      patch_width_max=self.patch_height_min)\n\u001b[1;32m    106\u001b[0m \u001b[0;34m\u001b[0m\u001b[0m\n\u001b[0;32m--> 107\u001b[0;31m                     \u001b[0mself\u001b[0m\u001b[0;34m.\u001b[0m\u001b[0mforest\u001b[0m\u001b[0;34m[\u001b[0m\u001b[0mi\u001b[0m\u001b[0;34m]\u001b[0m\u001b[0;34m[\u001b[0m\u001b[0mj\u001b[0m\u001b[0;34m]\u001b[0m\u001b[0;34m.\u001b[0m\u001b[0mfit\u001b[0m\u001b[0;34m(\u001b[0m\u001b[0msub_images\u001b[0m\u001b[0;34m[\u001b[0m\u001b[0;34m:\u001b[0m\u001b[0;34m,\u001b[0m \u001b[0mi\u001b[0m\u001b[0;34m,\u001b[0m \u001b[0mj\u001b[0m\u001b[0;34m]\u001b[0m\u001b[0;34m,\u001b[0m \u001b[0msub_labels\u001b[0m\u001b[0;34m[\u001b[0m\u001b[0;34m:\u001b[0m\u001b[0;34m,\u001b[0m \u001b[0mi\u001b[0m\u001b[0;34m,\u001b[0m \u001b[0mj\u001b[0m\u001b[0;34m]\u001b[0m\u001b[0;34m)\u001b[0m\u001b[0;34m\u001b[0m\u001b[0;34m\u001b[0m\u001b[0m\n\u001b[0m\u001b[1;32m    108\u001b[0m                     MF_image[:, i, j] = self.forest[i][j].predict_proba(\n\u001b[1;32m    109\u001b[0m                         sub_images[:, i, j])[..., 1][..., np.newaxis]\n",
      "\u001b[0;32m//anaconda3/lib/python3.7/site-packages/rerf/rerfClassifier.py\u001b[0m in \u001b[0;36mfit\u001b[0;34m(self, X, y)\u001b[0m\n\u001b[1;32m    316\u001b[0m         \u001b[0mself\u001b[0m\u001b[0;34m.\u001b[0m\u001b[0mforest_\u001b[0m\u001b[0;34m.\u001b[0m\u001b[0msetParameter\u001b[0m\u001b[0;34m(\u001b[0m\u001b[0;34m\"useRowMajor\"\u001b[0m\u001b[0;34m,\u001b[0m \u001b[0;36m1\u001b[0m\u001b[0;34m)\u001b[0m\u001b[0;34m\u001b[0m\u001b[0;34m\u001b[0m\u001b[0m\n\u001b[1;32m    317\u001b[0m \u001b[0;34m\u001b[0m\u001b[0m\n\u001b[0;32m--> 318\u001b[0;31m         \u001b[0mself\u001b[0m\u001b[0;34m.\u001b[0m\u001b[0mforest_\u001b[0m\u001b[0;34m.\u001b[0m\u001b[0m_growForestnumpy\u001b[0m\u001b[0;34m(\u001b[0m\u001b[0mX\u001b[0m\u001b[0;34m,\u001b[0m \u001b[0my\u001b[0m\u001b[0;34m,\u001b[0m \u001b[0mnum_obs\u001b[0m\u001b[0;34m,\u001b[0m \u001b[0mnum_features\u001b[0m\u001b[0;34m)\u001b[0m\u001b[0;34m\u001b[0m\u001b[0;34m\u001b[0m\u001b[0m\n\u001b[0m\u001b[1;32m    319\u001b[0m \u001b[0;34m\u001b[0m\u001b[0m\n\u001b[1;32m    320\u001b[0m         \u001b[0;31m# Store the classes seen during fit\u001b[0m\u001b[0;34m\u001b[0m\u001b[0;34m\u001b[0m\u001b[0;34m\u001b[0m\u001b[0m\n",
      "\u001b[0;31mKeyboardInterrupt\u001b[0m: "
     ]
    }
   ],
   "source": [
    "test.fit(trainset[0], trainset[1])"
   ]
  },
  {
   "cell_type": "code",
   "execution_count": 15,
   "metadata": {},
   "outputs": [
    {
     "data": {
      "text/plain": [
       "(10000, 12, 12, 5, 5, 1)"
      ]
     },
     "execution_count": 15,
     "metadata": {},
     "output_type": "execute_result"
    }
   ],
   "source": [
    "x.shape"
   ]
  },
  {
   "cell_type": "code",
   "execution_count": 29,
   "metadata": {},
   "outputs": [],
   "source": [
    "x = np.zeros((10,5))"
   ]
  },
  {
   "cell_type": "code",
   "execution_count": 30,
   "metadata": {},
   "outputs": [
    {
     "data": {
      "text/plain": [
       "(10, 5)"
      ]
     },
     "execution_count": 30,
     "metadata": {},
     "output_type": "execute_result"
    }
   ],
   "source": [
    "x.shape"
   ]
  },
  {
   "cell_type": "code",
   "execution_count": 31,
   "metadata": {},
   "outputs": [],
   "source": [
    "y = x[..., 1][..., np.newaxis]"
   ]
  },
  {
   "cell_type": "code",
   "execution_count": 32,
   "metadata": {},
   "outputs": [
    {
     "data": {
      "text/plain": [
       "(10, 1)"
      ]
     },
     "execution_count": 32,
     "metadata": {},
     "output_type": "execute_result"
    }
   ],
   "source": [
    "y.shape"
   ]
  },
  {
   "cell_type": "code",
   "execution_count": 52,
   "metadata": {},
   "outputs": [],
   "source": [
    "predictions = np.zeros((100, 5))\n",
    "predictions[:,] = [1, 1, 3, 1, 1]\n",
    "\n",
    "predictions = np.argmax(predictions, 1)"
   ]
  },
  {
   "cell_type": "code",
   "execution_count": 53,
   "metadata": {},
   "outputs": [
    {
     "name": "stdout",
     "output_type": "stream",
     "text": [
      "[2 2 2 2 2 2 2 2 2 2 2 2 2 2 2 2 2 2 2 2 2 2 2 2 2 2 2 2 2 2 2 2 2 2 2 2 2\n",
      " 2 2 2 2 2 2 2 2 2 2 2 2 2 2 2 2 2 2 2 2 2 2 2 2 2 2 2 2 2 2 2 2 2 2 2 2 2\n",
      " 2 2 2 2 2 2 2 2 2 2 2 2 2 2 2 2 2 2 2 2 2 2 2 2 2 2]\n"
     ]
    }
   ],
   "source": [
    "print (predictions)"
   ]
  },
  {
   "cell_type": "code",
   "execution_count": 54,
   "metadata": {},
   "outputs": [
    {
     "data": {
      "text/plain": [
       "11"
      ]
     },
     "execution_count": 54,
     "metadata": {},
     "output_type": "execute_result"
    }
   ],
   "source": [
    "int(11.5)"
   ]
  },
  {
   "cell_type": "code",
   "execution_count": null,
   "metadata": {},
   "outputs": [],
   "source": []
  }
 ],
 "metadata": {
  "kernelspec": {
   "display_name": "Python 3",
   "language": "python",
   "name": "python3"
  },
  "language_info": {
   "codemirror_mode": {
    "name": "ipython",
    "version": 3
   },
   "file_extension": ".py",
   "mimetype": "text/x-python",
   "name": "python",
   "nbconvert_exporter": "python",
   "pygments_lexer": "ipython3",
   "version": "3.7.3"
  }
 },
 "nbformat": 4,
 "nbformat_minor": 2
}
