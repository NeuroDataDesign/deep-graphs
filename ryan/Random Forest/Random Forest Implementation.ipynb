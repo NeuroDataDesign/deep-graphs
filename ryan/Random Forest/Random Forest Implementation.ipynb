{
 "cells": [
  {
   "cell_type": "code",
   "execution_count": 1,
   "metadata": {},
   "outputs": [],
   "source": [
    "import numpy as np\n",
    "import random\n",
    "from datetime import datetime\n",
    "\n",
    "from multiprocessing import cpu_count\n",
    "import numpy as np\n",
    "from rerf.RerF import fastPredict, fastPredictPost, fastRerF\n",
    "\n"
   ]
  },
  {
   "cell_type": "code",
   "execution_count": 2,
   "metadata": {},
   "outputs": [],
   "source": [
    "class DecisionNode:\n",
    "    \n",
    "    #Initialization\n",
    "        \n",
    "    def __init__(self, data, max_height, height = 0):\n",
    "        self.data = data\n",
    "        self.terminal = False\n",
    "        self.max_height = max_height\n",
    "        self.height = height\n",
    "    \n",
    "    \n",
    "    #Printing for debugging\n",
    "    def dataToString(self):\n",
    "        print(self.data)\n",
    "        \n",
    "    #Split node and create child nodes\n",
    "    def split(self):\n",
    "        if self.height == self.max_height or len(self.data) < 10:\n",
    "            self.terminal = True\n",
    "            self.prediction = max(set([row[-1] for row in self.data]), key = [row[-1] for row in self.data].count)\n",
    "        else:\n",
    "            (group_1, group_2, self.condition, self.feature, gi) = find_best_partition(self.data)\n",
    "        \n",
    "            if len(group_1) == 0 or len(group_2) == 0:\n",
    "                self.terminal = True\n",
    "                self.prediction = max(set([row[-1] for row in self.data]), key = [row[-1] for row in self.data].count)\n",
    "            else:\n",
    "                self.left = DecisionNode(group_1, self.max_height, self.height + 1)\n",
    "                self.right = DecisionNode(group_2, self.max_height, self.height + 1)\n",
    "                self.left.split()\n",
    "                self.right.split()\n",
    "    \n",
    "    def predict(self, test_data):\n",
    "        if self.terminal == True:\n",
    "            return self.prediction\n",
    "        else:     \n",
    "            if isinstance(test_data[self.feature], str):\n",
    "                if test_data[self.feature] == self.condition:\n",
    "                    return self.left.predict(test_data)\n",
    "                else:\n",
    "                    return self.right.predict(test_data)\n",
    "            else:\n",
    "                if test_data[self.feature] <= self.condition:\n",
    "                    return self.left.predict(test_data)\n",
    "                else:\n",
    "                    return self.right.predict(test_data)"
   ]
  },
  {
   "cell_type": "code",
   "execution_count": 3,
   "metadata": {},
   "outputs": [],
   "source": [
    "#Partitions data depending on condition\n",
    "def partition(data, feature, condition):\n",
    "    group_1 = [];\n",
    "    group_2 = [];\n",
    "    \n",
    "    if isinstance(data[0][feature], str):\n",
    "        for row in data:\n",
    "            if row[feature] == condition:\n",
    "                group_1.append(row)\n",
    "            else:\n",
    "                group_2.append(row)\n",
    "    else:\n",
    "        for row in data:\n",
    "            if row[feature] <= condition:\n",
    "                group_1.append(row)\n",
    "            else:\n",
    "                group_2.append(row)\n",
    "    return group_1, group_2\n",
    "\n",
    "\n",
    "#calculates Gini score of a group\n",
    "def gini_score(data):\n",
    "    classifications = [row[-1] for row in data]\n",
    "    num = len(classifications)\n",
    "    if num == 0:\n",
    "        return 1\n",
    "    conditions = list(set(classifications))\n",
    "    sum_ = 0\n",
    "    for i in conditions:\n",
    "        proportion = classifications.count(i)/num\n",
    "        sum_ = sum_ + proportion * (1 - proportion)\n",
    "    return sum_\n",
    "\n",
    "\n",
    "#find the best split\n",
    "def find_best_partition(data):\n",
    "    best_gini = 999;\n",
    "    \n",
    "    found = False\n",
    "    for i in range(len(data[0])-1):\n",
    "        possible_conditions = list(set([row[i] for row in data]))\n",
    "        for j in possible_conditions:\n",
    "            (group_1, group_2) = partition(data, i, j)\n",
    "            #if len(group_1) == 0 or len(group_2) == 0:\n",
    "            #    continue\n",
    "            \n",
    "            if len(group_1) < 10 or len(group_2) < 10:\n",
    "                continue\n",
    "            \n",
    "            \n",
    "            gini = gini_score(group_1) * len(group_1)/len(data) + gini_score(group_2) * len(group_2)/len(data)\n",
    "            if gini < best_gini:\n",
    "                found = True\n",
    "                best_gini = gini\n",
    "                best_group_1 = group_1\n",
    "                best_group_2 = group_2\n",
    "                best_condition = j\n",
    "                best_feature = i\n",
    "    if found == False:\n",
    "        best_condition = 1\n",
    "        best_feature = 1\n",
    "        best_group_1 = data\n",
    "        best_group_2 = []\n",
    "    return (best_group_1, best_group_2, best_condition, best_feature, best_gini)\n",
    "\n",
    "def build_tree(data, max_depth, min_size):\n",
    "    root = DecisionNode(data, max_depth)\n",
    "    root.split()\n",
    "    return root"
   ]
  },
  {
   "cell_type": "code",
   "execution_count": 4,
   "metadata": {},
   "outputs": [],
   "source": [
    "class RFDecisionNode:\n",
    "    \n",
    "    #Initialization\n",
    "        \n",
    "    def __init__(self, data, max_height, n_features, height = 0,):\n",
    "        self.data = data\n",
    "        self.terminal = False\n",
    "        self.max_height = max_height\n",
    "        self.height = height\n",
    "        self.n_features = n_features\n",
    "    \n",
    "    \n",
    "    #Printing for debugging\n",
    "    def dataToString(self):\n",
    "        print(self.data)\n",
    "        \n",
    "    #Split node and create child nodes\n",
    "    def split(self):\n",
    "        if self.height == self.max_height or len(self.data) < 10:\n",
    "            self.terminal = True\n",
    "            self.prediction = max(set([row[-1] for row in self.data]), key = [row[-1] for row in self.data].count)\n",
    "        else:\n",
    "            (group_1, group_2, self.condition, self.feature, gi) = RF_find_best_partition(self.data, self.n_features)\n",
    "\n",
    "            if len(group_1) == 0 or len(group_2) == 0:\n",
    "                self.terminal = True\n",
    "                self.prediction = max(set([row[-1] for row in self.data]), key = [row[-1] for row in self.data].count)\n",
    "            else:\n",
    "                self.left = RFDecisionNode(group_1, self.max_height, self.n_features , self.height + 1)\n",
    "                self.right = RFDecisionNode(group_2, self.max_height, self.n_features, self.height + 1)\n",
    "                self.left.split()\n",
    "                self.right.split()\n",
    "\n",
    "    \n",
    "    def predict(self, test_data):\n",
    "        if self.terminal == True:\n",
    "            return self.prediction\n",
    "        else:     \n",
    "            if isinstance(test_data[self.feature], str):\n",
    "                if test_data[self.feature] == self.condition:\n",
    "                    return self.left.predict(test_data)\n",
    "                else:\n",
    "                    return self.right.predict(test_data)\n",
    "            else:\n",
    "                if test_data[self.feature] <= self.condition:\n",
    "                    return self.left.predict(test_data)\n",
    "                else:\n",
    "                    return self.right.predict(test_data)\n",
    "                \n",
    "\n",
    "class RF:\n",
    "    def __init__(self, data, max_height, n_features, n_trees, n_bagging):\n",
    "        self.data = data\n",
    "        self.max_height = max_height\n",
    "        self.n_features = n_features\n",
    "        self.n_trees = n_trees\n",
    "        self.n_bagging = n_bagging\n",
    "         \n",
    "    def RF_build_tree(self, dat):\n",
    "        root = RFDecisionNode(dat, self.max_height, self.n_features)\n",
    "        root.split()\n",
    "        return root\n",
    "    \n",
    "    def create_model(self):\n",
    "        self.forest = [];\n",
    "        for i in range(self.n_trees):\n",
    "            chosen_input = random.sample(list(range(0, len(self.data))), self.n_bagging)\n",
    "            bag = [];\n",
    "            for j in chosen_input:\n",
    "                bag.append(self.data[j])\n",
    "            \n",
    "            temp = self.RF_build_tree(bag)\n",
    "            self.forest.append(temp)\n",
    "\n",
    "    \n",
    "    def predict(self, test_data):\n",
    "        temp_result = [];\n",
    "        for tree in self.forest:\n",
    "            temp_result.append(tree.predict(test_data))\n",
    "        return max(set(temp_result), key = temp_result.count)\n",
    "            "
   ]
  },
  {
   "cell_type": "code",
   "execution_count": 5,
   "metadata": {},
   "outputs": [],
   "source": [
    "#find the best split\n",
    "def RF_find_best_partition(data, n_features):\n",
    "    best_gini = 999;\n",
    "    \n",
    "    \n",
    "    #Choose random features\n",
    "    chosen_features = random.sample(list(range(0, len(data[0])-1)), n_features)\n",
    "    \n",
    "    found = False;\n",
    "    \n",
    "    for i in chosen_features:\n",
    "        possible_conditions = list(set([row[i] for row in data]))\n",
    "        \n",
    "        for j in possible_conditions:\n",
    "            (group_1, group_2) = partition(data, i, j)\n",
    "            if len(group_1) < 10 or len(group_2) < 10:\n",
    "                continue\n",
    "            #if len(group_1) == 0 or len(group_2) == 0:\n",
    "            #    continue\n",
    "            \n",
    "            gini = gini_score(group_1) * len(group_1)/len(data) + gini_score(group_2) * len(group_2)/len(data)\n",
    "            if gini < best_gini:\n",
    "                found = True;\n",
    "                best_gini = gini\n",
    "                best_group_1 = group_1\n",
    "                best_group_2 = group_2\n",
    "                best_condition = j\n",
    "                best_feature = i\n",
    "    if found == False:\n",
    "        best_condition = 1\n",
    "        best_feature = 1\n",
    "        best_group_1 = data\n",
    "        best_group_2 = []\n",
    "    return (best_group_1, best_group_2, best_condition, best_feature, best_gini)\n"
   ]
  },
  {
   "cell_type": "code",
   "execution_count": 6,
   "metadata": {},
   "outputs": [],
   "source": [
    "#Testing section#"
   ]
  },
  {
   "cell_type": "code",
   "execution_count": 7,
   "metadata": {},
   "outputs": [],
   "source": [
    "ctg_data = np.loadtxt('ctg.csv', dtype = np.float64, delimiter = ',')"
   ]
  },
  {
   "cell_type": "code",
   "execution_count": 26,
   "metadata": {},
   "outputs": [],
   "source": [
    "training_set = [];\n",
    "test_set = [];\n",
    "\n",
    "for row in ctg_data:\n",
    "    if random.random() < 0.7:\n",
    "        training_set.append(row)\n",
    "    else:\n",
    "        test_set.append(row)\n",
    "        \n",
    "training_set_no_label = np.array(np.delete(training_set, -1, axis = 1))\n",
    "training_set_labels = np.array(training_set)[:,-1]\n",
    "\n",
    "test_set_no_label = np.delete(test_set, -1, axis = 1)\n",
    "test_set_labels = np.array(test_set)[:,-1]"
   ]
  },
  {
   "cell_type": "code",
   "execution_count": 27,
   "metadata": {},
   "outputs": [
    {
     "name": "stdout",
     "output_type": "stream",
     "text": [
      "0:00:12.012729\n"
     ]
    }
   ],
   "source": [
    "#Training with Decision Tree\n",
    "startTime = datetime.now()\n",
    "dec_tree = build_tree(training_set, 5, 20)\n",
    "print(datetime.now() - startTime)"
   ]
  },
  {
   "cell_type": "code",
   "execution_count": 28,
   "metadata": {},
   "outputs": [],
   "source": [
    "\n",
    "results = [];"
   ]
  },
  {
   "cell_type": "code",
   "execution_count": 29,
   "metadata": {},
   "outputs": [
    {
     "name": "stdout",
     "output_type": "stream",
     "text": [
      "0.8134556574923547\n"
     ]
    }
   ],
   "source": [
    "for row in test_set_no_label:\n",
    "    results.append(dec_tree.predict(row))\n",
    "\n",
    "results = np.array(results)\n",
    "\n",
    "count = 0\n",
    "for i in range(len(results)):\n",
    "    if results[i] == test_set_labels[i]:\n",
    "        count += 1\n",
    "\n",
    "accuracy = count/len(results)\n",
    "print(accuracy)"
   ]
  },
  {
   "cell_type": "code",
   "execution_count": null,
   "metadata": {},
   "outputs": [],
   "source": []
  },
  {
   "cell_type": "code",
   "execution_count": 30,
   "metadata": {},
   "outputs": [
    {
     "name": "stdout",
     "output_type": "stream",
     "text": [
      "0:00:20.790052\n"
     ]
    }
   ],
   "source": [
    "startTime = datetime.now()\n",
    "randForest = RF(training_set, 5, 4, 50, 500)\n",
    "randForest.create_model()\n",
    "print(datetime.now() - startTime)"
   ]
  },
  {
   "cell_type": "code",
   "execution_count": 31,
   "metadata": {},
   "outputs": [
    {
     "name": "stdout",
     "output_type": "stream",
     "text": [
      "0.7737003058103975\n"
     ]
    }
   ],
   "source": [
    "results = []\n",
    "\n",
    "for row in test_set_no_label:\n",
    "    results.append(randForest.predict(row))\n",
    "\n",
    "results = np.array(results)\n",
    "\n",
    "count = 0\n",
    "for i in range(len(results)):\n",
    "    if results[i] == test_set_labels[i]:\n",
    "        count += 1\n",
    "\n",
    "accuracy = count/len(results)\n",
    "print(accuracy)"
   ]
  },
  {
   "cell_type": "code",
   "execution_count": null,
   "metadata": {},
   "outputs": [],
   "source": []
  },
  {
   "cell_type": "code",
   "execution_count": 32,
   "metadata": {},
   "outputs": [
    {
     "data": {
      "text/plain": [
       "RandomForestClassifier(bootstrap=True, class_weight=None, criterion='gini',\n",
       "                       max_depth=5, max_features=4, max_leaf_nodes=None,\n",
       "                       min_impurity_decrease=0.0, min_impurity_split=None,\n",
       "                       min_samples_leaf=1, min_samples_split=2,\n",
       "                       min_weight_fraction_leaf=0.0, n_estimators=50,\n",
       "                       n_jobs=None, oob_score=False, random_state=None,\n",
       "                       verbose=0, warm_start=False)"
      ]
     },
     "execution_count": 32,
     "metadata": {},
     "output_type": "execute_result"
    }
   ],
   "source": [
    "from sklearn.ensemble import RandomForestClassifier\n",
    "\n",
    "clf = RandomForestClassifier(n_estimators=50, max_depth=5, max_features = 4)\n",
    "\n",
    "\n",
    "\n",
    "clf.fit(training_set_no_label, training_set_labels)"
   ]
  },
  {
   "cell_type": "code",
   "execution_count": 33,
   "metadata": {},
   "outputs": [
    {
     "name": "stdout",
     "output_type": "stream",
     "text": [
      "0.7966360856269113\n"
     ]
    }
   ],
   "source": [
    "results = []\n",
    "\n",
    "for row in test_set_no_label:\n",
    "    a = np.array(row)[np.newaxis]\n",
    "    results.append(clf.predict(a))\n",
    "\n",
    "results = np.array(results)\n",
    "\n",
    "count = 0\n",
    "for i in range(len(results)):\n",
    "    if results[i] == test_set_labels[i]:\n",
    "        count += 1\n",
    "\n",
    "accuracy = count/len(results)\n",
    "print(accuracy)"
   ]
  },
  {
   "cell_type": "code",
   "execution_count": 34,
   "metadata": {},
   "outputs": [
    {
     "name": "stdout",
     "output_type": "stream",
     "text": [
      "[9. 6. 6. ... 5. 5. 1.]\n",
      "[8. 5. 5. ... 4. 4. 0.]\n"
     ]
    }
   ],
   "source": [
    "print(training_set_labels)\n",
    "training_set_labels = np.subtract(training_set_labels, 1)\n",
    "print(training_set_labels)\n",
    "test_set_labels = np.subtract(test_set_labels, 1)\n"
   ]
  },
  {
   "cell_type": "code",
   "execution_count": 35,
   "metadata": {},
   "outputs": [
    {
     "name": "stdout",
     "output_type": "stream",
     "text": [
      "0.8685015290519877\n"
     ]
    }
   ],
   "source": [
    "\n",
    "forest = fastRerF(\n",
    "    X=training_set_no_label, Y=training_set_labels, forestType=\"binnedBaseRerF\", trees=500, numCores=cpu_count()\n",
    ")\n",
    "\n",
    "#forest.printParameters()\n",
    "\n",
    "test_pred = fastPredict(test_set_no_label, forest)\n",
    "temp = 1 - np.mean(test_pred != test_set_labels)\n",
    "print(temp)"
   ]
  },
  {
   "cell_type": "code",
   "execution_count": null,
   "metadata": {},
   "outputs": [],
   "source": []
  },
  {
   "cell_type": "code",
   "execution_count": null,
   "metadata": {},
   "outputs": [],
   "source": []
  }
 ],
 "metadata": {
  "kernelspec": {
   "display_name": "Python 3",
   "language": "python",
   "name": "python3"
  },
  "language_info": {
   "codemirror_mode": {
    "name": "ipython",
    "version": 3
   },
   "file_extension": ".py",
   "mimetype": "text/x-python",
   "name": "python",
   "nbconvert_exporter": "python",
   "pygments_lexer": "ipython3",
   "version": "3.7.3"
  }
 },
 "nbformat": 4,
 "nbformat_minor": 2
}
