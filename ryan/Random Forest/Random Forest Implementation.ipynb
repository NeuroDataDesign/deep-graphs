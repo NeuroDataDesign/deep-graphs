{
 "cells": [
  {
   "cell_type": "code",
   "execution_count": 104,
   "metadata": {},
   "outputs": [],
   "source": [
    "import numpy as np\n",
    "import random"
   ]
  },
  {
   "cell_type": "code",
   "execution_count": 105,
   "metadata": {},
   "outputs": [],
   "source": [
    "class DecisionNode:\n",
    "    \n",
    "    #Initialization\n",
    "        \n",
    "    def __init__(self, data, max_height, height = 0):\n",
    "        self.data = data\n",
    "        self.terminal = False\n",
    "        self.max_height = max_height\n",
    "        self.height = height\n",
    "    \n",
    "    \n",
    "    #Printing for debugging\n",
    "    def dataToString(self):\n",
    "        print(self.data)\n",
    "        \n",
    "    #Split node and create child nodes\n",
    "    def split(self):\n",
    "        (group_1, group_2, self.condition, self.feature, gi) = find_best_partition(self.data)\n",
    "        \n",
    "        if len(group_1) == 0 or len(group_2) == 0 or self.height == self.max_height:\n",
    "            self.terminal = True\n",
    "            self.prediction = max(set([row[-1] for row in self.data]), key = [row[-1] for row in self.data].count)\n",
    "        else:\n",
    "            self.left = DecisionNode(group_1, self.max_height, self.height + 1)\n",
    "            self.right = DecisionNode(group_2, self.max_height, self.height + 1)\n",
    "            self.left.split()\n",
    "            self.right.split()\n",
    "    \n",
    "    def predict(self, test_data):\n",
    "        if self.terminal == True:\n",
    "            return self.prediction\n",
    "        else:     \n",
    "            if isinstance(test_data[self.feature], str):\n",
    "                if test_data[self.feature] == self.condition:\n",
    "                    return self.left.predict(test_data)\n",
    "                else:\n",
    "                    return self.right.predict(test_data)\n",
    "            else:\n",
    "                if test_data[self.feature] <= self.condition:\n",
    "                    return self.left.predict(test_data)\n",
    "                else:\n",
    "                    return self.right.predict(test_data)"
   ]
  },
  {
   "cell_type": "code",
   "execution_count": 106,
   "metadata": {},
   "outputs": [],
   "source": [
    "#Partitions data depending on condition\n",
    "def partition(data, feature, condition):\n",
    "    group_1 = [];\n",
    "    group_2 = [];\n",
    "    \n",
    "    if isinstance(data[0][feature], str):\n",
    "        for row in data:\n",
    "            if row[feature] == condition:\n",
    "                group_1.append(row)\n",
    "            else:\n",
    "                group_2.append(row)\n",
    "    else:\n",
    "        for row in data:\n",
    "            if row[feature] <= condition:\n",
    "                group_1.append(row)\n",
    "            else:\n",
    "                group_2.append(row)\n",
    "    return group_1, group_2\n",
    "\n",
    "\n",
    "#calculates Gini score of a group\n",
    "def gini_score(data):\n",
    "    classifications = [row[-1] for row in data]\n",
    "    num = len(classifications)\n",
    "    if num == 0:\n",
    "        return 1\n",
    "    conditions = list(set(classifications))\n",
    "    sum_ = 0\n",
    "    for i in conditions:\n",
    "        proportion = classifications.count(i)/num\n",
    "        sum_ = sum_ + proportion * (1 - proportion)\n",
    "    return sum_\n",
    "\n",
    "\n",
    "#find the best split\n",
    "def find_best_partition(data):\n",
    "    best_gini = 999;\n",
    "    \n",
    "    for i in range(len(data[0])-1):\n",
    "        possible_conditions = list(set([row[i] for row in data]))\n",
    "        for j in possible_conditions:\n",
    "            (group_1, group_2) = partition(data, i, j)\n",
    "            #if len(group_1) == 0 or len(group_2) == 0:\n",
    "            #    continue\n",
    "            \n",
    "            gini = gini_score(group_1) + gini_score(group_2)\n",
    "            if gini < best_gini:\n",
    "                best_gini = gini\n",
    "                best_group_1 = group_1\n",
    "                best_group_2 = group_2\n",
    "                best_condition = j\n",
    "                best_feature = i\n",
    "    return (best_group_1, best_group_2, best_condition, best_feature, best_gini)\n",
    "\n",
    "def build_tree(data, max_depth, min_size):\n",
    "    root = DecisionNode(data, max_depth)\n",
    "    root.split()\n",
    "    return root"
   ]
  },
  {
   "cell_type": "code",
   "execution_count": 120,
   "metadata": {},
   "outputs": [],
   "source": [
    "class RFDecisionNode:\n",
    "    \n",
    "    #Initialization\n",
    "        \n",
    "    def __init__(self, data, max_height, n_features, height = 0,):\n",
    "        self.data = data\n",
    "        self.terminal = False\n",
    "        self.max_height = max_height\n",
    "        self.height = height\n",
    "        self.n_features = n_features\n",
    "    \n",
    "    \n",
    "    #Printing for debugging\n",
    "    def dataToString(self):\n",
    "        print(self.data)\n",
    "        \n",
    "    #Split node and create child nodes\n",
    "    def split(self):\n",
    "        (group_1, group_2, self.condition, self.feature, gi) = RF_find_best_partition(self.data, self.n_features)\n",
    "        \n",
    "        if len(group_1) == 0 or len(group_2) == 0 or self.height == self.max_height:\n",
    "            self.terminal = True\n",
    "            self.prediction = max(set([row[-1] for row in self.data]), key = [row[-1] for row in self.data].count)\n",
    "        else:\n",
    "            self.left = RFDecisionNode(group_1, self.max_height, self.n_features , self.height + 1)\n",
    "            self.right = RFDecisionNode(group_2, self.max_height, self.n_features, self.height + 1)\n",
    "            self.left.split()\n",
    "            self.right.split()\n",
    "    \n",
    "    def predict(self, test_data):\n",
    "        if self.terminal == True:\n",
    "            return self.prediction\n",
    "        else:     \n",
    "            if isinstance(test_data[self.feature], str):\n",
    "                if test_data[self.feature] == self.condition:\n",
    "                    return self.left.predict(test_data)\n",
    "                else:\n",
    "                    return self.right.predict(test_data)\n",
    "            else:\n",
    "                if test_data[self.feature] <= self.condition:\n",
    "                    return self.left.predict(test_data)\n",
    "                else:\n",
    "                    return self.right.predict(test_data)\n",
    "                \n",
    "\n",
    "class RF:\n",
    "    def __init__(self, data, max_height, n_features, n_trees, n_bagging):\n",
    "        self.data = data\n",
    "        self.max_height = max_height\n",
    "        self.n_features = n_features\n",
    "        self.n_trees = n_trees\n",
    "        self.n_bagging = n_bagging\n",
    "         \n",
    "    def RF_build_tree(self, dat):\n",
    "        root = RFDecisionNode(dat, self.max_height, self.n_features)\n",
    "        root.split()\n",
    "        return root\n",
    "    \n",
    "    def create_model(self):\n",
    "        self.forest = [];\n",
    "        for i in range(self.n_trees):\n",
    "            #chosen_input = random.sample(list(range(0, len(self.data))), self.n_bagging)\n",
    "            #bag = [];\n",
    "            #for j in chosen_input:\n",
    "            #    bag.append(self.data[j])\n",
    "            \n",
    "           # temp = self.RF_build_tree(bag)\n",
    "            self.forest.append(self.RF_build_tree(self.data))\n",
    "            \n",
    "    \n",
    "    def predict(self, test_data):\n",
    "        temp_result = [];\n",
    "        for tree in self.forest:\n",
    "            temp_result.append(tree.predict(test_data))\n",
    "        return max(set(temp_result), key = temp_result.count)\n",
    "            "
   ]
  },
  {
   "cell_type": "code",
   "execution_count": 107,
   "metadata": {},
   "outputs": [],
   "source": [
    "#find the best split\n",
    "def RF_find_best_partition(data, n_features):\n",
    "    best_gini = 999;\n",
    "    \n",
    "    \n",
    "    #Choose random features\n",
    "    chosen_features = random.sample(list(range(0, len(data[0])-1)), n_features)\n",
    "    \n",
    "    \n",
    "    \n",
    "    for i in chosen_features:\n",
    "        possible_conditions = list(set([row[i] for row in data]))\n",
    "        \n",
    "        for j in possible_conditions:\n",
    "            (group_1, group_2) = partition(data, i, j)\n",
    "            #if len(group_1) == 0 or len(group_2) == 0:\n",
    "            #    continue\n",
    "            \n",
    "            gini = gini_score(group_1) + gini_score(group_2)\n",
    "            if gini < best_gini:\n",
    "                best_gini = gini\n",
    "                best_group_1 = group_1\n",
    "                best_group_2 = group_2\n",
    "                best_condition = j\n",
    "                best_feature = i\n",
    "    return (best_group_1, best_group_2, best_condition, best_feature, best_gini)\n"
   ]
  },
  {
   "cell_type": "code",
   "execution_count": 19,
   "metadata": {},
   "outputs": [],
   "source": [
    "#Testing section#"
   ]
  },
  {
   "cell_type": "code",
   "execution_count": 108,
   "metadata": {},
   "outputs": [],
   "source": [
    "letter_data = np.loadtxt('letter-recognition.data', dtype = 'int', delimiter = ',')\n",
    "letter_data[:,[0, -1]] = letter_data[:,[-1, 0]]"
   ]
  },
  {
   "cell_type": "code",
   "execution_count": 109,
   "metadata": {},
   "outputs": [],
   "source": [
    "training_set = [];\n",
    "test_set = [];\n",
    "\n",
    "for row in letter_data:\n",
    "    if random.random() < 0.7:\n",
    "        training_set.append(row)\n",
    "    else:\n",
    "        test_set.append(row)"
   ]
  },
  {
   "cell_type": "code",
   "execution_count": 124,
   "metadata": {},
   "outputs": [],
   "source": [
    "#Training with Decision Tree\n",
    "dec_tree = build_tree(training_set, 500, 20)"
   ]
  },
  {
   "cell_type": "code",
   "execution_count": 127,
   "metadata": {},
   "outputs": [],
   "source": [
    "test_set_no_label = np.delete(test_set, -1, axis = 1)\n",
    "test_set_labels = np.array(test_set)[:,-1]\n",
    "results = [];"
   ]
  },
  {
   "cell_type": "code",
   "execution_count": 128,
   "metadata": {},
   "outputs": [
    {
     "name": "stdout",
     "output_type": "stream",
     "text": [
      "0.7821881254169446\n"
     ]
    }
   ],
   "source": [
    "for row in test_set_no_label:\n",
    "    results.append(dec_tree.predict(row))\n",
    "\n",
    "results = np.array(results)\n",
    "\n",
    "count = 0\n",
    "for i in range(len(results)):\n",
    "    if results[i] == test_set_labels[i]:\n",
    "        count += 1\n",
    "\n",
    "accuracy = count/len(results)\n",
    "print(accuracy)"
   ]
  },
  {
   "cell_type": "code",
   "execution_count": null,
   "metadata": {},
   "outputs": [],
   "source": []
  },
  {
   "cell_type": "code",
   "execution_count": null,
   "metadata": {},
   "outputs": [],
   "source": [
    "randForest = RF(training_set, 20, 4, 500, 1500)\n",
    "randForest.create_model()"
   ]
  },
  {
   "cell_type": "code",
   "execution_count": 123,
   "metadata": {},
   "outputs": [
    {
     "name": "stdout",
     "output_type": "stream",
     "text": [
      "0.7620080053368913\n"
     ]
    }
   ],
   "source": [
    "results = []\n",
    "\n",
    "for row in test_set_no_label:\n",
    "    results.append(randForest.predict(row))\n",
    "\n",
    "results = np.array(results)\n",
    "\n",
    "count = 0\n",
    "for i in range(len(results)):\n",
    "    if results[i] == test_set_labels[i]:\n",
    "        count += 1\n",
    "\n",
    "accuracy = count/len(results)\n",
    "print(accuracy)"
   ]
  },
  {
   "cell_type": "code",
   "execution_count": null,
   "metadata": {},
   "outputs": [],
   "source": []
  },
  {
   "cell_type": "code",
   "execution_count": 117,
   "metadata": {},
   "outputs": [
    {
     "data": {
      "text/plain": [
       "RandomForestClassifier(bootstrap=True, class_weight=None, criterion='gini',\n",
       "                       max_depth=500, max_features=1, max_leaf_nodes=None,\n",
       "                       min_impurity_decrease=0.0, min_impurity_split=None,\n",
       "                       min_samples_leaf=1, min_samples_split=2,\n",
       "                       min_weight_fraction_leaf=0.0, n_estimators=100,\n",
       "                       n_jobs=None, oob_score=False, random_state=None,\n",
       "                       verbose=0, warm_start=False)"
      ]
     },
     "execution_count": 117,
     "metadata": {},
     "output_type": "execute_result"
    }
   ],
   "source": [
    "from sklearn.ensemble import RandomForestClassifier\n",
    "\n",
    "clf = RandomForestClassifier(n_estimators=100, max_depth=500, max_features = 1)\n",
    "\n",
    "training_set_no_label = np.delete(training_set, -1, axis = 1)\n",
    "training_set_labels = np.array(training_set)[:,-1]\n",
    "\n",
    "clf.fit(training_set_no_label, training_set_labels)"
   ]
  },
  {
   "cell_type": "code",
   "execution_count": 118,
   "metadata": {},
   "outputs": [
    {
     "name": "stdout",
     "output_type": "stream",
     "text": [
      "0.9479653102068045\n"
     ]
    }
   ],
   "source": [
    "results = []\n",
    "\n",
    "for row in test_set_no_label:\n",
    "    a = np.array(row)[np.newaxis]\n",
    "    results.append(clf.predict(a))\n",
    "\n",
    "results = np.array(results)\n",
    "\n",
    "count = 0\n",
    "for i in range(len(results)):\n",
    "    if results[i] == test_set_labels[i]:\n",
    "        count += 1\n",
    "\n",
    "accuracy = count/len(results)\n",
    "print(accuracy)"
   ]
  },
  {
   "cell_type": "code",
   "execution_count": null,
   "metadata": {},
   "outputs": [],
   "source": []
  },
  {
   "cell_type": "code",
   "execution_count": null,
   "metadata": {},
   "outputs": [],
   "source": []
  },
  {
   "cell_type": "code",
   "execution_count": null,
   "metadata": {},
   "outputs": [],
   "source": []
  }
 ],
 "metadata": {
  "kernelspec": {
   "display_name": "Python 3",
   "language": "python",
   "name": "python3"
  },
  "language_info": {
   "codemirror_mode": {
    "name": "ipython",
    "version": 3
   },
   "file_extension": ".py",
   "mimetype": "text/x-python",
   "name": "python",
   "nbconvert_exporter": "python",
   "pygments_lexer": "ipython3",
   "version": "3.7.3"
  }
 },
 "nbformat": 4,
 "nbformat_minor": 2
}
