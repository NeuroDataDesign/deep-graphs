{
 "cells": [
  {
   "cell_type": "code",
   "execution_count": 1,
   "metadata": {},
   "outputs": [],
   "source": [
    "import numpy as np\n",
    "from skimage.filters.rank import equalize\n",
    "from skimage.exposure import equalize_hist\n",
    "from skimage.morphology import disk, ball\n",
    "import skimage.util"
   ]
  },
  {
   "cell_type": "markdown",
   "metadata": {},
   "source": [
    "# Cube Neighborhood Test\n",
    "\n",
    "The previous implementation of local histogram equalization works only on 2D images. Local histogram equalization extracts the local neighborhood of every pixel, generates a histogram, flattens the histogram, and then uses the flattened histogram to remap the pixel to another intensity value.\n",
    "\n",
    "\n",
    "In order to test the 3D implementation, I created a test_volume of random integers from 0 to 255. When the equalization algorithm is run, each voxel will be remapped based off the local histogram. To calculate the expected value based off of the working 2D implementation, I extracted a 3x3x3 neighborhood for each voxel and flattened that neighbhorhood into a 2D array. Since only the center of the neighborhood, the original voxel to be remapped, is going to change, I arranged the flattened 2D array so that the first pixel in the flattened array corresponds to the original voxel. I then ran the 2D equalize function using a neighbhorhood that was far bigger than the array. Thus, for that first pixel in that 2D array, the neighborhood used to equalize the pixel is exactly the same as the 3x3x3 neighborhood used to equalize the voxel from the volume. I then compared this calculation to my actual 3D implementation."
   ]
  },
  {
   "cell_type": "code",
   "execution_count": 2,
   "metadata": {},
   "outputs": [],
   "source": [
    "# Generates Random Volume\n",
    "np.random.seed(5)\n",
    "test_volume = np.random.randint(0, high = 256, size = (10,10,10), dtype = np.uint16)\n",
    "correct_output = np.empty((10,10,10), dtype = np.uint16)"
   ]
  },
  {
   "cell_type": "code",
   "execution_count": 3,
   "metadata": {
    "scrolled": true
   },
   "outputs": [],
   "source": [
    "# Loops through every voxel\n",
    "for i in range(10):\n",
    "    for j in range(10):\n",
    "        for k in range(10):\n",
    "            \n",
    "            pixels = []\n",
    "            # Collects pixels from local 3 x 3 Cubic Neighborhood\n",
    "            # S, R, C start with 0 so that first pixel to be added is the same as the voxel\n",
    "            for s in [0, -1, 1]:\n",
    "                for r in [0, -1, 1]:\n",
    "                    for c in [0, -1, 1]:\n",
    "                        ss = i + s\n",
    "                        rr = j + r\n",
    "                        cc = k + c\n",
    "                        \n",
    "                        if (ss >= 0 and rr >= 0 and cc >= 0 and ss < 10 and rr < 10 and cc < 10):\n",
    "                            pixels.append(test_volume[ss][rr][cc])\n",
    "            # Reshaping to a 2D numpy array\n",
    "            pixels = np.asarray(pixels, dtype = np.uint8)\n",
    "            pixels = pixels[np.newaxis].T\n",
    "            \n",
    "            # Equalizing 2D array with old implementation\n",
    "            temp = equalize(pixels, disk(50))\n",
    "            \n",
    "            # Filling in Correct Output Volume with calculated value\n",
    "            correct_output[i][j][k] = temp[0][0]\n",
    "            \n",
    "            "
   ]
  },
  {
   "cell_type": "code",
   "execution_count": 4,
   "metadata": {},
   "outputs": [],
   "source": [
    "# Running 3D Equalization\n",
    "\n",
    "# Sel is local neighborhood, using a 3x3x3 cube that matches for loop from earlier\n",
    "sel = np.ones([3,3,3], dtype = np.uint16)\n",
    "computed_output = equalize(test_volume, sel)"
   ]
  },
  {
   "cell_type": "code",
   "execution_count": 5,
   "metadata": {},
   "outputs": [
    {
     "name": "stdout",
     "output_type": "stream",
     "text": [
      "Calculated Output Matches Correct Output!\n"
     ]
    }
   ],
   "source": [
    "np.testing.assert_equal(correct_output, computed_output)\n",
    "print(\"Calculated Output Matches Correct Output!\")"
   ]
  },
  {
   "cell_type": "markdown",
   "metadata": {},
   "source": [
    "# Ball Test\n",
    "\n",
    "This is a similar test to the last one. This matches the unit test in the PyTest. A ball of radius 1 is used instead of a 3x3x3 cube. The warnings are expected by the PyTests. I kept the test this way since the previous tests in the package checked that the warnings appeared as well."
   ]
  },
  {
   "cell_type": "code",
   "execution_count": 6,
   "metadata": {},
   "outputs": [],
   "source": [
    "# Generates Random Volume\n",
    "np.random.seed(0)\n",
    "test_volume = np.random.rand(10,10,10)\n",
    "correct_output = np.empty((10,10,10), dtype = np.uint16)"
   ]
  },
  {
   "cell_type": "code",
   "execution_count": 7,
   "metadata": {},
   "outputs": [
    {
     "name": "stderr",
     "output_type": "stream",
     "text": [
      "/Users/RyanLu/Documents/scikit-image/skimage/filters/rank/generic.py:174: UserWarning: Possible precision loss converting image of type float64 to uint8 as required by rank filters. Convert manually using skimage.util.img_as_ubyte to silence this warning.\n",
      "  out_dtype)\n"
     ]
    }
   ],
   "source": [
    "# Actual Expected Value\n",
    "\n",
    "#Creates a local neighborhood that is a sphere with radius 1\n",
    "neighborhood = ball(1);\n",
    "for i in range(10):\n",
    "    for j in range(10):\n",
    "        for k in range(10):\n",
    "            \n",
    "            pixels = []\n",
    "            #Collecting local neighborhood\n",
    "            for s in [0, -1, 1]:\n",
    "                for r in [0, -1, 1]:\n",
    "                    for c in [0, -1, 1]:\n",
    "                        if (neighborhood[s+1][r+1][c+1]):\n",
    "                            ss = i + s\n",
    "                            rr = j + r\n",
    "                            cc = k + c\n",
    "\n",
    "                            if (ss >= 0 and rr >= 0 and cc >= 0 and ss < 10 and rr < 10 and cc < 10):\n",
    "                                pixels.append(test_volume[ss][rr][cc])\n",
    "            pixels = np.asarray(pixels)\n",
    "            pixels = pixels[np.newaxis].T\n",
    "            temp = equalize(pixels, disk(50))\n",
    "            correct_output[i][j][k] = temp[0][0]"
   ]
  },
  {
   "cell_type": "code",
   "execution_count": 8,
   "metadata": {},
   "outputs": [
    {
     "name": "stderr",
     "output_type": "stream",
     "text": [
      "/Users/RyanLu/Documents/scikit-image/skimage/filters/rank/generic.py:186: UserWarning: Possible precision loss converting image of type float64 to uint8 as required by rank filters. Convert manually using skimage.util.img_as_ubyte to silence this warning.\n",
      "  out_dtype)\n"
     ]
    }
   ],
   "source": [
    "# Running 3D Equalization\n",
    "computed_output = equalize(test_volume, ball(1))"
   ]
  },
  {
   "cell_type": "code",
   "execution_count": 9,
   "metadata": {},
   "outputs": [
    {
     "name": "stdout",
     "output_type": "stream",
     "text": [
      "Calculated Output Matches Correct Output!\n"
     ]
    }
   ],
   "source": [
    "np.testing.assert_equal(correct_output, computed_output)\n",
    "print(\"Calculated Output Matches Correct Output!\")"
   ]
  },
  {
   "cell_type": "markdown",
   "metadata": {},
   "source": [
    "# Proof that Z-Shift Changes Results\n",
    "\n",
    "By default, the voxel to be changed is placed at the center of the neighborhood. Arguments can be added to change to shift this center, which should shift the results. I will use the same volume as before. The Z Shift is a new argument I added."
   ]
  },
  {
   "cell_type": "code",
   "execution_count": 10,
   "metadata": {},
   "outputs": [],
   "source": [
    "# Running 3D Equalization\n",
    "computed_output = equalize(test_volume, ball(1), shift_z = 1)"
   ]
  },
  {
   "cell_type": "code",
   "execution_count": 11,
   "metadata": {},
   "outputs": [
    {
     "name": "stdout",
     "output_type": "stream",
     "text": [
      "Shift-Z Changes Output!\n"
     ]
    }
   ],
   "source": [
    "assert not np.array_equal(correct_output, computed_output)\n",
    "print(\"Shift-Z Changes Output!\")"
   ]
  },
  {
   "cell_type": "code",
   "execution_count": 12,
   "metadata": {},
   "outputs": [],
   "source": [
    "# Calculating Expected with Cube\n",
    "np.random.seed(5)\n",
    "test_volume = np.random.randint(0, high = 256, size = (10,10,10), dtype = np.uint16)\n",
    "correct_output = np.empty((10,10,10), dtype = np.uint16)\n",
    "\n",
    "# Loops through every voxel\n",
    "for i in range(10):\n",
    "    for j in range(10):\n",
    "        for k in range(10):\n",
    "            \n",
    "            pixels = []\n",
    "            # Collects pixels from local 3 x 3 Cubic Neighborhood\n",
    "            # S, R, C start with 0 so that first pixel to be added is the same as the voxel\n",
    "            for s in [0, -1, 1]:\n",
    "                for r in [0, -1, 1]:\n",
    "                    # C changes because of z shift\n",
    "                    for c in [0, -1, -2]:\n",
    "                        ss = i + s\n",
    "                        rr = j + r\n",
    "                        cc = k + c\n",
    "                        \n",
    "                        if (ss >= 0 and rr >= 0 and cc >= 0 and ss < 10 and rr < 10 and cc < 10):\n",
    "                            pixels.append(test_volume[ss][rr][cc])\n",
    "            # Reshaping to a 2D numpy array\n",
    "            pixels = np.asarray(pixels, dtype = np.uint8)\n",
    "            pixels = pixels[np.newaxis].T\n",
    "            \n",
    "            # Equalizing 2D array with old implementation\n",
    "            temp = equalize(pixels, disk(50))\n",
    "            \n",
    "            # Filling in Correct Output Volume with calculated value\n",
    "            correct_output[i][j][k] = temp[0][0]\n",
    "            \n",
    "            "
   ]
  },
  {
   "cell_type": "code",
   "execution_count": 13,
   "metadata": {},
   "outputs": [],
   "source": [
    "# Running 3D Equalization\n",
    "sel = np.ones([3,3,3], dtype = np.uint16)\n",
    "computed_output = equalize(test_volume, sel, shift_z = 1)"
   ]
  },
  {
   "cell_type": "code",
   "execution_count": 14,
   "metadata": {},
   "outputs": [
    {
     "name": "stdout",
     "output_type": "stream",
     "text": [
      "Calculated Output Matches Correct Output!\n"
     ]
    }
   ],
   "source": [
    "np.testing.assert_equal(correct_output, computed_output)\n",
    "print(\"Calculated Output Matches Correct Output!\")"
   ]
  },
  {
   "cell_type": "markdown",
   "metadata": {},
   "source": [
    "# Comparison to 2D on Each Slice\n",
    "\n",
    "The computed result should be different from just simply running a 2D equalizer on each slice"
   ]
  },
  {
   "cell_type": "code",
   "execution_count": 15,
   "metadata": {},
   "outputs": [],
   "source": [
    "sliced = np.empty((10,10,10), dtype = np.uint16)\n",
    "\n",
    "for i in range(10):\n",
    "    sliced[i] = equalize(test_volume[i], disk(1))\n",
    "\n",
    "output_3d = equalize(test_volume, ball(1))"
   ]
  },
  {
   "cell_type": "code",
   "execution_count": 16,
   "metadata": {},
   "outputs": [
    {
     "name": "stdout",
     "output_type": "stream",
     "text": [
      "Satcked 2D Output Slices and 3D Output Correctly DO NOT Match!\n"
     ]
    }
   ],
   "source": [
    "assert not np.array_equal(sliced, output_3d)\n",
    "print(\"Satcked 2D Output Slices and 3D Output Correctly DO NOT Match!\")"
   ]
  },
  {
   "cell_type": "markdown",
   "metadata": {},
   "source": [
    "# Unsigned 8-bit Int vs. Float Input\n",
    "\n",
    "The algorithm should get the same result even if the dtype of the image is different. They should be converted to 8 bit unsigned ints."
   ]
  },
  {
   "cell_type": "code",
   "execution_count": 17,
   "metadata": {},
   "outputs": [],
   "source": [
    "np.random.seed(0)\n",
    "volume_uint = np.random.randint(0, high = 256, size = (10, 10, 10), dtype = np.uint8)\n",
    "volume_float = skimage.util.img_as_float(volume_uint)\n",
    "\n",
    "output_uint = equalize(volume_uint, ball(3))\n",
    "output_float = equalize(volume_float, ball(3))"
   ]
  },
  {
   "cell_type": "code",
   "execution_count": 18,
   "metadata": {},
   "outputs": [
    {
     "name": "stdout",
     "output_type": "stream",
     "text": [
      "Outputs are Equal!\n"
     ]
    }
   ],
   "source": [
    "np.testing.assert_equal(output_uint, output_float)\n",
    "print(\"Outputs are Equal!\")"
   ]
  },
  {
   "cell_type": "markdown",
   "metadata": {},
   "source": [
    "# Selem (neighborhood) and Image Dimensionality\n",
    "\n",
    "The dimensions of the neighborhood must match the image, otherwise an error will be thrown. This is a feature I added."
   ]
  },
  {
   "cell_type": "code",
   "execution_count": 19,
   "metadata": {},
   "outputs": [
    {
     "name": "stdout",
     "output_type": "stream",
     "text": [
      "Error Caught Correctly!\n"
     ]
    }
   ],
   "source": [
    "sel = np.ones((1,1))\n",
    "try:\n",
    "    equalize(test_volume, sel)\n",
    "except ValueError:\n",
    "    print(\"Error Caught Correctly!\")"
   ]
  }
 ],
 "metadata": {
  "kernelspec": {
   "display_name": "Python 3",
   "language": "python",
   "name": "python3"
  },
  "language_info": {
   "codemirror_mode": {
    "name": "ipython",
    "version": 3
   },
   "file_extension": ".py",
   "mimetype": "text/x-python",
   "name": "python",
   "nbconvert_exporter": "python",
   "pygments_lexer": "ipython3",
   "version": "3.7.3"
  }
 },
 "nbformat": 4,
 "nbformat_minor": 2
}
