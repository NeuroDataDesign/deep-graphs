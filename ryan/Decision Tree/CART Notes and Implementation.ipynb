{
 "cells": [
  {
   "cell_type": "markdown",
   "metadata": {},
   "source": [
    "**Classification and Regression Trees**\n",
    "\n",
    "* Algorithm that basically makes decisions by creating a tree where each node represents a condition, each edge is a decision on that specific condition, and the leaf is the overall classification/regression output\n",
    "* Recursive binary splitting is used to find the best splits by measuring the cost of each split\n",
    "* Two potential cost functions:\n",
    "\n",
    "$$\\sum_{i=1}^{n} (y_i - prediction)^2 $$\n",
    "\n",
    "or\n",
    "\n",
    "$$\\sum_{i=1}^{k} (p_i * (1 - p_i))$$\n",
    "\n",
    "where k is the number of labels, and $p_i$ is the proportion of class inputs that are labelled i in the group.\n",
    "\n",
    "\n",
    "* Tree controls: can set minimum number of inputs to use on each leaf, maximum depth of tree, and pruning (removing branches with low-importance features)\n",
    "\n",
    "\n",
    "https://towardsdatascience.com/decision-trees-in-machine-learning-641b9c4e8052"
   ]
  },
  {
   "cell_type": "code",
   "execution_count": 19,
   "metadata": {},
   "outputs": [],
   "source": [
    "import numpy as np\n",
    "import random\n",
    "\n",
    "training_data = np.array([\n",
    "    ['Green', 3, 'Apple'],\n",
    "    ['Yellow', 3, 'Apple'],\n",
    "    ['Red', 1, 'Grape'],\n",
    "    ['Red', 1, 'Grape'],\n",
    "    ['Yellow', 3, 'Lemon'],\n",
    "])"
   ]
  },
  {
   "cell_type": "code",
   "execution_count": 3,
   "metadata": {},
   "outputs": [],
   "source": [
    "class DecisionNode:\n",
    "    \n",
    "    #Initialization\n",
    "    def __init__(self, data):\n",
    "        self.data = data\n",
    "        self.terminal = False\n",
    "    \n",
    "    #Printing for debugging\n",
    "    def dataToString(self):\n",
    "        print(self.data)\n",
    "        \n",
    "    #Split node and create child nodes\n",
    "    def split(self):\n",
    "        (group_1, group_2, self.condition, self.feature, gi) = find_best_partition(self.data)\n",
    "        \n",
    "        if len(group_1) == 0 or len(group_2) == 0:\n",
    "            self.terminal = True\n",
    "            self.prediction = max(set([row[-1] for row in self.data]), key = [row[-1] for row in self.data].count)\n",
    "        else:\n",
    "            self.left = DecisionNode(group_1)\n",
    "            self.right = DecisionNode(group_2)\n",
    "            self.left.split()\n",
    "            self.right.split()\n",
    "    \n",
    "    def predict(self, test_data):\n",
    "        if self.terminal == True:\n",
    "            return self.prediction\n",
    "        else:     \n",
    "            if isinstance(test_data[self.feature], str):\n",
    "                if test_data[self.feature] == self.condition:\n",
    "                    return self.left.predict(test_data)\n",
    "                else:\n",
    "                    return self.right.predict(test_data)\n",
    "            else:\n",
    "                if test_data[self.feature] <= self.condition:\n",
    "                    return self.left.predict(test_data)\n",
    "                else:\n",
    "                    return self.right.predict(test_data)"
   ]
  },
  {
   "cell_type": "code",
   "execution_count": 4,
   "metadata": {},
   "outputs": [],
   "source": [
    "#Partitions data depending on condition\n",
    "def partition(data, feature, condition):\n",
    "    group_1 = [];\n",
    "    group_2 = [];\n",
    "    \n",
    "    if isinstance(data[0][feature], str):\n",
    "        for row in data:\n",
    "            if row[feature] == condition:\n",
    "                group_1.append(row)\n",
    "            else:\n",
    "                group_2.append(row)\n",
    "    else:\n",
    "        for row in data:\n",
    "            if row[feature] <= condition:\n",
    "                group_1.append(row)\n",
    "            else:\n",
    "                group_2.append(row)\n",
    "    return group_1, group_2\n",
    "\n",
    "\n",
    "#calculates Gini score of a group\n",
    "def gini_score(data):\n",
    "    classifications = [row[-1] for row in data]\n",
    "    num = len(classifications)\n",
    "    if num == 0:\n",
    "        return 1\n",
    "    conditions = list(set(classifications))\n",
    "    sum_ = 0\n",
    "    for i in conditions:\n",
    "        proportion = classifications.count(i)/num\n",
    "        sum_ = sum_ + proportion * (1 - proportion)\n",
    "    return sum_\n",
    "\n",
    "\n",
    "#find the best split\n",
    "def find_best_partition(data):\n",
    "    best_gini = 999;\n",
    "    \n",
    "    for i in range(len(data[0])-1):\n",
    "        possible_conditions = list(set([row[i] for row in data]))\n",
    "        for j in possible_conditions:\n",
    "            (group_1, group_2) = partition(data, i, j)\n",
    "            #if len(group_1) == 0 or len(group_2) == 0:\n",
    "            #    continue\n",
    "            \n",
    "            gini = gini_score(group_1) + gini_score(group_2)\n",
    "            if gini < best_gini:\n",
    "                best_gini = gini\n",
    "                best_group_1 = group_1\n",
    "                best_group_2 = group_2\n",
    "                best_condition = j\n",
    "                best_feature = i\n",
    "    return (best_group_1, best_group_2, best_condition, best_feature, best_gini)\n",
    "\n",
    "def build_tree(data, max_depth, min_size):\n",
    "    root = DecisionNode(data)\n",
    "    root.split()\n",
    "    return root"
   ]
  },
  {
   "cell_type": "code",
   "execution_count": 20,
   "metadata": {},
   "outputs": [],
   "source": [
    "mushroom_data = np.loadtxt('agaricus-lepiota.data', dtype = 'str', delimiter=',')\n",
    "mushroom_data = np.delete(mushroom_data, 11, axis = 1)\n",
    "mushroom_data[:,[0,21]] = mushroom_data[:,[21,0]]"
   ]
  },
  {
   "cell_type": "code",
   "execution_count": 53,
   "metadata": {},
   "outputs": [],
   "source": [
    "training_set = [];\n",
    "test_set = [];\n",
    "\n",
    "for row in mushroom_data:\n",
    "    if random.random() < 0.001:\n",
    "        training_set.append(row)\n",
    "    else:\n",
    "        test_set.append(row)            "
   ]
  },
  {
   "cell_type": "code",
   "execution_count": 54,
   "metadata": {},
   "outputs": [],
   "source": [
    "dec_tree = build_tree(training_set, 5, 5)"
   ]
  },
  {
   "cell_type": "code",
   "execution_count": 55,
   "metadata": {},
   "outputs": [
    {
     "name": "stdout",
     "output_type": "stream",
     "text": [
      "0.7111521873074553\n"
     ]
    }
   ],
   "source": [
    "test_set_no_label = np.delete(test_set, 21, axis = 1)\n",
    "test_set_labels = np.array(test_set)[:,21]\n",
    "results = [];\n",
    "\n",
    "for row in test_set_no_label:\n",
    "    results.append(dec_tree.predict(row))\n",
    "\n",
    "results = np.array(results)\n",
    "\n",
    "count = 0\n",
    "for i in range(len(results)):\n",
    "    if results[i] == test_set_labels[i]:\n",
    "        count += 1\n",
    "\n",
    "accuracy = count/len(results)\n",
    "print(accuracy)"
   ]
  },
  {
   "cell_type": "code",
   "execution_count": 35,
   "metadata": {},
   "outputs": [
    {
     "name": "stdout",
     "output_type": "stream",
     "text": [
      "['e' 'e' 'e' ... 'e' 'p' 'e']\n"
     ]
    }
   ],
   "source": []
  },
  {
   "cell_type": "code",
   "execution_count": null,
   "metadata": {},
   "outputs": [],
   "source": []
  },
  {
   "cell_type": "code",
   "execution_count": null,
   "metadata": {},
   "outputs": [],
   "source": []
  }
 ],
 "metadata": {
  "kernelspec": {
   "display_name": "Python 3",
   "language": "python",
   "name": "python3"
  },
  "language_info": {
   "codemirror_mode": {
    "name": "ipython",
    "version": 3
   },
   "file_extension": ".py",
   "mimetype": "text/x-python",
   "name": "python",
   "nbconvert_exporter": "python",
   "pygments_lexer": "ipython3",
   "version": "3.7.3"
  }
 },
 "nbformat": 4,
 "nbformat_minor": 2
}
