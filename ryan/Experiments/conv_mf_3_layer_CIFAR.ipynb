{
 "cells": [
  {
   "cell_type": "code",
   "execution_count": 29,
   "metadata": {},
   "outputs": [],
   "source": [
    "import sys\n",
    "sys.path.insert(0, '../../../savanna/')\n",
    "\n",
    "from savanna.utils.dataset import *\n",
    "from savanna.inference.conv_mf import ConvMF\n",
    "import matplotlib.pyplot as plt\n",
    "\n",
    "import torch\n",
    "import torch.nn as nn\n",
    "import torch.nn.functional as F\n",
    "\n",
    "\n",
    "class CustomNet(nn.Module):\n",
    "    def __init__(self):\n",
    "        super(CustomNet, self).__init__()\n",
    "        self.fc1 = nn.Linear(250, 200)\n",
    "        self.fc2 = nn.Linear(200, 80)\n",
    "        self.fc3 = nn.Linear(80, 10)\n",
    "\n",
    "    def forward(self, b):\n",
    "        d = b.view(-1, 250)\n",
    "        d = F.relu(self.fc1(d))\n",
    "        d = F.relu(self.fc2(d))\n",
    "        d = self.fc3(d)\n",
    "        return d"
   ]
  },
  {
   "cell_type": "code",
   "execution_count": null,
   "metadata": {},
   "outputs": [],
   "source": [
    "#Data Loading\n",
    "#trainset, testset = get_dataset(\"./CIFAR\", \"CIFAR10\", is_numpy=False)\n",
    "#train_images = trainset.data\n",
    "#train_labels = trainset.targets\n",
    "\n",
    "#test_images = testset.data\n",
    "#test_labels = testset.targets"
   ]
  },
  {
   "cell_type": "code",
   "execution_count": 2,
   "metadata": {},
   "outputs": [
    {
     "name": "stdout",
     "output_type": "stream",
     "text": [
      "Files already downloaded and verified\n",
      "Files already downloaded and verified\n"
     ]
    }
   ],
   "source": [
    "#Data Loading\n",
    "(train_images, train_labels), (test_images, test_labels) = get_dataset(\"./CIFAR\", \"CIFAR10\", is_numpy=True)"
   ]
  },
  {
   "cell_type": "code",
   "execution_count": 3,
   "metadata": {},
   "outputs": [
    {
     "name": "stdout",
     "output_type": "stream",
     "text": [
      "(50000, 32, 32, 3)\n",
      "(10000, 32, 32, 3)\n"
     ]
    }
   ],
   "source": [
    "#Image sizes\n",
    "print(train_images.shape)\n",
    "print(test_images.shape)"
   ]
  },
  {
   "cell_type": "code",
   "execution_count": 69,
   "metadata": {},
   "outputs": [
    {
     "name": "stderr",
     "output_type": "stream",
     "text": [
      "Clipping input data to the valid range for imshow with RGB data ([0..1] for floats or [0..255] for integers).\n"
     ]
    },
    {
     "data": {
      "text/plain": [
       "<matplotlib.image.AxesImage at 0x1cb44ee978>"
      ]
     },
     "execution_count": 69,
     "metadata": {},
     "output_type": "execute_result"
    }
   ],
   "source": [
    "#Displays an image\n",
    "\n",
    "\n",
    "plt.imshow(train_images[3])"
   ]
  },
  {
   "cell_type": "code",
   "execution_count": 5,
   "metadata": {},
   "outputs": [],
   "source": [
    "#Converting all the images to grayscale\n",
    "from skimage.color import rgb2gray\n",
    "\n",
    "train_images_gray = np.zeros((50000, 32, 32))\n",
    "test_images_gray = np.zeros((10000, 32, 32))\n",
    "\n",
    "for i in range(len(train_images)):\n",
    "    train_images_gray[i] = rgb2gray(train_images[i])\n",
    "    \n",
    "for i in range(len(test_images)):\n",
    "    test_images_gray[i] = rgb2gray(test_images[i])\n"
   ]
  },
  {
   "cell_type": "code",
   "execution_count": 6,
   "metadata": {},
   "outputs": [
    {
     "data": {
      "text/plain": [
       "<matplotlib.image.AxesImage at 0x1a2cca8668>"
      ]
     },
     "execution_count": 6,
     "metadata": {},
     "output_type": "execute_result"
    },
    {
     "data": {
      "image/png": "[encoded data removed]",
      "text/plain": [
       "<Figure size 432x288 with 1 Axes>"
      ]
     },
     "metadata": {
      "needs_background": "light"
     },
     "output_type": "display_data"
    }
   ],
   "source": [
    "plt.imshow(train_images_gray[0])"
   ]
  },
  {
   "cell_type": "code",
   "execution_count": 7,
   "metadata": {},
   "outputs": [],
   "source": [
    "#Creating ConvMF Object\n",
    "MorF = ConvMF(tree_type = \"S-RerF\", type = 'split_forest', num_trees = 25, num_split_trees = 50)"
   ]
  },
  {
   "cell_type": "code",
   "execution_count": 8,
   "metadata": {},
   "outputs": [],
   "source": [
    "#Not using the Network class here; not completely built yet\n",
    "temp = MorF.fit(train_images_gray, train_labels)"
   ]
  },
  {
   "cell_type": "code",
   "execution_count": 25,
   "metadata": {},
   "outputs": [
    {
     "name": "stdout",
     "output_type": "stream",
     "text": [
      "[[0.1  0.02 0.04 0.   0.02 0.02 0.   0.   0.78 0.02]\n",
      " [0.14 0.   0.04 0.02 0.04 0.   0.02 0.   0.72 0.02]\n",
      " [0.04 0.   0.   0.02 0.02 0.04 0.   0.   0.84 0.04]\n",
      " [0.06 0.   0.   0.02 0.04 0.   0.   0.   0.88 0.  ]\n",
      " [0.06 0.   0.04 0.   0.   0.   0.   0.   0.9  0.  ]\n",
      " [0.1  0.   0.   0.02 0.02 0.02 0.04 0.   0.78 0.02]\n",
      " [0.08 0.02 0.02 0.04 0.06 0.   0.   0.   0.76 0.02]\n",
      " [0.12 0.   0.   0.   0.06 0.02 0.02 0.   0.78 0.  ]\n",
      " [0.04 0.   0.08 0.   0.02 0.02 0.   0.04 0.8  0.  ]\n",
      " [0.08 0.   0.06 0.02 0.06 0.   0.   0.   0.76 0.02]\n",
      " [0.04 0.02 0.04 0.   0.02 0.   0.   0.   0.84 0.04]\n",
      " [0.08 0.04 0.02 0.02 0.   0.02 0.   0.02 0.78 0.02]\n",
      " [0.12 0.   0.06 0.   0.02 0.   0.   0.   0.8  0.  ]\n",
      " [0.06 0.04 0.06 0.   0.   0.   0.02 0.02 0.8  0.  ]\n",
      " [0.14 0.   0.04 0.02 0.04 0.02 0.   0.02 0.72 0.  ]\n",
      " [0.1  0.   0.02 0.04 0.02 0.   0.   0.02 0.78 0.02]\n",
      " [0.08 0.   0.02 0.   0.04 0.02 0.   0.   0.8  0.04]\n",
      " [0.14 0.   0.06 0.02 0.   0.04 0.   0.02 0.68 0.04]\n",
      " [0.08 0.02 0.08 0.   0.   0.02 0.04 0.   0.76 0.  ]\n",
      " [0.1  0.   0.04 0.04 0.   0.04 0.02 0.   0.74 0.02]\n",
      " [0.1  0.02 0.04 0.04 0.04 0.02 0.   0.   0.74 0.  ]\n",
      " [0.02 0.04 0.02 0.   0.08 0.   0.   0.   0.84 0.  ]\n",
      " [0.1  0.04 0.06 0.   0.   0.   0.   0.   0.78 0.02]\n",
      " [0.04 0.02 0.08 0.02 0.04 0.   0.02 0.   0.72 0.06]\n",
      " [0.06 0.02 0.1  0.   0.08 0.02 0.   0.   0.7  0.02]]\n",
      "8\n"
     ]
    }
   ],
   "source": [
    "#Print out examples of output\n",
    "i = 100\n",
    "print(temp[i])\n",
    "print(train_labels[i])"
   ]
  },
  {
   "cell_type": "code",
   "execution_count": 26,
   "metadata": {},
   "outputs": [
    {
     "name": "stdout",
     "output_type": "stream",
     "text": [
      "MorF Testing Accuracy\n",
      "0.4435\n",
      "MorF Training Accuracy\n",
      "1.0\n"
     ]
    }
   ],
   "source": [
    "#Calculates MORF Accuracy\n",
    "results = MorF.final_predict(test_images_gray)\n",
    "nsamples = len(results)\n",
    "count = 0\n",
    "for i in range(len(results)):\n",
    "    if results[i] == test_labels[i]:\n",
    "        count += 1\n",
    "score = count/nsamples\n",
    "print(\"MorF Testing Accuracy\")\n",
    "print(score)\n",
    "\n",
    "\n",
    "results = MorF.final_predict(train_images_gray)\n",
    "nsamples = len(results)\n",
    "count = 0\n",
    "for i in range(len(results)):\n",
    "    if results[i] == train_labels[i]:\n",
    "        count += 1\n",
    "score = count/nsamples\n",
    "print(\"MorF Training Accuracy\")\n",
    "print(score)"
   ]
  },
  {
   "cell_type": "code",
   "execution_count": 40,
   "metadata": {},
   "outputs": [],
   "source": [
    "#MorF Output of Testing Set\n",
    "testing_MorF_output = MorF.predict(test_images_gray)"
   ]
  },
  {
   "cell_type": "code",
   "execution_count": 27,
   "metadata": {},
   "outputs": [],
   "source": [
    "#Converts Training_MorF_Output to a Tensor\n",
    "training_MorF_output = torch.from_numpy(training_MorF_output)\n",
    "training_MorF_output = training_MorF_output.double()"
   ]
  },
  {
   "cell_type": "code",
   "execution_count": 41,
   "metadata": {},
   "outputs": [],
   "source": [
    "#Converts Testing_MorF_output to a Tensor\n",
    "testing_MorF_output = torch.from_numpy(testing_MorF_output)\n",
    "testing_MorF_output = testing_MorF_output.double()"
   ]
  },
  {
   "cell_type": "code",
   "execution_count": 43,
   "metadata": {},
   "outputs": [],
   "source": [
    "#Convert labels to tensors\n",
    "train_labels = torch.from_numpy(train_labels)\n",
    "test_labels = torch.from_numpy(test_labels)"
   ]
  },
  {
   "cell_type": "code",
   "execution_count": 49,
   "metadata": {},
   "outputs": [
    {
     "data": {
      "text/plain": [
       "CustomNet(\n",
       "  (fc1): Linear(in_features=250, out_features=200, bias=True)\n",
       "  (fc2): Linear(in_features=200, out_features=80, bias=True)\n",
       "  (fc3): Linear(in_features=80, out_features=10, bias=True)\n",
       ")"
      ]
     },
     "execution_count": 49,
     "metadata": {},
     "output_type": "execute_result"
    }
   ],
   "source": [
    "net = CustomNet()\n",
    "net.double()"
   ]
  },
  {
   "cell_type": "code",
   "execution_count": 52,
   "metadata": {},
   "outputs": [
    {
     "name": "stdout",
     "output_type": "stream",
     "text": [
      "[3,   250] loss: 0.002\n",
      "Running Accuracy\n",
      "0.4433\n",
      "[3,   500] loss: 0.002\n",
      "Running Accuracy\n",
      "0.444\n",
      "[3,   750] loss: 0.001\n",
      "Running Accuracy\n",
      "0.4441\n",
      "[3,  1000] loss: 0.001\n",
      "Running Accuracy\n",
      "0.4441\n",
      "Finished Training\n"
     ]
    }
   ],
   "source": [
    "import torch.optim as optim\n",
    "\n",
    "criterion = nn.CrossEntropyLoss()\n",
    "optimizer = optim.SGD(net.parameters(), lr=0.001, momentum=0.9)\n",
    "\n",
    "\n",
    "\n",
    "running_loss = 0.0\n",
    "epoch = 2\n",
    "for i in range(1000):\n",
    "    # get the inputs; data is a list of [inputs, labels]\n",
    "    #inputs, labels = data\n",
    "\n",
    "    # zero the parameter gradients\n",
    "    optimizer.zero_grad()\n",
    "\n",
    "    # forward + backward + optimize\n",
    "    outputs = net(training_MorF_output)\n",
    "    loss = criterion(outputs, train_labels)\n",
    "    loss.backward()\n",
    "    optimizer.step()\n",
    "    \n",
    "    #add scoring\n",
    "    # print statistics\n",
    "    running_loss += loss.item()\n",
    "    if i % 250 == 249:    # print every 2000 mini-batches\n",
    "        print('[%d, %5d] loss: %.3f' %\n",
    "              (epoch + 1, i + 1, running_loss / 2000))\n",
    "                #add score\n",
    "        running_loss = 0.0\n",
    "        \n",
    "        \n",
    "        count = 0\n",
    "        outputs = net(testing_MorF_output)\n",
    "        _, predicted = torch.max(outputs, 1)\n",
    "        predicted = predicted.numpy()\n",
    "        nsamples = len(predicted)\n",
    "        for i in range(len(predicted)):\n",
    "            if predicted[i] == test_labels[i]:\n",
    "                count += 1\n",
    "        score = count/nsamples\n",
    "        print(\"Running Accuracy\")\n",
    "        print(score)\n",
    "\n",
    "print('Finished Training')\n",
    "\n",
    "\n",
    "\n"
   ]
  },
  {
   "cell_type": "code",
   "execution_count": 67,
   "metadata": {},
   "outputs": [
    {
     "data": {
      "text/plain": [
       "<matplotlib.legend.Legend at 0x1a2d680898>"
      ]
     },
     "execution_count": 67,
     "metadata": {},
     "output_type": "execute_result"
    }
   ],
   "source": [
    "#Plot of Neural Network Training\n",
    "from matplotlib import pyplot as plt\n",
    "\n",
    "%matplotlib qt\n",
    "#Filled in the data manually, but pulled from various experiments (results copy and pasted below)\n",
    "x = np.arange(250, 3250, 250)\n",
    "y = np.array([0.1741, 0.3013, 0.3961, 0.4398, 0.4418, 0.4434, 0.4438, 0.4444, 0.443, 0.444, 0.4441, 0.4441])\n",
    "\n",
    "plt.figure(1)\n",
    "plt.plot(x, y, label = 'ConvMF + NN Accuracy')\n",
    "plt.hlines(0.4435, 0, 3000, linestyles = 'dotted', label = 'ConvMF Accuracy')\n",
    "plt.xlabel('NN Training Epochs')\n",
    "plt.ylabel('Accuracy on Test Set')\n",
    "plt.legend()"
   ]
  },
  {
   "cell_type": "code",
   "execution_count": null,
   "metadata": {},
   "outputs": [],
   "source": [
    "#Regular RF\n",
    "from sklearn.ensemble import RandomForestClassifier\n",
    "\n",
    "(_, train_labels), (_, test_labels) = get_dataset(\"./CIFAR\", \"CIFAR10\", is_numpy=True)\n",
    "\n",
    "\n",
    "\n",
    "clf = RandomForestClassifier(n_estimators=1250)\n",
    "clf.fit(training_images_gray, train_labels)\n",
    "\n",
    "results = []\n",
    "\n",
    "for row in test_set_no_label:\n",
    "    a = np.array(row)[np.newaxis]\n",
    "    results.append(clf.predict(a))\n",
    "\n",
    "results = np.array(results)\n",
    "\n",
    "count = 0\n",
    "for i in range(len(results)):\n",
    "    if results[i] == test_set_labels[i]:\n",
    "        count += 1\n",
    "\n",
    "accuracy = count/len(results)\n",
    "print(accuracy)"
   ]
  },
  {
   "cell_type": "code",
   "execution_count": null,
   "metadata": {},
   "outputs": [],
   "source": []
  },
  {
   "cell_type": "code",
   "execution_count": null,
   "metadata": {},
   "outputs": [],
   "source": []
  },
  {
   "cell_type": "code",
   "execution_count": null,
   "metadata": {},
   "outputs": [],
   "source": []
  },
  {
   "cell_type": "code",
   "execution_count": null,
   "metadata": {},
   "outputs": [],
   "source": [
    "\n",
    "\n",
    "[1,   250] loss: 0.282\n",
    "Running Accuracy\n",
    "0.1741\n",
    "[1,   500] loss: 0.259\n",
    "Running Accuracy\n",
    "0.3013\n",
    "[1,   750] loss: 0.191\n",
    "Running Accuracy\n",
    "0.3961\n",
    "[1,  1000] loss: 0.067\n",
    "Running Accuracy\n",
    "0.4398\n",
    "\n",
    "\n",
    "[2,   250] loss: 0.016\n",
    "Running Accuracy\n",
    "0.4418\n",
    "[2,   500] loss: 0.006\n",
    "Running Accuracy\n",
    "0.4434\n",
    "[2,   750] loss: 0.004\n",
    "Running Accuracy\n",
    "0.4438\n",
    "[2,  1000] loss: 0.003\n",
    "Running Accuracy\n",
    "0.4444\n",
    "Finished Training\n",
    "\n",
    "[3,   250] loss: 0.002\n",
    "Running Accuracy\n",
    "0.4433\n",
    "[3,   500] loss: 0.002\n",
    "Running Accuracy\n",
    "0.444\n",
    "[3,   750] loss: 0.001\n",
    "Running Accuracy\n",
    "0.4441\n",
    "[3,  1000] loss: 0.001\n",
    "Running Accuracy\n",
    "0.4441\n",
    "Finished Training"
   ]
  }
 ],
 "metadata": {
  "kernelspec": {
   "display_name": "Python 3",
   "language": "python",
   "name": "python3"
  },
  "language_info": {
   "codemirror_mode": {
    "name": "ipython",
    "version": 3
   },
   "file_extension": ".py",
   "mimetype": "text/x-python",
   "name": "python",
   "nbconvert_exporter": "python",
   "pygments_lexer": "ipython3",
   "version": "3.7.3"
  }
 },
 "nbformat": 4,
 "nbformat_minor": 2
}
