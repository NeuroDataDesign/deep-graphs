{
 "cells": [
  {
   "cell_type": "code",
   "execution_count": 12,
   "metadata": {},
   "outputs": [],
   "source": [
    "import sys\n",
    "sys.path.insert(0, '../../../savanna/')\n",
    "\n",
    "from savanna.utils.dataset import *\n",
    "from savanna.inference.conv_mf import ConvMF\n",
    "\n",
    "import torch\n",
    "import torch.nn as nn\n",
    "import torch.nn.functional as F\n",
    "\n",
    "\n",
    "class CustomNet(nn.Module):\n",
    "    def __init__(self):\n",
    "        super(CustomNet, self).__init__()\n",
    "        self.fc1 = nn.Linear(250, 200)\n",
    "        self.fc2 = nn.Linear(200, 80)\n",
    "        self.fc3 = nn.Linear(80, 10)\n",
    "\n",
    "    def forward(self, b):\n",
    "        d = b.view(-1, 250)\n",
    "        d = F.relu(self.fc1(d))\n",
    "        d = F.relu(self.fc2(d))\n",
    "        d = self.fc3(d)\n",
    "        return d"
   ]
  },
  {
   "cell_type": "code",
   "execution_count": 3,
   "metadata": {},
   "outputs": [
    {
     "name": "stderr",
     "output_type": "stream",
     "text": [
      "//anaconda3/lib/python3.7/site-packages/torchvision/datasets/mnist.py:53: UserWarning: train_data has been renamed data\n",
      "  warnings.warn(\"train_data has been renamed data\")\n",
      "//anaconda3/lib/python3.7/site-packages/torchvision/datasets/mnist.py:58: UserWarning: test_data has been renamed data\n",
      "  warnings.warn(\"test_data has been renamed data\")\n",
      "//anaconda3/lib/python3.7/site-packages/torchvision/datasets/mnist.py:43: UserWarning: train_labels has been renamed targets\n",
      "  warnings.warn(\"train_labels has been renamed targets\")\n",
      "//anaconda3/lib/python3.7/site-packages/torchvision/datasets/mnist.py:48: UserWarning: test_labels has been renamed targets\n",
      "  warnings.warn(\"test_labels has been renamed targets\")\n"
     ]
    }
   ],
   "source": [
    "numpy_data = dict()\n",
    "(numpy_data[\"train_images\"], numpy_data[\"train_labels\"]), (\n",
    "    numpy_data[\"test_images\"],\n",
    "    numpy_data[\"test_labels\"],\n",
    ") = get_dataset(\"./FashionMNIST\", \"FashionMNIST\", is_numpy=True)\n",
    "#trainset, testset = get_dataset(\"../savanna/data\", \"FashionMNIST\", is_numpy=True)\n",
    "\n",
    "trainset, testset = get_subset_data(\n",
    "                        dataset_name = \"FashionMNIST\",\n",
    "                        data=numpy_data,\n",
    "                        choosen_classes= np.arange(10),\n",
    "                        sub_train_indices = np.arange(59999)\n",
    "                        )\n",
    "train_images = trainset[0]\n",
    "train_labels = trainset[1]\n",
    "test_images = testset[0]\n",
    "test_labels = testset[1]\n",
    "\n",
    "nsamples = 10000"
   ]
  },
  {
   "cell_type": "code",
   "execution_count": 11,
   "metadata": {},
   "outputs": [
    {
     "data": {
      "text/plain": [
       "array([-0.42421292])"
      ]
     },
     "execution_count": 11,
     "metadata": {},
     "output_type": "execute_result"
    }
   ],
   "source": []
  },
  {
   "cell_type": "code",
   "execution_count": 3,
   "metadata": {},
   "outputs": [],
   "source": [
    "MorF = ConvMF(tree_type = \"S-RerF\", type = 'split_forest', num_trees = 25, num_split_trees = 50)"
   ]
  },
  {
   "cell_type": "code",
   "execution_count": 4,
   "metadata": {},
   "outputs": [],
   "source": [
    "temp = MorF.fit(train_images, train_labels)"
   ]
  },
  {
   "cell_type": "code",
   "execution_count": 7,
   "metadata": {},
   "outputs": [
    {
     "data": {
      "text/plain": [
       "array([[0.1 , 0.  , 0.  , 0.78, 0.02, 0.  , 0.1 , 0.  , 0.  , 0.  ],\n",
       "       [0.04, 0.  , 0.  , 0.84, 0.02, 0.  , 0.1 , 0.  , 0.  , 0.  ],\n",
       "       [0.06, 0.  , 0.02, 0.84, 0.  , 0.02, 0.06, 0.  , 0.  , 0.  ],\n",
       "       [0.1 , 0.  , 0.  , 0.82, 0.  , 0.  , 0.08, 0.  , 0.  , 0.  ],\n",
       "       [0.12, 0.  , 0.  , 0.8 , 0.  , 0.  , 0.08, 0.  , 0.  , 0.  ],\n",
       "       [0.04, 0.  , 0.02, 0.86, 0.02, 0.  , 0.06, 0.  , 0.  , 0.  ],\n",
       "       [0.04, 0.  , 0.02, 0.86, 0.  , 0.  , 0.06, 0.  , 0.02, 0.  ],\n",
       "       [0.04, 0.02, 0.  , 0.88, 0.  , 0.  , 0.06, 0.  , 0.  , 0.  ],\n",
       "       [0.16, 0.  , 0.  , 0.78, 0.  , 0.  , 0.06, 0.  , 0.  , 0.  ],\n",
       "       [0.08, 0.02, 0.  , 0.82, 0.  , 0.  , 0.08, 0.  , 0.  , 0.  ],\n",
       "       [0.1 , 0.  , 0.  , 0.8 , 0.  , 0.  , 0.1 , 0.  , 0.  , 0.  ],\n",
       "       [0.1 , 0.  , 0.04, 0.76, 0.  , 0.  , 0.1 , 0.  , 0.  , 0.  ],\n",
       "       [0.1 , 0.  , 0.02, 0.78, 0.  , 0.  , 0.1 , 0.  , 0.  , 0.  ],\n",
       "       [0.04, 0.04, 0.02, 0.84, 0.  , 0.  , 0.06, 0.  , 0.  , 0.  ],\n",
       "       [0.08, 0.  , 0.  , 0.86, 0.  , 0.  , 0.06, 0.  , 0.  , 0.  ],\n",
       "       [0.12, 0.  , 0.  , 0.78, 0.  , 0.  , 0.1 , 0.  , 0.  , 0.  ],\n",
       "       [0.1 , 0.  , 0.  , 0.78, 0.  , 0.  , 0.12, 0.  , 0.  , 0.  ],\n",
       "       [0.1 , 0.  , 0.  , 0.8 , 0.02, 0.  , 0.08, 0.  , 0.  , 0.  ],\n",
       "       [0.1 , 0.  , 0.  , 0.76, 0.  , 0.  , 0.14, 0.  , 0.  , 0.  ],\n",
       "       [0.1 , 0.  , 0.  , 0.8 , 0.  , 0.  , 0.1 , 0.  , 0.  , 0.  ],\n",
       "       [0.04, 0.  , 0.  , 0.84, 0.  , 0.  , 0.12, 0.  , 0.  , 0.  ],\n",
       "       [0.08, 0.  , 0.  , 0.82, 0.  , 0.  , 0.1 , 0.  , 0.  , 0.  ],\n",
       "       [0.16, 0.  , 0.02, 0.7 , 0.02, 0.  , 0.1 , 0.  , 0.  , 0.  ],\n",
       "       [0.1 , 0.  , 0.  , 0.78, 0.02, 0.  , 0.1 , 0.  , 0.  , 0.  ],\n",
       "       [0.12, 0.  , 0.  , 0.8 , 0.02, 0.  , 0.06, 0.  , 0.  , 0.  ]])"
      ]
     },
     "execution_count": 7,
     "metadata": {},
     "output_type": "execute_result"
    }
   ],
   "source": [
    "temp[3]"
   ]
  },
  {
   "cell_type": "code",
   "execution_count": 39,
   "metadata": {},
   "outputs": [
    {
     "name": "stdout",
     "output_type": "stream",
     "text": [
      "[1,   500] loss: 0.485\n",
      "[1,  1000] loss: 0.089\n",
      "[1,  1500] loss: 0.009\n",
      "[1,  2000] loss: 0.004\n",
      "Finished Training\n"
     ]
    }
   ],
   "source": [
    "temp = MorF.fit(train_images, train_labels)\n",
    "temp = torch.from_numpy(temp)\n",
    "temp = temp.double()\n",
    "net = CustomNet()\n",
    "n = net.double()\n",
    "\n",
    "import torch.optim as optim\n",
    "\n",
    "criterion = nn.CrossEntropyLoss()\n",
    "optimizer = optim.SGD(net.parameters(), lr=0.001, momentum=0.9)\n",
    "\n",
    "\n",
    "\n",
    "running_loss = 0.0\n",
    "for i in range(2000):\n",
    "    # get the inputs; data is a list of [inputs, labels]\n",
    "    #inputs, labels = data\n",
    "\n",
    "    # zero the parameter gradients\n",
    "    optimizer.zero_grad()\n",
    "\n",
    "    # forward + backward + optimize\n",
    "    outputs = net(temp)\n",
    "    loss = criterion(outputs, train_labels)\n",
    "    loss.backward()\n",
    "    optimizer.step()\n",
    "    \n",
    "    #add scoring\n",
    "    # print statistics\n",
    "    running_loss += loss.item()\n",
    "    if i % 500 == 499:    # print every 2000 mini-batches\n",
    "        print('[%d, %5d] loss: %.3f' %\n",
    "              (epoch + 1, i + 1, running_loss / 2000))\n",
    "                #add score\n",
    "        running_loss = 0.0\n",
    "\n",
    "print('Finished Training')\n",
    "\n",
    "\n",
    "\n"
   ]
  },
  {
   "cell_type": "code",
   "execution_count": 40,
   "metadata": {},
   "outputs": [],
   "source": [
    "PATH = './fashionmnist_net2.pth'\n",
    "torch.save(net.state_dict(), PATH)"
   ]
  },
  {
   "cell_type": "code",
   "execution_count": 45,
   "metadata": {},
   "outputs": [],
   "source": [
    "temp = MorF.predict(test_images)\n",
    "temp = torch.from_numpy(temp)\n",
    "temp = temp.double()\n",
    "count = 0\n",
    "output = net(temp)\n",
    "_, predicted= torch.max(output, 1)"
   ]
  },
  {
   "cell_type": "code",
   "execution_count": 46,
   "metadata": {},
   "outputs": [
    {
     "name": "stdout",
     "output_type": "stream",
     "text": [
      "MorF + NN Accuracy\n",
      "0.8773\n"
     ]
    }
   ],
   "source": [
    "count = 0\n",
    "predicted = predicted.numpy()\n",
    "for i in range(len(predicted)):\n",
    "    if predicted[i] == test_labels[i]:\n",
    "        count += 1\n",
    "score = count/nsamples\n",
    "print(\"MorF + NN Accuracy\")\n",
    "print(score)"
   ]
  },
  {
   "cell_type": "code",
   "execution_count": 47,
   "metadata": {},
   "outputs": [
    {
     "name": "stdout",
     "output_type": "stream",
     "text": [
      "MorF Accuracy\n",
      "0.8774\n"
     ]
    }
   ],
   "source": [
    "results = MorF.final_predict(test_images)\n",
    "count = 0\n",
    "for i in range(len(results)):\n",
    "    if results[i] == testset[1][i]:\n",
    "        count += 1\n",
    "score = count/nsamples\n",
    "print(\"MorF Accuracy\")\n",
    "print(score)"
   ]
  },
  {
   "cell_type": "code",
   "execution_count": 37,
   "metadata": {},
   "outputs": [
    {
     "name": "stdout",
     "output_type": "stream",
     "text": [
      "[10000]\n"
     ]
    }
   ],
   "source": []
  },
  {
   "cell_type": "code",
   "execution_count": null,
   "metadata": {},
   "outputs": [],
   "source": []
  }
 ],
 "metadata": {
  "kernelspec": {
   "display_name": "Python 3",
   "language": "python",
   "name": "python3"
  },
  "language_info": {
   "codemirror_mode": {
    "name": "ipython",
    "version": 3
   },
   "file_extension": ".py",
   "mimetype": "text/x-python",
   "name": "python",
   "nbconvert_exporter": "python",
   "pygments_lexer": "ipython3",
   "version": "3.7.3"
  }
 },
 "nbformat": 4,
 "nbformat_minor": 2
}
