{
 "cells": [
  {
   "cell_type": "code",
   "execution_count": 2,
   "metadata": {},
   "outputs": [],
   "source": [
    "import sys\n",
    "sys.path.insert(0, '../../../savanna/')\n",
    "\n",
    "from savanna.utils.dataset import *\n",
    "from savanna.inference.conv_mf import ConvMF\n",
    "import matplotlib.pyplot as plt\n",
    "\n",
    "import torch\n",
    "import torch.nn as nn\n",
    "import torch.nn.functional as F\n",
    "\n",
    "\n",
    "class CustomNet(nn.Module):\n",
    "    def __init__(self):\n",
    "        super(CustomNet, self).__init__()\n",
    "        self.fc1 = nn.Linear(250, 200)\n",
    "        self.fc2 = nn.Linear(200, 80)\n",
    "        self.fc3 = nn.Linear(80, 10)\n",
    "\n",
    "    def forward(self, b):\n",
    "        d = b.view(-1, 250)\n",
    "        d = F.relu(self.fc1(d))\n",
    "        d = F.relu(self.fc2(d))\n",
    "        d = self.fc3(d)\n",
    "        return d"
   ]
  },
  {
   "cell_type": "code",
   "execution_count": 3,
   "metadata": {},
   "outputs": [
    {
     "name": "stdout",
     "output_type": "stream",
     "text": [
      "Files already downloaded and verified\n",
      "Files already downloaded and verified\n"
     ]
    }
   ],
   "source": [
    "#Data Loading\n",
    "trainset, testset = get_dataset(\"./CIFAR\", \"CIFAR10\", is_numpy=False)\n",
    "train_images = trainset.data\n",
    "train_labels = trainset.targets\n",
    "\n",
    "test_images = testset.data\n",
    "test_labels = testset.targets"
   ]
  },
  {
   "cell_type": "code",
   "execution_count": 2,
   "metadata": {},
   "outputs": [
    {
     "name": "stdout",
     "output_type": "stream",
     "text": [
      "Files already downloaded and verified\n",
      "Files already downloaded and verified\n"
     ]
    }
   ],
   "source": [
    "#Data Loading\n",
    "#(train_images, train_labels), (test_images, test_labels) = get_dataset(\"./CIFAR\", \"CIFAR10\", is_numpy=True)"
   ]
  },
  {
   "cell_type": "code",
   "execution_count": 3,
   "metadata": {},
   "outputs": [
    {
     "name": "stdout",
     "output_type": "stream",
     "text": [
      "(50000, 32, 32, 3)\n",
      "(10000, 32, 32, 3)\n"
     ]
    }
   ],
   "source": [
    "#Image sizes\n",
    "print(train_images.shape)\n",
    "print(test_images.shape)"
   ]
  },
  {
   "cell_type": "code",
   "execution_count": 4,
   "metadata": {},
   "outputs": [
    {
     "data": {
      "text/plain": [
       "<matplotlib.image.AxesImage at 0x1a331bcdd8>"
      ]
     },
     "execution_count": 4,
     "metadata": {},
     "output_type": "execute_result"
    },
    {
     "data": {
      "image/png": "[encoded data removed]",
      "text/plain": [
       "<Figure size 432x288 with 1 Axes>"
      ]
     },
     "metadata": {
      "needs_background": "light"
     },
     "output_type": "display_data"
    }
   ],
   "source": [
    "#Displays an image\n",
    "plt.imshow(train_images[10])"
   ]
  },
  {
   "cell_type": "code",
   "execution_count": 4,
   "metadata": {},
   "outputs": [],
   "source": [
    "#Converting all the images to grayscale\n",
    "from skimage.color import rgb2gray\n",
    "\n",
    "train_images_gray = np.zeros((50000, 32, 32))\n",
    "test_images_gray = np.zeros((10000, 32, 32))\n",
    "\n",
    "for i in range(len(train_images)):\n",
    "    train_images_gray[i] = rgb2gray(train_images[i])\n",
    "    \n",
    "for i in range(len(test_images)):\n",
    "    test_images_gray[i] = rgb2gray(test_images[i])\n"
   ]
  },
  {
   "cell_type": "code",
   "execution_count": 6,
   "metadata": {},
   "outputs": [
    {
     "data": {
      "text/plain": [
       "<matplotlib.image.AxesImage at 0x1a3216a080>"
      ]
     },
     "execution_count": 6,
     "metadata": {},
     "output_type": "execute_result"
    },
    {
     "data": {
      "image/png": "[encoded data removed]",
      "text/plain": [
       "<Figure size 432x288 with 1 Axes>"
      ]
     },
     "metadata": {
      "needs_background": "light"
     },
     "output_type": "display_data"
    }
   ],
   "source": [
    "plt.imshow(train_images_gray[0])"
   ]
  },
  {
   "cell_type": "code",
   "execution_count": 6,
   "metadata": {},
   "outputs": [],
   "source": [
    "#Creating ConvMF Object\n",
    "\n",
    "x = 3\n",
    "MorF_3 = ConvMF(tree_type = \"S-RerF\", type = 'split_forest', num_trees = 1, num_split_trees = 1, max_depth = 15, patch_height_min = 1, patch_height_max = 1, patch_width_min = 3, patch_width_max = 3)\n",
    "\n",
    "x = 5\n",
    "MorF_5 = ConvMF(tree_type = \"S-RerF\", type = 'split_forest', num_trees = 10, num_split_trees = 50, max_depth = 15, patch_height_min = x, patch_height_max = x, patch_width_min = x, patch_width_max = x)\n",
    "\n",
    "x = 10\n",
    "MorF_10 = ConvMF(tree_type = \"S-RerF\", type = 'split_forest', num_trees = 10, num_split_trees = 50, max_depth = 15, patch_height_min = x, patch_height_max = x, patch_width_min = x, patch_width_max = x)\n",
    "\n",
    "x = 20\n",
    "MorF_3 = ConvMF(tree_type = \"S-RerF\", type = 'split_forest', num_trees = 10, num_split_trees = 50, max_depth = 15, patch_height_min = x, patch_height_max = x, patch_width_min = x, patch_width_max = x)\n",
    "\n",
    "x = 32\n",
    "MorF_3 = ConvMF(tree_type = \"S-RerF\", type = 'split_forest', num_trees = 10, num_split_trees = 50, max_depth = 15, patch_height_min = x, patch_height_max = x, patch_width_min = x, patch_width_max = x)"
   ]
  },
  {
   "cell_type": "code",
   "execution_count": null,
   "metadata": {},
   "outputs": [],
   "source": [
    "#Not using the Network class here; not completely built yet\n",
    "training_MorF_output_3 = MorF_3.fit(train_images_gray, train_labels)"
   ]
  },
  {
   "cell_type": "code",
   "execution_count": null,
   "metadata": {},
   "outputs": [],
   "source": [
    "training_MorF_output_5 = MorF_5.fit(train_images_gray, train_labels)"
   ]
  },
  {
   "cell_type": "code",
   "execution_count": null,
   "metadata": {},
   "outputs": [],
   "source": [
    "training_MorF_output_10 = MorF_10.fit(train_images_gray, train_labels)"
   ]
  },
  {
   "cell_type": "code",
   "execution_count": null,
   "metadata": {},
   "outputs": [],
   "source": [
    "training_MorF_output_20 = MorF_20.fit(train_images_gray, train_labels)"
   ]
  },
  {
   "cell_type": "code",
   "execution_count": null,
   "metadata": {},
   "outputs": [],
   "source": [
    "training_MorF_output_32 = MorF_32.fit(train_images_gray, train_labels)"
   ]
  },
  {
   "cell_type": "code",
   "execution_count": 10,
   "metadata": {},
   "outputs": [
    {
     "name": "stdout",
     "output_type": "stream",
     "text": [
      "[[0.   0.   0.04 0.08 0.02 0.06 0.02 0.76 0.02 0.  ]\n",
      " [0.04 0.04 0.   0.02 0.04 0.06 0.02 0.76 0.   0.02]\n",
      " [0.   0.02 0.12 0.04 0.04 0.06 0.02 0.68 0.   0.02]\n",
      " [0.02 0.   0.02 0.02 0.12 0.02 0.02 0.78 0.   0.  ]\n",
      " [0.02 0.   0.04 0.02 0.04 0.02 0.08 0.78 0.   0.  ]\n",
      " [0.04 0.06 0.02 0.08 0.08 0.   0.04 0.66 0.   0.02]\n",
      " [0.   0.   0.04 0.02 0.06 0.   0.02 0.86 0.   0.  ]\n",
      " [0.   0.   0.   0.02 0.04 0.02 0.   0.88 0.02 0.02]\n",
      " [0.02 0.08 0.02 0.04 0.04 0.06 0.02 0.72 0.   0.  ]\n",
      " [0.   0.02 0.   0.02 0.06 0.04 0.   0.86 0.   0.  ]\n",
      " [0.04 0.02 0.02 0.   0.04 0.02 0.02 0.82 0.02 0.  ]\n",
      " [0.04 0.   0.02 0.02 0.06 0.02 0.02 0.76 0.02 0.04]\n",
      " [0.02 0.04 0.08 0.   0.04 0.04 0.   0.74 0.   0.04]\n",
      " [0.02 0.   0.   0.02 0.06 0.02 0.   0.86 0.02 0.  ]\n",
      " [0.   0.04 0.02 0.1  0.02 0.08 0.   0.72 0.   0.02]\n",
      " [0.04 0.   0.08 0.   0.04 0.06 0.   0.78 0.   0.  ]\n",
      " [0.   0.04 0.02 0.04 0.04 0.   0.06 0.76 0.02 0.02]\n",
      " [0.04 0.   0.02 0.06 0.04 0.06 0.   0.74 0.04 0.  ]\n",
      " [0.   0.   0.06 0.   0.02 0.06 0.02 0.84 0.   0.  ]\n",
      " [0.04 0.   0.02 0.02 0.08 0.04 0.1  0.7  0.   0.  ]\n",
      " [0.   0.04 0.04 0.02 0.12 0.04 0.02 0.72 0.   0.  ]\n",
      " [0.04 0.02 0.02 0.   0.14 0.02 0.02 0.72 0.   0.02]\n",
      " [0.04 0.02 0.02 0.02 0.08 0.04 0.04 0.72 0.02 0.  ]\n",
      " [0.   0.04 0.02 0.   0.1  0.04 0.02 0.78 0.   0.  ]\n",
      " [0.   0.   0.   0.06 0.1  0.02 0.04 0.78 0.   0.  ]]\n",
      "7\n"
     ]
    }
   ],
   "source": [
    "#Print out examples of output\n",
    "i = 7\n",
    "print(training_MorF_output[i])\n",
    "print(train_labels[i])"
   ]
  },
  {
   "cell_type": "code",
   "execution_count": 11,
   "metadata": {},
   "outputs": [
    {
     "name": "stdout",
     "output_type": "stream",
     "text": [
      "MorF Testing Accuracy\n",
      "0.4006\n",
      "MorF Training Accuracy\n",
      "0.89094\n"
     ]
    }
   ],
   "source": [
    "#Calculates MORF Accuracy\n",
    "results = MorF.final_predict(test_images_gray)\n",
    "nsamples = len(results)\n",
    "count = 0\n",
    "for i in range(len(results)):\n",
    "    if results[i] == test_labels[i]:\n",
    "        count += 1\n",
    "score = count/nsamples\n",
    "print(\"MorF Testing Accuracy\")\n",
    "print(score)\n",
    "\n",
    "\n",
    "results = MorF.final_predict(train_images_gray)\n",
    "nsamples = len(results)\n",
    "count = 0\n",
    "for i in range(len(results)):\n",
    "    if results[i] == train_labels[i]:\n",
    "        count += 1\n",
    "score = count/nsamples\n",
    "print(\"MorF Training Accuracy\")\n",
    "print(score)"
   ]
  },
  {
   "cell_type": "code",
   "execution_count": 12,
   "metadata": {},
   "outputs": [],
   "source": [
    "#MorF Output of Testing Set\n",
    "testing_MorF_output = MorF.predict(test_images_gray)"
   ]
  },
  {
   "cell_type": "code",
   "execution_count": 13,
   "metadata": {},
   "outputs": [],
   "source": [
    "#Converts Training_MorF_Output to a Tensor\n",
    "training_MorF_output = torch.from_numpy(training_MorF_output)\n",
    "training_MorF_output = training_MorF_output.double()"
   ]
  },
  {
   "cell_type": "code",
   "execution_count": 14,
   "metadata": {},
   "outputs": [],
   "source": [
    "#Converts Testing_MorF_output to a Tensor\n",
    "testing_MorF_output = torch.from_numpy(testing_MorF_output)\n",
    "testing_MorF_output = testing_MorF_output.double()"
   ]
  },
  {
   "cell_type": "code",
   "execution_count": 16,
   "metadata": {},
   "outputs": [],
   "source": [
    "#Convert labels to tensors\n",
    "train_labels = torch.from_numpy(np.array(train_labels))\n",
    "test_labels = torch.from_numpy(np.array(test_labels))"
   ]
  },
  {
   "cell_type": "code",
   "execution_count": 17,
   "metadata": {},
   "outputs": [
    {
     "data": {
      "text/plain": [
       "CustomNet(\n",
       "  (fc1): Linear(in_features=250, out_features=200, bias=True)\n",
       "  (fc2): Linear(in_features=200, out_features=80, bias=True)\n",
       "  (fc3): Linear(in_features=80, out_features=10, bias=True)\n",
       ")"
      ]
     },
     "execution_count": 17,
     "metadata": {},
     "output_type": "execute_result"
    }
   ],
   "source": [
    "net = CustomNet()\n",
    "net.double()"
   ]
  },
  {
   "cell_type": "code",
   "execution_count": 20,
   "metadata": {},
   "outputs": [
    {
     "name": "stdout",
     "output_type": "stream",
     "text": [
      "[1,   250] loss: 0.046\n",
      "Running Accuracy\n",
      "0.4065\n",
      "[1,   500] loss: 0.042\n",
      "Running Accuracy\n",
      "0.4071\n",
      "[1,   750] loss: 0.040\n",
      "Running Accuracy\n",
      "0.4072\n",
      "[1,  1000] loss: 0.038\n",
      "Running Accuracy\n",
      "0.4082\n",
      "Finished Training\n"
     ]
    }
   ],
   "source": [
    "import torch.optim as optim\n",
    "\n",
    "criterion = nn.CrossEntropyLoss()\n",
    "optimizer = optim.SGD(net.parameters(), lr=0.001, momentum=0.9)\n",
    "\n",
    "\n",
    "\n",
    "running_loss = 0.0\n",
    "epoch = 0\n",
    "for i in range(1000):\n",
    "    # get the inputs; data is a list of [inputs, labels]\n",
    "    #inputs, labels = data\n",
    "\n",
    "    # zero the parameter gradients\n",
    "    optimizer.zero_grad()\n",
    "\n",
    "    # forward + backward + optimize\n",
    "    outputs = net(training_MorF_output)\n",
    "    loss = criterion(outputs, train_labels)\n",
    "    loss.backward()\n",
    "    optimizer.step()\n",
    "    \n",
    "    #add scoring\n",
    "    # print statistics\n",
    "    running_loss += loss.item()\n",
    "    if i % 250 == 249:    # print every 2000 mini-batches\n",
    "        print('[%d, %5d] loss: %.3f' %\n",
    "              (epoch + 1, i + 1, running_loss / 2000))\n",
    "                #add score\n",
    "        running_loss = 0.0\n",
    "        \n",
    "        \n",
    "        count = 0\n",
    "        outputs = net(testing_MorF_output)\n",
    "        _, predicted = torch.max(outputs, 1)\n",
    "        predicted = predicted.numpy()\n",
    "        nsamples = len(predicted)\n",
    "        for i in range(len(predicted)):\n",
    "            if predicted[i] == test_labels[i]:\n",
    "                count += 1\n",
    "        score = count/nsamples\n",
    "        print(\"Running Accuracy\")\n",
    "        print(score)\n",
    "\n",
    "print('Finished Training')\n",
    "\n",
    "\n",
    "\n"
   ]
  },
  {
   "cell_type": "code",
   "execution_count": 23,
   "metadata": {},
   "outputs": [
    {
     "data": {
      "text/plain": [
       "<matplotlib.legend.Legend at 0x1a327d5ba8>"
      ]
     },
     "execution_count": 23,
     "metadata": {},
     "output_type": "execute_result"
    }
   ],
   "source": [
    "#Plot of Neural Network Training\n",
    "from matplotlib import pyplot as plt\n",
    "\n",
    "%matplotlib qt\n",
    "\n",
    "x = np.arange(250, 3250, 250)\n",
    "y = np.array([0.1606, 0.356, 0.354, 0.3678, 0.3955, 0.4003, 0.4034, 0.4054, 0.4065, 0.4071, 0.4072, 0.4082])\n",
    "\n",
    "plt.figure(1)\n",
    "plt.plot(x, y, label = 'ConvMF + NN Accuracy')\n",
    "plt.hlines(0.4006, 0, 3000, linestyles = 'dotted', label = 'ConvMF Accuracy')\n",
    "plt.hlines(0.4435, 0, 3000, linestyles = 'dotted', color = 'b', label = 'Prev. Experiment ConvMF Accuracy')\n",
    "plt.xlabel('NN Training Epochs')\n",
    "plt.ylabel('Accuracy on Test Set')\n",
    "plt.legend()"
   ]
  },
  {
   "cell_type": "code",
   "execution_count": null,
   "metadata": {},
   "outputs": [],
   "source": []
  },
  {
   "cell_type": "code",
   "execution_count": null,
   "metadata": {},
   "outputs": [],
   "source": []
  },
  {
   "cell_type": "code",
   "execution_count": null,
   "metadata": {},
   "outputs": [],
   "source": [
    "[1,   250] loss: 0.285\n",
    "Running Accuracy\n",
    "0.1606\n",
    "[1,   500] loss: 0.276\n",
    "Running Accuracy\n",
    "0.356\n",
    "[1,   750] loss: 0.258\n",
    "Running Accuracy\n",
    "0.354\n",
    "[1,  1000] loss: 0.217\n",
    "Running Accuracy\n",
    "0.3678\n",
    "Finished Training\n",
    "\n",
    "[1,   250] loss: 0.154\n",
    "Running Accuracy\n",
    "0.3955\n",
    "[1,   500] loss: 0.094\n",
    "Running Accuracy\n",
    "0.4003\n",
    "[1,   750] loss: 0.064\n",
    "Running Accuracy\n",
    "0.4034\n",
    "[1,  1000] loss: 0.051\n",
    "Running Accuracy\n",
    "0.4054\n",
    "Finished Training\n",
    "\n",
    "\n",
    "[1,   250] loss: 0.046\n",
    "Running Accuracy\n",
    "0.4065\n",
    "[1,   500] loss: 0.042\n",
    "Running Accuracy\n",
    "0.4071\n",
    "[1,   750] loss: 0.040\n",
    "Running Accuracy\n",
    "0.4072\n",
    "[1,  1000] loss: 0.038\n",
    "Running Accuracy\n",
    "0.4082"
   ]
  },
  {
   "cell_type": "code",
   "execution_count": null,
   "metadata": {},
   "outputs": [],
   "source": []
  },
  {
   "cell_type": "code",
   "execution_count": null,
   "metadata": {},
   "outputs": [],
   "source": []
  }
 ],
 "metadata": {
  "kernelspec": {
   "display_name": "Python 3",
   "language": "python",
   "name": "python3"
  },
  "language_info": {
   "codemirror_mode": {
    "name": "ipython",
    "version": 3
   },
   "file_extension": ".py",
   "mimetype": "text/x-python",
   "name": "python",
   "nbconvert_exporter": "python",
   "pygments_lexer": "ipython3",
   "version": "3.7.3"
  }
 },
 "nbformat": 4,
 "nbformat_minor": 2
}
