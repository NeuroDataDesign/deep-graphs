{
 "cells": [
  {
   "cell_type": "code",
   "execution_count": 2,
   "metadata": {},
   "outputs": [
    {
     "ename": "ModuleNotFoundError",
     "evalue": "No module named 'napari'",
     "output_type": "error",
     "traceback": [
      "\u001b[0;31m---------------------------------------------------------------------------\u001b[0m",
      "\u001b[0;31mModuleNotFoundError\u001b[0m                       Traceback (most recent call last)",
      "\u001b[0;32m<ipython-input-2-1e3b3994c6c7>\u001b[0m in \u001b[0;36m<module>\u001b[0;34m\u001b[0m\n\u001b[1;32m      5\u001b[0m \u001b[0;32mfrom\u001b[0m \u001b[0mskimage\u001b[0m\u001b[0;34m.\u001b[0m\u001b[0mmorphology\u001b[0m \u001b[0;32mimport\u001b[0m \u001b[0mball\u001b[0m\u001b[0;34m\u001b[0m\u001b[0;34m\u001b[0m\u001b[0m\n\u001b[1;32m      6\u001b[0m \u001b[0;34m\u001b[0m\u001b[0m\n\u001b[0;32m----> 7\u001b[0;31m \u001b[0;32mimport\u001b[0m \u001b[0mnapari\u001b[0m\u001b[0;34m\u001b[0m\u001b[0;34m\u001b[0m\u001b[0m\n\u001b[0m\u001b[1;32m      8\u001b[0m \u001b[0mget_ipython\u001b[0m\u001b[0;34m(\u001b[0m\u001b[0;34m)\u001b[0m\u001b[0;34m.\u001b[0m\u001b[0mrun_line_magic\u001b[0m\u001b[0;34m(\u001b[0m\u001b[0;34m'gui'\u001b[0m\u001b[0;34m,\u001b[0m \u001b[0;34m'qt'\u001b[0m\u001b[0;34m)\u001b[0m\u001b[0;34m\u001b[0m\u001b[0;34m\u001b[0m\u001b[0m\n",
      "\u001b[0;31mModuleNotFoundError\u001b[0m: No module named 'napari'"
     ]
    }
   ],
   "source": [
    "import numpy as np\n",
    "import matplotlib.pyplot as plt\n",
    "from skimage import io\n",
    "from skimage.filters.rank import equalize\n",
    "from skimage.morphology import ball\n",
    "\n",
    "import napari\n",
    "%gui qt"
   ]
  },
  {
   "cell_type": "code",
   "execution_count": 3,
   "metadata": {},
   "outputs": [
    {
     "name": "stdout",
     "output_type": "stream",
     "text": [
      "Collecting napari\n",
      "\u001b[?25l  Downloading https://files.pythonhosted.org/packages/14/a5/dd196404d51466caa66c56e91832780e42f41e5d6aa3ea3820f1d80efc52/napari-0.2.6.tar.gz (318kB)\n",
      "\u001b[K     |████████████████████████████████| 327kB 4.3MB/s eta 0:00:01\n",
      "\u001b[?25hCollecting dask[array]>=2.1.0 (from napari)\n",
      "\u001b[?25l  Downloading https://files.pythonhosted.org/packages/b3/56/ea46d9b2ed53f03072087ba811ee580640e16a787d99373a6b82646974bc/dask-2.8.1-py3-none-any.whl (769kB)\n",
      "\u001b[K     |████████████████████████████████| 778kB 44.0MB/s eta 0:00:01\n",
      "\u001b[?25hCollecting zarr>=2.3.0 (from napari)\n",
      "Collecting numcodecs!=0.6.4 (from napari)\n",
      "Collecting fsspec>=0.3.3 (from napari)\n",
      "\u001b[?25l  Downloading https://files.pythonhosted.org/packages/04/1e/6108c48f2d4ad9ef1a6bff01fb58245c009f37b2bd0505ec6d0f55cc326d/fsspec-0.6.1-py3-none-any.whl (62kB)\n",
      "\u001b[K     |████████████████████████████████| 71kB 29.4MB/s eta 0:00:01\n",
      "\u001b[?25hRequirement already satisfied: imageio>=2.5.0 in /Library/Frameworks/Python.framework/Versions/3.7/lib/python3.7/site-packages (from napari) (2.6.1)\n",
      "Collecting ipykernel==5.1.1 (from napari)\n",
      "  Using cached https://files.pythonhosted.org/packages/a0/35/dd97fbb48d4e6b5ae97307497e31e46691adc2feedb6279d29fc1c8ad9c1/ipykernel-5.1.1-py3-none-any.whl\n",
      "Requirement already satisfied: numpy>=1.10.0 in /Library/Frameworks/Python.framework/Versions/3.7/lib/python3.7/site-packages (from napari) (1.17.2)\n",
      "Collecting qtpy>=1.7.0 (from napari)\n",
      "\u001b[?25l  Downloading https://files.pythonhosted.org/packages/cd/fd/9972948f02e967b691cc0ca1f26124826a3b88cb38f412a8b7935b8c3c72/QtPy-1.9.0-py2.py3-none-any.whl (54kB)\n",
      "\u001b[K     |████████████████████████████████| 61kB 27.4MB/s eta 0:00:01\n",
      "\u001b[?25hCollecting qtconsole>=4.5.1 (from napari)\n",
      "  Using cached https://files.pythonhosted.org/packages/7c/57/3528b84ffa753e2089908bbf74bb5ae60653eb7a63797b6234e88b847d67/qtconsole-4.6.0-py2.py3-none-any.whl\n",
      "Requirement already satisfied: scipy>=1.2.0 in /Library/Frameworks/Python.framework/Versions/3.7/lib/python3.7/site-packages (from napari) (1.2.1)\n",
      "Requirement already satisfied: scikit-image>=0.15.0 in /Library/Frameworks/Python.framework/Versions/3.7/lib/python3.7/site-packages (from napari) (0.15.0)\n",
      "Collecting vispy>=0.6.3 (from napari)\n",
      "\u001b[?25l  Downloading https://files.pythonhosted.org/packages/6c/58/ecf78c20b94d70cc263d7368be87e0457da9a94633b13560b67be9e3b907/vispy-0.6.3-cp37-cp37m-macosx_10_6_intel.whl (2.3MB)\n",
      "\u001b[K     |████████████████████████████████| 2.3MB 20.8MB/s eta 0:00:01\n",
      "\u001b[?25hCollecting IPython>=7.7.0 (from napari)\n",
      "\u001b[?25l  Downloading https://files.pythonhosted.org/packages/00/17/c3e3dd337cc601b47c599441786fd4e888b587a2a512d38ac752274fd0bc/ipython-7.10.1-py3-none-any.whl (778kB)\n",
      "\u001b[K     |████████████████████████████████| 778kB 43.8MB/s eta 0:00:01\n",
      "\u001b[?25hRequirement already satisfied: backcall>=0.1.0 in /Library/Frameworks/Python.framework/Versions/3.7/lib/python3.7/site-packages (from napari) (0.1.0)\n",
      "Collecting PyOpenGL>=3.1.0 (from napari)\n",
      "\u001b[?25l  Downloading https://files.pythonhosted.org/packages/d7/8a/5db9096aa6506e405309c400bd0feb41997689cbba30683479c30dba6355/PyOpenGL-3.1.4.tar.gz (1.8MB)\n",
      "\u001b[K     |████████████████████████████████| 1.9MB 40.5MB/s eta 0:00:01\n",
      "\u001b[?25hCollecting PySide2>=5.12.3 (from napari)\n",
      "  Using cached https://files.pythonhosted.org/packages/13/0b/37cf970e9d3f30356448ba120c7d92fa9b5aceea92171fd415f67db9c5fb/PySide2-5.13.2-5.13.2-cp35.cp36.cp37-abi3-macosx_10_12_intel.whl\n",
      "Collecting wrapt>=1.11.1 (from napari)\n",
      "Collecting numpydoc>=0.9.1 (from napari)\n",
      "Collecting toolz>=0.7.3; extra == \"array\" (from dask[array]>=2.1.0->napari)\n",
      "Collecting fasteners (from zarr>=2.3.0->napari)\n",
      "  Using cached https://files.pythonhosted.org/packages/18/bd/55eb2d6397b9c0e263af9d091ebdb756b15756029b3cededf6461481bc63/fasteners-0.15-py2.py3-none-any.whl\n",
      "Collecting asciitree (from zarr>=2.3.0->napari)\n",
      "Requirement already satisfied: pillow in /Library/Frameworks/Python.framework/Versions/3.7/lib/python3.7/site-packages (from imageio>=2.5.0->napari) (5.4.1)\n",
      "Requirement already satisfied: traitlets>=4.1.0 in /Library/Frameworks/Python.framework/Versions/3.7/lib/python3.7/site-packages (from ipykernel==5.1.1->napari) (4.3.2)\n",
      "Requirement already satisfied: tornado>=4.2 in /Library/Frameworks/Python.framework/Versions/3.7/lib/python3.7/site-packages (from ipykernel==5.1.1->napari) (5.1.1)\n",
      "Requirement already satisfied: jupyter-client in /Library/Frameworks/Python.framework/Versions/3.7/lib/python3.7/site-packages (from ipykernel==5.1.1->napari) (5.2.4)\n",
      "Requirement already satisfied: ipython-genutils in /Library/Frameworks/Python.framework/Versions/3.7/lib/python3.7/site-packages (from qtconsole>=4.5.1->napari) (0.2.0)\n",
      "Requirement already satisfied: pygments in /Library/Frameworks/Python.framework/Versions/3.7/lib/python3.7/site-packages (from qtconsole>=4.5.1->napari) (2.3.1)\n",
      "Requirement already satisfied: jupyter-core in /Library/Frameworks/Python.framework/Versions/3.7/lib/python3.7/site-packages (from qtconsole>=4.5.1->napari) (4.4.0)\n",
      "Requirement already satisfied: PyWavelets>=0.4.0 in /Library/Frameworks/Python.framework/Versions/3.7/lib/python3.7/site-packages (from scikit-image>=0.15.0->napari) (1.0.3)\n",
      "Requirement already satisfied: networkx>=2.0 in /Library/Frameworks/Python.framework/Versions/3.7/lib/python3.7/site-packages (from scikit-image>=0.15.0->napari) (2.3)\n",
      "Requirement already satisfied: matplotlib!=3.0.0,>=2.0.0 in /Library/Frameworks/Python.framework/Versions/3.7/lib/python3.7/site-packages (from scikit-image>=0.15.0->napari) (3.0.2)\n",
      "Requirement already satisfied: setuptools in /Library/Frameworks/Python.framework/Versions/3.7/lib/python3.7/site-packages (from vispy>=0.6.3->napari) (40.6.2)\n",
      "Collecting freetype-py (from vispy>=0.6.3->napari)\n",
      "  Using cached https://files.pythonhosted.org/packages/02/c9/5414ba5fc8373a2c54e238f2e52c31b6b56b628449fcc114fc58c608d928/freetype_py-2.1.0.post1-py2.py3-none-macosx_10_6_intel.macosx_10_9_intel.macosx_10_9_x86_64.macosx_10_10_intel.macosx_10_10_x86_64.whl\n",
      "Requirement already satisfied: appnope; sys_platform == \"darwin\" in /Library/Frameworks/Python.framework/Versions/3.7/lib/python3.7/site-packages (from IPython>=7.7.0->napari) (0.1.0)\n",
      "Requirement already satisfied: jedi>=0.10 in /Library/Frameworks/Python.framework/Versions/3.7/lib/python3.7/site-packages (from IPython>=7.7.0->napari) (0.13.3)\n",
      "Requirement already satisfied: pexpect; sys_platform != \"win32\" in /Library/Frameworks/Python.framework/Versions/3.7/lib/python3.7/site-packages (from IPython>=7.7.0->napari) (4.6.0)\n",
      "Requirement already satisfied: decorator in /Library/Frameworks/Python.framework/Versions/3.7/lib/python3.7/site-packages (from IPython>=7.7.0->napari) (4.3.2)\n",
      "Requirement already satisfied: pickleshare in /Library/Frameworks/Python.framework/Versions/3.7/lib/python3.7/site-packages (from IPython>=7.7.0->napari) (0.7.5)\n",
      "Requirement already satisfied: prompt-toolkit!=3.0.0,!=3.0.1,<3.1.0,>=2.0.0 in /Library/Frameworks/Python.framework/Versions/3.7/lib/python3.7/site-packages (from IPython>=7.7.0->napari) (2.0.9)\n",
      "Collecting shiboken2==5.13.2 (from PySide2>=5.12.3->napari)\n",
      "  Using cached https://files.pythonhosted.org/packages/ac/be/d0be40ab6b9767571b72c84eff94700a6eee02a7a161f7302e71128c752b/shiboken2-5.13.2-5.13.2-cp35.cp36.cp37-abi3-macosx_10_12_intel.whl\n",
      "Collecting sphinx>=1.6.5 (from numpydoc>=0.9.1->napari)\n",
      "\u001b[?25l  Downloading https://files.pythonhosted.org/packages/be/a4/f42463e18bb36a47325d43004ab6f4afb5c863e6ffdb936104acc15cfc11/Sphinx-2.2.2-py3-none-any.whl (2.7MB)\n",
      "\u001b[K     |████████████████████████████████| 2.7MB 40.2MB/s eta 0:00:01\n",
      "\u001b[?25hRequirement already satisfied: Jinja2>=2.3 in /Library/Frameworks/Python.framework/Versions/3.7/lib/python3.7/site-packages (from numpydoc>=0.9.1->napari) (2.10)\n",
      "Collecting monotonic>=0.1 (from fasteners->zarr>=2.3.0->napari)\n",
      "  Using cached https://files.pythonhosted.org/packages/ac/aa/063eca6a416f397bd99552c534c6d11d57f58f2e94c14780f3bbf818c4cf/monotonic-1.5-py2.py3-none-any.whl\n",
      "Requirement already satisfied: six in /Library/Frameworks/Python.framework/Versions/3.7/lib/python3.7/site-packages (from fasteners->zarr>=2.3.0->napari) (1.12.0)\n",
      "Requirement already satisfied: pyzmq>=13 in /Library/Frameworks/Python.framework/Versions/3.7/lib/python3.7/site-packages (from jupyter-client->ipykernel==5.1.1->napari) (18.0.0)\n",
      "Requirement already satisfied: python-dateutil>=2.1 in /Library/Frameworks/Python.framework/Versions/3.7/lib/python3.7/site-packages (from jupyter-client->ipykernel==5.1.1->napari) (2.8.0)\n",
      "Requirement already satisfied: pyparsing!=2.0.4,!=2.1.2,!=2.1.6,>=2.0.1 in /Library/Frameworks/Python.framework/Versions/3.7/lib/python3.7/site-packages (from matplotlib!=3.0.0,>=2.0.0->scikit-image>=0.15.0->napari) (2.3.1)\n",
      "Requirement already satisfied: kiwisolver>=1.0.1 in /Library/Frameworks/Python.framework/Versions/3.7/lib/python3.7/site-packages (from matplotlib!=3.0.0,>=2.0.0->scikit-image>=0.15.0->napari) (1.0.1)\n",
      "Requirement already satisfied: cycler>=0.10 in /Library/Frameworks/Python.framework/Versions/3.7/lib/python3.7/site-packages (from matplotlib!=3.0.0,>=2.0.0->scikit-image>=0.15.0->napari) (0.10.0)\n",
      "Requirement already satisfied: parso>=0.3.0 in /Library/Frameworks/Python.framework/Versions/3.7/lib/python3.7/site-packages (from jedi>=0.10->IPython>=7.7.0->napari) (0.3.4)\n",
      "Requirement already satisfied: ptyprocess>=0.5 in /Library/Frameworks/Python.framework/Versions/3.7/lib/python3.7/site-packages (from pexpect; sys_platform != \"win32\"->IPython>=7.7.0->napari) (0.6.0)\n",
      "Requirement already satisfied: wcwidth in /Library/Frameworks/Python.framework/Versions/3.7/lib/python3.7/site-packages (from prompt-toolkit!=3.0.0,!=3.0.1,<3.1.0,>=2.0.0->IPython>=7.7.0->napari) (0.1.7)\n"
     ]
    },
    {
     "name": "stdout",
     "output_type": "stream",
     "text": [
      "Collecting babel!=2.0,>=1.3 (from sphinx>=1.6.5->numpydoc>=0.9.1->napari)\n",
      "  Using cached https://files.pythonhosted.org/packages/2c/60/f2af68eb046c5de5b1fe6dd4743bf42c074f7141fe7b2737d3061533b093/Babel-2.7.0-py2.py3-none-any.whl\n",
      "Collecting imagesize (from sphinx>=1.6.5->numpydoc>=0.9.1->napari)\n",
      "  Using cached https://files.pythonhosted.org/packages/fc/b6/aef66b4c52a6ad6ac18cf6ebc5731ed06d8c9ae4d3b2d9951f261150be67/imagesize-1.1.0-py2.py3-none-any.whl\n",
      "Collecting sphinxcontrib-applehelp (from sphinx>=1.6.5->numpydoc>=0.9.1->napari)\n",
      "  Using cached https://files.pythonhosted.org/packages/13/9a/4428b3114d654cb1cd34d90d5e6fab938d5436f94a571155187ea1dd78b4/sphinxcontrib_applehelp-1.0.1-py2.py3-none-any.whl\n",
      "Collecting sphinxcontrib-qthelp (from sphinx>=1.6.5->numpydoc>=0.9.1->napari)\n",
      "  Using cached https://files.pythonhosted.org/packages/ce/5b/4747c3ba98b3a3e21a66faa183d8f79b9ded70e74212a7988d236a6eb78a/sphinxcontrib_qthelp-1.0.2-py2.py3-none-any.whl\n",
      "Requirement already satisfied: requests>=2.5.0 in /Library/Frameworks/Python.framework/Versions/3.7/lib/python3.7/site-packages (from sphinx>=1.6.5->numpydoc>=0.9.1->napari) (2.22.0)\n",
      "Collecting docutils>=0.12 (from sphinx>=1.6.5->numpydoc>=0.9.1->napari)\n",
      "  Using cached https://files.pythonhosted.org/packages/22/cd/a6aa959dca619918ccb55023b4cb151949c64d4d5d55b3f4ffd7eee0c6e8/docutils-0.15.2-py3-none-any.whl\n",
      "Collecting snowballstemmer>=1.1 (from sphinx>=1.6.5->numpydoc>=0.9.1->napari)\n",
      "  Using cached https://files.pythonhosted.org/packages/7d/4b/cdf1113a0e88b641893b814e9c36f69a6fda28cd88b62c7f0d858cde3166/snowballstemmer-2.0.0-py2.py3-none-any.whl\n",
      "Requirement already satisfied: packaging in /Library/Frameworks/Python.framework/Versions/3.7/lib/python3.7/site-packages (from sphinx>=1.6.5->numpydoc>=0.9.1->napari) (19.2)\n",
      "Collecting alabaster<0.8,>=0.7 (from sphinx>=1.6.5->numpydoc>=0.9.1->napari)\n",
      "  Using cached https://files.pythonhosted.org/packages/10/ad/00b090d23a222943eb0eda509720a404f531a439e803f6538f35136cae9e/alabaster-0.7.12-py2.py3-none-any.whl\n",
      "Collecting sphinxcontrib-serializinghtml (from sphinx>=1.6.5->numpydoc>=0.9.1->napari)\n",
      "  Using cached https://files.pythonhosted.org/packages/57/b3/3648e48fa5682e61e9839d62de4e23af1795ceb738d68d73bd974257a95c/sphinxcontrib_serializinghtml-1.1.3-py2.py3-none-any.whl\n",
      "Collecting sphinxcontrib-htmlhelp (from sphinx>=1.6.5->numpydoc>=0.9.1->napari)\n",
      "  Using cached https://files.pythonhosted.org/packages/e4/35/80a67cc493f4a8a9634ab203a77aaa1b84d79ccb1c02eca72cb084d2c7f7/sphinxcontrib_htmlhelp-1.0.2-py2.py3-none-any.whl\n",
      "Collecting sphinxcontrib-jsmath (from sphinx>=1.6.5->numpydoc>=0.9.1->napari)\n",
      "  Using cached https://files.pythonhosted.org/packages/c2/42/4c8646762ee83602e3fb3fbe774c2fac12f317deb0b5dbeeedd2d3ba4b77/sphinxcontrib_jsmath-1.0.1-py2.py3-none-any.whl\n",
      "Collecting sphinxcontrib-devhelp (from sphinx>=1.6.5->numpydoc>=0.9.1->napari)\n",
      "  Using cached https://files.pythonhosted.org/packages/b0/a3/fea98741f0b2f2902fbf6c35c8e91b22cd0dd13387291e81d457f9a93066/sphinxcontrib_devhelp-1.0.1-py2.py3-none-any.whl\n",
      "Requirement already satisfied: MarkupSafe>=0.23 in /Library/Frameworks/Python.framework/Versions/3.7/lib/python3.7/site-packages (from Jinja2>=2.3->numpydoc>=0.9.1->napari) (1.1.1)\n",
      "Requirement already satisfied: pytz>=2015.7 in /Library/Frameworks/Python.framework/Versions/3.7/lib/python3.7/site-packages (from babel!=2.0,>=1.3->sphinx>=1.6.5->numpydoc>=0.9.1->napari) (2019.1)\n",
      "Requirement already satisfied: certifi>=2017.4.17 in /Library/Frameworks/Python.framework/Versions/3.7/lib/python3.7/site-packages (from requests>=2.5.0->sphinx>=1.6.5->numpydoc>=0.9.1->napari) (2019.9.11)\n",
      "Requirement already satisfied: urllib3!=1.25.0,!=1.25.1,<1.26,>=1.21.1 in /Library/Frameworks/Python.framework/Versions/3.7/lib/python3.7/site-packages (from requests>=2.5.0->sphinx>=1.6.5->numpydoc>=0.9.1->napari) (1.25.4)\n",
      "Requirement already satisfied: chardet<3.1.0,>=3.0.2 in /Library/Frameworks/Python.framework/Versions/3.7/lib/python3.7/site-packages (from requests>=2.5.0->sphinx>=1.6.5->numpydoc>=0.9.1->napari) (3.0.4)\n",
      "Requirement already satisfied: idna<2.9,>=2.5 in /Library/Frameworks/Python.framework/Versions/3.7/lib/python3.7/site-packages (from requests>=2.5.0->sphinx>=1.6.5->numpydoc>=0.9.1->napari) (2.8)\n",
      "Installing collected packages: toolz, dask, monotonic, fasteners, numcodecs, asciitree, zarr, fsspec, IPython, ipykernel, qtpy, qtconsole, freetype-py, vispy, PyOpenGL, shiboken2, PySide2, wrapt, babel, imagesize, sphinxcontrib-applehelp, sphinxcontrib-qthelp, docutils, snowballstemmer, alabaster, sphinxcontrib-serializinghtml, sphinxcontrib-htmlhelp, sphinxcontrib-jsmath, sphinxcontrib-devhelp, sphinx, numpydoc, napari\n",
      "  Found existing installation: ipython 7.3.0\n",
      "    Uninstalling ipython-7.3.0:\n",
      "      Successfully uninstalled ipython-7.3.0\n",
      "  Found existing installation: ipykernel 5.1.0\n",
      "    Uninstalling ipykernel-5.1.0:\n",
      "      Successfully uninstalled ipykernel-5.1.0\n",
      "  Found existing installation: qtconsole 4.4.3\n",
      "    Uninstalling qtconsole-4.4.3:\n",
      "      Successfully uninstalled qtconsole-4.4.3\n",
      "  Running setup.py install for PyOpenGL ... \u001b[?25ldone\n",
      "\u001b[?25h  Running setup.py install for napari ... \u001b[?25ldone\n",
      "\u001b[?25hSuccessfully installed IPython-7.10.1 PyOpenGL-3.1.4 PySide2-5.13.2 alabaster-0.7.12 asciitree-0.3.3 babel-2.7.0 dask-2.8.1 docutils-0.15.2 fasteners-0.15 freetype-py-2.1.0.post1 fsspec-0.6.1 imagesize-1.1.0 ipykernel-5.1.1 monotonic-1.5 napari-0.2.6 numcodecs-0.6.3 numpydoc-0.9.1 qtconsole-4.6.0 qtpy-1.9.0 shiboken2-5.13.2 snowballstemmer-2.0.0 sphinx-2.2.2 sphinxcontrib-applehelp-1.0.1 sphinxcontrib-devhelp-1.0.1 sphinxcontrib-htmlhelp-1.0.2 sphinxcontrib-jsmath-1.0.1 sphinxcontrib-qthelp-1.0.2 sphinxcontrib-serializinghtml-1.1.3 toolz-0.10.0 vispy-0.6.3 wrapt-1.11.2 zarr-2.3.2\n",
      "\u001b[33mWARNING: You are using pip version 19.2.3, however version 19.3.1 is available.\n",
      "You should consider upgrading via the 'pip install --upgrade pip' command.\u001b[0m\n"
     ]
    }
   ],
   "source": [
    "!pip install napari"
   ]
  },
  {
   "cell_type": "code",
   "execution_count": 5,
   "metadata": {},
   "outputs": [],
   "source": [
    "def normalize_pixels(i):\n",
    "    i = 256*(i/np.amax(i))\n",
    "    return i.astype(np.uint8)"
   ]
  },
  {
   "cell_type": "code",
   "execution_count": 2,
   "metadata": {},
   "outputs": [],
   "source": [
    "im = io.imread(\"classic.tif\")"
   ]
  },
  {
   "cell_type": "code",
   "execution_count": 28,
   "metadata": {},
   "outputs": [
    {
     "data": {
      "text/plain": [
       "11463"
      ]
     },
     "execution_count": 28,
     "metadata": {},
     "output_type": "execute_result"
    }
   ],
   "source": [
    "np.amin(im)"
   ]
  },
  {
   "cell_type": "code",
   "execution_count": 3,
   "metadata": {},
   "outputs": [],
   "source": [
    "viewer = napari.view_image(im)"
   ]
  },
  {
   "cell_type": "code",
   "execution_count": 6,
   "metadata": {},
   "outputs": [
    {
     "data": {
      "text/plain": [
       "(11, 101, 101)"
      ]
     },
     "execution_count": 6,
     "metadata": {},
     "output_type": "execute_result"
    }
   ],
   "source": [
    "im.shape"
   ]
  },
  {
   "cell_type": "code",
   "execution_count": 4,
   "metadata": {},
   "outputs": [
    {
     "name": "stderr",
     "output_type": "stream",
     "text": [
      "/Users/RyanLu/Documents/scikit-image/skimage/filters/rank/generic.py:186: UserWarning: Bad rank filter performance is expected due to a large number of bins (40852), equivalent to an approximate bitdepth of 15.3.\n",
      "  out_dtype)\n"
     ]
    }
   ],
   "source": [
    "equalized_im = equalize(im, ball(20))"
   ]
  },
  {
   "cell_type": "code",
   "execution_count": 6,
   "metadata": {},
   "outputs": [],
   "source": [
    "equalized_im = equalized_im - np.amin(equalized_im)"
   ]
  },
  {
   "cell_type": "code",
   "execution_count": 7,
   "metadata": {},
   "outputs": [],
   "source": [
    "equalized_im = normalize_pixels(equalized_im)"
   ]
  },
  {
   "cell_type": "code",
   "execution_count": 8,
   "metadata": {},
   "outputs": [],
   "source": [
    "viewer = napari.view_image(equalized_im)"
   ]
  },
  {
   "cell_type": "code",
   "execution_count": 9,
   "metadata": {},
   "outputs": [
    {
     "data": {
      "text/plain": [
       "[<matplotlib.lines.Line2D at 0x1c455ca320>]"
      ]
     },
     "execution_count": 9,
     "metadata": {},
     "output_type": "execute_result"
    },
    {
     "data": {
      "image/png": "[encoded data removed]",
      "text/plain": [
       "<Figure size 432x288 with 1 Axes>"
      ]
     },
     "metadata": {
      "needs_background": "light"
     },
     "output_type": "display_data"
    }
   ],
   "source": [
    "hist = np.histogram(equalized_im, bins=np.arange(0, 256))\n",
    "\n",
    "plt.figure(1)\n",
    "plt.plot(hist[1][:-1], hist[0], lw = 2)"
   ]
  },
  {
   "cell_type": "code",
   "execution_count": 10,
   "metadata": {},
   "outputs": [],
   "source": [
    "thresholded = equalized_im > 200"
   ]
  },
  {
   "cell_type": "code",
   "execution_count": 11,
   "metadata": {},
   "outputs": [],
   "source": [
    "viewer = napari.view_image(thresholded)"
   ]
  },
  {
   "cell_type": "code",
   "execution_count": 14,
   "metadata": {},
   "outputs": [],
   "source": [
    "from skimage.morphology import remove_small_objects"
   ]
  },
  {
   "cell_type": "code",
   "execution_count": 15,
   "metadata": {},
   "outputs": [],
   "source": [
    "thresholded_filtered = remove_small_objects(thresholded, min_size = 60)"
   ]
  },
  {
   "cell_type": "code",
   "execution_count": 16,
   "metadata": {},
   "outputs": [],
   "source": [
    "viewer = napari.view_image(thresholded_filtered)"
   ]
  },
  {
   "cell_type": "code",
   "execution_count": null,
   "metadata": {},
   "outputs": [],
   "source": []
  }
 ],
 "metadata": {
  "kernelspec": {
   "display_name": "Python 3",
   "language": "python",
   "name": "python3"
  },
  "language_info": {
   "codemirror_mode": {
    "name": "ipython",
    "version": 3
   },
   "file_extension": ".py",
   "mimetype": "text/x-python",
   "name": "python",
   "nbconvert_exporter": "python",
   "pygments_lexer": "ipython3",
   "version": "3.7.2"
  }
 },
 "nbformat": 4,
 "nbformat_minor": 2
}
