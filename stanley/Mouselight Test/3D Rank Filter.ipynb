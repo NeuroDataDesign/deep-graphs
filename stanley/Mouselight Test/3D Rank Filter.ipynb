{
 "cells": [
  {
   "cell_type": "code",
   "execution_count": 2,
   "metadata": {},
   "outputs": [],
   "source": [
    "import numpy as np\n",
    "import matplotlib.pyplot as plt\n",
    "from skimage import io\n",
    "from skimage.filters.rank import equalize, otsu\n",
    "from skimage.morphology import ball\n",
    "\n",
    "import napari\n",
    "%gui qt"
   ]
  },
  {
   "cell_type": "code",
   "execution_count": 3,
   "metadata": {},
   "outputs": [],
   "source": [
    "from skimage import io"
   ]
  },
  {
   "cell_type": "code",
   "execution_count": 4,
   "metadata": {},
   "outputs": [],
   "source": [
    "def normalize_pixels(i):\n",
    "    i = 256*(i/np.amax(i))\n",
    "    return i.astype(np.uint8)"
   ]
  },
  {
   "cell_type": "code",
   "execution_count": 29,
   "metadata": {},
   "outputs": [],
   "source": [
    "im = io.imread(\"classic.tif\")"
   ]
  },
  {
   "cell_type": "code",
   "execution_count": 30,
   "metadata": {
    "scrolled": true
   },
   "outputs": [
    {
     "name": "stdout",
     "output_type": "stream",
     "text": [
      "40851 11463 [[[12454 12398 12418 ... 11923 11618 11518]\n",
      "  [12305 12121 12390 ... 11805 11700 11710]\n",
      "  [12580 12719 12781 ... 11901 11733 11619]\n",
      "  ...\n",
      "  [11951 12203 12190 ... 12084 12104 12105]\n",
      "  [11893 12091 12526 ... 12258 12232 12299]\n",
      "  [12234 12247 12820 ... 12425 12390 12404]]\n",
      "\n",
      " [[12810 12959 12288 ... 11794 11674 11777]\n",
      "  [12745 12718 12323 ... 11463 11678 11616]\n",
      "  [12451 12748 12491 ... 11828 11876 11643]\n",
      "  ...\n",
      "  [12175 12363 12488 ... 12332 12370 12193]\n",
      "  [12066 12379 12568 ... 12276 12529 12408]\n",
      "  [12491 12659 12866 ... 12391 12309 12221]]\n",
      "\n",
      " [[12417 12233 12418 ... 11693 11690 11682]\n",
      "  [12484 12564 12641 ... 11602 11653 11715]\n",
      "  [12356 12571 12615 ... 11656 11773 11844]\n",
      "  ...\n",
      "  [12411 12594 12574 ... 12202 12078 12149]\n",
      "  [12365 12376 12370 ... 12397 12050 12215]\n",
      "  [12324 12273 12351 ... 12333 12123 12081]]\n",
      "\n",
      " ...\n",
      "\n",
      " [[12404 12559 12570 ... 12336 12164 12202]\n",
      "  [12251 12368 12501 ... 11759 11837 12741]\n",
      "  [12426 12389 12611 ... 11853 11931 11975]\n",
      "  ...\n",
      "  [12218 12202 12143 ... 12302 12024 12015]\n",
      "  [12047 12000 11876 ... 12951 12359 11979]\n",
      "  [12369 12309 12134 ... 13726 12752 12113]]\n",
      "\n",
      " [[12275 12041 12402 ... 11979 12249 12041]\n",
      "  [12313 12128 12372 ... 11916 12163 11955]\n",
      "  [12516 12389 12544 ... 11899 11958 11837]\n",
      "  ...\n",
      "  [11726 11924 12019 ... 12344 11966 11829]\n",
      "  [12273 12192 12106 ... 12703 12036 11890]\n",
      "  [12157 12226 12283 ... 13041 12511 12377]]\n",
      "\n",
      " [[12154 12255 12819 ... 11930 11971 11997]\n",
      "  [12187 12084 12454 ... 12090 12207 12009]\n",
      "  [12265 12451 12597 ... 12265 12166 12167]\n",
      "  ...\n",
      "  [12694 12507 12372 ... 13192 12841 12402]\n",
      "  [11858 12147 12162 ... 13697 13193 12495]\n",
      "  [12168 12227 12207 ... 14371 13561 12661]]]\n"
     ]
    }
   ],
   "source": [
    "print(np.amax(im), np.amin(im), im)"
   ]
  },
  {
   "cell_type": "code",
   "execution_count": 31,
   "metadata": {},
   "outputs": [],
   "source": [
    "viewer = napari.view_image(im)"
   ]
  },
  {
   "cell_type": "code",
   "execution_count": 8,
   "metadata": {},
   "outputs": [
    {
     "data": {
      "text/plain": [
       "(11, 101, 101)"
      ]
     },
     "execution_count": 8,
     "metadata": {},
     "output_type": "execute_result"
    }
   ],
   "source": [
    "im.shape"
   ]
  },
  {
   "cell_type": "code",
   "execution_count": 9,
   "metadata": {},
   "outputs": [],
   "source": [
    "im = im - np.amin(im)"
   ]
  },
  {
   "cell_type": "code",
   "execution_count": 10,
   "metadata": {},
   "outputs": [],
   "source": [
    "im = normalize_pixels(im)"
   ]
  },
  {
   "cell_type": "code",
   "execution_count": 24,
   "metadata": {},
   "outputs": [],
   "source": [
    "otsu_im = otsu(im, ball(50))"
   ]
  },
  {
   "cell_type": "code",
   "execution_count": 25,
   "metadata": {},
   "outputs": [],
   "source": [
    "otsu_im_final = im >= otsu_im"
   ]
  },
  {
   "cell_type": "code",
   "execution_count": 26,
   "metadata": {
    "scrolled": true
   },
   "outputs": [],
   "source": [
    "# print(np.amax(otsu_im), np.amin(otsu_im), otsu_im)"
   ]
  },
  {
   "cell_type": "code",
   "execution_count": 27,
   "metadata": {},
   "outputs": [],
   "source": [
    "viewer = napari.view_image(otsu_im_final)"
   ]
  },
  {
   "cell_type": "code",
   "execution_count": 28,
   "metadata": {},
   "outputs": [
    {
     "data": {
      "text/plain": [
       "[<matplotlib.lines.Line2D at 0x1c451cbe48>]"
      ]
     },
     "execution_count": 28,
     "metadata": {},
     "output_type": "execute_result"
    },
    {
     "data": {
      "image/png": "[encoded data removed]",
      "text/plain": [
       "<Figure size 432x288 with 1 Axes>"
      ]
     },
     "metadata": {
      "needs_background": "light"
     },
     "output_type": "display_data"
    }
   ],
   "source": [
    "hist = np.histogram(otsu_im, bins=np.arange(0, 256))\n",
    "\n",
    "plt.figure(1)\n",
    "plt.plot(hist[1][:-1], hist[0], lw = 2)"
   ]
  },
  {
   "cell_type": "code",
   "execution_count": 32,
   "metadata": {},
   "outputs": [],
   "source": [
    "# from skimage.morphology import remove_small_objects"
   ]
  },
  {
   "cell_type": "code",
   "execution_count": 33,
   "metadata": {},
   "outputs": [],
   "source": [
    "# thresholded_filtered = remove_small_objects(otsu_im_final, min_size = 60)"
   ]
  },
  {
   "cell_type": "code",
   "execution_count": 34,
   "metadata": {},
   "outputs": [],
   "source": [
    "# viewer = napari.view_image(thresholded_filtered)"
   ]
  },
  {
   "cell_type": "code",
   "execution_count": null,
   "metadata": {},
   "outputs": [],
   "source": []
  }
 ],
 "metadata": {
  "kernelspec": {
   "display_name": "Python 3",
   "language": "python",
   "name": "python3"
  },
  "language_info": {
   "codemirror_mode": {
    "name": "ipython",
    "version": 3
   },
   "file_extension": ".py",
   "mimetype": "text/x-python",
   "name": "python",
   "nbconvert_exporter": "python",
   "pygments_lexer": "ipython3",
   "version": "3.6.9"
  }
 },
 "nbformat": 4,
 "nbformat_minor": 2
}
