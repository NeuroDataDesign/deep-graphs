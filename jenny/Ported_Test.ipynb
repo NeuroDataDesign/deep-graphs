{
 "cells": [
  {
   "cell_type": "code",
   "execution_count": 1,
   "metadata": {},
   "outputs": [],
   "source": [
    "import napari\n",
    "%gui qt5"
   ]
  },
  {
   "cell_type": "code",
   "execution_count": 2,
   "metadata": {},
   "outputs": [
    {
     "name": "stderr",
     "output_type": "stream",
     "text": [
      "/Library/Frameworks/Python.framework/Versions/3.7/lib/python3.7/site-packages/python_jsonschema_objects/__init__.py:53: UserWarning: Schema version http://json-schema.org/draft-04/schema not recognized. Some keywords and features may not be supported.\n",
      "  self.schema[\"$schema\"]\n"
     ]
    }
   ],
   "source": [
    "from brainlit.utils.ngl_pipeline import NeuroglancerSession\n",
    "from brainlit.viz.swc import *\n",
    "import numpy as np\n",
    "from skimage import io"
   ]
  },
  {
   "cell_type": "markdown",
   "metadata": {},
   "source": [
    "## Loading entire neuron from AWS \n"
   ]
  },
  {
   "cell_type": "markdown",
   "metadata": {},
   "source": [
    "`napari.components.viewer_model.ViewerModel.add_swc` does this via the following functions in the `napari.layers.swc.swc` module\n",
    "\n",
    "1. `swc.read_s3` to read the s3 file into a pd.DataFrame\n",
    "2. `swc.swc_to_voxel` to convert the coordinates from spatial to voxel coordinates\n",
    "3. `swc.df_to_graph` to convert the DataFrame into a netwrokx.DiGraph\n",
    "4. `swc.graph_to_paths` to convert from a graph into a list of paths\n",
    "5. `ViewerModel.add_shapes` to add the paths as a shape layer into the napari viewer"
   ]
  },
  {
   "cell_type": "markdown",
   "metadata": {},
   "source": [
    "### 1. `read_s3`\n",
    "This function parses the swc file into a pd.DataFrame. Each row is a vertex in the swc file with the following information: \n",
    "\n",
    "`sample number`\n",
    "\n",
    "`structure identifier`\n",
    "\n",
    "`x coordinate`\n",
    "\n",
    "`y coordinate`\n",
    "\n",
    "`z coordinate`\n",
    "\n",
    "`radius of dendrite`\n",
    "\n",
    "`sample number of parent`\n",
    "\n",
    "The coordinates are given in spatial units of micrometers ([swc specification](http://www.neuronland.org/NLMorphologyConverter/MorphologyFormats/SWC/Spec.html))"
   ]
  },
  {
   "cell_type": "code",
   "execution_count": 26,
   "metadata": {},
   "outputs": [
    {
     "name": "stderr",
     "output_type": "stream",
     "text": [
      "Downloading: 100%|██████████| 1/1 [00:00<00:00,  5.75it/s]\n"
     ]
    },
    {
     "data": {
      "text/html": [
       "<div>\n",
       "<style scoped>\n",
       "    .dataframe tbody tr th:only-of-type {\n",
       "        vertical-align: middle;\n",
       "    }\n",
       "\n",
       "    .dataframe tbody tr th {\n",
       "        vertical-align: top;\n",
       "    }\n",
       "\n",
       "    .dataframe thead th {\n",
       "        text-align: right;\n",
       "    }\n",
       "</style>\n",
       "<table border=\"1\" class=\"dataframe\">\n",
       "  <thead>\n",
       "    <tr style=\"text-align: right;\">\n",
       "      <th></th>\n",
       "      <th>sample</th>\n",
       "      <th>structure</th>\n",
       "      <th>x</th>\n",
       "      <th>y</th>\n",
       "      <th>z</th>\n",
       "      <th>r</th>\n",
       "      <th>parent</th>\n",
       "    </tr>\n",
       "  </thead>\n",
       "  <tbody>\n",
       "    <tr>\n",
       "      <th>0</th>\n",
       "      <td>1</td>\n",
       "      <td>0</td>\n",
       "      <td>4713.0</td>\n",
       "      <td>4470.0</td>\n",
       "      <td>3857.0</td>\n",
       "      <td>1.0</td>\n",
       "      <td>-1</td>\n",
       "    </tr>\n",
       "    <tr>\n",
       "      <th>1</th>\n",
       "      <td>4</td>\n",
       "      <td>192</td>\n",
       "      <td>4721.0</td>\n",
       "      <td>4445.0</td>\n",
       "      <td>3849.0</td>\n",
       "      <td>1.0</td>\n",
       "      <td>1</td>\n",
       "    </tr>\n",
       "    <tr>\n",
       "      <th>2</th>\n",
       "      <td>7</td>\n",
       "      <td>64</td>\n",
       "      <td>4723.0</td>\n",
       "      <td>4446.0</td>\n",
       "      <td>3851.0</td>\n",
       "      <td>1.0</td>\n",
       "      <td>4</td>\n",
       "    </tr>\n",
       "    <tr>\n",
       "      <th>3</th>\n",
       "      <td>8</td>\n",
       "      <td>0</td>\n",
       "      <td>4728.0</td>\n",
       "      <td>4449.0</td>\n",
       "      <td>3852.0</td>\n",
       "      <td>1.0</td>\n",
       "      <td>7</td>\n",
       "    </tr>\n",
       "    <tr>\n",
       "      <th>4</th>\n",
       "      <td>14</td>\n",
       "      <td>0</td>\n",
       "      <td>4746.0</td>\n",
       "      <td>4445.0</td>\n",
       "      <td>3858.0</td>\n",
       "      <td>1.0</td>\n",
       "      <td>8</td>\n",
       "    </tr>\n",
       "  </tbody>\n",
       "</table>\n",
       "</div>"
      ],
      "text/plain": [
       "   sample  structure       x       y       z    r  parent\n",
       "0       1          0  4713.0  4470.0  3857.0  1.0      -1\n",
       "1       4        192  4721.0  4445.0  3849.0  1.0       1\n",
       "2       7         64  4723.0  4446.0  3851.0  1.0       4\n",
       "3       8          0  4728.0  4449.0  3852.0  1.0       7\n",
       "4      14          0  4746.0  4445.0  3858.0  1.0       8"
      ]
     },
     "execution_count": 26,
     "metadata": {},
     "output_type": "execute_result"
    }
   ],
   "source": [
    "s3_path = \"s3://mouse-light-viz/precomputed_volumes/brain1_segments\"\n",
    "seg_id = 2\n",
    "mip = 1\n",
    "df = read_s3(s3_path, seg_id, mip)\n",
    "df.head()"
   ]
  },
  {
   "cell_type": "markdown",
   "metadata": {},
   "source": [
    "### 2. `swc_to_voxel`\n",
    "\n",
    "If we want to overlay the swc file with a corresponding image, we need to make sure that they are in the same coordinate space. Because an image in an array of voxels, it makes sense to convert the vertices in the dataframe from spatial units into voxel units.\n",
    "\n",
    "Given the `spacing` (spatial units/voxel) and `origin` (spatial units) of the image, `swc_to_voxel` does the conversion by using the following equation:\n",
    "\n",
    "$voxel = \\frac{spatial - origin}{spacing}$"
   ]
  },
  {
   "cell_type": "code",
   "execution_count": 4,
   "metadata": {},
   "outputs": [
    {
     "data": {
      "text/html": [
       "<div>\n",
       "<style scoped>\n",
       "    .dataframe tbody tr th:only-of-type {\n",
       "        vertical-align: middle;\n",
       "    }\n",
       "\n",
       "    .dataframe tbody tr th {\n",
       "        vertical-align: top;\n",
       "    }\n",
       "\n",
       "    .dataframe thead th {\n",
       "        text-align: right;\n",
       "    }\n",
       "</style>\n",
       "<table border=\"1\" class=\"dataframe\">\n",
       "  <thead>\n",
       "    <tr style=\"text-align: right;\">\n",
       "      <th></th>\n",
       "      <th>sample</th>\n",
       "      <th>structure</th>\n",
       "      <th>x</th>\n",
       "      <th>y</th>\n",
       "      <th>z</th>\n",
       "      <th>r</th>\n",
       "      <th>parent</th>\n",
       "    </tr>\n",
       "  </thead>\n",
       "  <tbody>\n",
       "    <tr>\n",
       "      <th>0</th>\n",
       "      <td>1</td>\n",
       "      <td>0</td>\n",
       "      <td>-218839</td>\n",
       "      <td>-34826</td>\n",
       "      <td>-25748</td>\n",
       "      <td>1.0</td>\n",
       "      <td>-1</td>\n",
       "    </tr>\n",
       "    <tr>\n",
       "      <th>1</th>\n",
       "      <td>4</td>\n",
       "      <td>192</td>\n",
       "      <td>-218813</td>\n",
       "      <td>-34908</td>\n",
       "      <td>-25756</td>\n",
       "      <td>1.0</td>\n",
       "      <td>1</td>\n",
       "    </tr>\n",
       "    <tr>\n",
       "      <th>2</th>\n",
       "      <td>7</td>\n",
       "      <td>64</td>\n",
       "      <td>-218806</td>\n",
       "      <td>-34905</td>\n",
       "      <td>-25754</td>\n",
       "      <td>1.0</td>\n",
       "      <td>4</td>\n",
       "    </tr>\n",
       "    <tr>\n",
       "      <th>3</th>\n",
       "      <td>8</td>\n",
       "      <td>0</td>\n",
       "      <td>-218789</td>\n",
       "      <td>-34895</td>\n",
       "      <td>-25753</td>\n",
       "      <td>1.0</td>\n",
       "      <td>7</td>\n",
       "    </tr>\n",
       "    <tr>\n",
       "      <th>4</th>\n",
       "      <td>14</td>\n",
       "      <td>0</td>\n",
       "      <td>-218729</td>\n",
       "      <td>-34908</td>\n",
       "      <td>-25747</td>\n",
       "      <td>1.0</td>\n",
       "      <td>8</td>\n",
       "    </tr>\n",
       "  </tbody>\n",
       "</table>\n",
       "</div>"
      ],
      "text/plain": [
       "   sample  structure       x      y      z    r  parent\n",
       "0       1          0 -218839 -34826 -25748  1.0      -1\n",
       "1       4        192 -218813 -34908 -25756  1.0       1\n",
       "2       7         64 -218806 -34905 -25754  1.0       4\n",
       "3       8          0 -218789 -34895 -25753  1.0       7\n",
       "4      14          0 -218729 -34908 -25747  1.0       8"
      ]
     },
     "execution_count": 4,
     "metadata": {},
     "output_type": "execute_result"
    }
   ],
   "source": [
    "spacing = np.array([0.29875923,0.3044159,0.98840415])\n",
    "origin = np.array([70093.276,15071.596,29306.737])\n",
    "\n",
    "df_voxel = swc_to_voxel(df=df, spacing=spacing, origin=origin)\n",
    "df_voxel.head()"
   ]
  },
  {
   "cell_type": "markdown",
   "metadata": {},
   "source": [
    "### 3. `df_to_graph`\n",
    "A neuron is a graph with no cycles (tree). While napari does not support displaying graph objects, it can display multiple paths. \n",
    "\n",
    "The DataFrame already contains all the possible edges in the neurons. Each row in the DataFrame is an edge. For example, from the above we can see that `sample 2` has `parent 1`, which represents edge `(1,2)`. `sample 1` having `parent -1` means that `sample 1` is the root of the tree.\n",
    "\n",
    "`swc.df_to_graph` reads DataFrame and converts it into a networkx directional graph."
   ]
  },
  {
   "cell_type": "code",
   "execution_count": 27,
   "metadata": {},
   "outputs": [
    {
     "name": "stdout",
     "output_type": "stream",
     "text": [
      "Number of nodes: 1650\n",
      "Number of edges: 1649\n",
      "\n",
      "\n",
      "Sample 1 coordinates (x,y,z)\n",
      "4713 4470 3857\n"
     ]
    }
   ],
   "source": [
    "G = df_to_graph(df)\n",
    "print('Number of nodes:', len(G.nodes))\n",
    "print('Number of edges:', len(G.edges))\n",
    "print('\\n')\n",
    "print('Sample 1 coordinates (x,y,z)')\n",
    "print(G.nodes[1]['x'],G.nodes[1]['y'],G.nodes[1]['z'])"
   ]
  },
  {
   "cell_type": "markdown",
   "metadata": {},
   "source": [
    "### 4. `graph_to_paths`\n",
    "This function takes in a graph and returns a list of non-overlapping paths. The union of the paths forms the graph.\n",
    "\n",
    "The algorithm works by:\n",
    "\n",
    "1. Find longest path in the graph ([networkx.algorithms.dag.dag_longest_path](https://networkx.github.io/documentation/stable/reference/algorithms/generated/networkx.algorithms.dag.dag_longest_path.html))\n",
    "2. Remove longest path from graph\n",
    "3. Repeat steps 1 and 2 until there are no more edges left in the graph"
   ]
  },
  {
   "cell_type": "code",
   "execution_count": 28,
   "metadata": {},
   "outputs": [
    {
     "name": "stdout",
     "output_type": "stream",
     "text": [
      "The graph was decomposed into 179 paths\n",
      "<class 'list'>\n"
     ]
    }
   ],
   "source": [
    "paths = graph_to_paths(G=G)\n",
    "print(f\"The graph was decomposed into {len(paths)} paths\")\n",
    "print(type(paths))"
   ]
  },
  {
   "cell_type": "code",
   "execution_count": 29,
   "metadata": {},
   "outputs": [
    {
     "data": {
      "text/plain": [
       "array([[4713, 4470, 3857],\n",
       "       [4721, 4445, 3849],\n",
       "       [4723, 4435, 3843],\n",
       "       [4737, 4410, 3838],\n",
       "       [4763, 4369, 3832],\n",
       "       [4797, 4345, 3821],\n",
       "       [4833, 4309, 3812],\n",
       "       [4844, 4272, 3801],\n",
       "       [4875, 4238, 3794],\n",
       "       [4910, 4202, 3790],\n",
       "       [4914, 4192, 3790],\n",
       "       [4935, 4156, 3787],\n",
       "       [4939, 4145, 3786],\n",
       "       [4956, 4118, 3781],\n",
       "       [4981, 4073, 3773],\n",
       "       [4993, 4039, 3766],\n",
       "       [5006, 3998, 3759],\n",
       "       [5010, 3981, 3757],\n",
       "       [5019, 3931, 3749],\n",
       "       [5033, 3883, 3738],\n",
       "       [5040, 3862, 3737],\n",
       "       [5046, 3820, 3729],\n",
       "       [5043, 3806, 3724],\n",
       "       [5035, 3816, 3722],\n",
       "       [5024, 3795, 3719],\n",
       "       [5006, 3761, 3717],\n",
       "       [4999, 3754, 3716],\n",
       "       [5003, 3745, 3711],\n",
       "       [5023, 3728, 3699],\n",
       "       [5041, 3693, 3689],\n",
       "       [5064, 3667, 3674],\n",
       "       [5099, 3640, 3660],\n",
       "       [5132, 3621, 3650],\n",
       "       [5147, 3602, 3643],\n",
       "       [5180, 3575, 3631],\n",
       "       [5190, 3528, 3622],\n",
       "       [5216, 3501, 3614],\n",
       "       [5208, 3431, 3613],\n",
       "       [5199, 3363, 3610],\n",
       "       [5200, 3298, 3608],\n",
       "       [5190, 3204, 3604],\n",
       "       [5208, 3149, 3599],\n",
       "       [5221, 3071, 3599],\n",
       "       [5234, 3043, 3597],\n",
       "       [5246, 2980, 3597],\n",
       "       [5255, 2916, 3604],\n",
       "       [5250, 2895, 3606],\n",
       "       [5251, 2867, 3605],\n",
       "       [5254, 2863, 3602],\n",
       "       [5278, 2849, 3587],\n",
       "       [5305, 2833, 3560],\n",
       "       [5343, 2811, 3538],\n",
       "       [5367, 2814, 3517],\n",
       "       [5381, 2794, 3500],\n",
       "       [5372, 2792, 3495],\n",
       "       [5371, 2809, 3486],\n",
       "       [5385, 2813, 3479],\n",
       "       [5379, 2788, 3456],\n",
       "       [5408, 2780, 3446],\n",
       "       [5505, 2766, 3427],\n",
       "       [5597, 2738, 3394],\n",
       "       [5679, 2732, 3363],\n",
       "       [5796, 2767, 3329],\n",
       "       [5888, 2762, 3305],\n",
       "       [5999, 2765, 3276],\n",
       "       [6066, 2772, 3252],\n",
       "       [6152, 2780, 3228],\n",
       "       [6243, 2794, 3207],\n",
       "       [6308, 2806, 3186],\n",
       "       [6340, 2811, 3180],\n",
       "       [6434, 2847, 3149],\n",
       "       [6525, 2900, 3125],\n",
       "       [6591, 2944, 3105],\n",
       "       [6702, 3012, 3072],\n",
       "       [6773, 3055, 3057],\n",
       "       [6882, 3107, 3031],\n",
       "       [6950, 3121, 3018],\n",
       "       [7008, 3111, 3009],\n",
       "       [7067, 3081, 3000],\n",
       "       [7112, 3090, 2993],\n",
       "       [7166, 3077, 2986],\n",
       "       [7216, 3060, 2980],\n",
       "       [7287, 3033, 2971],\n",
       "       [7362, 3024, 2959],\n",
       "       [7442, 3018, 2944],\n",
       "       [7505, 3036, 2938],\n",
       "       [7560, 3086, 2934],\n",
       "       [7573, 3094, 2933],\n",
       "       [7626, 3127, 2926],\n",
       "       [7663, 3077, 2911],\n",
       "       [7723, 3072, 2896],\n",
       "       [7790, 3066, 2875],\n",
       "       [7821, 3033, 2832],\n",
       "       [7848, 3033, 2799],\n",
       "       [7898, 3058, 2732],\n",
       "       [7901, 3089, 2690],\n",
       "       [7894, 3139, 2646],\n",
       "       [7874, 3192, 2603],\n",
       "       [7851, 3253, 2569],\n",
       "       [7833, 3310, 2530],\n",
       "       [7808, 3378, 2486],\n",
       "       [7795, 3439, 2454],\n",
       "       [7779, 3488, 2429],\n",
       "       [7756, 3561, 2402],\n",
       "       [7735, 3613, 2377],\n",
       "       [7726, 3669, 2349],\n",
       "       [7700, 3733, 2322],\n",
       "       [7662, 3789, 2300],\n",
       "       [7632, 3822, 2282],\n",
       "       [7601, 3872, 2262],\n",
       "       [7558, 3916, 2245],\n",
       "       [7525, 3965, 2231],\n",
       "       [7497, 4013, 2209],\n",
       "       [7457, 4081, 2184],\n",
       "       [7418, 4146, 2167],\n",
       "       [7367, 4209, 2148],\n",
       "       [7292, 4271, 2126],\n",
       "       [7239, 4322, 2107],\n",
       "       [7177, 4359, 2093],\n",
       "       [7120, 4405, 2073],\n",
       "       [7063, 4480, 2042],\n",
       "       [7033, 4538, 2019],\n",
       "       [7002, 4605, 1997],\n",
       "       [6982, 4664, 1975],\n",
       "       [6947, 4725, 1956],\n",
       "       [6916, 4792, 1931],\n",
       "       [6906, 4837, 1905],\n",
       "       [6878, 4871, 1885],\n",
       "       [6865, 4903, 1865],\n",
       "       [6860, 4939, 1847],\n",
       "       [6839, 4979, 1825],\n",
       "       [6814, 5039, 1799],\n",
       "       [6783, 5114, 1760],\n",
       "       [6767, 5165, 1731],\n",
       "       [6752, 5218, 1697],\n",
       "       [6707, 5331, 1629],\n",
       "       [6679, 5414, 1577],\n",
       "       [6634, 5494, 1534],\n",
       "       [6582, 5566, 1495],\n",
       "       [6529, 5634, 1458],\n",
       "       [6484, 5683, 1427],\n",
       "       [6417, 5753, 1394],\n",
       "       [6338, 5828, 1367],\n",
       "       [6272, 5873, 1349],\n",
       "       [6198, 5919, 1335],\n",
       "       [6131, 5945, 1331],\n",
       "       [6064, 5978, 1333],\n",
       "       [6000, 6014, 1333],\n",
       "       [5927, 6073, 1348],\n",
       "       [5861, 6091, 1359],\n",
       "       [5806, 6109, 1371],\n",
       "       [5771, 6131, 1384],\n",
       "       [5749, 6158, 1395],\n",
       "       [5677, 6171, 1410],\n",
       "       [5649, 6180, 1420],\n",
       "       [5644, 6139, 1447],\n",
       "       [5603, 6131, 1452],\n",
       "       [5551, 6149, 1462],\n",
       "       [5503, 6140, 1489],\n",
       "       [5475, 6174, 1535],\n",
       "       [5457, 6196, 1560],\n",
       "       [5433, 6229, 1590],\n",
       "       [5421, 6247, 1624],\n",
       "       [5392, 6251, 1647],\n",
       "       [5386, 6275, 1679],\n",
       "       [5386, 6326, 1710],\n",
       "       [5373, 6345, 1732],\n",
       "       [5389, 6374, 1754],\n",
       "       [5404, 6392, 1772],\n",
       "       [5446, 6409, 1805],\n",
       "       [5450, 6422, 1832],\n",
       "       [5415, 6441, 1871],\n",
       "       [5410, 6437, 1925],\n",
       "       [5456, 6411, 1953],\n",
       "       [5522, 6412, 1978],\n",
       "       [5571, 6418, 1982],\n",
       "       [5570, 6477, 1995],\n",
       "       [5569, 6522, 2061],\n",
       "       [5593, 6517, 2081],\n",
       "       [5581, 6528, 2117],\n",
       "       [5614, 6556, 2151],\n",
       "       [5586, 6638, 2176],\n",
       "       [5532, 6706, 2191],\n",
       "       [5491, 6678, 2221],\n",
       "       [5468, 6736, 2250],\n",
       "       [5492, 6776, 2262],\n",
       "       [5508, 6772, 2268],\n",
       "       [5537, 6802, 2268],\n",
       "       [5591, 6857, 2277],\n",
       "       [5653, 6898, 2286],\n",
       "       [5709, 6952, 2287],\n",
       "       [5769, 6978, 2290],\n",
       "       [5843, 6943, 2294],\n",
       "       [5896, 6913, 2295],\n",
       "       [5973, 6931, 2289],\n",
       "       [6034, 6930, 2284],\n",
       "       [6047, 6922, 2284],\n",
       "       [6055, 6915, 2283],\n",
       "       [6059, 6892, 2281],\n",
       "       [6068, 6859, 2274],\n",
       "       [6109, 6752, 2257],\n",
       "       [6121, 6749, 2254],\n",
       "       [6142, 6723, 2246],\n",
       "       [6179, 6709, 2237],\n",
       "       [6195, 6676, 2229],\n",
       "       [6207, 6653, 2226],\n",
       "       [6215, 6640, 2222],\n",
       "       [6259, 6583, 2211],\n",
       "       [6292, 6495, 2194],\n",
       "       [6355, 6411, 2194],\n",
       "       [6468, 6247, 2204],\n",
       "       [6455, 6197, 2216],\n",
       "       [6437, 6185, 2222],\n",
       "       [6432, 6170, 2226],\n",
       "       [6443, 6169, 2234],\n",
       "       [6437, 6188, 2240],\n",
       "       [6437, 6229, 2246],\n",
       "       [6433, 6247, 2240]])"
      ]
     },
     "execution_count": 29,
     "metadata": {},
     "output_type": "execute_result"
    }
   ],
   "source": [
    "paths[0]"
   ]
  },
  {
   "cell_type": "markdown",
   "metadata": {},
   "source": [
    "### 5. `ViewerModel.add_shapes`\n",
    "napari displays \"layers\". The most common layer is the image layer. In order to display the neuron, we use `path` from the [shapes](https://napari.org/tutorials/shapes) layer"
   ]
  },
  {
   "cell_type": "code",
   "execution_count": 30,
   "metadata": {},
   "outputs": [
    {
     "data": {
      "text/plain": [
       "<Shapes layer 'Skeleton 2' at 0x16ba38090>"
      ]
     },
     "execution_count": 30,
     "metadata": {},
     "output_type": "execute_result"
    }
   ],
   "source": [
    "viewer = napari.Viewer(ndisplay=3)\n",
    "#viewer.add_image(img)\n",
    "viewer.add_shapes(data=paths, shape_type='path', edge_color='white', name='Skeleton 2')"
   ]
  },
  {
   "cell_type": "markdown",
   "metadata": {},
   "source": [
    "## Loading sub-neuron\n",
    "\n",
    "The image of the entire brain has dimensions of (33792, 25600, 13312) voxels. G-002 spans a sub-image of (7386, 9932, 5383) voxels. Both are too big to load in napari and overlay the neuron.\n",
    "To circumvent this, we can crop out a smaller region of the neuron, load the sub-neuron, and load the corresponding sub-image.\n",
    "\n",
    "In order to get a sub-neuron, we need to specify the `bounding_box` that will be used to crop the neuron. `bounding_box` is a length 2 tuple. The first element is one corner of the bounding box (inclusive) and the second element is the opposite corner of the bounding box (exclusive). Both corners are in voxel units.\n",
    "\n",
    "`add_swc` can do all of this automatically when given `bounding_box` by following these steps:\n",
    "\n",
    "1. `read_s3` to read the swc file into a pd.DataFrame\n",
    "2. `swc_to_voxel` to convert the coordinates from spatial to voxel coordinates\n",
    "3. `df_to_graph` to convert the DataFrame into a netwrokx.DiGraph\n",
    "**3.1 `swc.get_sub_neuron` to crop the graph by `bounding_box`**\n",
    "4. `graph_to_paths` to convert from a graph into a list of paths\n",
    "5. `ViewerModel.add_shapes` to add the paths as a shape layer into the napari viewer"
   ]
  },
  {
   "cell_type": "markdown",
   "metadata": {},
   "source": [
    "### `get_sub_neuron`\n",
    "This function crops a graph by removing edges. It removes edges that do not intersect the bounding box.\n",
    "\n",
    "Edges that intersect the bounding box will have at least one of its vertices be contained by the bounding box. The algorithm follows this principle by checking the neighborhood of vertices.\n",
    "\n",
    "For each vertex *v* in the graph:\n",
    "\n",
    "1. Find vertices belonging to local neighborhood of *v*\n",
    "2. If vertex *v* or any of its local neighborhood vertices are in the bounding box, do nothing. Otherwise, remove vertex *v* and its edges from the graph\n",
    "\n",
    "We check the neighborhood of *v* along with *v* because we want the sub-neuron to show all edges that pass through the bounding box, including edges that are only partially contained."
   ]
  },
  {
   "cell_type": "code",
   "execution_count": 31,
   "metadata": {},
   "outputs": [
    {
     "name": "stderr",
     "output_type": "stream",
     "text": [
      "Downloading: 100%|██████████| 1/1 [00:00<00:00, 18.76it/s]\n",
      "Downloading:   0%|          | 0/3 [00:02<?, ?it/s]\n",
      "Downloading:   0%|          | 0/3 [00:02<?, ?it/s]\n",
      "Downloading:   0%|          | 0/3 [00:02<?, ?it/s]\n",
      "Downloading:   0%|          | 0/3 [00:02<?, ?it/s]\n",
      "Downloading:   0%|          | 0/3 [00:02<?, ?it/s]\n",
      "Downloading:   0%|          | 0/3 [00:02<?, ?it/s]\n",
      "Downloading:   0%|          | 0/3 [00:02<?, ?it/s]\n",
      "Downloading:   0%|          | 0/3 [00:02<?, ?it/s]\n",
      "Downloading:   0%|          | 0/3 [00:02<?, ?it/s]\n"
     ]
    },
    {
     "name": "stdout",
     "output_type": "stream",
     "text": [
      "[7524, 2400, 3120, 7722, 2550, 3276]\n",
      "([7524, 2400, 3120], [7722, 2550, 3276])\n"
     ]
    }
   ],
   "source": [
    "# Create an NGL session to get the bounding box\n",
    "ngl_sess = NeuroglancerSession(mip = 1)\n",
    "img, bbbox, vox = ngl_sess.pull_voxel(2, 300, 1, 1, 1)\n",
    "bbox = bbbox.to_list()\n",
    "print(bbox)\n",
    "box = (bbox[:3], bbox[3:])\n",
    "print(box)"
   ]
  },
  {
   "cell_type": "code",
   "execution_count": 34,
   "metadata": {},
   "outputs": [
    {
     "data": {
      "text/plain": [
       "<Image layer 'Image' at 0x16fd519d0>"
      ]
     },
     "execution_count": 34,
     "metadata": {},
     "output_type": "execute_result"
    }
   ],
   "source": [
    "G_sub = get_sub_neuron(G, box)\n",
    "paths_sub = graph_to_paths(G_sub)\n",
    "viewer = napari.Viewer(ndisplay=3)\n",
    "viewer.add_shapes(data=paths_sub, shape_type='path', edge_color='blue', name='Skeleton 2')\n",
    "\n",
    "# overlay corresponding image\n",
    "image_path = 'G-002_15312-4400-6448_15840-4800-6656.tif'\n",
    "img_comp = io.imread(image_path)\n",
    "img_comp = np.swapaxes(img_comp,0,2)\n",
    "viewer.add_image(img_comp)"
   ]
  },
  {
   "cell_type": "code",
   "execution_count": null,
   "metadata": {},
   "outputs": [],
   "source": []
  }
 ],
 "metadata": {
  "kernelspec": {
   "display_name": "Python 3",
   "language": "python",
   "name": "python3"
  },
  "language_info": {
   "codemirror_mode": {
    "name": "ipython",
    "version": 3
   },
   "file_extension": ".py",
   "mimetype": "text/x-python",
   "name": "python",
   "nbconvert_exporter": "python",
   "pygments_lexer": "ipython3",
   "version": "3.7.4"
  }
 },
 "nbformat": 4,
 "nbformat_minor": 2
}
