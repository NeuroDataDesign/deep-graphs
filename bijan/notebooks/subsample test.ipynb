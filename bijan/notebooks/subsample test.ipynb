{
 "cells": [
  {
   "cell_type": "code",
   "execution_count": 17,
   "metadata": {},
   "outputs": [],
   "source": [
    "from brainlit.utils.ngl_pipeline import NeuroglancerSession\n",
    "from brainlit.preprocessing.features import *\n",
    "from brainlit.viz.visualize import *\n",
    "import numpy as np\n",
    "import pandas as pd\n",
    "from cloudvolume import CloudVolume\n",
    "from cloudvolume.lib import Bbox\n",
    "import glob\n",
    "import os\n",
    "\n",
    "URL = \"s3://mouse-light-viz/precomputed_volumes/brain1\"\n",
    "SIZE = [2, 2, 2]"
   ]
  },
  {
   "cell_type": "code",
   "execution_count": 10,
   "metadata": {
    "scrolled": true
   },
   "outputs": [
    {
     "name": "stderr",
     "output_type": "stream",
     "text": [
      "Downloading: 100%|██████████| 1/1 [00:00<00:00,  5.31it/s]\n",
      "Downloading: 100%|██████████| 1/1 [00:00<00:00,  5.76it/s]\n",
      "Downloading:   0%|          | 0/1 [00:00<?, ?it/s]\n",
      "Downloading:   0%|          | 0/1 [00:00<?, ?it/s]\n",
      "Downloading: 100%|██████████| 1/1 [00:00<00:00,  8.12it/s]\n",
      "Downloading:   0%|          | 0/1 [00:01<?, ?it/s]\n",
      "Downloading:   0%|          | 0/1 [00:00<?, ?it/s]\n",
      "Downloading: 100%|██████████| 1/1 [00:00<00:00,  9.15it/s]\n",
      "Downloading:   0%|          | 0/1 [00:00<?, ?it/s]\n",
      "Downloading:   0%|          | 0/1 [00:00<?, ?it/s]\n",
      "Downloading: 100%|██████████| 1/1 [00:00<00:00,  6.85it/s]\n",
      "Downloading:   0%|          | 0/1 [00:00<?, ?it/s]\n",
      "Downloading:   0%|          | 0/1 [00:00<?, ?it/s]\n",
      "Downloading: 100%|██████████| 1/1 [00:00<00:00,  9.18it/s]\n",
      "Downloading:   0%|          | 0/1 [00:00<?, ?it/s]\n",
      "Downloading:   0%|          | 0/1 [00:00<?, ?it/s]\n",
      "Downloading: 100%|██████████| 1/1 [00:00<00:00,  4.91it/s]\n",
      "Downloading: 100%|██████████| 1/1 [00:00<00:00,  8.92it/s]\n",
      "Downloading:   0%|          | 0/1 [00:00<?, ?it/s]\n",
      "Downloading:   0%|          | 0/1 [00:00<?, ?it/s]\n",
      "Downloading: 100%|██████████| 1/1 [00:00<00:00,  8.70it/s]\n",
      "Downloading:   0%|          | 0/1 [00:00<?, ?it/s]\n",
      "Downloading:   0%|          | 0/1 [00:00<?, ?it/s]\n",
      "Downloading:   0%|          | 0/1 [00:00<?, ?it/s]\n",
      "Downloading: 100%|██████████| 1/1 [00:00<00:00,  8.69it/s]\n",
      "Downloading:   0%|          | 0/1 [00:02<?, ?it/s]\n",
      "Downloading:   0%|          | 0/1 [00:02<?, ?it/s]\n",
      "Downloading:   0%|          | 0/1 [00:02<?, ?it/s]\n",
      "Downloading:   0%|          | 0/1 [00:04<?, ?it/s]\n",
      "Downloading:   0%|          | 0/1 [00:00<?, ?it/s]\n",
      "Downloading:   0%|          | 0/1 [00:01<?, ?it/s]\n",
      "Downloading: 100%|██████████| 1/1 [00:00<00:00,  5.07it/s]\n",
      "Downloading:   0%|          | 0/1 [00:00<?, ?it/s]\n",
      "Downloading:   0%|          | 0/1 [00:01<?, ?it/s]\n",
      "Downloading: 100%|██████████| 1/1 [00:00<00:00,  5.01it/s]\n",
      "Downloading:   0%|          | 0/1 [00:00<?, ?it/s]\n",
      "Downloading:   0%|          | 0/1 [00:00<?, ?it/s]\n",
      "Downloading:   0%|          | 0/1 [00:00<?, ?it/s]\n"
     ]
    }
   ],
   "source": [
    "nbr = neighborhood.NeighborhoodFeatures(\n",
    "    url=URL, size=SIZE, offset=[15, 15, 15])\n",
    "df_nbr = nbr.fit([2, 7], 5)"
   ]
  },
  {
   "cell_type": "code",
   "execution_count": 72,
   "metadata": {},
   "outputs": [],
   "source": [
    "ind = SIZE[0]*2+1\n",
    "arr = df_nbr.iloc[2,3:].values.reshape((ind, ind, ind))"
   ]
  },
  {
   "cell_type": "code",
   "execution_count": 112,
   "metadata": {},
   "outputs": [],
   "source": [
    "def subsample(arr, orig_shape, dest_shape):\n",
    "    \"\"\"\n",
    "    Subsamples a row from its original shape to another\n",
    "    Parameters\n",
    "    ----------\n",
    "    arr : np.ndarray\n",
    "        The flattened array\n",
    "    orig_shape : tuple\n",
    "        The original shape of the array before flattening\n",
    "    dest_shape : tuple\n",
    "        The desired shape of the array before flattening\n",
    "    \"\"\"\n",
    "    start = np.subtract(orig_shape, dest_shape)//2\n",
    "    end = start + dest_shape\n",
    "    if len(orig_shape) is 2:\n",
    "        idx = np.ravel_multi_index((np.mgrid[start[0]:end[0],start[1]:end[1]].reshape(2, -1)), orig_shape)\n",
    "    elif len(orig_shape) is 3:\n",
    "        idx = np.ravel_multi_index((np.mgrid[start[0]:end[0],start[1]:end[1],start[2]:end[2]].reshape(3, -1)), orig_shape)\n",
    "    return arr[idx]"
   ]
  },
  {
   "cell_type": "markdown",
   "metadata": {},
   "source": [
    "## 2d test"
   ]
  },
  {
   "cell_type": "code",
   "execution_count": 113,
   "metadata": {},
   "outputs": [
    {
     "data": {
      "text/plain": [
       "<matplotlib.image.AxesImage at 0x158ba46d8>"
      ]
     },
     "execution_count": 113,
     "metadata": {},
     "output_type": "execute_result"
    },
    {
     "data": {
      "image/png": "[encoded data removed]",
      "text/plain": [
       "<Figure size 432x288 with 1 Axes>"
      ]
     },
     "metadata": {
      "needs_background": "light"
     },
     "output_type": "display_data"
    }
   ],
   "source": [
    "a1 = arr[2, :, :].flatten()\n",
    "plt.imshow(arr[2, :, :]/np.max(a1), vmin=0, vmax=1)"
   ]
  },
  {
   "cell_type": "code",
   "execution_count": 115,
   "metadata": {},
   "outputs": [
    {
     "data": {
      "text/plain": [
       "<matplotlib.image.AxesImage at 0x158e99080>"
      ]
     },
     "execution_count": 115,
     "metadata": {},
     "output_type": "execute_result"
    },
    {
     "data": {
      "image/png": "[encoded data removed]",
      "text/plain": [
       "<Figure size 432x288 with 1 Axes>"
      ]
     },
     "metadata": {
      "needs_background": "light"
     },
     "output_type": "display_data"
    }
   ],
   "source": [
    "sub_a1 = subsample(a1, (5, 5), (3, 3))\n",
    "plt.imshow(sub_a1.reshape((3,3))/np.max(a1), vmin=0, vmax=1)"
   ]
  },
  {
   "cell_type": "markdown",
   "metadata": {},
   "source": [
    "#### even size test (rounds down)"
   ]
  },
  {
   "cell_type": "code",
   "execution_count": 116,
   "metadata": {},
   "outputs": [
    {
     "data": {
      "text/plain": [
       "<matplotlib.image.AxesImage at 0x158f44c18>"
      ]
     },
     "execution_count": 116,
     "metadata": {},
     "output_type": "execute_result"
    },
    {
     "data": {
      "image/png": "[encoded data removed]",
      "text/plain": [
       "<Figure size 432x288 with 1 Axes>"
      ]
     },
     "metadata": {
      "needs_background": "light"
     },
     "output_type": "display_data"
    }
   ],
   "source": [
    "sub_a1 = subsample(a1, (5, 5), (4, 4))\n",
    "plt.imshow(sub_a1.reshape((4,4))/np.max(a1), vmin=0, vmax=1)"
   ]
  },
  {
   "cell_type": "markdown",
   "metadata": {},
   "source": [
    "## 3d test"
   ]
  },
  {
   "cell_type": "code",
   "execution_count": 95,
   "metadata": {},
   "outputs": [
    {
     "data": {
      "text/plain": [
       "array([[[19161, 19983, 22879, 19607, 16594],\n",
       "        [18864, 16015, 16995, 16866, 17033],\n",
       "        [19007, 15378, 14930, 16852, 17878],\n",
       "        [19993, 16217, 16568, 18172, 18287],\n",
       "        [19585, 16741, 18486, 19896, 19111]],\n",
       "\n",
       "       [[18358, 21221, 22250, 16960, 15346],\n",
       "        [18003, 23385, 25448, 18951, 18324],\n",
       "        [16817, 16656, 18795, 19440, 18777],\n",
       "        [16064, 15958, 16902, 20615, 19056],\n",
       "        [18029, 16999, 19765, 22033, 20336]],\n",
       "\n",
       "       [[15534, 19063, 14720, 15493, 15457],\n",
       "        [17762, 24711, 26002, 18603, 17502],\n",
       "        [17943, 26563, 30773, 22539, 20107],\n",
       "        [15084, 19115, 24112, 24960, 21793],\n",
       "        [14560, 17545, 22016, 25525, 21325]],\n",
       "\n",
       "       [[13650, 15247, 13918, 14761, 15337],\n",
       "        [17442, 22352, 20712, 18062, 17149],\n",
       "        [19705, 31562, 34366, 26039, 21655],\n",
       "        [19483, 34962, 41279, 30076, 22383],\n",
       "        [19624, 32791, 38477, 32109, 24962]],\n",
       "\n",
       "       [[12977, 13042, 13312, 14027, 15061],\n",
       "        [15476, 17730, 15814, 16844, 17614],\n",
       "        [22248, 33008, 32120, 25211, 21238],\n",
       "        [25473, 44727, 46081, 32258, 24004],\n",
       "        [26165, 45962, 46686, 33654, 24458]]])"
      ]
     },
     "execution_count": 95,
     "metadata": {},
     "output_type": "execute_result"
    }
   ],
   "source": [
    "arr"
   ]
  },
  {
   "cell_type": "code",
   "execution_count": 96,
   "metadata": {},
   "outputs": [],
   "source": [
    "a1 = arr.flatten()\n",
    "a1_sub = subsample(a1, (5, 5, 5), (3, 3, 3)).reshape((3, 3, 3))"
   ]
  },
  {
   "cell_type": "code",
   "execution_count": 99,
   "metadata": {},
   "outputs": [],
   "source": [
    "a1_pad = np.pad(a1_sub, 1)"
   ]
  },
  {
   "cell_type": "code",
   "execution_count": 100,
   "metadata": {},
   "outputs": [
    {
     "data": {
      "text/plain": [
       "array([[[False, False, False, False, False],\n",
       "        [False, False, False, False, False],\n",
       "        [False, False, False, False, False],\n",
       "        [False, False, False, False, False],\n",
       "        [False, False, False, False, False]],\n",
       "\n",
       "       [[False, False, False, False, False],\n",
       "        [False,  True,  True,  True, False],\n",
       "        [False,  True,  True,  True, False],\n",
       "        [False,  True,  True,  True, False],\n",
       "        [False, False, False, False, False]],\n",
       "\n",
       "       [[False, False, False, False, False],\n",
       "        [False,  True,  True,  True, False],\n",
       "        [False,  True,  True,  True, False],\n",
       "        [False,  True,  True,  True, False],\n",
       "        [False, False, False, False, False]],\n",
       "\n",
       "       [[False, False, False, False, False],\n",
       "        [False,  True,  True,  True, False],\n",
       "        [False,  True,  True,  True, False],\n",
       "        [False,  True,  True,  True, False],\n",
       "        [False, False, False, False, False]],\n",
       "\n",
       "       [[False, False, False, False, False],\n",
       "        [False, False, False, False, False],\n",
       "        [False, False, False, False, False],\n",
       "        [False, False, False, False, False],\n",
       "        [False, False, False, False, False]]])"
      ]
     },
     "execution_count": 100,
     "metadata": {},
     "output_type": "execute_result"
    }
   ],
   "source": [
    "a1_pad == arr"
   ]
  },
  {
   "cell_type": "code",
   "execution_count": null,
   "metadata": {},
   "outputs": [],
   "source": []
  }
 ],
 "metadata": {
  "kernelspec": {
   "display_name": "brainlit",
   "language": "python",
   "name": "brainlit"
  },
  "language_info": {
   "codemirror_mode": {
    "name": "ipython",
    "version": 3
   },
   "file_extension": ".py",
   "mimetype": "text/x-python",
   "name": "python",
   "nbconvert_exporter": "python",
   "pygments_lexer": "ipython3",
   "version": "3.7.1"
  }
 },
 "nbformat": 4,
 "nbformat_minor": 4
}
