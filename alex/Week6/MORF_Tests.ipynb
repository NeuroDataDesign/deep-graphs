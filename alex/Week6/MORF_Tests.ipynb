{
 "cells": [
  {
   "cell_type": "code",
   "execution_count": 2,
   "metadata": {},
   "outputs": [],
   "source": [
    "from rerf.rerfClassifier import rerfClassifier\n",
    "import numpy as np\n",
    "import pandas as pd\n",
    "from sklearn import metrics\n",
    "from sklearn.model_selection import cross_val_score\n",
    "import matplotlib.pyplot as plt\n",
    "import tensorflow as tf\n",
    "from tensorflow.keras.datasets import cifar10, mnist\n",
    "from tensorflow.keras.utils import to_categorical\n",
    "from tensorflow.keras.models import Sequential, load_model\n",
    "from tensorflow.keras.layers import Conv2D,MaxPooling2D,Dense,Flatten\n",
    "from tensorflow.keras.optimizers import SGD, Adam\n",
    "import time\n",
    "import pickle"
   ]
  },
  {
   "cell_type": "code",
   "execution_count": 74,
   "metadata": {},
   "outputs": [],
   "source": [
    "def test_s_rerf_3d():\n",
    "    #blob0 = np.random.multivariate_normal([1,1,1], np.eye((3), 100).reshape(100,-1)\n",
    "    #blob1 = np.random.multivariate_normal([-1,-1,-1], np.eye((3), 100).reshape(100,-1)\n",
    "    #X = np.vstack((blob0,blob1))\n",
    "    #Y = np.array([0]*100 + [1]*100).reshape(-1,1)\n",
    "    mat = pd.read_csv(\"packedForest/res/cifar_01.csv\", header=None).values        \n",
    "    X = mat[:,1:].reshape(200,32,32,3)\n",
    "    np.swapaxes(X, 1, -1)\n",
    "    X = X.reshape(200,-1)\n",
    "    Y = mat[:,0]\n",
    "\n",
    "    clf = rerfClassifier(\n",
    "        projection_matrix=\"MORF-3D\", image_height=32, image_width=32, image_depth=3, n_estimators=50\n",
    "    )\n",
    "    clf.fit(X, Y)\n",
    "    score = clf.score(X, Y)\n",
    "    return score"
   ]
  },
  {
   "cell_type": "code",
   "execution_count": null,
   "metadata": {},
   "outputs": [],
   "source": [
    "\n"
   ]
  },
  {
   "cell_type": "markdown",
   "metadata": {},
   "source": [
    "# Test on MNIST (make sure I'm doing this right)"
   ]
  },
  {
   "cell_type": "code",
   "execution_count": 31,
   "metadata": {},
   "outputs": [],
   "source": [
    "(x_train,y_train), (x_test,y_test) = mnist.load_data()\n",
    "x_train = x_train/255.0\n",
    "x_test = x_test/255.0\n",
    "x_train = x_train.flatten().reshape(60000,784)\n",
    "x_test = x_test.flatten().reshape(10000,784)\n",
    "\n",
    "#Reduce sample size\n",
    "num_sample = 5000\n",
    "x_train = x_train[:num_sample]\n",
    "y_train = y_train[:num_sample]\n"
   ]
  },
  {
   "cell_type": "code",
   "execution_count": 32,
   "metadata": {},
   "outputs": [],
   "source": [
    "scores_mnist = []\n",
    "for i in range(1,7):\n",
    "    \n",
    "    clf = rerfClassifier(\n",
    "        projection_matrix=\"MORF\", image_height=28, image_width=28, image_depth=1, n_estimators=50, \n",
    "        patch_height_min = i, patch_height_max = i, patch_width_min = i, \n",
    "        patch_width_max = i)\n",
    "    \n",
    "    clf.fit(x_train,y_train)\n",
    "    scores_mnist.append(clf.score(x_test,y_test))"
   ]
  },
  {
   "cell_type": "code",
   "execution_count": 16,
   "metadata": {},
   "outputs": [
    {
     "data": {
      "text/plain": [
       "Text(0, 0.5, 'Accuracy')"
      ]
     },
     "execution_count": 16,
     "metadata": {},
     "output_type": "execute_result"
    },
    {
     "data": {
      "image/png": "[encoded data removed]",
      "text/plain": [
       "<Figure size 432x288 with 1 Axes>"
      ]
     },
     "metadata": {
      "needs_background": "light"
     },
     "output_type": "display_data"
    }
   ],
   "source": [
    "\n",
    "plt.plot(range(1,7), scores)\n",
    "plt.xlabel('Patch size')\n",
    "plt.ylabel('Accuracy')"
   ]
  },
  {
   "cell_type": "code",
   "execution_count": 78,
   "metadata": {},
   "outputs": [
    {
     "data": {
      "text/plain": [
       "0.9479"
      ]
     },
     "execution_count": 78,
     "metadata": {},
     "output_type": "execute_result"
    }
   ],
   "source": [
    "predicts = clf.predict(x_test)\n",
    "score = clf.score(x_test, y_test)\n",
    "score"
   ]
  },
  {
   "cell_type": "code",
   "execution_count": 80,
   "metadata": {},
   "outputs": [
    {
     "name": "stdout",
     "output_type": "stream",
     "text": [
      "3\n"
     ]
    },
    {
     "data": {
      "image/png": "[encoded data removed]",
      "text/plain": [
       "<Figure size 432x288 with 1 Axes>"
      ]
     },
     "metadata": {
      "needs_background": "light"
     },
     "output_type": "display_data"
    }
   ],
   "source": [
    "idx = np.random.randint(0,10000)\n",
    "plt.imshow(x_test[idx].reshape(28,28))\n",
    "print(predicts[idx])"
   ]
  },
  {
   "cell_type": "markdown",
   "metadata": {},
   "source": [
    "# Test MORF-3d on CIFAR"
   ]
  },
  {
   "cell_type": "code",
   "execution_count": 35,
   "metadata": {},
   "outputs": [
    {
     "data": {
      "text/plain": [
       "(5000, 3072)"
      ]
     },
     "execution_count": 35,
     "metadata": {},
     "output_type": "execute_result"
    }
   ],
   "source": [
    "(x_train,y_train), (x_test, y_test) = cifar10.load_data()\n",
    "x_train = x_train/255.0\n",
    "x_test = x_test/255.0\n",
    "x_train = x_train.flatten().reshape(50000,3072)\n",
    "x_test = x_test.flatten().reshape(10000,3072)\n",
    "y_train = y_train.reshape(50000,)\n",
    "y_test = y_test.reshape(10000,)\n",
    "\n",
    "#Reduce # of training samples\n",
    "x_train, y_train = x_train[:5000], y_train[:5000] \n",
    "x_test, y_test = x_test[:1000], y_test[:1000]\n",
    "x_train.shape"
   ]
  },
  {
   "cell_type": "code",
   "execution_count": 37,
   "metadata": {},
   "outputs": [],
   "source": [
    "scores_morf3d = []\n",
    "for i in range(1,7):\n",
    "    \n",
    "    clf = rerfClassifier(\n",
    "            projection_matrix=\"MORF-3D\", image_height=32, image_width=32, image_depth=3, n_estimators=50, \n",
    "        patch_height_min = i, patch_height_max = i, patch_width_min = i, \n",
    "        patch_width_max = i)\n",
    "    clf.fit(x_train,y_train)\n",
    "    scores_morf3d.append(clf.score(x_test,y_test))\n"
   ]
  },
  {
   "cell_type": "code",
   "execution_count": 47,
   "metadata": {},
   "outputs": [
    {
     "data": {
      "text/plain": [
       "[<matplotlib.lines.Line2D at 0x7f4f271baa90>]"
      ]
     },
     "execution_count": 47,
     "metadata": {},
     "output_type": "execute_result"
    },
    {
     "data": {
      "image/png": "[encoded data removed]",
      "text/plain": [
       "<Figure size 432x288 with 1 Axes>"
      ]
     },
     "metadata": {
      "needs_background": "light"
     },
     "output_type": "display_data"
    }
   ],
   "source": [
    "plt.plot(range(1,7), scores_morf3d)"
   ]
  },
  {
   "cell_type": "code",
   "execution_count": 84,
   "metadata": {},
   "outputs": [
    {
     "data": {
      "text/plain": [
       "0.2312"
      ]
     },
     "execution_count": 84,
     "metadata": {},
     "output_type": "execute_result"
    }
   ],
   "source": [
    "predicts = clf.predict(x_test)\n",
    "\n",
    "score = clf.score(x_test,y_test)\n",
    "#pickle.dump(clf, open(\"morf-3d-cifar.sav\", 'w'))\n",
    "score"
   ]
  },
  {
   "cell_type": "code",
   "execution_count": 62,
   "metadata": {},
   "outputs": [
    {
     "ename": "IndexError",
     "evalue": "index 8742 is out of bounds for axis 0 with size 1000",
     "output_type": "error",
     "traceback": [
      "\u001b[0;31m---------------------------------------------------------------------------\u001b[0m",
      "\u001b[0;31mIndexError\u001b[0m                                Traceback (most recent call last)",
      "\u001b[0;32m<ipython-input-62-4dce83f15efd>\u001b[0m in \u001b[0;36m<module>\u001b[0;34m\u001b[0m\n\u001b[1;32m      1\u001b[0m \u001b[0mlabels\u001b[0m \u001b[0;34m=\u001b[0m \u001b[0;34m[\u001b[0m\u001b[0;34m'plane'\u001b[0m\u001b[0;34m,\u001b[0m \u001b[0;34m'car'\u001b[0m\u001b[0;34m,\u001b[0m \u001b[0;34m'bird'\u001b[0m\u001b[0;34m,\u001b[0m \u001b[0;34m'cat'\u001b[0m\u001b[0;34m,\u001b[0m \u001b[0;34m'deer'\u001b[0m\u001b[0;34m,\u001b[0m \u001b[0;34m'dog'\u001b[0m\u001b[0;34m,\u001b[0m \u001b[0;34m'frog'\u001b[0m\u001b[0;34m,\u001b[0m \u001b[0;34m'horse'\u001b[0m\u001b[0;34m,\u001b[0m \u001b[0;34m'ship'\u001b[0m\u001b[0;34m,\u001b[0m \u001b[0;34m'truck'\u001b[0m\u001b[0;34m]\u001b[0m\u001b[0;34m\u001b[0m\u001b[0;34m\u001b[0m\u001b[0m\n\u001b[1;32m      2\u001b[0m \u001b[0midx\u001b[0m \u001b[0;34m=\u001b[0m \u001b[0mnp\u001b[0m\u001b[0;34m.\u001b[0m\u001b[0mrandom\u001b[0m\u001b[0;34m.\u001b[0m\u001b[0mrandint\u001b[0m\u001b[0;34m(\u001b[0m\u001b[0;36m0\u001b[0m\u001b[0;34m,\u001b[0m\u001b[0;36m10000\u001b[0m\u001b[0;34m)\u001b[0m\u001b[0;34m\u001b[0m\u001b[0;34m\u001b[0m\u001b[0m\n\u001b[0;32m----> 3\u001b[0;31m \u001b[0mplt\u001b[0m\u001b[0;34m.\u001b[0m\u001b[0mimshow\u001b[0m\u001b[0;34m(\u001b[0m\u001b[0mx_test\u001b[0m\u001b[0;34m[\u001b[0m\u001b[0midx\u001b[0m\u001b[0;34m]\u001b[0m\u001b[0;34m.\u001b[0m\u001b[0mreshape\u001b[0m\u001b[0;34m(\u001b[0m\u001b[0;36m32\u001b[0m\u001b[0;34m,\u001b[0m\u001b[0;36m32\u001b[0m\u001b[0;34m,\u001b[0m\u001b[0;36m3\u001b[0m\u001b[0;34m)\u001b[0m\u001b[0;34m)\u001b[0m\u001b[0;34m\u001b[0m\u001b[0;34m\u001b[0m\u001b[0m\n\u001b[0m\u001b[1;32m      4\u001b[0m \u001b[0mprint\u001b[0m\u001b[0;34m(\u001b[0m\u001b[0;34m\"Predict: \"\u001b[0m \u001b[0;34m+\u001b[0m \u001b[0mlabels\u001b[0m\u001b[0;34m[\u001b[0m\u001b[0mpredicts\u001b[0m\u001b[0;34m[\u001b[0m\u001b[0midx\u001b[0m\u001b[0;34m]\u001b[0m\u001b[0;34m]\u001b[0m\u001b[0;34m)\u001b[0m\u001b[0;34m\u001b[0m\u001b[0;34m\u001b[0m\u001b[0m\n\u001b[1;32m      5\u001b[0m \u001b[0mprint\u001b[0m\u001b[0;34m(\u001b[0m\u001b[0;34m\"Actual: \"\u001b[0m \u001b[0;34m+\u001b[0m \u001b[0mlabels\u001b[0m\u001b[0;34m[\u001b[0m\u001b[0my_test\u001b[0m\u001b[0;34m[\u001b[0m\u001b[0midx\u001b[0m\u001b[0;34m]\u001b[0m\u001b[0;34m]\u001b[0m\u001b[0;34m)\u001b[0m\u001b[0;34m\u001b[0m\u001b[0;34m\u001b[0m\u001b[0m\n",
      "\u001b[0;31mIndexError\u001b[0m: index 8742 is out of bounds for axis 0 with size 1000"
     ]
    }
   ],
   "source": [
    "labels = ['plane', 'car', 'bird', 'cat', 'deer', 'dog', 'frog', 'horse', 'ship', 'truck']\n",
    "idx = np.random.randint(0,1000)\n",
    "plt.imshow(x_test[idx].reshape(32,32,3))\n",
    "print(\"Predict: \" + labels[predicts[idx]])\n",
    "print(\"Actual: \" + labels[y_test[idx]])\n"
   ]
  },
  {
   "cell_type": "markdown",
   "metadata": {},
   "source": [
    "# Try using 2D MORF on CIFAR"
   ]
  },
  {
   "cell_type": "code",
   "execution_count": 49,
   "metadata": {},
   "outputs": [],
   "source": [
    "def grayscale(data, dtype='float32'):\n",
    "    # luma coding weighted average in video systems\n",
    "    r, g, b = np.asarray(.299, dtype=dtype), np.asarray(.587, dtype=dtype), np.asarray(.144, dtype=dtype)\n",
    "    rst = r * data[:, :, :, 0] + g * data[:, :, :, 1] + b * data[:, :, :, 2]\n",
    "    # add channel dimension\n",
    "    rst = np.expand_dims(rst, axis=3)\n",
    "    return rst\n",
    "\n",
    "(x_train,y_train), (x_test, y_test) = cifar10.load_data()\n",
    "x_train = x_train/255.0\n",
    "x_test = x_test/255.0\n",
    "y_train = y_train.reshape(50000,)\n",
    "y_test = y_test.reshape(10000,)\n",
    "#Limit # of samples\n",
    "num_sample = 5000\n",
    "x_train = x_train[:num_sample]\n",
    "y_train = y_train[:num_sample]\n",
    "\n",
    "x_test, y_test = x_test[:1000],y_test[:1000]\n",
    "x_train, x_test = grayscale(x_train).reshape(num_sample, 1024), grayscale(x_test).reshape(1000,1024)"
   ]
  },
  {
   "cell_type": "code",
   "execution_count": 50,
   "metadata": {},
   "outputs": [],
   "source": [
    "scores_morf2d = []\n",
    "for i in range(1,7):\n",
    "    \n",
    "    clf = rerfClassifier(\n",
    "            projection_matrix=\"MORF\", image_height=32, image_width=32, image_depth=1, n_estimators=50, \n",
    "        patch_height_min = i, patch_height_max = i, patch_width_min = i, \n",
    "        patch_width_max = i)\n",
    "\n",
    "    clf.fit(x_train,y_train)\n",
    "    scores_morf2d.append(clf.score(x_test,y_test))"
   ]
  },
  {
   "cell_type": "code",
   "execution_count": 61,
   "metadata": {},
   "outputs": [
    {
     "data": {
      "image/png": "[encoded data removed]",
      "text/plain": [
       "<Figure size 432x288 with 1 Axes>"
      ]
     },
     "metadata": {
      "needs_background": "light"
     },
     "output_type": "display_data"
    }
   ],
   "source": [
    "plt.plot(range(1,7), scores_mnist)\n",
    "plt.plot(range(1,7), scores_morf3d)\n",
    "plt.plot(range(1,7), scores_morf2d)\n",
    "plt.xlabel('Patch size')\n",
    "plt.ylabel(\"Accuracy\")\n",
    "plt.legend([\"MORF-mnist\",\"3D-MORF\",'2D-MORF'])\n",
    "plt.title(\"MORF Tests (50 Trees)\")\n",
    "plt.savefig(\"MORF_tests.png\")"
   ]
  },
  {
   "cell_type": "markdown",
   "metadata": {},
   "source": [
    "# Neural net for CIFAR"
   ]
  },
  {
   "cell_type": "code",
   "execution_count": 15,
   "metadata": {},
   "outputs": [],
   "source": [
    "(x_train,y_train), (x_test, y_test) = cifar10.load_data()\n",
    "y_train = to_categorical(y_train)\n",
    "y_test = to_categorical(y_test)\n",
    "x_train = x_train/255.0\n",
    "x_test = x_test/255.0"
   ]
  },
  {
   "cell_type": "code",
   "execution_count": 8,
   "metadata": {},
   "outputs": [],
   "source": [
    "model = Sequential()\n",
    "model.add(Conv2D(32, (3, 3), activation='relu', kernel_initializer='he_uniform', \n",
    "                 padding='same', input_shape=(32, 32, 3)))\n",
    "model.add(Conv2D(32, (3, 3), activation='relu', kernel_initializer='he_uniform', padding='same'))\n",
    "model.add(MaxPooling2D((2, 2)))\n",
    "model.add(Conv2D(64, (3, 3), activation='relu', kernel_initializer='he_uniform', padding='same'))\n",
    "model.add(Conv2D(64, (3, 3), activation='relu', kernel_initializer='he_uniform', padding='same'))\n",
    "model.add(MaxPooling2D((2, 2)))\n",
    "model.add(Conv2D(128, (3, 3), activation='relu', kernel_initializer='he_uniform', padding='same'))\n",
    "model.add(Conv2D(128, (3, 3), activation='relu', kernel_initializer='he_uniform', padding='same'))\n",
    "model.add(MaxPooling2D((2, 2)))\n",
    "\n",
    "model.add(Flatten())\n",
    "model.add(Dense(128, activation='relu', kernel_initializer='he_uniform'))\n",
    "model.add(Dense(10, activation='softmax'))\n",
    "\n",
    "model.compile(optimizer = Adam(), loss='categorical_crossentropy', metrics=['accuracy'])"
   ]
  },
  {
   "cell_type": "code",
   "execution_count": 9,
   "metadata": {},
   "outputs": [
    {
     "name": "stdout",
     "output_type": "stream",
     "text": [
      "Train on 50000 samples, validate on 10000 samples\n",
      "Epoch 1/20\n",
      "50000/50000 [==============================] - 232s 5ms/sample - loss: 1.3989 - acc: 0.4923 - val_loss: 1.0334 - val_acc: 0.6363\n",
      "Epoch 2/20\n",
      "50000/50000 [==============================] - 357s 7ms/sample - loss: 0.9043 - acc: 0.6833 - val_loss: 0.8630 - val_acc: 0.7003\n",
      "Epoch 3/20\n",
      "50000/50000 [==============================] - 309s 6ms/sample - loss: 0.6997 - acc: 0.7570 - val_loss: 0.7585 - val_acc: 0.7339\n",
      "Epoch 4/20\n",
      "50000/50000 [==============================] - 266s 5ms/sample - loss: 0.5695 - acc: 0.8012 - val_loss: 0.7583 - val_acc: 0.7523\n",
      "Epoch 5/20\n",
      "50000/50000 [==============================] - 241s 5ms/sample - loss: 0.4674 - acc: 0.8366 - val_loss: 0.7726 - val_acc: 0.7521\n",
      "Epoch 6/20\n",
      "50000/50000 [==============================] - 273s 5ms/sample - loss: 0.3863 - acc: 0.8643 - val_loss: 0.7689 - val_acc: 0.7613\n",
      "Epoch 7/20\n",
      "50000/50000 [==============================] - 332s 7ms/sample - loss: 0.3216 - acc: 0.8864 - val_loss: 0.7908 - val_acc: 0.7623\n",
      "Epoch 8/20\n",
      "50000/50000 [==============================] - 570s 11ms/sample - loss: 0.2723 - acc: 0.9031 - val_loss: 0.8635 - val_acc: 0.7547\n",
      "Epoch 9/20\n",
      "50000/50000 [==============================] - 648s 13ms/sample - loss: 0.2411 - acc: 0.9145 - val_loss: 0.8919 - val_acc: 0.7581\n",
      "Epoch 10/20\n",
      "50000/50000 [==============================] - 419s 8ms/sample - loss: 0.2189 - acc: 0.9229 - val_loss: 0.9473 - val_acc: 0.7601\n",
      "Epoch 11/20\n",
      "50000/50000 [==============================] - 347s 7ms/sample - loss: 0.1970 - acc: 0.9310 - val_loss: 1.0861 - val_acc: 0.7588\n",
      "Epoch 12/20\n",
      "50000/50000 [==============================] - 356s 7ms/sample - loss: 0.1858 - acc: 0.9356 - val_loss: 1.0943 - val_acc: 0.7671\n",
      "Epoch 13/20\n",
      "50000/50000 [==============================] - 351s 7ms/sample - loss: 0.1677 - acc: 0.9422 - val_loss: 1.1292 - val_acc: 0.7671\n",
      "Epoch 14/20\n",
      "50000/50000 [==============================] - 361s 7ms/sample - loss: 0.1615 - acc: 0.9458 - val_loss: 1.1667 - val_acc: 0.7484\n",
      "Epoch 15/20\n",
      "50000/50000 [==============================] - 347s 7ms/sample - loss: 0.1594 - acc: 0.9461 - val_loss: 1.2212 - val_acc: 0.7631\n",
      "Epoch 16/20\n",
      "50000/50000 [==============================] - 338s 7ms/sample - loss: 0.1415 - acc: 0.9516 - val_loss: 1.3298 - val_acc: 0.7572\n",
      "Epoch 17/20\n",
      "50000/50000 [==============================] - 336s 7ms/sample - loss: 0.1534 - acc: 0.9482 - val_loss: 1.1605 - val_acc: 0.7635\n",
      "Epoch 18/20\n",
      "50000/50000 [==============================] - 335s 7ms/sample - loss: 0.1415 - acc: 0.9524 - val_loss: 1.2269 - val_acc: 0.7640\n",
      "Epoch 19/20\n",
      "50000/50000 [==============================] - 336s 7ms/sample - loss: 0.1344 - acc: 0.9550 - val_loss: 1.2899 - val_acc: 0.7657\n",
      "Epoch 20/20\n",
      "50000/50000 [==============================] - 344s 7ms/sample - loss: 0.1332 - acc: 0.9568 - val_loss: 1.2881 - val_acc: 0.7571\n"
     ]
    }
   ],
   "source": [
    "history = model.fit(x_train,y_train, epochs = 20, batch_size= 32, validation_data=(x_test, y_test))"
   ]
  },
  {
   "cell_type": "code",
   "execution_count": 18,
   "metadata": {},
   "outputs": [
    {
     "name": "stdout",
     "output_type": "stream",
     "text": [
      "50000/50000 [==============================] - 58s 1ms/sample - loss: 0.1072 - acc: 0.9639\n"
     ]
    }
   ],
   "source": [
    "model = load_model('keras_cifar10_trained_model.h5')\n",
    "predicts = model.predict(x_test)\n",
    "scores = model.evaluate(x_train,y_train)"
   ]
  },
  {
   "cell_type": "code",
   "execution_count": 48,
   "metadata": {},
   "outputs": [
    {
     "name": "stdout",
     "output_type": "stream",
     "text": [
      "Predicted: ship\n",
      "Actual: ship\n"
     ]
    },
    {
     "data": {
      "text/plain": [
       "<matplotlib.image.AxesImage at 0x7fc419bd5470>"
      ]
     },
     "execution_count": 48,
     "metadata": {},
     "output_type": "execute_result"
    },
    {
     "data": {
      "image/png": "[encoded data removed]",
      "text/plain": [
       "<Figure size 432x288 with 1 Axes>"
      ]
     },
     "metadata": {
      "needs_background": "light"
     },
     "output_type": "display_data"
    }
   ],
   "source": [
    "idx = np.random.randint(0,10000)\n",
    "y = np.argmax(predicts[idx])\n",
    "labels = ['plane', 'car', 'bird', 'cat', 'deer', 'dog', 'frog', 'horse', 'ship', 'truck']\n",
    "print('Predicted: ' + labels[y])\n",
    "print(\"Actual: \" + labels[(np.argmax(y_test[idx]))])\n",
    "img = x_test[idx]\n",
    "plt.imshow(img)"
   ]
  },
  {
   "cell_type": "code",
   "execution_count": null,
   "metadata": {},
   "outputs": [],
   "source": []
  },
  {
   "cell_type": "code",
   "execution_count": 109,
   "metadata": {},
   "outputs": [
    {
     "data": {
      "text/plain": [
       "<tensorflow.python.keras.engine.sequential.Sequential at 0x7f7d47e707f0>"
      ]
     },
     "execution_count": 109,
     "metadata": {},
     "output_type": "execute_result"
    }
   ],
   "source": [
    "m"
   ]
  },
  {
   "cell_type": "code",
   "execution_count": null,
   "metadata": {},
   "outputs": [],
   "source": []
  }
 ],
 "metadata": {
  "kernelspec": {
   "display_name": "Python 3",
   "language": "python",
   "name": "python3"
  },
  "language_info": {
   "codemirror_mode": {
    "name": "ipython",
    "version": 3
   },
   "file_extension": ".py",
   "mimetype": "text/x-python",
   "name": "python",
   "nbconvert_exporter": "python",
   "pygments_lexer": "ipython3",
   "version": "3.6.8"
  }
 },
 "nbformat": 4,
 "nbformat_minor": 4
}
