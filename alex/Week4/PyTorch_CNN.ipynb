{
 "cells": [
  {
   "cell_type": "code",
   "execution_count": 7,
   "metadata": {},
   "outputs": [],
   "source": [
    "import torch\n",
    "import torch.nn as nn\n",
    "from torch.utils.data import DataLoader\n",
    "import torchvision\n",
    "from torchvision import transforms, datasets\n",
    "import os "
   ]
  },
  {
   "cell_type": "code",
   "execution_count": 8,
   "metadata": {},
   "outputs": [],
   "source": [
    "# Hyperparameters\n",
    "num_epochs = 5\n",
    "num_classes = 10\n",
    "batch_size = 100\n",
    "learning_rate = 0.001\n",
    "\n",
    "current_dir = os.getcwd()\n",
    "\n",
    "DATA_PATH = current_dir\n",
    "MODEL_STORE_PATH = current_dir\n",
    "trans = transforms.Compose([transforms.ToTensor(), transforms.Normalize((0.1307,), (0.3081,))])\n",
    "\n",
    "# MNIST dataset\n",
    "train_dataset = torchvision.datasets.MNIST(root=DATA_PATH, train=True, transform=trans, download=True)\n",
    "test_dataset = torchvision.datasets.MNIST(root=DATA_PATH, train=False, transform=trans)\n",
    "\n",
    "train_loader = DataLoader(dataset=train_dataset, batch_size=batch_size, shuffle=True)\n",
    "test_loader = DataLoader(dataset=test_dataset, batch_size=batch_size, shuffle=False)"
   ]
  },
  {
   "cell_type": "code",
   "execution_count": 5,
   "metadata": {},
   "outputs": [],
   "source": [
    "class ConvNet(nn.Module):\n",
    "    def __init__(self):\n",
    "        super(ConvNet, self).__init__()\n",
    "        self.layer1 = nn.Sequential(\n",
    "            nn.Conv2d(1, 32, kernel_size=5, stride=1, padding=2),\n",
    "            nn.ReLU(),\n",
    "            nn.MaxPool2d(kernel_size=2, stride=2))\n",
    "        self.layer2 = nn.Sequential(\n",
    "            nn.Conv2d(32, 64, kernel_size=5, stride=1, padding=2),\n",
    "            nn.ReLU(),\n",
    "            nn.MaxPool2d(kernel_size=2, stride=2))\n",
    "        self.drop_out = nn.Dropout()\n",
    "        self.fc1 = nn.Linear(7 * 7 * 64, 1000)\n",
    "        self.fc2 = nn.Linear(1000, 10)\n",
    "        \n",
    "    def forward(self, x):\n",
    "        out = self.layer1(x)\n",
    "        out = self.layer2(out)\n",
    "        out = out.reshape(out.size(0), -1)\n",
    "        out = self.drop_out(out)\n",
    "        out = self.fc1(out)\n",
    "        out = self.fc2(out)\n",
    "        return out"
   ]
  },
  {
   "cell_type": "code",
   "execution_count": 9,
   "metadata": {},
   "outputs": [],
   "source": [
    "model = ConvNet()\n",
    "\n",
    "# Loss and Adam optimizer\n",
    "criterion = nn.CrossEntropyLoss()\n",
    "optimizer = torch.optim.Adam(model.parameters(), lr=learning_rate)"
   ]
  },
  {
   "cell_type": "code",
   "execution_count": 11,
   "metadata": {},
   "outputs": [
    {
     "name": "stdout",
     "output_type": "stream",
     "text": [
      "Epoch [1/5], Step [100/600], Loss: 0.1098, Accuracy: 95.00%\n",
      "Epoch [1/5], Step [200/600], Loss: 0.1155, Accuracy: 96.00%\n",
      "Epoch [1/5], Step [300/600], Loss: 0.0467, Accuracy: 98.00%\n",
      "Epoch [1/5], Step [400/600], Loss: 0.0818, Accuracy: 95.00%\n",
      "Epoch [1/5], Step [500/600], Loss: 0.0513, Accuracy: 98.00%\n",
      "Epoch [1/5], Step [600/600], Loss: 0.1113, Accuracy: 97.00%\n",
      "Epoch [2/5], Step [100/600], Loss: 0.0386, Accuracy: 98.00%\n",
      "Epoch [2/5], Step [200/600], Loss: 0.1523, Accuracy: 97.00%\n",
      "Epoch [2/5], Step [300/600], Loss: 0.0816, Accuracy: 97.00%\n",
      "Epoch [2/5], Step [400/600], Loss: 0.0626, Accuracy: 98.00%\n",
      "Epoch [2/5], Step [500/600], Loss: 0.0190, Accuracy: 100.00%\n",
      "Epoch [2/5], Step [600/600], Loss: 0.0148, Accuracy: 100.00%\n",
      "Epoch [3/5], Step [100/600], Loss: 0.0394, Accuracy: 98.00%\n",
      "Epoch [3/5], Step [200/600], Loss: 0.0230, Accuracy: 99.00%\n",
      "Epoch [3/5], Step [300/600], Loss: 0.0104, Accuracy: 99.00%\n",
      "Epoch [3/5], Step [400/600], Loss: 0.0097, Accuracy: 100.00%\n",
      "Epoch [3/5], Step [500/600], Loss: 0.1007, Accuracy: 98.00%\n",
      "Epoch [3/5], Step [600/600], Loss: 0.0900, Accuracy: 98.00%\n",
      "Epoch [4/5], Step [100/600], Loss: 0.0084, Accuracy: 100.00%\n",
      "Epoch [4/5], Step [200/600], Loss: 0.0891, Accuracy: 98.00%\n",
      "Epoch [4/5], Step [300/600], Loss: 0.0787, Accuracy: 96.00%\n",
      "Epoch [4/5], Step [400/600], Loss: 0.0329, Accuracy: 99.00%\n",
      "Epoch [4/5], Step [500/600], Loss: 0.0935, Accuracy: 97.00%\n",
      "Epoch [4/5], Step [600/600], Loss: 0.0400, Accuracy: 98.00%\n",
      "Epoch [5/5], Step [100/600], Loss: 0.1118, Accuracy: 97.00%\n",
      "Epoch [5/5], Step [200/600], Loss: 0.0208, Accuracy: 98.00%\n",
      "Epoch [5/5], Step [300/600], Loss: 0.0123, Accuracy: 99.00%\n",
      "Epoch [5/5], Step [400/600], Loss: 0.0051, Accuracy: 100.00%\n",
      "Epoch [5/5], Step [500/600], Loss: 0.0399, Accuracy: 99.00%\n",
      "Epoch [5/5], Step [600/600], Loss: 0.0209, Accuracy: 99.00%\n"
     ]
    }
   ],
   "source": [
    "# Train the model\n",
    "total_step = len(train_loader)\n",
    "loss_list = []\n",
    "acc_list = []\n",
    "for epoch in range(num_epochs):\n",
    "    for i, (images, labels) in enumerate(train_loader):\n",
    "        # Run the forward pass\n",
    "        outputs = model(images)\n",
    "        loss = criterion(outputs, labels)\n",
    "        loss_list.append(loss.item())\n",
    "\n",
    "        # Backprop and perform Adam optimisation\n",
    "        optimizer.zero_grad()\n",
    "        loss.backward()\n",
    "        optimizer.step()\n",
    "\n",
    "        # Track the accuracy\n",
    "        total = labels.size(0)\n",
    "        _, predicted = torch.max(outputs.data, 1)\n",
    "        correct = (predicted == labels).sum().item()\n",
    "        acc_list.append(correct / total)\n",
    "\n",
    "        if (i + 1) % 100 == 0:\n",
    "            print('Epoch [{}/{}], Step [{}/{}], Loss: {:.4f}, Accuracy: {:.2f}%'\n",
    "                  .format(epoch + 1, num_epochs, i + 1, total_step, loss.item(),\n",
    "                          (correct / total) * 100))"
   ]
  },
  {
   "cell_type": "code",
   "execution_count": 13,
   "metadata": {},
   "outputs": [
    {
     "name": "stdout",
     "output_type": "stream",
     "text": [
      "Test Accuracy of the model on the 10000 test images: 98.95 %\n"
     ]
    }
   ],
   "source": [
    "# Test the model\n",
    "model.eval()\n",
    "with torch.no_grad():\n",
    "    correct = 0\n",
    "    total = 0\n",
    "    for images, labels in test_loader:\n",
    "        outputs = model(images)\n",
    "        _, predicted = torch.max(outputs.data, 1)\n",
    "        total += labels.size(0)\n",
    "        correct += (predicted == labels).sum().item()\n",
    "\n",
    "    print('Test Accuracy of the model on the 10000 test images: {} %'.format((correct / total) * 100))\n",
    "\n",
    "# Save the model and plot\n",
    "torch.save(model.state_dict(), MODEL_STORE_PATH + '/conv_net_model.ckpt')"
   ]
  },
  {
   "cell_type": "code",
   "execution_count": null,
   "metadata": {},
   "outputs": [],
   "source": []
  }
 ],
 "metadata": {
  "kernelspec": {
   "display_name": "Python 3",
   "language": "python",
   "name": "python3"
  },
  "language_info": {
   "codemirror_mode": {
    "name": "ipython",
    "version": 3
   },
   "file_extension": ".py",
   "mimetype": "text/x-python",
   "name": "python",
   "nbconvert_exporter": "python",
   "pygments_lexer": "ipython3",
   "version": "3.6.8"
  }
 },
 "nbformat": 4,
 "nbformat_minor": 4
}
