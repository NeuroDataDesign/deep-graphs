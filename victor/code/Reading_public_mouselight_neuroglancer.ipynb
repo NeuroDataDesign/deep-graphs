{
 "cells": [
  {
   "cell_type": "markdown",
   "metadata": {},
   "source": [
    "[mouselight on neuroglancer](https://viz.neurodata.io/#!%7B%22layers%22:%5B%7B%22source%22:%22precomputed://https://d2zu5izn76slwn.cloudfront.net/precomputed_volumes/brain1%22%2C%22crossSectionRenderScale%22:2.9565399559536005%2C%22type%22:%22image%22%2C%22max%22:0.56%2C%22name%22:%22brain1%22%7D%2C%7B%22source%22:%22precomputed://https://d2zu5izn76slwn.cloudfront.net/precomputed_volumes/brain1_segments%22%2C%22type%22:%22segmentation%22%2C%22segments%22:%5B%22101%22%2C%22103%22%2C%22106%22%2C%22107%22%2C%22109%22%2C%2211%22%2C%22111%22%2C%22112%22%2C%22115%22%2C%22118%22%2C%2212%22%2C%22120%22%2C%22124%22%2C%22126%22%2C%22127%22%2C%22129%22%2C%2213%22%2C%22132%22%2C%22133%22%2C%22136%22%2C%22137%22%2C%2214%22%2C%22140%22%2C%22141%22%2C%22142%22%2C%22143%22%2C%22144%22%2C%22145%22%2C%22146%22%2C%22147%22%2C%22149%22%2C%22150%22%2C%22151%22%2C%22152%22%2C%22153%22%2C%22154%22%2C%22155%22%2C%22156%22%2C%22157%22%2C%22158%22%2C%22159%22%2C%22160%22%2C%22161%22%2C%22162%22%2C%22163%22%2C%22164%22%2C%22165%22%2C%22166%22%2C%22167%22%2C%22169%22%2C%22170%22%2C%22171%22%2C%22172%22%2C%22173%22%2C%22174%22%2C%22175%22%2C%22176%22%2C%22177%22%2C%22178%22%2C%22179%22%2C%22180%22%2C%22181%22%2C%22182%22%2C%22183%22%2C%22184%22%2C%22185%22%2C%22186%22%2C%22187%22%2C%22188%22%2C%22189%22%2C%22190%22%2C%22192%22%2C%22193%22%2C%22194%22%2C%22195%22%2C%22196%22%2C%22197%22%2C%22198%22%2C%22199%22%2C%222%22%2C%2220%22%2C%22200%22%2C%22201%22%2C%22202%22%2C%22207%22%2C%22214%22%2C%22223%22%2C%22224%22%2C%22225%22%2C%22227%22%2C%22229%22%2C%22230%22%2C%22231%22%2C%22232%22%2C%22234%22%2C%22235%22%2C%22236%22%2C%22237%22%2C%2224%22%2C%22240%22%2C%22243%22%2C%22246%22%2C%22247%22%2C%22248%22%2C%22249%22%2C%22250%22%2C%22252%22%2C%22253%22%2C%22254%22%2C%22255%22%2C%22256%22%2C%22257%22%2C%22258%22%2C%22259%22%2C%22261%22%2C%22262%22%2C%22265%22%2C%22266%22%2C%22267%22%2C%22269%22%2C%22270%22%2C%22271%22%2C%22272%22%2C%22274%22%2C%22275%22%2C%22276%22%2C%22277%22%2C%22278%22%2C%22279%22%2C%2228%22%2C%22280%22%2C%22281%22%2C%22282%22%2C%22283%22%2C%22284%22%2C%22285%22%2C%22286%22%2C%22287%22%2C%22288%22%2C%22289%22%2C%22291%22%2C%22293%22%2C%22294%22%2C%22295%22%2C%22296%22%2C%22298%22%2C%2235%22%2C%2240%22%2C%2245%22%2C%2248%22%2C%2249%22%2C%2251%22%2C%2253%22%2C%2259%22%2C%2260%22%2C%2265%22%2C%2267%22%2C%2269%22%2C%227%22%2C%2271%22%2C%2272%22%2C%2273%22%2C%2274%22%2C%2275%22%2C%2276%22%2C%2277%22%2C%2278%22%2C%2279%22%2C%2281%22%2C%2282%22%2C%2283%22%2C%2285%22%2C%2286%22%2C%2291%22%2C%2297%22%2C%2298%22%2C%2299%22%5D%2C%22skeletonRendering%22:%7B%22shader%22:%22void%20main%28%29%20%7B%5Cn%20%20%7B%20%5Cn%20%20%20%20emitDefault%28%29%3B%20%5Cn%20%20%7D%5Cn%7D%22%2C%22mode2d%22:%22lines%22%2C%22lineWidth2d%22:1%2C%22mode3d%22:%22lines%22%7D%2C%22name%22:%22consensus%20neurons%22%7D%5D%2C%22navigation%22:%7B%22pose%22:%7B%22position%22:%7B%22voxelSize%22:%5B2920%2C2920%2C5000%5D%2C%22voxelCoordinates%22:%5B1709.755126953125%2C1155.9820556640625%2C1109.440673828125%5D%7D%7D%2C%22zoomFactor%22:20615.182535719643%7D%2C%22perspectiveOrientation%22:%5B0.0024253835435956717%2C0.6482020616531372%2C0.37043747305870056%2C0.6652851104736328%5D%2C%22perspectiveZoom%22:242078.99436337134%2C%22showSlices%22:false%2C%22gpuMemoryLimit%22:2000000000%2C%22systemMemoryLimit%22:4000000000%2C%22jsonStateServer%22:%22https://json.neurodata.io/v1%22%2C%22selectedLayer%22:%7B%22layer%22:%22brain1%22%2C%22visible%22:true%7D%2C%22layout%22:%224panel%22%7D)"
   ]
  },
  {
   "cell_type": "code",
   "execution_count": null,
   "metadata": {},
   "outputs": [],
   "source": [
    "from cloudvolume import CloudVolume, view\n",
    "\n",
    "# 1. Initialize a CloudVolume object which will know how to read from this dataset layer. \n",
    "cv = CloudVolume(\n",
    "    's://https://d2zu5izn76slwn.cloudfront.net/precomputed_volumes/', \n",
    "    progress=True, # shows progress bar\n",
    "    cache=True, # cache to disk to avoid repeated downloads\n",
    "    # parallel=True, # uncomment to try parallel download!\n",
    ")\n",
    "\n",
    "# 2. Download context around the point in the Neuroglancer link above\n",
    "#    into a numpy array.\n",
    "# argument one is the (x,y,z) coordinate from neuroglancer\n",
    "# mip=resolution level (smaller mips are higher resolution, highest is 0)\n",
    "# size is in voxels\n",
    "img = cv.download_point( (1921, 1378, 1109), mip=0, size=(512, 512, 64) )\n",
    "\n",
    "# 3. Visualize the image! \n",
    "# Open your browser to https://localhost:8080 to view\n",
    "# Press ctrl-C to continue script execution.\n",
    "# view(img)\n",
    "\n",
    "# 4. When you're done experimenting, clean up the space we used on disk.\n",
    "# cv.cache.flush() "
   ]
  }
 ],
 "metadata": {
  "kernelspec": {
   "display_name": "ndd",
   "language": "python",
   "name": "ndd"
  },
  "language_info": {
   "codemirror_mode": {
    "name": "ipython",
    "version": 3
   },
   "file_extension": ".py",
   "mimetype": "text/x-python",
   "name": "python",
   "nbconvert_exporter": "python",
   "pygments_lexer": "ipython3",
   "version": "3.7.4"
  }
 },
 "nbformat": 4,
 "nbformat_minor": 4
}
