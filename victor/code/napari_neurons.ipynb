{
 "cells": [
  {
   "cell_type": "code",
   "execution_count": 3,
   "metadata": {},
   "outputs": [],
   "source": [
    "%gui qt5\n",
    "# need to wait for gui qt5 to completely load before running next cell\n",
    "import numpy as np\n",
    "from neurom.io import swc\n",
    "import napari"
   ]
  },
  {
   "cell_type": "markdown",
   "metadata": {},
   "source": [
    "Read swc downloaded from http://www.neuromorpho.org/neuron_info.jsp?neuron_name=204-2-6nj\n",
    "\n",
    "data_block is np.array-like with the following columns:\n",
    "    \n",
    "    [X, Y, Z, R, TYPE, ID, P]\n",
    "    X(float): x-coordinate\n",
    "    Y(float): y-coordinate\n",
    "    Z(float): z-coordinate\n",
    "    R(float): radius\n",
    "    TYPE(integer): one of the types described by POINT_TYPE\n",
    "    ID(integer): unique integer given to each point, the `ROOT_ID` is -1\n",
    "    P(integer): the ID of the parent"
   ]
  },
  {
   "cell_type": "code",
   "execution_count": 4,
   "metadata": {},
   "outputs": [],
   "source": [
    "data = swc.read('204-2-6nj.CNG.swc').data_block\n",
    "# data2 = data[data[:,6].argsort()]"
   ]
  },
  {
   "cell_type": "code",
   "execution_count": 5,
   "metadata": {},
   "outputs": [],
   "source": [
    "# function to convert data into list of paths to be passed into napari\n",
    "def parse_swc(data):\n",
    "    \n",
    "    # compute location of branches\n",
    "    break_points = [0] + list(np.nonzero(np.diff(data[:, 6]) < 0)[0]+1) + [len(data)-1]\n",
    "    paths = []\n",
    "    \n",
    "    # use location of branches to separate branches into individual paths\n",
    "    for i in range(len(break_points)-1):\n",
    "        if break_points[i+1] - break_points[i] > 2:\n",
    "            paths.append(data[break_points[i]:break_points[i+1], :3])\n",
    "    return paths"
   ]
  },
  {
   "cell_type": "code",
   "execution_count": 6,
   "metadata": {},
   "outputs": [
    {
     "data": {
      "text/plain": [
       "<Shapes layer 'swc' at 0x12b04e8d0>"
      ]
     },
     "execution_count": 6,
     "metadata": {},
     "output_type": "execute_result"
    }
   ],
   "source": [
    "paths = parse_swc(data)\n",
    "viewer = napari.Viewer(ndisplay=3)\n",
    "viewer.add_shapes(paths, shape_type='path', edge_color='blue', name='swc')"
   ]
  },
  {
   "cell_type": "markdown",
   "metadata": {},
   "source": [
    "![Screenshot from napari. napari does not have ability to retreive snapshot from 3D render](napari_neurons.png)"
   ]
  },
  {
   "cell_type": "markdown",
   "metadata": {},
   "source": [
    "Edge widths from data can vary from each edge. napari cannot scale edge widths"
   ]
  },
  {
   "cell_type": "code",
   "execution_count": 26,
   "metadata": {},
   "outputs": [
    {
     "name": "stdout",
     "output_type": "stream",
     "text": [
      "Edge widths from swc (first 5)\n",
      "[5.2517 5.2517 5.2517 0.425  0.425 ] \n",
      "\n",
      "Edge width from napari path (one radius for all edges)\n",
      "1\n"
     ]
    }
   ],
   "source": [
    "# radii from swc file\n",
    "swc_radii = data[:,3]\n",
    "\n",
    "# radii from napari paths\n",
    "napari_radii = viewer.layers['swc'].edge_width\n",
    "\n",
    "print(\"Edge widths from swc (first 5)\")\n",
    "print(swc_radii[0:5],'\\n')\n",
    "print(\"Edge width from napari path (one radius for all edges)\")\n",
    "print(napari_radii)"
   ]
  },
  {
   "cell_type": "code",
   "execution_count": null,
   "metadata": {},
   "outputs": [],
   "source": []
  }
 ],
 "metadata": {
  "kernelspec": {
   "display_name": "ndd",
   "language": "python",
   "name": "ndd"
  },
  "language_info": {
   "codemirror_mode": {
    "name": "ipython",
    "version": 3
   },
   "file_extension": ".py",
   "mimetype": "text/x-python",
   "name": "python",
   "nbconvert_exporter": "python",
   "pygments_lexer": "ipython3",
   "version": "3.7.4"
  }
 },
 "nbformat": 4,
 "nbformat_minor": 4
}
