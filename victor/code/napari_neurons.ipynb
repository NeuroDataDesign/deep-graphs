{
 "cells": [
  {
   "cell_type": "code",
   "execution_count": 1,
   "metadata": {},
   "outputs": [
    {
     "name": "stderr",
     "output_type": "stream",
     "text": [
      "/Users/victor/github/napari/napari/__init__.py:27: UserWarning: \n",
      "    napari was tested with QT library `>=5.12.3`.\n",
      "    The version installed is 5.9.6. Please report any issues with this\n",
      "    specific QT version at https://github.com/Napari/napari/issues.\n",
      "    \n",
      "  warn(message=warn_message)\n"
     ]
    }
   ],
   "source": [
    "%gui qt5\n",
    "# need to wait for gui qt5 to completely load before running next cell\n",
    "import numpy as np\n",
    "from neurom.io import swc\n",
    "import napari"
   ]
  },
  {
   "cell_type": "markdown",
   "metadata": {},
   "source": [
    "Read swc downloaded from http://www.neuromorpho.org/neuron_info.jsp?neuron_name=204-2-6nj\n",
    "\n",
    "data_block is np.array-like with the following columns:\n",
    "    \n",
    "    [X, Y, Z, R, TYPE, ID, P]\n",
    "    X(float): x-coordinate\n",
    "    Y(float): y-coordinate\n",
    "    Z(float): z-coordinate\n",
    "    R(float): radius\n",
    "    TYPE(integer): one of the types described by POINT_TYPE\n",
    "    ID(integer): unique integer given to each point, the `ROOT_ID` is -1\n",
    "    P(integer): the ID of the parent"
   ]
  },
  {
   "cell_type": "code",
   "execution_count": 2,
   "metadata": {},
   "outputs": [],
   "source": [
    "data = swc.read('204-2-6nj.CNG.swc').data_block"
   ]
  },
  {
   "cell_type": "code",
   "execution_count": 3,
   "metadata": {},
   "outputs": [
    {
     "data": {
      "text/plain": [
       "array([[  0,   1],\n",
       "       [  0,   2],\n",
       "       [  0,   3],\n",
       "       ...,\n",
       "       [599, 600],\n",
       "       [600, 601],\n",
       "       [601, 602]])"
      ]
     },
     "execution_count": 3,
     "metadata": {},
     "output_type": "execute_result"
    }
   ],
   "source": [
    "parents = data[:,6]\n",
    "\n",
    "# function to get edge set from parent column in swc file\n",
    "def get_edges(parents):\n",
    "    \"\"\"Returns (len(parents) - 1) by 2 array. Each row is an edge\n",
    "    \"\"\"\n",
    "    edges = np.zeros((len(parents)-1,2),dtype = int)\n",
    "    for idx, parent in enumerate(parents):\n",
    "        if parent >= 0:\n",
    "            edges[idx-1,0] = int(parent - 1)\n",
    "            edges[idx-1,1] = idx\n",
    "    \n",
    "    return edges\n",
    "\n",
    "edges = get_edges(parents)\n",
    "edges"
   ]
  },
  {
   "cell_type": "code",
   "execution_count": 4,
   "metadata": {},
   "outputs": [],
   "source": [
    "# function to convert data into list of paths to be passed into napari\n",
    "def parse_swc(data):\n",
    "    \n",
    "    # compute location of branches\n",
    "    break_points = [0] + list(np.nonzero(np.diff(data[:, 6]) < 0)[0]+1) + [len(data)-1]\n",
    "    paths = []\n",
    "    \n",
    "    # use location of branches to separate branches into individual paths\n",
    "    for i in range(len(break_points)-1):\n",
    "        if break_points[i+1] - break_points[i] > 2:\n",
    "            paths.append(data[break_points[i]:break_points[i+1], :3])\n",
    "    return paths"
   ]
  },
  {
   "cell_type": "code",
   "execution_count": 5,
   "metadata": {},
   "outputs": [
    {
     "data": {
      "text/plain": [
       "<Shapes layer 'swc' at 0x12eee2dd0>"
      ]
     },
     "execution_count": 5,
     "metadata": {},
     "output_type": "execute_result"
    }
   ],
   "source": [
    "paths = parse_swc(data)\n",
    "viewer = napari.Viewer(ndisplay=3)\n",
    "viewer.add_shapes(paths, shape_type='path', edge_color='blue', name='swc')"
   ]
  },
  {
   "cell_type": "markdown",
   "metadata": {},
   "source": [
    "![Screenshot from napari. napari does not have ability to retreive snapshot from 3D render](napari_neurons.png)"
   ]
  },
  {
   "cell_type": "markdown",
   "metadata": {},
   "source": [
    "Edge widths from data can vary from each edge. napari cannot scale edge widths"
   ]
  },
  {
   "cell_type": "code",
   "execution_count": null,
   "metadata": {},
   "outputs": [],
   "source": [
    "# radii from swc file\n",
    "swc_radii = data[:,3]\n",
    "\n",
    "# radii from napari paths\n",
    "napari_radii = viewer.layers['swc'].edge_width\n",
    "\n",
    "print(\"Edge widths from swc (first 5)\")\n",
    "print(swc_radii[0:5],'\\n')\n",
    "print(\"Edge width from napari path (one radius for all edges)\")\n",
    "print(napari_radii)"
   ]
  },
  {
   "cell_type": "code",
   "execution_count": 12,
   "metadata": {},
   "outputs": [
    {
     "data": {
      "text/plain": [
       "array([[-11.11,  59.05,   3.03],\n",
       "       [-14.21,  61.81,   1.16],\n",
       "       [-14.67,  62.55,  -0.69],\n",
       "       [-18.35,  64.33,  -2.55],\n",
       "       [-20.21,  66.93,  -2.8 ],\n",
       "       [-20.34,  68.45,  -3.51],\n",
       "       [-21.35,  69.18,  -6.29],\n",
       "       [-22.73,  70.76,  -6.61],\n",
       "       [-27.07,  71.38,  -8.84],\n",
       "       [-31.55,  70.26, -12.17]])"
      ]
     },
     "execution_count": 12,
     "metadata": {},
     "output_type": "execute_result"
    }
   ],
   "source": [
    "paths[1]"
   ]
  },
  {
   "cell_type": "code",
   "execution_count": null,
   "metadata": {},
   "outputs": [],
   "source": []
  }
 ],
 "metadata": {
  "kernelspec": {
   "display_name": "ndd",
   "language": "python",
   "name": "ndd"
  },
  "language_info": {
   "codemirror_mode": {
    "name": "ipython",
    "version": 3
   },
   "file_extension": ".py",
   "mimetype": "text/x-python",
   "name": "python",
   "nbconvert_exporter": "python",
   "pygments_lexer": "ipython3",
   "version": "3.7.4"
  }
 },
 "nbformat": 4,
 "nbformat_minor": 4
}
