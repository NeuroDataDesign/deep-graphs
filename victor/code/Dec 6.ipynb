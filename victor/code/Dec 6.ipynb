{
 "cells": [
  {
   "cell_type": "markdown",
   "metadata": {},
   "source": [
    "script to extract sub-neurons and correctly align with corresponding image"
   ]
  },
  {
   "cell_type": "code",
   "execution_count": 1,
   "metadata": {},
   "outputs": [],
   "source": [
    "## RUN THIS CELL FIRST AND WAIT FOR gui qt5 to finish\n",
    "%gui qt5 \n",
    "import os\n",
    "import sys\n",
    "from pathlib import Path\n",
    "import pandas as pd\n",
    "import numpy as np\n",
    "from skimage import io\n",
    "import networkx as nx\n",
    "import napari"
   ]
  },
  {
   "cell_type": "code",
   "execution_count": 2,
   "metadata": {},
   "outputs": [],
   "source": [
    "## functions to read swc into a pandas dataframe\n",
    "def read_swc(path):\n",
    "    \"\"\"Read a single swc file\n",
    "\n",
    "    Arguments:\n",
    "        path {string} -- path to file\n",
    "\n",
    "    Returns:\n",
    "        df {pandas dataframe} -- indices, coordinates, and parents of each node\n",
    "        offset {list of floats} -- offset value of fragment\n",
    "        color {list of ints} -- color\n",
    "        cc {int} -- cc value, from file name\n",
    "        branch {int} -- branch number, from file name\n",
    "    \"\"\"\n",
    "\n",
    "    #check input\n",
    "    file = open(path,'r')\n",
    "    in_header = True\n",
    "    offset_found = False\n",
    "    header_length = -1\n",
    "    offset = np.nan\n",
    "    color = np.nan\n",
    "    cc = np.nan\n",
    "    branch = np.nan\n",
    "    while in_header:\n",
    "        line = file.readline().split()\n",
    "        if 'OFFSET' in line:\n",
    "            offset_found=True\n",
    "            idx = line.index('OFFSET')+1\n",
    "            offset = [float(line[i]) for i in np.arange(idx,idx+3)]\n",
    "        elif 'COLOR' in line:\n",
    "            idx = line.index('COLOR')+1\n",
    "            line = line[idx]\n",
    "            line = line.split(',')\n",
    "            color = [float(line[i]) for i in np.arange(len(line))]\n",
    "        elif 'NAME' in line:\n",
    "            idx = line.index('NAME')+1\n",
    "            name = line[idx]\n",
    "            name = re.split('_|-|\\.',name)\n",
    "            idx = name.index('cc')+1\n",
    "            cc = int(name[idx])\n",
    "            idx = name.index('branch')+1\n",
    "            branch = int(name[idx])\n",
    "        elif line[0] != '#':\n",
    "            in_header = False\n",
    "        header_length += 1\n",
    "\n",
    "    if not offset_found:\n",
    "        raise IOError('No offset information found in: ' + path)\n",
    "    #read coordinates\n",
    "    df = pd.read_table(path,names=['sample','structure','x','y','z','r','parent'],skiprows=header_length,delim_whitespace=True)\n",
    "    return df, offset, color, cc, branch\n",
    "\n",
    "\n",
    "def read_swc_offset(path):\n",
    "    df, offset, color, cc,branch = read_swc(path)\n",
    "    df['x'] = df['x'] + offset[0]\n",
    "    df['y'] = df['y'] + offset[1]\n",
    "    df['z'] = df['z'] + offset[2]\n",
    "\n",
    "    return df, color, cc, branch\n",
    "\n",
    "def space_to_voxel(spatial_coord,spacing,origin=np.array([0,0,0])):\n",
    "    \"\"\"converts 3D coordinate from spatial coordinates to voxel coordinates\n",
    "        \n",
    "        Arguments\n",
    "            spatial_coord -- coordinate in spatial coordinates\n",
    "            spacing -- conversion factor (spatial unit/voxel)\n",
    "            origin -- origin of spatial coordinate\n",
    "    \"\"\"\n",
    "    voxel_coord = np.round(np.divide(spatial_coord - origin, spacing))\n",
    "    voxel_coord = voxel_coord.astype(int)\n",
    "    return voxel_coord\n",
    "\n",
    "def swc_to_voxel(df,spacing,origin=np.array([0,0,0])):\n",
    "    \"\"\"converts dataframe representing swc into voxel coordinates\n",
    "        \n",
    "        Arguments\n",
    "            df -- dataframe representing the swc\n",
    "            spacing -- conversion factor (spatial unit/voxel)\n",
    "            origin -- origin of spatial coordinate\n",
    "    \"\"\"\n",
    "    x = []; y = []; z = []\n",
    "    for index, row in df.iterrows():\n",
    "        vox = space_to_voxel(row[['x','y','z']].to_numpy(),spacing,origin)\n",
    "        x.append(vox[0])\n",
    "        y.append(vox[1])\n",
    "        z.append(vox[2])\n",
    "    df['x'] = x\n",
    "    df['y'] = y\n",
    "    df['z'] = z\n",
    "    \n",
    "    return df\n"
   ]
  },
  {
   "cell_type": "code",
   "execution_count": 3,
   "metadata": {},
   "outputs": [],
   "source": [
    "## functions for working with neurons as networkx diGraphs\n",
    "def df_to_graph(df):\n",
    "    \"\"\"Converts dataframe of swc in voxel coordinates into a directed graph\n",
    "    \"\"\"\n",
    "    G = nx.DiGraph()\n",
    "\n",
    "    # add nodes\n",
    "    for index, row in df.iterrows():\n",
    "        id = int(row['sample'])\n",
    "\n",
    "        G.add_node(id)\n",
    "        G.nodes[id]['x'] = int(row['x'])\n",
    "        G.nodes[id]['y'] = int(row['y'])\n",
    "        G.nodes[id]['z'] = int(row['z'])\n",
    "\n",
    "    # add edges\n",
    "    for index, row in df.iterrows():\n",
    "        child = int(row['sample'])\n",
    "        parent = int(row['parent'])\n",
    "\n",
    "        if parent > min(df['parent']):\n",
    "            G.add_edge(parent,child)\n",
    "\n",
    "    return G\n",
    "\n",
    "def get_sub_neuron(G, start, end):\n",
    "    \"\"\"Returns sub-neuron with node coordinates bounded by start and end\"\"\"\n",
    "    G_cp = G.copy()  # make copy of input G\n",
    "\n",
    "    # remove nodes that are not neighbors of nodes bounded by start and end\n",
    "    for node in list(G_cp.nodes):\n",
    "        neighbors = list(G_cp.successors(node)) + list(G_cp.predecessors(node))\n",
    "\n",
    "        remove = True\n",
    "\n",
    "        for id in neighbors + [node]:\n",
    "            x = G_cp.nodes[id]['x']\n",
    "            y = G_cp.nodes[id]['y']\n",
    "            z = G_cp.nodes[id]['z']\n",
    "\n",
    "            if x >= start[0] and y >= start[1] and z >= start[2]:\n",
    "                if x < end[0] and y < end[1] and z < end[2]:\n",
    "                    remove = False\n",
    "\n",
    "        if remove:\n",
    "            G_cp.remove_node(node)\n",
    "\n",
    "    # set origin to start of bounding box\n",
    "    for id in list(G_cp.nodes):\n",
    "        G_cp.nodes[id]['x'] = G_cp.nodes[id]['x'] - start[0]\n",
    "        G_cp.nodes[id]['y'] = G_cp.nodes[id]['y'] - start[1]\n",
    "        G_cp.nodes[id]['z'] = G_cp.nodes[id]['z'] - start[2]\n",
    "\n",
    "    return G_cp"
   ]
  },
  {
   "cell_type": "code",
   "execution_count": 4,
   "metadata": {},
   "outputs": [],
   "source": [
    "## function to process neuron into napari compatible format\n",
    "def graph_to_paths(G):\n",
    "    G_cp = G.copy()  # make copy of input G\n",
    "    branches = []\n",
    "    while len(G_cp.edges) != 0: #iterate over branches\n",
    "        # get longest branch\n",
    "        longest = nx.algorithms.dag.dag_longest_path(G_cp) # list of nodes on the path\n",
    "        branches.append(longest)\n",
    "        \n",
    "        # remove longest branch\n",
    "        for idx, e in enumerate(longest):\n",
    "            if idx < len(longest) - 1:\n",
    "                G_cp.remove_edge(longest[idx], longest[idx+1])\n",
    "    \n",
    "    # convert branches into list of paths\n",
    "    paths = []\n",
    "    for branch in branches:\n",
    "        # get vertices in branch as n by 3 numpy.array, where n is length of branches\n",
    "        path = np.zeros((len(branch),3), dtype=np.int64)\n",
    "        for idx, node in enumerate(branch):\n",
    "            path[idx,0] = np.int64(G_cp.nodes[node]['x'])\n",
    "            path[idx,1] = np.int64(G_cp.nodes[node]['y'])\n",
    "            path[idx,2] = np.int64(G_cp.nodes[node]['z'])\n",
    "        \n",
    "        paths.append(path)\n",
    "    \n",
    "    \n",
    "    \n",
    "#     if len(paths) == 1:\n",
    "#         return np.array(paths[0])\n",
    "#     else:\n",
    "#         return np.array(*paths)\n",
    "\n",
    "    return paths"
   ]
  },
  {
   "cell_type": "code",
   "execution_count": 5,
   "metadata": {},
   "outputs": [
    {
     "data": {
      "text/html": [
       "<div>\n",
       "<style scoped>\n",
       "    .dataframe tbody tr th:only-of-type {\n",
       "        vertical-align: middle;\n",
       "    }\n",
       "\n",
       "    .dataframe tbody tr th {\n",
       "        vertical-align: top;\n",
       "    }\n",
       "\n",
       "    .dataframe thead th {\n",
       "        text-align: right;\n",
       "    }\n",
       "</style>\n",
       "<table border=\"1\" class=\"dataframe\">\n",
       "  <thead>\n",
       "    <tr style=\"text-align: right;\">\n",
       "      <th></th>\n",
       "      <th>sample</th>\n",
       "      <th>structure</th>\n",
       "      <th>x</th>\n",
       "      <th>y</th>\n",
       "      <th>z</th>\n",
       "      <th>r</th>\n",
       "      <th>parent</th>\n",
       "    </tr>\n",
       "  </thead>\n",
       "  <tbody>\n",
       "    <tr>\n",
       "      <th>0</th>\n",
       "      <td>1</td>\n",
       "      <td>0</td>\n",
       "      <td>73940.221323</td>\n",
       "      <td>18869.828297</td>\n",
       "      <td>33732.256716</td>\n",
       "      <td>1.0</td>\n",
       "      <td>-1</td>\n",
       "    </tr>\n",
       "    <tr>\n",
       "      <th>1</th>\n",
       "      <td>2</td>\n",
       "      <td>0</td>\n",
       "      <td>73942.312638</td>\n",
       "      <td>18858.869325</td>\n",
       "      <td>33745.105970</td>\n",
       "      <td>1.0</td>\n",
       "      <td>1</td>\n",
       "    </tr>\n",
       "    <tr>\n",
       "      <th>2</th>\n",
       "      <td>3</td>\n",
       "      <td>0</td>\n",
       "      <td>73942.312638</td>\n",
       "      <td>18833.907221</td>\n",
       "      <td>33732.256716</td>\n",
       "      <td>1.0</td>\n",
       "      <td>2</td>\n",
       "    </tr>\n",
       "    <tr>\n",
       "      <th>3</th>\n",
       "      <td>4</td>\n",
       "      <td>0</td>\n",
       "      <td>73945.897749</td>\n",
       "      <td>18822.339417</td>\n",
       "      <td>33720.395867</td>\n",
       "      <td>1.0</td>\n",
       "      <td>3</td>\n",
       "    </tr>\n",
       "    <tr>\n",
       "      <th>4</th>\n",
       "      <td>5</td>\n",
       "      <td>0</td>\n",
       "      <td>73939.325046</td>\n",
       "      <td>18822.948249</td>\n",
       "      <td>33705.569805</td>\n",
       "      <td>1.0</td>\n",
       "      <td>4</td>\n",
       "    </tr>\n",
       "  </tbody>\n",
       "</table>\n",
       "</div>"
      ],
      "text/plain": [
       "   sample  structure             x             y             z    r  parent\n",
       "0       1          0  73940.221323  18869.828297  33732.256716  1.0      -1\n",
       "1       2          0  73942.312638  18858.869325  33745.105970  1.0       1\n",
       "2       3          0  73942.312638  18833.907221  33732.256716  1.0       2\n",
       "3       4          0  73945.897749  18822.339417  33720.395867  1.0       3\n",
       "4       5          0  73939.325046  18822.948249  33705.569805  1.0       4"
      ]
     },
     "execution_count": 5,
     "metadata": {},
     "output_type": "execute_result"
    }
   ],
   "source": [
    "## show conensus neuron G-002\n",
    "# parameters\n",
    "consen_neuron_path = '2018-08-01_G-002_consensus.swc'\n",
    "spacing = np.array([0.29875923,0.3044159,0.98840415])\n",
    "origin = np.array([70093.276,15071.596,29306.737])\n",
    "\n",
    "# read swc into dataframe\n",
    "df,_,_,_ = read_swc_offset(consen_neuron_path)\n",
    "df.head()"
   ]
  },
  {
   "cell_type": "code",
   "execution_count": 6,
   "metadata": {},
   "outputs": [
    {
     "data": {
      "text/html": [
       "<div>\n",
       "<style scoped>\n",
       "    .dataframe tbody tr th:only-of-type {\n",
       "        vertical-align: middle;\n",
       "    }\n",
       "\n",
       "    .dataframe tbody tr th {\n",
       "        vertical-align: top;\n",
       "    }\n",
       "\n",
       "    .dataframe thead th {\n",
       "        text-align: right;\n",
       "    }\n",
       "</style>\n",
       "<table border=\"1\" class=\"dataframe\">\n",
       "  <thead>\n",
       "    <tr style=\"text-align: right;\">\n",
       "      <th></th>\n",
       "      <th>sample</th>\n",
       "      <th>structure</th>\n",
       "      <th>x</th>\n",
       "      <th>y</th>\n",
       "      <th>z</th>\n",
       "      <th>r</th>\n",
       "      <th>parent</th>\n",
       "    </tr>\n",
       "  </thead>\n",
       "  <tbody>\n",
       "    <tr>\n",
       "      <th>0</th>\n",
       "      <td>1</td>\n",
       "      <td>0</td>\n",
       "      <td>12876</td>\n",
       "      <td>12477</td>\n",
       "      <td>4477</td>\n",
       "      <td>1.0</td>\n",
       "      <td>-1</td>\n",
       "    </tr>\n",
       "    <tr>\n",
       "      <th>1</th>\n",
       "      <td>2</td>\n",
       "      <td>0</td>\n",
       "      <td>12883</td>\n",
       "      <td>12441</td>\n",
       "      <td>4490</td>\n",
       "      <td>1.0</td>\n",
       "      <td>1</td>\n",
       "    </tr>\n",
       "    <tr>\n",
       "      <th>2</th>\n",
       "      <td>3</td>\n",
       "      <td>0</td>\n",
       "      <td>12883</td>\n",
       "      <td>12359</td>\n",
       "      <td>4477</td>\n",
       "      <td>1.0</td>\n",
       "      <td>2</td>\n",
       "    </tr>\n",
       "    <tr>\n",
       "      <th>3</th>\n",
       "      <td>4</td>\n",
       "      <td>0</td>\n",
       "      <td>12895</td>\n",
       "      <td>12321</td>\n",
       "      <td>4465</td>\n",
       "      <td>1.0</td>\n",
       "      <td>3</td>\n",
       "    </tr>\n",
       "    <tr>\n",
       "      <th>4</th>\n",
       "      <td>5</td>\n",
       "      <td>0</td>\n",
       "      <td>12873</td>\n",
       "      <td>12323</td>\n",
       "      <td>4450</td>\n",
       "      <td>1.0</td>\n",
       "      <td>4</td>\n",
       "    </tr>\n",
       "  </tbody>\n",
       "</table>\n",
       "</div>"
      ],
      "text/plain": [
       "   sample  structure      x      y     z    r  parent\n",
       "0       1          0  12876  12477  4477  1.0      -1\n",
       "1       2          0  12883  12441  4490  1.0       1\n",
       "2       3          0  12883  12359  4477  1.0       2\n",
       "3       4          0  12895  12321  4465  1.0       3\n",
       "4       5          0  12873  12323  4450  1.0       4"
      ]
     },
     "execution_count": 6,
     "metadata": {},
     "output_type": "execute_result"
    }
   ],
   "source": [
    "# convert from spatial to voxel coordinates\n",
    "df_vox = swc_to_voxel(df,spacing,origin)\n",
    "df_vox.head()"
   ]
  },
  {
   "cell_type": "code",
   "execution_count": 7,
   "metadata": {},
   "outputs": [
    {
     "data": {
      "text/plain": [
       "(1650, 1650)"
      ]
     },
     "execution_count": 7,
     "metadata": {},
     "output_type": "execute_result"
    }
   ],
   "source": [
    "# convert neuron to graph\n",
    "G = df_to_graph(df_vox)\n",
    "len(df), len(G.nodes)"
   ]
  },
  {
   "cell_type": "code",
   "execution_count": 8,
   "metadata": {},
   "outputs": [],
   "source": [
    "# convert neuron graph into napari compatible format\n",
    "paths_consen = graph_to_paths(G)"
   ]
  },
  {
   "cell_type": "code",
   "execution_count": 9,
   "metadata": {},
   "outputs": [
    {
     "data": {
      "text/plain": [
       "<Shapes layer 'neuron' at 0x133f94a20>"
      ]
     },
     "execution_count": 9,
     "metadata": {},
     "output_type": "execute_result"
    }
   ],
   "source": [
    "# display on napari\n",
    "viewer_consen_neuron = napari.Viewer(ndisplay=3)\n",
    "viewer_consen_neuron.add_shapes(paths_consen, shape_type='path', edge_color='white', name='neuron')"
   ]
  },
  {
   "cell_type": "markdown",
   "metadata": {},
   "source": [
    "![screenshot](G-002_consensus.png)"
   ]
  },
  {
   "cell_type": "markdown",
   "metadata": {},
   "source": [
    "Screenshot of entire G-002 consensus neuron in napari. It has a minimum bounding box of (7386, 9932, 5383) voxels, which is too large to load all at once into napari"
   ]
  },
  {
   "cell_type": "code",
   "execution_count": 10,
   "metadata": {},
   "outputs": [
    {
     "data": {
      "text/plain": [
       "(7386, 9932, 5383)"
      ]
     },
     "execution_count": 10,
     "metadata": {},
     "output_type": "execute_result"
    }
   ],
   "source": [
    "sx = max(df['x']) - min(df['x'])\n",
    "sy = max(df['y']) - min(df['y'])\n",
    "sz = max(df['z']) - min(df['z'])\n",
    "sx,sy,sz"
   ]
  },
  {
   "cell_type": "code",
   "execution_count": 11,
   "metadata": {},
   "outputs": [
    {
     "data": {
      "text/plain": [
       "<Image layer 'Image' at 0x1481dae10>"
      ]
     },
     "execution_count": 11,
     "metadata": {},
     "output_type": "execute_result"
    }
   ],
   "source": [
    "## show \"spaghetti\" sub-neuron (top right of screenshot) and overlay on sub-image\n",
    "\n",
    "# open sub-image\n",
    "image_path = 'G-002_15312-4400-6448_15840-4800-6656.tif'\n",
    "img_comp = io.imread(image_path)\n",
    "img_comp = np.swapaxes(img_comp,0,2)\n",
    "\n",
    "# get sub-neuron from consensus neuron\n",
    "start = np.array([15312,4400,6448])\n",
    "end = np.array([15840,4800,6656])\n",
    "\n",
    "G_comp = get_sub_neuron(G, start, end)\n",
    "\n",
    "# convert sub-neuron graph into paths for napari\n",
    "paths_comp = graph_to_paths(G_comp)\n",
    "\n",
    "# display sub-neuron and sub-image on napari\n",
    "viewer_comp = napari.Viewer(ndisplay=3)\n",
    "viewer_comp.add_shapes(paths_comp, shape_type='path', edge_color='blue', name='sub-neuron')\n",
    "viewer_comp.add_image(img_comp)"
   ]
  },
  {
   "cell_type": "markdown",
   "metadata": {},
   "source": [
    "![screenshot](G-002_complex.png)"
   ]
  },
  {
   "cell_type": "markdown",
   "metadata": {},
   "source": [
    "Screenshot of sub-neuron G-002, the complex \"spaghetti\" portion"
   ]
  },
  {
   "cell_type": "code",
   "execution_count": 12,
   "metadata": {},
   "outputs": [],
   "source": [
    "## show simple \"curve\" sub-neuron and overlay on sub-image\n",
    "\n",
    "# open sub-image\n",
    "image_path = 'G-002_15312-6400-5824_15840-6800-6032.tif'\n",
    "img_simp = io.imread(image_path)\n",
    "img_simp = np.swapaxes(img_simp,0,2)\n",
    "\n",
    "# get sub-neuron from consensus neuron\n",
    "start = np.array([15312,6400,5824])\n",
    "end = np.array([15840,6800,6032])\n",
    "\n",
    "G_simp = get_sub_neuron(G, start, end)\n",
    "\n",
    "# convert sub-neuron graph into paths for napari\n",
    "paths_simp = graph_to_paths(G_simp)"
   ]
  },
  {
   "cell_type": "code",
   "execution_count": 13,
   "metadata": {},
   "outputs": [
    {
     "data": {
      "text/plain": [
       "<Image layer 'Image' at 0x14a4bc470>"
      ]
     },
     "execution_count": 13,
     "metadata": {},
     "output_type": "execute_result"
    }
   ],
   "source": [
    "# display sub-neuron and sub-image on napari\n",
    "viewer_simp = napari.Viewer(ndisplay=3)\n",
    "viewer_simp.add_shapes(paths_simp, shape_type='path', edge_color='blue', name='sub-neuron')\n",
    "viewer_simp.add_image(img_simp)"
   ]
  },
  {
   "cell_type": "markdown",
   "metadata": {},
   "source": [
    "![screenshot](G-002_simple.png)"
   ]
  },
  {
   "cell_type": "markdown",
   "metadata": {},
   "source": [
    "Screenshot of sub-neuron G-002, one of the simple \"curve\" portion"
   ]
  },
  {
   "cell_type": "code",
   "execution_count": 14,
   "metadata": {},
   "outputs": [
    {
     "data": {
      "text/plain": [
       "(2, 6, 3)"
      ]
     },
     "execution_count": 14,
     "metadata": {},
     "output_type": "execute_result"
    }
   ],
   "source": [
    "# path = np.array([[0, 0, 0], [0, 10, 10], [0, 5, 15], [20, 5, 15],\n",
    "#         [56, 70, 21], [127, 127, 127]])\n",
    "\n",
    "path = np.array([np.array([[0, 0, 0], [0, 10, 10], [0, 5, 15], [20, 5, 15],\n",
    "        [56, 70, 21], [127, 127, 127]]),\n",
    "        np.array([[0, 0, 0], [0, 10, 10], [0, 5, 15], [0, 5, 15],\n",
    "            [0, 70, 21], [0, 127, 127]])])\n",
    "\n",
    "path.shape"
   ]
  },
  {
   "cell_type": "code",
   "execution_count": 15,
   "metadata": {},
   "outputs": [],
   "source": [
    "viewer = napari.Viewer(ndisplay=3)\n",
    "p = viewer.add_shapes(path, shape_type='path', edge_width=4, edge_color=['red', 'red'])"
   ]
  },
  {
   "cell_type": "code",
   "execution_count": 16,
   "metadata": {},
   "outputs": [
    {
     "data": {
      "text/plain": [
       "'black'"
      ]
     },
     "execution_count": 16,
     "metadata": {},
     "output_type": "execute_result"
    }
   ],
   "source": [
    "# help(p)\n",
    "p.edge_color"
   ]
  },
  {
   "cell_type": "code",
   "execution_count": 17,
   "metadata": {},
   "outputs": [],
   "source": [
    "path2 = paths_consen\n",
    "path3 = paths_comp\n",
    "path4 = paths_simp"
   ]
  },
  {
   "cell_type": "code",
   "execution_count": 18,
   "metadata": {},
   "outputs": [
    {
     "data": {
      "text/plain": [
       "array([[[  0,   0,   0],\n",
       "        [  0,  10,  10],\n",
       "        [  0,   5,  15],\n",
       "        [ 20,   5,  15],\n",
       "        [ 56,  70,  21],\n",
       "        [127, 127, 127]],\n",
       "\n",
       "       [[  0,   0,   0],\n",
       "        [  0,  10,  10],\n",
       "        [  0,   5,  15],\n",
       "        [  0,   5,  15],\n",
       "        [  0,  70,  21],\n",
       "        [  0, 127, 127]]])"
      ]
     },
     "execution_count": 18,
     "metadata": {},
     "output_type": "execute_result"
    }
   ],
   "source": [
    "path"
   ]
  },
  {
   "cell_type": "code",
   "execution_count": 19,
   "metadata": {},
   "outputs": [
    {
     "data": {
      "text/plain": [
       "(numpy.ndarray, list, list, list)"
      ]
     },
     "execution_count": 19,
     "metadata": {},
     "output_type": "execute_result"
    }
   ],
   "source": [
    "type(path), type(path2), type(path3), type(path4)"
   ]
  },
  {
   "cell_type": "code",
   "execution_count": 20,
   "metadata": {},
   "outputs": [
    {
     "ename": "AttributeError",
     "evalue": "'list' object has no attribute 'shape'",
     "output_type": "error",
     "traceback": [
      "\u001b[0;31m---------------------------------------------------------------------------\u001b[0m",
      "\u001b[0;31mAttributeError\u001b[0m                            Traceback (most recent call last)",
      "\u001b[0;32m<ipython-input-20-ed181e11b525>\u001b[0m in \u001b[0;36m<module>\u001b[0;34m\u001b[0m\n\u001b[1;32m      1\u001b[0m \u001b[0;31m# path.shape, len(path2), len(path3), len(path4)\u001b[0m\u001b[0;34m\u001b[0m\u001b[0;34m\u001b[0m\u001b[0;34m\u001b[0m\u001b[0m\n\u001b[0;32m----> 2\u001b[0;31m \u001b[0mpath\u001b[0m\u001b[0;34m.\u001b[0m\u001b[0mshape\u001b[0m\u001b[0;34m,\u001b[0m \u001b[0mpath2\u001b[0m\u001b[0;34m.\u001b[0m\u001b[0mshape\u001b[0m\u001b[0;34m,\u001b[0m \u001b[0mpath3\u001b[0m\u001b[0;34m.\u001b[0m\u001b[0mshape\u001b[0m\u001b[0;34m,\u001b[0m \u001b[0mpath4\u001b[0m\u001b[0;34m.\u001b[0m\u001b[0mshape\u001b[0m\u001b[0;34m\u001b[0m\u001b[0;34m\u001b[0m\u001b[0m\n\u001b[0m",
      "\u001b[0;31mAttributeError\u001b[0m: 'list' object has no attribute 'shape'"
     ]
    }
   ],
   "source": [
    "# path.shape, len(path2), len(path3), len(path4)\n",
    "path.shape, path2.shape, path3.shape, path4.shape"
   ]
  },
  {
   "cell_type": "code",
   "execution_count": null,
   "metadata": {},
   "outputs": [],
   "source": []
  },
  {
   "cell_type": "code",
   "execution_count": null,
   "metadata": {},
   "outputs": [],
   "source": []
  }
 ],
 "metadata": {
  "kernelspec": {
   "display_name": "napari",
   "language": "python",
   "name": "napari"
  },
  "language_info": {
   "codemirror_mode": {
    "name": "ipython",
    "version": 3
   },
   "file_extension": ".py",
   "mimetype": "text/x-python",
   "name": "python",
   "nbconvert_exporter": "python",
   "pygments_lexer": "ipython3",
   "version": "3.7.3"
  }
 },
 "nbformat": 4,
 "nbformat_minor": 4
}
