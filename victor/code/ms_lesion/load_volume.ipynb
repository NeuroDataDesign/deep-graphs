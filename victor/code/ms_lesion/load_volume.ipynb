{
 "cells": [
  {
   "cell_type": "markdown",
   "metadata": {},
   "source": [
    "Using SimpleITK library to open, visualize 3D volumes (.nrrd), and display metadata (resolution)\n",
    "\n",
    "Used tutiorials from https://insightsoftwareconsortium.github.io/SimpleITK-Notebooks/"
   ]
  },
  {
   "cell_type": "code",
   "execution_count": 8,
   "metadata": {},
   "outputs": [],
   "source": [
    "import SimpleITK as sitk\n",
    "import numpy as np\n",
    "import os"
   ]
  },
  {
   "cell_type": "code",
   "execution_count": 9,
   "metadata": {},
   "outputs": [
    {
     "name": "stdout",
     "output_type": "stream",
     "text": [
      "/Users/victor/github/deep-graphs/victor/MICCAI_data/CHB_train/CHB_train_Case01/\n"
     ]
    }
   ],
   "source": [
    "# path to MICCAI_data\n",
    "dataPath = \"/Users/victor/github/deep-graphs/victor/MICCAI_data/CHB_train/CHB_train_Case01/\"\n",
    "print(dataPath)"
   ]
  },
  {
   "cell_type": "code",
   "execution_count": 10,
   "metadata": {},
   "outputs": [],
   "source": [
    "# load volume\n",
    "imageName = \"CHB_train_Case01_T2.nhdr\"\n",
    "imagePath = dataPath + imageName\n",
    "\n",
    "reader = sitk.ImageFileReader()\n",
    "reader.SetImageIO(\"NrrdImageIO\")\n",
    "reader.SetFileName(imagePath)\n",
    "image = reader.Execute();"
   ]
  },
  {
   "cell_type": "code",
   "execution_count": 14,
   "metadata": {},
   "outputs": [
    {
     "data": {
      "text/plain": [
       "(512, 512, 512)"
      ]
     },
     "execution_count": 14,
     "metadata": {},
     "output_type": "execute_result"
    }
   ],
   "source": [
    "# get size of image\n",
    "image.GetSize()"
   ]
  },
  {
   "cell_type": "markdown",
   "metadata": {},
   "source": [
    "Sub-sample and crop to 159×207×79 voxels and resolution 1×1×2 mm^3"
   ]
  },
  {
   "cell_type": "code",
   "execution_count": 17,
   "metadata": {},
   "outputs": [
    {
     "data": {
      "text/plain": [
       "\u001b[0;31mInit signature:\u001b[0m \u001b[0msitk\u001b[0m\u001b[0;34m.\u001b[0m\u001b[0mShrinkImageFilter\u001b[0m\u001b[0;34m(\u001b[0m\u001b[0;34m)\u001b[0m\u001b[0;34m\u001b[0m\u001b[0;34m\u001b[0m\u001b[0m\n",
       "\u001b[0;31mDocstring:\u001b[0m     \n",
       "Reduce the size of an image by an integer factor in each dimension.\n",
       "\n",
       "\n",
       "ShrinkImageFilter reduces the size of an image by an integer factor in each dimension.\n",
       "The algorithm implemented is a simple subsample. The output image size\n",
       "in each dimension is given by:\n",
       "\n",
       "outputSize[j] = max( std::floor(inputSize[j]/shrinkFactor[j]), 1 );\n",
       "\n",
       "NOTE: The physical centers of the input and output will be the same.\n",
       "Because of this, the Origin of the output may not be the same as the\n",
       "Origin of the input. Since this filter produces an image which is a\n",
       "different resolution, origin and with different pixel spacing than its\n",
       "input image, it needs to override several of the methods defined in ProcessObject in order to properly manage the pipeline execution model. In\n",
       "particular, this filter overrides\n",
       "ProcessObject::GenerateInputRequestedRegion() and\n",
       "ProcessObject::GenerateOutputInformation() .\n",
       "\n",
       "This filter is implemented as a multithreaded filter. It provides a\n",
       "ThreadedGenerateData() method for its implementation.\n",
       "See:\n",
       " itk::simple::Shrink for the procedural interface\n",
       "\n",
       " itk::ShrinkImageFilter for the Doxygen on the original ITK class.\n",
       "\n",
       "\n",
       "C++ includes: sitkShrinkImageFilter.h\n",
       "\u001b[0;31mInit docstring:\u001b[0m\n",
       "__init__(itk::simple::ShrinkImageFilter self) -> ShrinkImageFilter\n",
       "\n",
       "\n",
       "\n",
       "Default Constructor that takes no arguments and initializes default\n",
       "parameters\n",
       "\u001b[0;31mFile:\u001b[0m           ~/anaconda3/envs/ndd/lib/python3.7/site-packages/SimpleITK/SimpleITK.py\n",
       "\u001b[0;31mType:\u001b[0m           type\n",
       "\u001b[0;31mSubclasses:\u001b[0m     \n"
      ]
     },
     "metadata": {},
     "output_type": "display_data"
    }
   ],
   "source": [
    "sitk.ShrinkImageFilter?"
   ]
  },
  {
   "cell_type": "code",
   "execution_count": 16,
   "metadata": {},
   "outputs": [],
   "source": [
    "def myshow(img, title=None, margin=0.05, dpi=80):\n",
    "    nda = sitk.GetArrayViewFromImage(img)\n",
    "    spacing = img.GetSpacing()\n",
    "        \n",
    "    ysize = nda.shape[0]\n",
    "    xsize = nda.shape[1]\n",
    "      \n",
    "    figsize = (1 + margin) * ysize / dpi, (1 + margin) * xsize / dpi\n",
    "\n",
    "    fig = plt.figure(title, figsize=figsize, dpi=dpi)\n",
    "    ax = fig.add_axes([margin, margin, 1 - 2*margin, 1 - 2*margin])\n",
    "    \n",
    "    extent = (0, xsize*spacing[1], 0, ysize*spacing[0])\n",
    "    \n",
    "    t = ax.imshow(nda,\n",
    "            extent=extent,\n",
    "            interpolation='hamming',\n",
    "            cmap='gray',\n",
    "            origin='lower')\n",
    "    \n",
    "    if(title):\n",
    "        plt.title(title)\n",
    "        \n",
    "\n",
    "# create grid image\n",
    "grid = sitk.GridSource(outputPixelType=sitk.sitkUInt16,\n",
    "    size=(250, 250),\n",
    "    sigma=(0.5, 0.5),\n",
    "    gridSpacing=(5.0, 5.0),\n",
    "    gridOffset=(0.0, 0.0),\n",
    "    spacing=(0.2,0.2))\n",
    "myshow(grid, 'Grid Input')"
   ]
  },
  {
   "cell_type": "code",
   "execution_count": null,
   "metadata": {},
   "outputs": [],
   "source": [
    "# create sub-sample filter\n",
    "subsample = sitk.ShrinkImageFilter()\n",
    "\n",
    "# apply filter to image\n",
    "grid_new = grid.Execute()"
   ]
  }
 ],
 "metadata": {
  "kernelspec": {
   "display_name": "ndd",
   "language": "python",
   "name": "ndd"
  },
  "language_info": {
   "codemirror_mode": {
    "name": "ipython",
    "version": 3
   },
   "file_extension": ".py",
   "mimetype": "text/x-python",
   "name": "python",
   "nbconvert_exporter": "python",
   "pygments_lexer": "ipython3",
   "version": "3.7.4"
  }
 },
 "nbformat": 4,
 "nbformat_minor": 4
}
